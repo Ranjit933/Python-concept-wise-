{
  "nbformat": 4,
  "nbformat_minor": 0,
  "metadata": {
    "colab": {
      "provenance": []
    },
    "kernelspec": {
      "name": "python3",
      "display_name": "Python 3"
    },
    "language_info": {
      "name": "python"
    }
  },
  "cells": [
    {
      "cell_type": "markdown",
      "source": [
        "Create a numpy array with numpy.array module and with a data type integer and float."
      ],
      "metadata": {
        "id": "p2dAY2rTDyQz"
      }
    },
    {
      "cell_type": "code",
      "execution_count": null,
      "metadata": {
        "id": "-aIXK8FPC7b-"
      },
      "outputs": [],
      "source": [
        "import numpy as np"
      ]
    },
    {
      "cell_type": "code",
      "source": [
        "arr_int=np.array([1,2,3,4,5],dtype='int')\n",
        "print(arr_int,type(arr_int))"
      ],
      "metadata": {
        "colab": {
          "base_uri": "https://localhost:8080/"
        },
        "id": "H65JI5QMFNcT",
        "outputId": "787ed1de-22c0-43df-8f39-a5d5d19aa33e"
      },
      "execution_count": null,
      "outputs": [
        {
          "output_type": "stream",
          "name": "stdout",
          "text": [
            "[1 2 3 4 5] <class 'numpy.ndarray'>\n"
          ]
        }
      ]
    },
    {
      "cell_type": "code",
      "source": [
        "arr_float=np.array([1,2,3,4,5],dtype='float')\n",
        "print(arr_float,type(arr_float))"
      ],
      "metadata": {
        "colab": {
          "base_uri": "https://localhost:8080/"
        },
        "id": "_sdTcVgeFZJU",
        "outputId": "260e508b-a09d-4818-fcc8-ed9daf4f94bd"
      },
      "execution_count": null,
      "outputs": [
        {
          "output_type": "stream",
          "name": "stdout",
          "text": [
            "[1. 2. 3. 4. 5.] <class 'numpy.ndarray'>\n"
          ]
        }
      ]
    },
    {
      "cell_type": "code",
      "source": [
        "type(arr_float[1])"
      ],
      "metadata": {
        "colab": {
          "base_uri": "https://localhost:8080/"
        },
        "id": "TWksv2J3Fj5V",
        "outputId": "80dfb185-8880-4f6d-f27b-d2773fdd0e09"
      },
      "execution_count": null,
      "outputs": [
        {
          "output_type": "execute_result",
          "data": {
            "text/plain": [
              "numpy.float64"
            ]
          },
          "metadata": {},
          "execution_count": 5
        }
      ]
    },
    {
      "cell_type": "markdown",
      "source": [
        "Create numpy arrays that have zero, one, two, three, four dimensions respectively. Also, print the shape and dimensions of the numpy arrays created above. constraint: every array should contain atleast 5 elements"
      ],
      "metadata": {
        "id": "JUpNGqFuGBJa"
      }
    },
    {
      "cell_type": "code",
      "source": [
        "arr0=np.array(8)\n",
        "arr0,arr0.ndim"
      ],
      "metadata": {
        "colab": {
          "base_uri": "https://localhost:8080/"
        },
        "id": "xXHfQsdGFwPO",
        "outputId": "407e790d-4901-46d9-e4e3-0aa38cd49969"
      },
      "execution_count": null,
      "outputs": [
        {
          "output_type": "execute_result",
          "data": {
            "text/plain": [
              "(array(8), 0)"
            ]
          },
          "metadata": {},
          "execution_count": 6
        }
      ]
    },
    {
      "cell_type": "code",
      "source": [
        "arr1=np.array([8,6,89,10,11])\n",
        "arr1,arr1.ndim"
      ],
      "metadata": {
        "colab": {
          "base_uri": "https://localhost:8080/"
        },
        "id": "iQoEdQJJINYZ",
        "outputId": "38a2acd4-d091-4dab-db77-bf8e1fd2c0d4"
      },
      "execution_count": null,
      "outputs": [
        {
          "output_type": "execute_result",
          "data": {
            "text/plain": [
              "(array([ 8,  6, 89, 10, 11]), 1)"
            ]
          },
          "metadata": {},
          "execution_count": 7
        }
      ]
    },
    {
      "cell_type": "code",
      "source": [
        "arr2=np.array([[8,6,89,10,11]])\n",
        "arr2,arr2.ndim"
      ],
      "metadata": {
        "colab": {
          "base_uri": "https://localhost:8080/"
        },
        "id": "PHOdQjmkIYkn",
        "outputId": "3e34cc3d-cf20-44b9-e34e-8dd42f7b3882"
      },
      "execution_count": null,
      "outputs": [
        {
          "output_type": "execute_result",
          "data": {
            "text/plain": [
              "(array([[ 8,  6, 89, 10, 11]]), 2)"
            ]
          },
          "metadata": {},
          "execution_count": 8
        }
      ]
    },
    {
      "cell_type": "code",
      "source": [
        "arr3=np.array([[[8,6,89,10,11]]])\n",
        "arr3,arr3.shape"
      ],
      "metadata": {
        "colab": {
          "base_uri": "https://localhost:8080/"
        },
        "id": "mGs20Zz4Ifkg",
        "outputId": "685053a8-ffda-48a4-d477-8cc686e11f5f"
      },
      "execution_count": null,
      "outputs": [
        {
          "output_type": "execute_result",
          "data": {
            "text/plain": [
              "(array([[[ 8,  6, 89, 10, 11]]]), (1, 1, 5))"
            ]
          },
          "metadata": {},
          "execution_count": 18
        }
      ]
    },
    {
      "cell_type": "code",
      "source": [
        "arr4=np.array([[[[8,6,89,10,11]]]])\n",
        "arr4,arr4.ndim"
      ],
      "metadata": {
        "colab": {
          "base_uri": "https://localhost:8080/"
        },
        "id": "U4o_hH82IlgT",
        "outputId": "3e4e4ef8-596b-491c-e2be-33c3014fd73e"
      },
      "execution_count": null,
      "outputs": [
        {
          "output_type": "execute_result",
          "data": {
            "text/plain": [
              "(array([[[[ 8,  6, 89, 10, 11]]]]), 4)"
            ]
          },
          "metadata": {},
          "execution_count": 10
        }
      ]
    },
    {
      "cell_type": "code",
      "source": [
        "arr4.shape"
      ],
      "metadata": {
        "colab": {
          "base_uri": "https://localhost:8080/"
        },
        "id": "sXusmCRFIqNu",
        "outputId": "0fad2c42-fdfb-41e1-bc22-2f32c5da9d1c"
      },
      "execution_count": null,
      "outputs": [
        {
          "output_type": "execute_result",
          "data": {
            "text/plain": [
              "(1, 1, 1, 5)"
            ]
          },
          "metadata": {},
          "execution_count": 11
        }
      ]
    },
    {
      "cell_type": "code",
      "source": [
        "arr4=np.array([[[[8,6,89,10,11]]]])\n",
        "arr4=arr4.flatten()\n",
        "arr4,arr4.ndim"
      ],
      "metadata": {
        "colab": {
          "base_uri": "https://localhost:8080/"
        },
        "id": "qOnoKm3KbqZu",
        "outputId": "490deb07-686e-4ebe-a725-6c0049a09e1a"
      },
      "execution_count": null,
      "outputs": [
        {
          "output_type": "execute_result",
          "data": {
            "text/plain": [
              "(array([ 8,  6, 89, 10, 11]), 1)"
            ]
          },
          "metadata": {},
          "execution_count": 70
        }
      ]
    },
    {
      "cell_type": "code",
      "source": [
        "# arr1=np.array([8,6,89,10,11],ndmin=64)\n",
        "# arr1,arr1.ndim\n",
        "# ValueError: ndmin bigger than allowable number of dimensions NPY_MAXDIMS (=64)"
      ],
      "metadata": {
        "id": "dMrMQ0tCIvY9"
      },
      "execution_count": null,
      "outputs": []
    },
    {
      "cell_type": "markdown",
      "source": [
        "Create a 2x2, 3x3, and 4x4 identity matrix using numpy.  constraints use eye, idententiy"
      ],
      "metadata": {
        "id": "LqSW3n1MKK7K"
      }
    },
    {
      "cell_type": "code",
      "source": [
        "arr=np.identity(2,dtype='int')\n",
        "arr"
      ],
      "metadata": {
        "colab": {
          "base_uri": "https://localhost:8080/"
        },
        "id": "7RQOevKlJtE9",
        "outputId": "c6e5378f-8638-43b6-df68-4dadc13ddc3e"
      },
      "execution_count": null,
      "outputs": [
        {
          "output_type": "execute_result",
          "data": {
            "text/plain": [
              "array([[1, 0],\n",
              "       [0, 1]])"
            ]
          },
          "metadata": {},
          "execution_count": 20
        }
      ]
    },
    {
      "cell_type": "code",
      "source": [
        "arr=np.identity(3,dtype='int')\n",
        "arr"
      ],
      "metadata": {
        "colab": {
          "base_uri": "https://localhost:8080/"
        },
        "id": "zflCI-YILqxQ",
        "outputId": "a11aabb3-4172-4048-a4fb-e36c7e46b718"
      },
      "execution_count": null,
      "outputs": [
        {
          "output_type": "execute_result",
          "data": {
            "text/plain": [
              "array([[1, 0, 0],\n",
              "       [0, 1, 0],\n",
              "       [0, 0, 1]])"
            ]
          },
          "metadata": {},
          "execution_count": 21
        }
      ]
    },
    {
      "cell_type": "code",
      "source": [
        "arr=np.identity(4,dtype='int')\n",
        "arr"
      ],
      "metadata": {
        "colab": {
          "base_uri": "https://localhost:8080/"
        },
        "id": "Vub0RmSNLxbA",
        "outputId": "6a19ad78-c3ff-4360-d41e-005cf8670702"
      },
      "execution_count": null,
      "outputs": [
        {
          "output_type": "execute_result",
          "data": {
            "text/plain": [
              "array([[1, 0, 0, 0],\n",
              "       [0, 1, 0, 0],\n",
              "       [0, 0, 1, 0],\n",
              "       [0, 0, 0, 1]])"
            ]
          },
          "metadata": {},
          "execution_count": 22
        }
      ]
    },
    {
      "cell_type": "code",
      "source": [
        "arr=np.eye(2,2,dtype='int')\n",
        "arr"
      ],
      "metadata": {
        "colab": {
          "base_uri": "https://localhost:8080/"
        },
        "id": "ERe0wRKYLzMz",
        "outputId": "1d0591c1-c240-4d55-9adc-643ad2527e4d"
      },
      "execution_count": null,
      "outputs": [
        {
          "output_type": "execute_result",
          "data": {
            "text/plain": [
              "array([[1, 0],\n",
              "       [0, 1]])"
            ]
          },
          "metadata": {},
          "execution_count": 24
        }
      ]
    },
    {
      "cell_type": "code",
      "source": [
        "arr=np.eye(3,3,dtype='int')\n",
        "arr"
      ],
      "metadata": {
        "colab": {
          "base_uri": "https://localhost:8080/"
        },
        "id": "yGDKQb_CME7Y",
        "outputId": "f7641af6-71e1-4423-be49-2db18e8f672e"
      },
      "execution_count": null,
      "outputs": [
        {
          "output_type": "execute_result",
          "data": {
            "text/plain": [
              "array([[1, 0, 0],\n",
              "       [0, 1, 0],\n",
              "       [0, 0, 1]])"
            ]
          },
          "metadata": {},
          "execution_count": 25
        }
      ]
    },
    {
      "cell_type": "code",
      "source": [
        "arr=np.eye(4,4,dtype='int')\n",
        "arr"
      ],
      "metadata": {
        "colab": {
          "base_uri": "https://localhost:8080/"
        },
        "id": "o50etdAQMLe7",
        "outputId": "9e63a945-6d4f-4136-a91b-cf889539daad"
      },
      "execution_count": null,
      "outputs": [
        {
          "output_type": "execute_result",
          "data": {
            "text/plain": [
              "array([[1, 0, 0, 0],\n",
              "       [0, 1, 0, 0],\n",
              "       [0, 0, 1, 0],\n",
              "       [0, 0, 0, 1]])"
            ]
          },
          "metadata": {},
          "execution_count": 26
        }
      ]
    },
    {
      "cell_type": "code",
      "source": [
        "arr=np.eye(2,3,dtype='int')\n",
        "arr"
      ],
      "metadata": {
        "colab": {
          "base_uri": "https://localhost:8080/"
        },
        "id": "bQW2f46aMT6T",
        "outputId": "873976f5-a4db-461c-cfd9-6dca1c31d48f"
      },
      "execution_count": null,
      "outputs": [
        {
          "output_type": "execute_result",
          "data": {
            "text/plain": [
              "array([[1, 0, 0],\n",
              "       [0, 1, 0]])"
            ]
          },
          "metadata": {},
          "execution_count": 27
        }
      ]
    },
    {
      "cell_type": "markdown",
      "source": [
        "Create a numpy array with shape 2x5 that has all the elements as zero."
      ],
      "metadata": {
        "id": "kb9JBTj0NiiA"
      }
    },
    {
      "cell_type": "code",
      "source": [
        "arr=np.zeros([2,5])\n",
        "arr"
      ],
      "metadata": {
        "colab": {
          "base_uri": "https://localhost:8080/"
        },
        "id": "X0Gm-qZQMi4q",
        "outputId": "2b7ea743-712b-42ce-90fe-84eb550d97d8"
      },
      "execution_count": null,
      "outputs": [
        {
          "output_type": "execute_result",
          "data": {
            "text/plain": [
              "array([[0., 0., 0., 0., 0.],\n",
              "       [0., 0., 0., 0., 0.]])"
            ]
          },
          "metadata": {},
          "execution_count": 28
        }
      ]
    },
    {
      "cell_type": "code",
      "source": [
        "arr=np.eye(2,5)*0\n",
        "arr"
      ],
      "metadata": {
        "colab": {
          "base_uri": "https://localhost:8080/"
        },
        "id": "fRR9wEfwOV4Q",
        "outputId": "2d29a311-5f63-49fe-fc29-148b1c024435"
      },
      "execution_count": null,
      "outputs": [
        {
          "output_type": "execute_result",
          "data": {
            "text/plain": [
              "array([[0., 0., 0., 0., 0.],\n",
              "       [0., 0., 0., 0., 0.]])"
            ]
          },
          "metadata": {},
          "execution_count": 31
        }
      ]
    },
    {
      "cell_type": "markdown",
      "source": [
        "Create a numpy array that has the shape 3x5 and all the elements are 5."
      ],
      "metadata": {
        "id": "QUBJLWB1O9AD"
      }
    },
    {
      "cell_type": "code",
      "source": [
        "arr=np.full([3,5],5)\n",
        "arr"
      ],
      "metadata": {
        "colab": {
          "base_uri": "https://localhost:8080/"
        },
        "id": "isHeK8s7Obe6",
        "outputId": "a96149b4-cd00-49e2-a53a-d61aa1f6e5b3"
      },
      "execution_count": null,
      "outputs": [
        {
          "output_type": "execute_result",
          "data": {
            "text/plain": [
              "array([[5, 5, 5, 5, 5],\n",
              "       [5, 5, 5, 5, 5],\n",
              "       [5, 5, 5, 5, 5]])"
            ]
          },
          "metadata": {},
          "execution_count": 32
        }
      ]
    },
    {
      "cell_type": "code",
      "source": [
        "arr=np.zeros([3,5],dtype='int')+5\n",
        "arr"
      ],
      "metadata": {
        "colab": {
          "base_uri": "https://localhost:8080/"
        },
        "id": "wSZxrYANP-16",
        "outputId": "e7bfdffc-c1de-4aeb-9645-eb94175e6b42"
      },
      "execution_count": null,
      "outputs": [
        {
          "output_type": "execute_result",
          "data": {
            "text/plain": [
              "array([[5, 5, 5, 5, 5],\n",
              "       [5, 5, 5, 5, 5],\n",
              "       [5, 5, 5, 5, 5]])"
            ]
          },
          "metadata": {},
          "execution_count": 35
        }
      ]
    },
    {
      "cell_type": "code",
      "source": [
        "arr=np.ones([3,5],dtype='int')+4\n",
        "arr"
      ],
      "metadata": {
        "colab": {
          "base_uri": "https://localhost:8080/"
        },
        "id": "MiEI3SO1QCzh",
        "outputId": "14b7babe-1f62-447a-b27e-e46471641bd8"
      },
      "execution_count": null,
      "outputs": [
        {
          "output_type": "execute_result",
          "data": {
            "text/plain": [
              "array([[5, 5, 5, 5, 5],\n",
              "       [5, 5, 5, 5, 5],\n",
              "       [5, 5, 5, 5, 5]])"
            ]
          },
          "metadata": {},
          "execution_count": 39
        }
      ]
    },
    {
      "cell_type": "code",
      "source": [
        "arr=np.eye(3,5,dtype='int')*0+5\n",
        "arr"
      ],
      "metadata": {
        "colab": {
          "base_uri": "https://localhost:8080/"
        },
        "id": "6a6ivmzCQnJK",
        "outputId": "308e94f0-55fc-43e8-a88f-96989c187796"
      },
      "execution_count": null,
      "outputs": [
        {
          "output_type": "execute_result",
          "data": {
            "text/plain": [
              "array([[5, 5, 5, 5, 5],\n",
              "       [5, 5, 5, 5, 5],\n",
              "       [5, 5, 5, 5, 5]])"
            ]
          },
          "metadata": {},
          "execution_count": 41
        }
      ]
    },
    {
      "cell_type": "code",
      "source": [
        "arr=np.ones([3,5],dtype='int')\n",
        "arr"
      ],
      "metadata": {
        "colab": {
          "base_uri": "https://localhost:8080/"
        },
        "id": "aC3CoGd0Q3qt",
        "outputId": "95598fa2-d6a0-4eaf-f065-63c11aa57973"
      },
      "execution_count": null,
      "outputs": [
        {
          "output_type": "execute_result",
          "data": {
            "text/plain": [
              "array([[1, 1, 1, 1, 1],\n",
              "       [1, 1, 1, 1, 1],\n",
              "       [1, 1, 1, 1, 1]])"
            ]
          },
          "metadata": {},
          "execution_count": 40
        }
      ]
    },
    {
      "cell_type": "code",
      "source": [],
      "metadata": {
        "id": "7_acoHbSQ4f0"
      },
      "execution_count": null,
      "outputs": []
    },
    {
      "cell_type": "code",
      "source": [
        "# np.matrix([[]])"
      ],
      "metadata": {
        "id": "6pQQAwM4RF1U"
      },
      "execution_count": null,
      "outputs": []
    },
    {
      "cell_type": "markdown",
      "source": [
        "Create a numpy array with random integers in the range 0-100, and the sample size should be 25."
      ],
      "metadata": {
        "id": "5qsNAiHLRtk8"
      }
    },
    {
      "cell_type": "code",
      "source": [
        "arr=np.random.randint(0,100,size=25)\n",
        "arr"
      ],
      "metadata": {
        "colab": {
          "base_uri": "https://localhost:8080/"
        },
        "id": "tkaxhZqFR1BZ",
        "outputId": "6f7a6839-96e9-40dd-d11a-42c2261ae106"
      },
      "execution_count": null,
      "outputs": [
        {
          "output_type": "execute_result",
          "data": {
            "text/plain": [
              "array([ 5, 30, 42, 72, 43, 78, 32, 57, 16, 46, 85,  1, 76, 62, 78, 22, 32,\n",
              "       83, 33, 30, 46, 37, 62, 76, 17])"
            ]
          },
          "metadata": {},
          "execution_count": 45
        }
      ]
    },
    {
      "cell_type": "code",
      "source": [
        "arr=np.random.randint(0,100,size=25)\n",
        "arr"
      ],
      "metadata": {
        "colab": {
          "base_uri": "https://localhost:8080/"
        },
        "id": "Z8x_UWiHSyPn",
        "outputId": "d3e77d6c-9580-434d-c40e-98dbfaff1ea8"
      },
      "execution_count": null,
      "outputs": [
        {
          "output_type": "execute_result",
          "data": {
            "text/plain": [
              "array([37, 90, 36, 95, 37, 34, 36, 74, 26, 81, 67, 11, 47, 77, 23,  2,  5,\n",
              "       31, 50, 39, 74, 44, 47, 49, 78])"
            ]
          },
          "metadata": {},
          "execution_count": 55
        }
      ]
    },
    {
      "cell_type": "code",
      "source": [
        "arr=np.random.uniform(0,100,size=25)\n",
        "arr"
      ],
      "metadata": {
        "colab": {
          "base_uri": "https://localhost:8080/"
        },
        "id": "hLNNPNIiTSAf",
        "outputId": "6b47c3b5-20e7-4055-b53d-c788568843f7"
      },
      "execution_count": null,
      "outputs": [
        {
          "output_type": "execute_result",
          "data": {
            "text/plain": [
              "array([54.59014629, 91.49822503, 70.35598995,  2.2347478 , 37.16975908,\n",
              "        8.75559367, 72.63070929, 31.56675376, 13.94605507, 38.59029518,\n",
              "       90.51480427, 38.27219672, 77.81519411,  9.84292595,  9.14696032,\n",
              "        5.88454178, 71.59378785, 85.10030117, 71.80249104, 15.09916491,\n",
              "       49.81638089, 66.32636672, 66.74554256, 33.86425868, 69.43886525])"
            ]
          },
          "metadata": {},
          "execution_count": 53
        }
      ]
    },
    {
      "cell_type": "markdown",
      "source": [
        "Create a numpy array in the shape 2x3 with random integers in the range 0-100. Reshape the array in the shape 3x2 and print the updated shape of the resultant array."
      ],
      "metadata": {
        "id": "RXFMKpW3T9s0"
      }
    },
    {
      "cell_type": "code",
      "source": [
        "arr=np.random.randint(0,100,size=(2,3))\n",
        "arr"
      ],
      "metadata": {
        "colab": {
          "base_uri": "https://localhost:8080/"
        },
        "id": "BeFkGh6MTtGn",
        "outputId": "276e475c-e79b-4e28-9938-f0c33cc3099f"
      },
      "execution_count": null,
      "outputs": [
        {
          "output_type": "execute_result",
          "data": {
            "text/plain": [
              "array([[16,  4, 72],\n",
              "       [18, 98, 44]])"
            ]
          },
          "metadata": {},
          "execution_count": 56
        }
      ]
    },
    {
      "cell_type": "code",
      "source": [
        "arr.reshape(3,2)\n"
      ],
      "metadata": {
        "colab": {
          "base_uri": "https://localhost:8080/"
        },
        "id": "5gz6Q9FVV_x2",
        "outputId": "097ad4f8-be9f-4121-9690-09bd67f91e64"
      },
      "execution_count": null,
      "outputs": [
        {
          "output_type": "execute_result",
          "data": {
            "text/plain": [
              "array([[16,  4],\n",
              "       [72, 18],\n",
              "       [98, 44]])"
            ]
          },
          "metadata": {},
          "execution_count": 57
        }
      ]
    },
    {
      "cell_type": "markdown",
      "source": [
        "Create a random array, with the range 0-1000, with a size 50 and step 2. Perform the following operations on the same.\n",
        "\n",
        "a. Print the first ten elements of the array.\n",
        "\n",
        "b. Print the last ten elements of the array.\n",
        "\n",
        "c. Print the elements from the indexes 10-25.\n",
        "\n",
        "d. Print the element at the index 22.\n",
        "\n",
        "e. Print the array using negative indexing.\n",
        "\n",
        "f. Print the last ten elements of the array, using negative indexing."
      ],
      "metadata": {
        "id": "TVOXxLfIWNEx"
      }
    },
    {
      "cell_type": "code",
      "source": [
        "arr=np.random.randint(0,1000,size=50)\n",
        "arr"
      ],
      "metadata": {
        "colab": {
          "base_uri": "https://localhost:8080/"
        },
        "id": "rPcihIEtWEDl",
        "outputId": "680de21f-8587-406f-c73c-c4ab432bf809"
      },
      "execution_count": null,
      "outputs": [
        {
          "output_type": "execute_result",
          "data": {
            "text/plain": [
              "array([839, 103,   7,  71, 368, 264, 157,  35, 276,  72, 812,  90,  87,\n",
              "        57, 463, 228,  12, 164, 838, 809, 614, 803, 612, 197, 774, 822,\n",
              "       343, 450, 391, 190, 757, 317, 424, 451, 395, 369, 597, 760, 635,\n",
              "        49,  66, 287, 564, 456,  38, 459, 893,  64, 122, 349])"
            ]
          },
          "metadata": {},
          "execution_count": 58
        }
      ]
    },
    {
      "cell_type": "code",
      "source": [
        "# a\n",
        "arr[0:10]"
      ],
      "metadata": {
        "colab": {
          "base_uri": "https://localhost:8080/"
        },
        "id": "WFqs-NqQY769",
        "outputId": "4ab1c34a-2182-475c-c8ea-62efdd6aa42b"
      },
      "execution_count": null,
      "outputs": [
        {
          "output_type": "execute_result",
          "data": {
            "text/plain": [
              "array([839, 103,   7,  71, 368, 264, 157,  35, 276,  72])"
            ]
          },
          "metadata": {},
          "execution_count": 61
        }
      ]
    },
    {
      "cell_type": "code",
      "source": [
        "arr[40:]"
      ],
      "metadata": {
        "colab": {
          "base_uri": "https://localhost:8080/"
        },
        "id": "Qs7Rjm-9ZWQJ",
        "outputId": "7cd70200-d5b5-44ab-aece-ef013a95098c"
      },
      "execution_count": null,
      "outputs": [
        {
          "output_type": "execute_result",
          "data": {
            "text/plain": [
              "array([ 66, 287, 564, 456,  38, 459, 893,  64, 122, 349])"
            ]
          },
          "metadata": {},
          "execution_count": 63
        }
      ]
    },
    {
      "cell_type": "code",
      "source": [
        "arr[-10:]"
      ],
      "metadata": {
        "colab": {
          "base_uri": "https://localhost:8080/"
        },
        "id": "wLpohOfRZloY",
        "outputId": "7abfc4f9-fe54-4d81-d530-4c18c6663b0d"
      },
      "execution_count": null,
      "outputs": [
        {
          "output_type": "execute_result",
          "data": {
            "text/plain": [
              "array([ 66, 287, 564, 456,  38, 459, 893,  64, 122, 349])"
            ]
          },
          "metadata": {},
          "execution_count": 64
        }
      ]
    },
    {
      "cell_type": "code",
      "source": [
        "arr[10:26]  #arr[start:end+1]"
      ],
      "metadata": {
        "colab": {
          "base_uri": "https://localhost:8080/"
        },
        "id": "4QM6nxRmZqMV",
        "outputId": "8c0d6d35-2f89-496b-b0fc-222e2142b2f6"
      },
      "execution_count": null,
      "outputs": [
        {
          "output_type": "execute_result",
          "data": {
            "text/plain": [
              "array([812,  90,  87,  57, 463, 228,  12, 164, 838, 809, 614, 803, 612,\n",
              "       197, 774, 822])"
            ]
          },
          "metadata": {},
          "execution_count": 65
        }
      ]
    },
    {
      "cell_type": "code",
      "source": [
        "arr[22]"
      ],
      "metadata": {
        "colab": {
          "base_uri": "https://localhost:8080/"
        },
        "id": "DV0LSo_tZ68q",
        "outputId": "29b2a0cb-994d-4c5d-cc3a-b04759282894"
      },
      "execution_count": null,
      "outputs": [
        {
          "output_type": "execute_result",
          "data": {
            "text/plain": [
              "np.int64(612)"
            ]
          },
          "metadata": {},
          "execution_count": 66
        }
      ]
    },
    {
      "cell_type": "code",
      "source": [
        "arr[::-1]"
      ],
      "metadata": {
        "colab": {
          "base_uri": "https://localhost:8080/"
        },
        "id": "9zctawvgaDcw",
        "outputId": "b66d89de-608d-4b53-d346-9e8f895a4c15"
      },
      "execution_count": null,
      "outputs": [
        {
          "output_type": "execute_result",
          "data": {
            "text/plain": [
              "array([349, 122,  64, 893, 459,  38, 456, 564, 287,  66,  49, 635, 760,\n",
              "       597, 369, 395, 451, 424, 317, 757, 190, 391, 450, 343, 822, 774,\n",
              "       197, 612, 803, 614, 809, 838, 164,  12, 228, 463,  57,  87,  90,\n",
              "       812,  72, 276,  35, 157, 264, 368,  71,   7, 103, 839])"
            ]
          },
          "metadata": {},
          "execution_count": 67
        }
      ]
    },
    {
      "cell_type": "code",
      "source": [
        "arr[-10:]"
      ],
      "metadata": {
        "colab": {
          "base_uri": "https://localhost:8080/"
        },
        "id": "_Im61LAUaKS7",
        "outputId": "a51d514d-ed54-4ef5-e015-01d7221883c4"
      },
      "execution_count": null,
      "outputs": [
        {
          "output_type": "execute_result",
          "data": {
            "text/plain": [
              "array([ 66, 287, 564, 456,  38, 459, 893,  64, 122, 349])"
            ]
          },
          "metadata": {},
          "execution_count": 68
        }
      ]
    },
    {
      "cell_type": "code",
      "source": [
        "arr=np.zeros([3,5],dtype='int')+5\n",
        "arr=arr.flatten()\n",
        "arr,arr.ndim"
      ],
      "metadata": {
        "colab": {
          "base_uri": "https://localhost:8080/"
        },
        "id": "oYN2BaY9aS9o",
        "outputId": "f074006f-a339-4c6c-d6b5-3702be862793"
      },
      "execution_count": null,
      "outputs": [
        {
          "output_type": "execute_result",
          "data": {
            "text/plain": [
              "(array([5, 5, 5, 5, 5, 5, 5, 5, 5, 5, 5, 5, 5, 5, 5]), 1)"
            ]
          },
          "metadata": {},
          "execution_count": 74
        }
      ]
    },
    {
      "cell_type": "code",
      "source": [
        "ls=[4,5,6]\n",
        "ls.pop()\n",
        "ls"
      ],
      "metadata": {
        "colab": {
          "base_uri": "https://localhost:8080/"
        },
        "id": "UNPHNAGWcBN9",
        "outputId": "3026b1ae-9727-48bd-9b65-2713ace18232"
      },
      "execution_count": null,
      "outputs": [
        {
          "output_type": "execute_result",
          "data": {
            "text/plain": [
              "[4, 5]"
            ]
          },
          "metadata": {},
          "execution_count": 76
        }
      ]
    },
    {
      "cell_type": "code",
      "source": [],
      "metadata": {
        "id": "Hr1WdB5DcpDa"
      },
      "execution_count": null,
      "outputs": []
    }
  ]
}