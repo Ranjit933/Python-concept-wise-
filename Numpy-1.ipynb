{
 "cells": [
  {
   "cell_type": "code",
   "execution_count": 1,
   "id": "dfcb8ce5-ccf0-4f2c-b35d-21b08e4b687f",
   "metadata": {},
   "outputs": [],
   "source": [
    "import numpy # this package is already available so its not throwing an error"
   ]
  },
  {
   "cell_type": "code",
   "execution_count": 2,
   "id": "91d6cf35-43f0-4faf-b090-5ee97dba13de",
   "metadata": {},
   "outputs": [
    {
     "ename": "ModuleNotFoundError",
     "evalue": "No module named 'xyz'",
     "output_type": "error",
     "traceback": [
      "\u001b[1;31m---------------------------------------------------------------------------\u001b[0m",
      "\u001b[1;31mModuleNotFoundError\u001b[0m                       Traceback (most recent call last)",
      "Cell \u001b[1;32mIn[2], line 1\u001b[0m\n\u001b[1;32m----> 1\u001b[0m \u001b[38;5;28;01mimport\u001b[39;00m \u001b[38;5;21;01mxyz\u001b[39;00m\n",
      "\u001b[1;31mModuleNotFoundError\u001b[0m: No module named 'xyz'"
     ]
    }
   ],
   "source": [
    "import xyz # random word used to explain this module not found error"
   ]
  },
  {
   "cell_type": "code",
   "execution_count": 3,
   "id": "7151feaf-b5ea-46a8-9ea0-c6b791a5accc",
   "metadata": {},
   "outputs": [
    {
     "ename": "ModuleNotFoundError",
     "evalue": "No module named 'Numpy'",
     "output_type": "error",
     "traceback": [
      "\u001b[1;31m---------------------------------------------------------------------------\u001b[0m",
      "\u001b[1;31mModuleNotFoundError\u001b[0m                       Traceback (most recent call last)",
      "Cell \u001b[1;32mIn[3], line 1\u001b[0m\n\u001b[1;32m----> 1\u001b[0m \u001b[38;5;28;01mimport\u001b[39;00m \u001b[38;5;21;01mNumpy\u001b[39;00m\n",
      "\u001b[1;31mModuleNotFoundError\u001b[0m: No module named 'Numpy'"
     ]
    }
   ],
   "source": [
    "import Numpy"
   ]
  },
  {
   "cell_type": "code",
   "execution_count": 4,
   "id": "62daf7b4-4ca8-423b-84e6-3429a1ad1c41",
   "metadata": {},
   "outputs": [
    {
     "ename": "ModuleNotFoundError",
     "evalue": "No module named 'numpyy'",
     "output_type": "error",
     "traceback": [
      "\u001b[1;31m---------------------------------------------------------------------------\u001b[0m",
      "\u001b[1;31mModuleNotFoundError\u001b[0m                       Traceback (most recent call last)",
      "Cell \u001b[1;32mIn[4], line 1\u001b[0m\n\u001b[1;32m----> 1\u001b[0m \u001b[38;5;28;01mimport\u001b[39;00m \u001b[38;5;21;01mnumpyy\u001b[39;00m\n",
      "\u001b[1;31mModuleNotFoundError\u001b[0m: No module named 'numpyy'"
     ]
    }
   ],
   "source": [
    "import numpyy"
   ]
  },
  {
   "cell_type": "code",
   "execution_count": null,
   "id": "d4b137ea-6e7b-401b-8317-536a790e7a36",
   "metadata": {},
   "outputs": [],
   "source": [
    "ModuleNotFoundError: No module named 'xyz'\n",
    "1. Case sensitive\n",
    "2. Spelling mistake\n",
    "3. Package is not available so we need to install it"
   ]
  },
  {
   "cell_type": "code",
   "execution_count": 5,
   "id": "0d2d5468-1f9d-4343-a51c-a9e806c6ffbe",
   "metadata": {},
   "outputs": [
    {
     "name": "stdout",
     "output_type": "stream",
     "text": [
      "Requirement already satisfied: numpy in c:\\users\\admin\\anaconda3\\lib\\site-packages (1.26.4)\n"
     ]
    }
   ],
   "source": [
    "!pip install numpy # right now numpy is already available so need not do this installation\n",
    "# this if for future when faced with module not found error this is how you can solve it"
   ]
  },
  {
   "cell_type": "code",
   "execution_count": null,
   "id": "9286030a-5395-4e3f-93dd-59f602f1430f",
   "metadata": {},
   "outputs": [],
   "source": []
  },
  {
   "cell_type": "code",
   "execution_count": 6,
   "id": "1cf0ce10-5756-464a-9247-148a583e49e4",
   "metadata": {},
   "outputs": [],
   "source": [
    "import numpy"
   ]
  },
  {
   "cell_type": "markdown",
   "id": "9be21b96-f229-4b3c-bb3d-c46590ded257",
   "metadata": {},
   "source": [
    "#### Create an array"
   ]
  },
  {
   "cell_type": "code",
   "execution_count": 8,
   "id": "133470b9-3c72-4b62-8b38-e656a2f5ed80",
   "metadata": {},
   "outputs": [
    {
     "data": {
      "text/plain": [
       "array([1, 2, 3, 4, 5])"
      ]
     },
     "execution_count": 8,
     "metadata": {},
     "output_type": "execute_result"
    }
   ],
   "source": [
    "ar1 = numpy.array([1,2,3,4,5]) # \n",
    "ar1"
   ]
  },
  {
   "cell_type": "code",
   "execution_count": 9,
   "id": "0bae3bb4-937d-435f-8a88-7d882c371f5b",
   "metadata": {},
   "outputs": [
    {
     "data": {
      "text/plain": [
       "numpy.ndarray"
      ]
     },
     "execution_count": 9,
     "metadata": {},
     "output_type": "execute_result"
    }
   ],
   "source": [
    "type(ar1)"
   ]
  },
  {
   "cell_type": "code",
   "execution_count": 10,
   "id": "44ae0b68-bb2a-4db9-8617-6daa3501359c",
   "metadata": {},
   "outputs": [
    {
     "data": {
      "text/plain": [
       "[1, 2, 3, 4, 5]"
      ]
     },
     "execution_count": 10,
     "metadata": {},
     "output_type": "execute_result"
    }
   ],
   "source": [
    "list1 = [1,2,3,4,5]\n",
    "list1"
   ]
  },
  {
   "cell_type": "code",
   "execution_count": 11,
   "id": "be903776-645b-496c-8c52-d285badf1140",
   "metadata": {},
   "outputs": [
    {
     "data": {
      "text/plain": [
       "[1, 2, 20, 4, 5]"
      ]
     },
     "execution_count": 11,
     "metadata": {},
     "output_type": "execute_result"
    }
   ],
   "source": [
    "list1[2] = 20 # element wise operations\n",
    "list1"
   ]
  },
  {
   "cell_type": "code",
   "execution_count": 12,
   "id": "d7f4ab7b-fa87-42f9-8d83-c2841a249d69",
   "metadata": {},
   "outputs": [
    {
     "data": {
      "text/plain": [
       "[1, 4, 400, 16, 25]"
      ]
     },
     "execution_count": 12,
     "metadata": {},
     "output_type": "execute_result"
    }
   ],
   "source": [
    "[i**2 for i in list1]"
   ]
  },
  {
   "cell_type": "code",
   "execution_count": 13,
   "id": "d57b62c1-a200-467e-b7c0-ea284fa490e1",
   "metadata": {},
   "outputs": [
    {
     "data": {
      "text/plain": [
       "array([ 1,  4,  9, 16, 25])"
      ]
     },
     "execution_count": 13,
     "metadata": {},
     "output_type": "execute_result"
    }
   ],
   "source": [
    "ar1 **2 "
   ]
  },
  {
   "cell_type": "code",
   "execution_count": 16,
   "id": "d096e2e8-b00f-48c4-bdc1-41676923d172",
   "metadata": {},
   "outputs": [
    {
     "data": {
      "text/plain": [
       "array([1, 2, 3, 4, 5])"
      ]
     },
     "execution_count": 16,
     "metadata": {},
     "output_type": "execute_result"
    }
   ],
   "source": [
    "ar1"
   ]
  },
  {
   "cell_type": "code",
   "execution_count": 19,
   "id": "f0282525-6dbd-44e0-9c4a-b265feb0e815",
   "metadata": {},
   "outputs": [
    {
     "data": {
      "text/plain": [
       "array([1, 2, 3, 4, 5])"
      ]
     },
     "execution_count": 19,
     "metadata": {},
     "output_type": "execute_result"
    }
   ],
   "source": [
    "ar1"
   ]
  },
  {
   "cell_type": "code",
   "execution_count": 21,
   "id": "b45cfeba-f75d-4540-845c-7ec7b27764e6",
   "metadata": {},
   "outputs": [],
   "source": [
    "ar2 = 1"
   ]
  },
  {
   "cell_type": "code",
   "execution_count": 22,
   "id": "ee7236b6-6cde-4582-b06c-a76ba7e9554d",
   "metadata": {},
   "outputs": [
    {
     "data": {
      "text/plain": [
       "1"
      ]
     },
     "execution_count": 22,
     "metadata": {},
     "output_type": "execute_result"
    }
   ],
   "source": [
    "ar2"
   ]
  },
  {
   "cell_type": "code",
   "execution_count": null,
   "id": "3dd5ab22-dfae-445e-bd6f-e5f1a58893ae",
   "metadata": {},
   "outputs": [],
   "source": [
    "# NameError:\n",
    "# 1. Case Sensitive \n",
    "# 2. Spelling mistake\n",
    "# 3. Re create that variable which is throwing name error "
   ]
  },
  {
   "cell_type": "code",
   "execution_count": null,
   "id": "ebea14ad-9ed3-40a5-88d3-2e958a66da80",
   "metadata": {},
   "outputs": [],
   "source": [
    "# nameError : numpy is not defined ( execture import numpy line )"
   ]
  },
  {
   "cell_type": "code",
   "execution_count": null,
   "id": "31d4906f-a867-4e87-a946-6de2c0ad6108",
   "metadata": {},
   "outputs": [],
   "source": []
  },
  {
   "cell_type": "markdown",
   "id": "48f85bc4-b9da-4209-9d37-0ed6c28da960",
   "metadata": {},
   "source": [
    "#### Creating Array"
   ]
  },
  {
   "cell_type": "code",
   "execution_count": null,
   "id": "b3cfd670-a467-4ad5-9b26-cf39b68591f5",
   "metadata": {},
   "outputs": [],
   "source": [
    "import numpy"
   ]
  },
  {
   "cell_type": "code",
   "execution_count": 23,
   "id": "0742d31b-f0c9-47cb-8ae3-cb2937464b9e",
   "metadata": {},
   "outputs": [
    {
     "data": {
      "text/plain": [
       "array([1, 2, 3, 4, 5])"
      ]
     },
     "execution_count": 23,
     "metadata": {},
     "output_type": "execute_result"
    }
   ],
   "source": [
    "ar1 = numpy.array([1,2,3,4,5])\n",
    "ar1"
   ]
  },
  {
   "cell_type": "code",
   "execution_count": 24,
   "id": "822785d1-cd38-49ce-84cb-2ce0657d06bf",
   "metadata": {},
   "outputs": [],
   "source": [
    "import numpy as np # alias name called np "
   ]
  },
  {
   "cell_type": "code",
   "execution_count": 25,
   "id": "455fc4ee-8ec2-4128-9bec-ec5ecec1ba4b",
   "metadata": {},
   "outputs": [
    {
     "data": {
      "text/plain": [
       "array([1, 2, 3, 4, 5])"
      ]
     },
     "execution_count": 25,
     "metadata": {},
     "output_type": "execute_result"
    }
   ],
   "source": [
    "ar1 = np.array([1,2,3,4,5]) # list / tuple and convert them into an array\n",
    "ar1"
   ]
  },
  {
   "cell_type": "code",
   "execution_count": null,
   "id": "a665b7fb-0568-450e-ae4a-97c0e50e0488",
   "metadata": {},
   "outputs": [],
   "source": [
    "# if you want to create an array with zeros use this function"
   ]
  },
  {
   "cell_type": "code",
   "execution_count": 26,
   "id": "2d704150-5204-46f3-8135-ec0de8074416",
   "metadata": {},
   "outputs": [
    {
     "data": {
      "text/plain": [
       "array([[0., 0., 0., 0.],\n",
       "       [0., 0., 0., 0.],\n",
       "       [0., 0., 0., 0.]])"
      ]
     },
     "execution_count": 26,
     "metadata": {},
     "output_type": "execute_result"
    }
   ],
   "source": [
    "ar1 = np.zeros([3,4]) # 1 parameters --> [3,4] --> shape --> rows and columns\n",
    "# create an array of 3 rows and 4 columns and fill this array wth zeros \n",
    "# by default data type is float --> 0. --> 0 \n",
    "ar1"
   ]
  },
  {
   "cell_type": "code",
   "execution_count": 28,
   "id": "ae70049a-7d71-42e0-bce1-d842db3e7f59",
   "metadata": {},
   "outputs": [],
   "source": [
    "# help(np.zeros)"
   ]
  },
  {
   "cell_type": "code",
   "execution_count": null,
   "id": "807a0448-41cd-4bd2-9e0e-93584e62543d",
   "metadata": {},
   "outputs": [],
   "source": [
    "# to create a random array in a range of 0 to 1"
   ]
  },
  {
   "cell_type": "code",
   "execution_count": 37,
   "id": "d3604f6d-c6f3-430e-b230-06a898e17b7d",
   "metadata": {},
   "outputs": [
    {
     "data": {
      "text/plain": [
       "array([[0.32653449, 0.91945953, 0.34892924, 0.95467864],\n",
       "       [0.51279142, 0.08767312, 0.1472828 , 0.78811349],\n",
       "       [0.96105437, 0.71687736, 0.03950883, 0.45911477]])"
      ]
     },
     "execution_count": 37,
     "metadata": {},
     "output_type": "execute_result"
    }
   ],
   "source": [
    "np.random.random([3,4]) # shape --> [3,4] --> 3 rows and 4 columns and filled with random numbers "
   ]
  },
  {
   "cell_type": "code",
   "execution_count": null,
   "id": "8909c942-7a3a-4684-8752-77f7abbd4d50",
   "metadata": {},
   "outputs": [],
   "source": []
  },
  {
   "cell_type": "markdown",
   "id": "6a6f1e3d-5ee2-4a80-9e10-6a7ae5bf5516",
   "metadata": {},
   "source": [
    "#### Initiating an array"
   ]
  },
  {
   "cell_type": "code",
   "execution_count": 38,
   "id": "8d3f91d6-abd1-4951-ab25-abd70f705629",
   "metadata": {},
   "outputs": [
    {
     "data": {
      "text/plain": [
       "array([[10, 10, 10, 10],\n",
       "       [10, 10, 10, 10],\n",
       "       [10, 10, 10, 10]])"
      ]
     },
     "execution_count": 38,
     "metadata": {},
     "output_type": "execute_result"
    }
   ],
   "source": [
    "np.full([3,4], 10)  # 2 parameters : shape , value\n",
    "# create an array of size 3 rows and 4 columns and fill the array with value 10"
   ]
  },
  {
   "cell_type": "code",
   "execution_count": null,
   "id": "3e2914d8-9f20-4025-838a-05027a6ab00f",
   "metadata": {},
   "outputs": [],
   "source": []
  },
  {
   "cell_type": "code",
   "execution_count": 40,
   "id": "261131fe-f904-425b-8bbc-0304ead752c3",
   "metadata": {},
   "outputs": [
    {
     "name": "stdout",
     "output_type": "stream",
     "text": [
      "0\n",
      "1\n",
      "2\n",
      "3\n"
     ]
    }
   ],
   "source": [
    "for i in range(0,4):\n",
    "    print(i)"
   ]
  },
  {
   "cell_type": "code",
   "execution_count": 41,
   "id": "bc1c2001-f7f4-4d1f-b96d-97388c8973f4",
   "metadata": {},
   "outputs": [
    {
     "data": {
      "text/plain": [
       "[0, 1, 2, 3]"
      ]
     },
     "execution_count": 41,
     "metadata": {},
     "output_type": "execute_result"
    }
   ],
   "source": [
    "list(range(0,4))"
   ]
  },
  {
   "cell_type": "code",
   "execution_count": 42,
   "id": "280740ad-e982-4cd6-8dae-debfe1a4b113",
   "metadata": {},
   "outputs": [
    {
     "data": {
      "text/plain": [
       "[0, 2, 4, 6, 8]"
      ]
     },
     "execution_count": 42,
     "metadata": {},
     "output_type": "execute_result"
    }
   ],
   "source": [
    "list(range(0,10,2)) # start , end-1, step "
   ]
  },
  {
   "cell_type": "code",
   "execution_count": 43,
   "id": "8205b0be-1b86-4d32-aa1a-729f5bf6e2fb",
   "metadata": {},
   "outputs": [
    {
     "data": {
      "text/plain": [
       "array([0, 2, 4, 6, 8])"
      ]
     },
     "execution_count": 43,
     "metadata": {},
     "output_type": "execute_result"
    }
   ],
   "source": [
    "np.arange(0,10,2) # start , end-1(excluding end), step"
   ]
  },
  {
   "cell_type": "code",
   "execution_count": 45,
   "id": "4d6cdfc9-d0b5-475d-ad92-fdf46e05c401",
   "metadata": {},
   "outputs": [
    {
     "data": {
      "text/plain": [
       "array([ 0.        ,  0.52631579,  1.05263158,  1.57894737,  2.10526316,\n",
       "        2.63157895,  3.15789474,  3.68421053,  4.21052632,  4.73684211,\n",
       "        5.26315789,  5.78947368,  6.31578947,  6.84210526,  7.36842105,\n",
       "        7.89473684,  8.42105263,  8.94736842,  9.47368421, 10.        ])"
      ]
     },
     "execution_count": 45,
     "metadata": {},
     "output_type": "execute_result"
    }
   ],
   "source": [
    "np.linspace(0,10,20) # start , end, no.of values to generate\n",
    "# from 0 till 10 generate 5 numbers with equal intervals (difference)"
   ]
  },
  {
   "cell_type": "code",
   "execution_count": null,
   "id": "b263fa4c-91e8-4831-a69b-7709b721631d",
   "metadata": {},
   "outputs": [],
   "source": []
  },
  {
   "cell_type": "code",
   "execution_count": null,
   "id": "314cd048-2006-4d0c-b901-b36d1d10e57e",
   "metadata": {},
   "outputs": [],
   "source": [
    "# # Attribute Error :\n",
    "# 1. Case Sensitive \n",
    "# 2. Spelling mistake \n",
    "# 3. The functions doesnt exisit"
   ]
  },
  {
   "cell_type": "code",
   "execution_count": null,
   "id": "c63b5fbf-4be4-4386-93f7-b4cc710b51bb",
   "metadata": {},
   "outputs": [],
   "source": []
  },
  {
   "cell_type": "markdown",
   "id": "bd51a998-f3d0-4caf-965c-0785cb9c8592",
   "metadata": {},
   "source": [
    "#### Array Inspection"
   ]
  },
  {
   "cell_type": "code",
   "execution_count": 51,
   "id": "26b8fd23-fa14-4cc6-ba3e-1b431c346a52",
   "metadata": {},
   "outputs": [
    {
     "data": {
      "text/plain": [
       "array([ 1,  2,  3,  4,  5,  6,  7,  8,  9, 10, 11, 12, 13, 14, 15, 16, 17,\n",
       "       18, 19, 20, 21, 22, 23, 24])"
      ]
     },
     "execution_count": 51,
     "metadata": {},
     "output_type": "execute_result"
    }
   ],
   "source": [
    "ar1 = np.arange(1,25)\n",
    "ar1"
   ]
  },
  {
   "cell_type": "code",
   "execution_count": 52,
   "id": "6120d6cc-8e65-40af-8dd4-c271d927f0a9",
   "metadata": {},
   "outputs": [
    {
     "data": {
      "text/plain": [
       "1"
      ]
     },
     "execution_count": 52,
     "metadata": {},
     "output_type": "execute_result"
    }
   ],
   "source": [
    "ar1.ndim"
   ]
  },
  {
   "cell_type": "code",
   "execution_count": 53,
   "id": "9793a55d-2632-4c3a-89b2-61f112b1ed81",
   "metadata": {},
   "outputs": [
    {
     "data": {
      "text/plain": [
       "24"
      ]
     },
     "execution_count": 53,
     "metadata": {},
     "output_type": "execute_result"
    }
   ],
   "source": [
    "ar1.size # how many elements are there in ar1"
   ]
  },
  {
   "cell_type": "code",
   "execution_count": null,
   "id": "4b6262e0-e5e8-4a77-b934-783fc6abda14",
   "metadata": {},
   "outputs": [],
   "source": [
    "# ar1.size = rows* columns \n",
    "24\n",
    "1*24 \n",
    "2*12\n",
    "3*8\n",
    "4*6\n",
    "6*4\n",
    ".."
   ]
  },
  {
   "cell_type": "code",
   "execution_count": 54,
   "id": "28214775-ed29-41ea-acf6-48beeb815bb9",
   "metadata": {},
   "outputs": [
    {
     "data": {
      "text/plain": [
       "array([[ 1,  2,  3,  4],\n",
       "       [ 5,  6,  7,  8],\n",
       "       [ 9, 10, 11, 12],\n",
       "       [13, 14, 15, 16],\n",
       "       [17, 18, 19, 20],\n",
       "       [21, 22, 23, 24]])"
      ]
     },
     "execution_count": 54,
     "metadata": {},
     "output_type": "execute_result"
    }
   ],
   "source": [
    "ar1.reshape(6,4) \n",
    "# 6*4 = 24"
   ]
  },
  {
   "cell_type": "code",
   "execution_count": 55,
   "id": "9b2d3d0c-0ea6-4629-9395-016ddece088d",
   "metadata": {},
   "outputs": [
    {
     "ename": "ValueError",
     "evalue": "cannot reshape array of size 24 into shape (5,5)",
     "output_type": "error",
     "traceback": [
      "\u001b[1;31m---------------------------------------------------------------------------\u001b[0m",
      "\u001b[1;31mValueError\u001b[0m                                Traceback (most recent call last)",
      "Cell \u001b[1;32mIn[55], line 1\u001b[0m\n\u001b[1;32m----> 1\u001b[0m ar1\u001b[38;5;241m.\u001b[39mreshape(\u001b[38;5;241m5\u001b[39m,\u001b[38;5;241m5\u001b[39m)\n",
      "\u001b[1;31mValueError\u001b[0m: cannot reshape array of size 24 into shape (5,5)"
     ]
    }
   ],
   "source": [
    "ar1.reshape(5,5) \n",
    "# 5*5 != 24 ( size)"
   ]
  },
  {
   "cell_type": "code",
   "execution_count": 56,
   "id": "e4d4394e-4ec4-43af-aa9d-6300b0844ab4",
   "metadata": {},
   "outputs": [
    {
     "ename": "ValueError",
     "evalue": "cannot reshape array of size 24 into shape (4,4)",
     "output_type": "error",
     "traceback": [
      "\u001b[1;31m---------------------------------------------------------------------------\u001b[0m",
      "\u001b[1;31mValueError\u001b[0m                                Traceback (most recent call last)",
      "Cell \u001b[1;32mIn[56], line 1\u001b[0m\n\u001b[1;32m----> 1\u001b[0m ar1\u001b[38;5;241m.\u001b[39mreshape(\u001b[38;5;241m4\u001b[39m,\u001b[38;5;241m4\u001b[39m)\n",
      "\u001b[1;31mValueError\u001b[0m: cannot reshape array of size 24 into shape (4,4)"
     ]
    }
   ],
   "source": [
    "ar1.reshape(4,4)\n",
    "# 4*4 != 24"
   ]
  },
  {
   "cell_type": "code",
   "execution_count": 57,
   "id": "a80dab20-16c1-4c01-9c3b-6310163cd156",
   "metadata": {},
   "outputs": [
    {
     "data": {
      "text/plain": [
       "array([ 1,  2,  3,  4,  5,  6,  7,  8,  9, 10, 11, 12, 13, 14, 15, 16, 17,\n",
       "       18, 19, 20, 21, 22, 23, 24])"
      ]
     },
     "execution_count": 57,
     "metadata": {},
     "output_type": "execute_result"
    }
   ],
   "source": [
    "ar1"
   ]
  },
  {
   "cell_type": "code",
   "execution_count": 60,
   "id": "188d3851-3a69-45ef-91fe-d5d5b4f3525a",
   "metadata": {},
   "outputs": [
    {
     "data": {
      "text/plain": [
       "1"
      ]
     },
     "execution_count": 60,
     "metadata": {},
     "output_type": "execute_result"
    }
   ],
   "source": [
    "ar1.ndim"
   ]
  },
  {
   "cell_type": "code",
   "execution_count": 58,
   "id": "1eb985f3-e496-405f-8511-315e43df2eb2",
   "metadata": {},
   "outputs": [
    {
     "data": {
      "text/plain": [
       "array([[ 1,  2,  3,  4],\n",
       "       [ 5,  6,  7,  8],\n",
       "       [ 9, 10, 11, 12],\n",
       "       [13, 14, 15, 16],\n",
       "       [17, 18, 19, 20],\n",
       "       [21, 22, 23, 24]])"
      ]
     },
     "execution_count": 58,
     "metadata": {},
     "output_type": "execute_result"
    }
   ],
   "source": [
    "ar2 = ar1.reshape(6,4)\n",
    "ar2"
   ]
  },
  {
   "cell_type": "code",
   "execution_count": 59,
   "id": "877fc83c-bb03-4aed-a86b-a6a10f91a3fd",
   "metadata": {},
   "outputs": [
    {
     "data": {
      "text/plain": [
       "2"
      ]
     },
     "execution_count": 59,
     "metadata": {},
     "output_type": "execute_result"
    }
   ],
   "source": [
    "ar2.ndim"
   ]
  },
  {
   "cell_type": "code",
   "execution_count": 64,
   "id": "2663ab94-0056-46e4-a4a7-69112b58cb04",
   "metadata": {},
   "outputs": [
    {
     "data": {
      "text/plain": [
       "3"
      ]
     },
     "execution_count": 64,
     "metadata": {},
     "output_type": "execute_result"
    }
   ],
   "source": [
    "ar3 = ar1.reshape(3,2,4) # create 3 sub matrix with size 2,4 \n",
    "ar3.ndim"
   ]
  },
  {
   "cell_type": "code",
   "execution_count": 67,
   "id": "82884335-991d-41d0-99ad-2fc9eae2c396",
   "metadata": {},
   "outputs": [
    {
     "data": {
      "text/plain": [
       "array([[[ 1,  2,  3,  4],\n",
       "        [ 5,  6,  7,  8]],\n",
       "\n",
       "       [[ 9, 10, 11, 12],\n",
       "        [13, 14, 15, 16]],\n",
       "\n",
       "       [[17, 18, 19, 20],\n",
       "        [21, 22, 23, 24]]])"
      ]
     },
     "execution_count": 67,
     "metadata": {},
     "output_type": "execute_result"
    }
   ],
   "source": [
    "ar3"
   ]
  },
  {
   "cell_type": "code",
   "execution_count": 66,
   "id": "d472e9bf-f0e3-401e-a946-af1e392f0590",
   "metadata": {},
   "outputs": [
    {
     "data": {
      "text/plain": [
       "array([[[[ 1,  2],\n",
       "         [ 3,  4]],\n",
       "\n",
       "        [[ 5,  6],\n",
       "         [ 7,  8]]],\n",
       "\n",
       "\n",
       "       [[[ 9, 10],\n",
       "         [11, 12]],\n",
       "\n",
       "        [[13, 14],\n",
       "         [15, 16]]],\n",
       "\n",
       "\n",
       "       [[[17, 18],\n",
       "         [19, 20]],\n",
       "\n",
       "        [[21, 22],\n",
       "         [23, 24]]]])"
      ]
     },
     "execution_count": 66,
     "metadata": {},
     "output_type": "execute_result"
    }
   ],
   "source": [
    "ar4 = ar1.reshape(3,2,2,2)\n",
    "ar4"
   ]
  },
  {
   "cell_type": "code",
   "execution_count": 68,
   "id": "d1ede9f7-4dd1-4300-894d-6156188848e2",
   "metadata": {},
   "outputs": [
    {
     "data": {
      "text/plain": [
       "array([[ 1,  2,  3,  4],\n",
       "       [ 5,  6,  7,  8],\n",
       "       [ 9, 10, 11, 12],\n",
       "       [13, 14, 15, 16],\n",
       "       [17, 18, 19, 20],\n",
       "       [21, 22, 23, 24]])"
      ]
     },
     "execution_count": 68,
     "metadata": {},
     "output_type": "execute_result"
    }
   ],
   "source": [
    "ar1 = np.arange(1,25).reshape(6,4)\n",
    "ar1"
   ]
  },
  {
   "cell_type": "code",
   "execution_count": 69,
   "id": "a2aca3ce-7ffd-4a36-a119-6b483ac7a37a",
   "metadata": {},
   "outputs": [
    {
     "data": {
      "text/plain": [
       "24"
      ]
     },
     "execution_count": 69,
     "metadata": {},
     "output_type": "execute_result"
    }
   ],
   "source": [
    "ar1.size #no.of elements in array "
   ]
  },
  {
   "cell_type": "code",
   "execution_count": 70,
   "id": "e653575d-5ddc-458a-9872-e46ef8e48e0e",
   "metadata": {},
   "outputs": [
    {
     "data": {
      "text/plain": [
       "(6, 4)"
      ]
     },
     "execution_count": 70,
     "metadata": {},
     "output_type": "execute_result"
    }
   ],
   "source": [
    "ar1.shape # rows, columns"
   ]
  },
  {
   "cell_type": "code",
   "execution_count": 71,
   "id": "e9b0c3a8-4154-4530-bd7d-752bec3b4df4",
   "metadata": {},
   "outputs": [
    {
     "data": {
      "text/plain": [
       "dtype('int32')"
      ]
     },
     "execution_count": 71,
     "metadata": {},
     "output_type": "execute_result"
    }
   ],
   "source": [
    "ar1.dtype # data type \n",
    "# 32 bits / 64 bits \n",
    "# numbers should be in integers"
   ]
  },
  {
   "cell_type": "code",
   "execution_count": null,
   "id": "764c7c2d-1e6a-4ef1-8e58-8ccefb58b03f",
   "metadata": {},
   "outputs": [],
   "source": []
  },
  {
   "cell_type": "markdown",
   "id": "3777a319-10d0-4fe9-9a60-df614d9e447b",
   "metadata": {},
   "source": [
    "#### Array Mathematics"
   ]
  },
  {
   "cell_type": "code",
   "execution_count": null,
   "id": "8cc3d0c7-4b80-4eeb-b8b3-7bec248964d7",
   "metadata": {},
   "outputs": [],
   "source": [
    "ar1 = np.array([[10,20],[30,40]])\n",
    "ar1\n",
    "\n",
    "np.sum(ar1) # add all elements in array (10+20+30+40)\n",
    "\n",
    "np.sum(ar1,axis = 0) # axis = 0 --> apply the sum function on rows\n",
    "\n",
    "np.sum(ar1,axis = 1) # axis = 1 --> apply the sum function on columns\n",
    "\n",
    "help(np.sum)"
   ]
  },
  {
   "cell_type": "code",
   "execution_count": null,
   "id": "92950258-1cc2-4e79-911e-8142ca83f1ee",
   "metadata": {},
   "outputs": [],
   "source": []
  },
  {
   "cell_type": "code",
   "execution_count": 80,
   "id": "091b27c4-9bb4-4da8-beb8-214d689131d5",
   "metadata": {},
   "outputs": [
    {
     "name": "stdout",
     "output_type": "stream",
     "text": [
      "-10\n",
      "200\n",
      "0.5\n",
      "2.302585092994046\n",
      "22026.465794806718\n",
      "3.1622776601683795\n",
      "-0.5440211108893698\n"
     ]
    }
   ],
   "source": [
    "print(np.subtract(10,20))\n",
    "print(np.multiply(10,20))\n",
    "print(np.divide(10,20))\n",
    "print(np.log(10))\n",
    "print(np.exp(10))\n",
    "print(np.sqrt(10))\n",
    "print(np.sin(10))"
   ]
  },
  {
   "cell_type": "code",
   "execution_count": null,
   "id": "a7f3e0e5-f717-4995-a7b3-edfa20d14895",
   "metadata": {},
   "outputs": [],
   "source": []
  },
  {
   "cell_type": "code",
   "execution_count": 84,
   "id": "74948e88-25bb-4a1e-80aa-a2867a745d61",
   "metadata": {},
   "outputs": [
    {
     "data": {
      "text/plain": [
       "array([[10, 20],\n",
       "       [30, 40]])"
      ]
     },
     "execution_count": 84,
     "metadata": {},
     "output_type": "execute_result"
    }
   ],
   "source": [
    "ar1"
   ]
  },
  {
   "cell_type": "code",
   "execution_count": 85,
   "id": "0181484d-d32e-4ae9-b7e9-69dc516568e0",
   "metadata": {},
   "outputs": [
    {
     "data": {
      "text/plain": [
       "10"
      ]
     },
     "execution_count": 85,
     "metadata": {},
     "output_type": "execute_result"
    }
   ],
   "source": [
    "np.min(ar1)"
   ]
  },
  {
   "cell_type": "code",
   "execution_count": 86,
   "id": "8c16b881-c123-495c-9385-562276f50088",
   "metadata": {},
   "outputs": [
    {
     "data": {
      "text/plain": [
       "40"
      ]
     },
     "execution_count": 86,
     "metadata": {},
     "output_type": "execute_result"
    }
   ],
   "source": [
    "np.max(ar1)"
   ]
  },
  {
   "cell_type": "code",
   "execution_count": 88,
   "id": "d994605c-4db7-43d0-bdf4-656746fd20ee",
   "metadata": {},
   "outputs": [
    {
     "data": {
      "text/plain": [
       "25.0"
      ]
     },
     "execution_count": 88,
     "metadata": {},
     "output_type": "execute_result"
    }
   ],
   "source": [
    "np.mean(ar1) # average --> sum of the observations / total no.of obser\n",
    "# (10+20+30+40)/4"
   ]
  },
  {
   "cell_type": "code",
   "execution_count": 89,
   "id": "193d155a-05ed-48bd-a263-1f2048520666",
   "metadata": {},
   "outputs": [
    {
     "data": {
      "text/plain": [
       "25.0"
      ]
     },
     "execution_count": 89,
     "metadata": {},
     "output_type": "execute_result"
    }
   ],
   "source": [
    "np.median(ar1)"
   ]
  },
  {
   "cell_type": "code",
   "execution_count": null,
   "id": "bf540dcb-9af9-4dfc-9d54-ddd7431f2171",
   "metadata": {},
   "outputs": [],
   "source": []
  },
  {
   "cell_type": "markdown",
   "id": "08319cb4-7e09-480d-8a2b-d50ccc5a02a0",
   "metadata": {},
   "source": [
    "#### Slicing"
   ]
  },
  {
   "cell_type": "code",
   "execution_count": null,
   "id": "014800c9-90f8-43f2-ac47-ce2201ec627f",
   "metadata": {},
   "outputs": [],
   "source": [
    "# Index will start with zero \n",
    "# end will be excluded ( end-1 )"
   ]
  },
  {
   "cell_type": "code",
   "execution_count": 90,
   "id": "df411df9-d6c3-4236-afcf-f14e3c6acd2d",
   "metadata": {},
   "outputs": [
    {
     "data": {
      "text/plain": [
       "array([ 1,  2,  3,  4,  5,  6,  7,  8,  9, 10, 11, 12, 13, 14, 15, 16, 17,\n",
       "       18, 19, 20, 21, 22, 23, 24])"
      ]
     },
     "execution_count": 90,
     "metadata": {},
     "output_type": "execute_result"
    }
   ],
   "source": [
    "ar1 = np.arange(1,25)\n",
    "ar1"
   ]
  },
  {
   "cell_type": "code",
   "execution_count": 91,
   "id": "67a049e8-a1a2-4783-b168-5b65ba3cce82",
   "metadata": {},
   "outputs": [
    {
     "data": {
      "text/plain": [
       "1"
      ]
     },
     "execution_count": 91,
     "metadata": {},
     "output_type": "execute_result"
    }
   ],
   "source": [
    "ar1[0]"
   ]
  },
  {
   "cell_type": "code",
   "execution_count": 92,
   "id": "c6e48286-db06-43b4-a7bc-f4a25c8d7c2b",
   "metadata": {},
   "outputs": [
    {
     "data": {
      "text/plain": [
       "array([1, 2, 3, 4, 5])"
      ]
     },
     "execution_count": 92,
     "metadata": {},
     "output_type": "execute_result"
    }
   ],
   "source": [
    "ar1[0:5] # 5 is not included"
   ]
  },
  {
   "cell_type": "code",
   "execution_count": 93,
   "id": "88d35e27-bee6-4a83-bf3d-434bfca37090",
   "metadata": {},
   "outputs": [],
   "source": [
    "# 2D data"
   ]
  },
  {
   "cell_type": "code",
   "execution_count": 94,
   "id": "e988cefd-0cd3-498d-859f-b82d3137377c",
   "metadata": {},
   "outputs": [
    {
     "data": {
      "text/plain": [
       "array([[ 1,  2,  3,  4],\n",
       "       [ 5,  6,  7,  8],\n",
       "       [ 9, 10, 11, 12],\n",
       "       [13, 14, 15, 16],\n",
       "       [17, 18, 19, 20],\n",
       "       [21, 22, 23, 24]])"
      ]
     },
     "execution_count": 94,
     "metadata": {},
     "output_type": "execute_result"
    }
   ],
   "source": [
    "ar2 = ar1.reshape(6,4)\n",
    "ar2"
   ]
  },
  {
   "cell_type": "code",
   "execution_count": 95,
   "id": "7b026891-e34c-449e-ab6c-055950a613d5",
   "metadata": {},
   "outputs": [
    {
     "data": {
      "text/plain": [
       "array([[ 6,  7],\n",
       "       [10, 11],\n",
       "       [14, 15],\n",
       "       [18, 19]])"
      ]
     },
     "execution_count": 95,
     "metadata": {},
     "output_type": "execute_result"
    }
   ],
   "source": [
    "ar2[1:5,1:3]"
   ]
  }
 ],
 "metadata": {
  "kernelspec": {
   "display_name": "Python 3 (ipykernel)",
   "language": "python",
   "name": "python3"
  },
  "language_info": {
   "codemirror_mode": {
    "name": "ipython",
    "version": 3
   },
   "file_extension": ".py",
   "mimetype": "text/x-python",
   "name": "python",
   "nbconvert_exporter": "python",
   "pygments_lexer": "ipython3",
   "version": "3.11.7"
  },
  "widgets": {
   "application/vnd.jupyter.widget-state+json": {
    "state": {},
    "version_major": 2,
    "version_minor": 0
   }
  }
 },
 "nbformat": 4,
 "nbformat_minor": 5
}
