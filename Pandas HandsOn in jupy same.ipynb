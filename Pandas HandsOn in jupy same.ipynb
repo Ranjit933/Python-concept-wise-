{
 "cells": [
  {
   "cell_type": "markdown",
   "id": "8f6d7d98-d7d2-4488-b54a-23bcc13b85b2",
   "metadata": {},
   "source": [
    "### Create a list , tuple and a set with elements 1-10. Convert each of the data types into a Pandas Series. Also a create a seperate list of indexes for the Series"
   ]
  },
  {
   "cell_type": "code",
   "execution_count": 1,
   "id": "a4fa6cea-afc1-4109-9556-6d61722ae640",
   "metadata": {},
   "outputs": [
    {
     "name": "stdout",
     "output_type": "stream",
     "text": [
      "Series from List:\n",
      " a     1\n",
      "b     2\n",
      "c     3\n",
      "d     4\n",
      "e     5\n",
      "f     6\n",
      "g     7\n",
      "h     8\n",
      "i     9\n",
      "j    10\n",
      "dtype: int64 \n",
      "\n",
      "Series from Tuple:\n",
      " a     1\n",
      "b     2\n",
      "c     3\n",
      "d     4\n",
      "e     5\n",
      "f     6\n",
      "g     7\n",
      "h     8\n",
      "i     9\n",
      "j    10\n",
      "dtype: int64 \n",
      "\n",
      "Series from Set:\n",
      " a     1\n",
      "b     2\n",
      "c     3\n",
      "d     4\n",
      "e     5\n",
      "f     6\n",
      "g     7\n",
      "h     8\n",
      "i     9\n",
      "j    10\n",
      "dtype: int64\n"
     ]
    }
   ],
   "source": [
    "import pandas as pd\n",
    "\n",
    "my_list = list(range(1, 11))\n",
    "my_tuple = tuple(range(1, 11))\n",
    "my_set = set(range(1, 11))  \n",
    "\n",
    "index_list = ['a', 'b', 'c', 'd', 'e', 'f', 'g', 'h', 'i', 'j']\n",
    "\n",
    "list_series = pd.Series(my_list, index=index_list)\n",
    "tuple_series = pd.Series(my_tuple, index=index_list)\n",
    "set_series = pd.Series(sorted(my_set), index=index_list) \n",
    "\n",
    "print(\"Series from List:\\n\", list_series, \"\\n\")\n",
    "print(\"Series from Tuple:\\n\", tuple_series, \"\\n\")\n",
    "print(\"Series from Set:\\n\", set_series)"
   ]
  },
  {
   "cell_type": "markdown",
   "id": "eefdd622-8297-4961-a6f6-9d68f48d94a1",
   "metadata": {},
   "source": [
    "### 2nd way to do this same question"
   ]
  },
  {
   "cell_type": "code",
   "execution_count": 4,
   "id": "2f08ffb8-0b04-4db6-af1b-1f5c005e6047",
   "metadata": {},
   "outputs": [
    {
     "name": "stdout",
     "output_type": "stream",
     "text": [
      "List Series:\n",
      " a     1\n",
      "b     2\n",
      "c     3\n",
      "d     4\n",
      "e     5\n",
      "f     6\n",
      "g     7\n",
      "h     8\n",
      "i     9\n",
      "j    10\n",
      "dtype: int64 \n",
      "\n",
      "Tuple Series:\n",
      " a     1\n",
      "b     2\n",
      "c     3\n",
      "d     4\n",
      "e     5\n",
      "f     6\n",
      "g     7\n",
      "h     8\n",
      "i     9\n",
      "j    10\n",
      "dtype: int64 \n",
      "\n",
      "Set Series:\n",
      " a     1\n",
      "b     2\n",
      "c     3\n",
      "d     4\n",
      "e     5\n",
      "f     6\n",
      "g     7\n",
      "h     8\n",
      "i     9\n",
      "j    10\n",
      "dtype: int64\n"
     ]
    }
   ],
   "source": [
    "import pandas as pd\n",
    "\n",
    "# Data\n",
    "my_list = [1,2,3,4,5,6,7,8,9,10]\n",
    "my_tuple = (1,2,3,4,5,6,7,8,9,10)\n",
    "my_set = {1,2,3,4,5,6,7,8,9,10}\n",
    "\n",
    "# Indexes\n",
    "indexes = ['a','b','c','d','e','f','g','h','i','j']\n",
    "\n",
    "# Convert to Series\n",
    "list_series = pd.Series(my_list, index=indexes)\n",
    "tuple_series = pd.Series(my_tuple, index=indexes)\n",
    "set_series = pd.Series(sorted(my_set), index=indexes)  # sort to keep order\n",
    "\n",
    "# Print the results\n",
    "print(\"List Series:\\n\", list_series, \"\\n\")\n",
    "print(\"Tuple Series:\\n\", tuple_series, \"\\n\")\n",
    "print(\"Set Series:\\n\", set_series)\n"
   ]
  },
  {
   "cell_type": "markdown",
   "id": "af580393-c949-485a-af15-b1f9c7f3ee12",
   "metadata": {},
   "source": [
    "### Create a dictionary with 5 key value pairs. Convert the dictionary into a Series."
   ]
  },
  {
   "cell_type": "code",
   "execution_count": 23,
   "id": "3b530aa7-f6da-4f88-ac05-5548a20c3efe",
   "metadata": {},
   "outputs": [
    {
     "name": "stdout",
     "output_type": "stream",
     "text": [
      "Series from Dictionary:\n",
      " a    10\n",
      "b    20\n",
      "c    30\n",
      "d    40\n",
      "e    50\n",
      "dtype: int64\n"
     ]
    }
   ],
   "source": [
    "data = {\n",
    "    'a': 10,\n",
    "    'b': 20,\n",
    "    'c': 30,\n",
    "    'd': 40,\n",
    "    'e': 50\n",
    "}\n",
    "\n",
    "data_series = pd.Series(data)\n",
    "\n",
    "print(\"Series from Dictionary:\\n\", data_series)"
   ]
  },
  {
   "cell_type": "markdown",
   "id": "83c44bad-d622-4fc6-8548-da93a4d19f7b",
   "metadata": {},
   "source": [
    "### Create a Series store 10 elements convert this series into a list , set , tuple and a dictionary."
   ]
  },
  {
   "cell_type": "code",
   "execution_count": 28,
   "id": "9010ab3d-6dc6-4f25-a376-f7a100381856",
   "metadata": {},
   "outputs": [
    {
     "name": "stdout",
     "output_type": "stream",
     "text": [
      "Original Series:\n",
      " 0     11\n",
      "1     22\n",
      "2     33\n",
      "3     44\n",
      "4     55\n",
      "5     66\n",
      "6     77\n",
      "7     88\n",
      "8     99\n",
      "9    100\n",
      "dtype: int64 \n",
      "\n",
      "As List:\n",
      " [11, 22, 33, 44, 55, 66, 77, 88, 99, 100] \n",
      "\n",
      "As Set:\n",
      " {33, 66, 99, 100, 11, 44, 77, 22, 55, 88} \n",
      "\n",
      "As Tuple:\n",
      " (11, 22, 33, 44, 55, 66, 77, 88, 99, 100) \n",
      "\n",
      "As Dictionary:\n",
      " {0: 11, 1: 22, 2: 33, 3: 44, 4: 55, 5: 66, 6: 77, 7: 88, 8: 99, 9: 100}\n"
     ]
    }
   ],
   "source": [
    "# Create a Series with 10 elements\n",
    "my_series = pd.Series([11, 22, 33, 44, 55, 66, 77, 88, 99, 100])\n",
    "\n",
    "# Convert Series into different data types\n",
    "as_list = my_series.tolist()\n",
    "as_set = set(my_series)\n",
    "as_tuple = tuple(my_series)\n",
    "as_dict = my_series.to_dict()\n",
    "\n",
    "# Print the results\n",
    "print(\"Original Series:\\n\", my_series, \"\\n\")\n",
    "print(\"As List:\\n\", as_list, \"\\n\")\n",
    "print(\"As Set:\\n\", as_set, \"\\n\")\n",
    "print(\"As Tuple:\\n\", as_tuple, \"\\n\")\n",
    "print(\"As Dictionary:\\n\", as_dict)\n"
   ]
  },
  {
   "cell_type": "markdown",
   "id": "2f04c04d-7fbc-485c-8152-413dac45461a",
   "metadata": {},
   "source": [
    "### Create a sample series with 10 numerical elements. Print the first 5 and last 5 rows of the Series. Update the 5th index with the value 200. Update the last element of your series with the value 120. Delete the first element from the Series."
   ]
  },
  {
   "cell_type": "code",
   "execution_count": 37,
   "id": "c0627e40-efc7-479e-b82d-a5157fc8458e",
   "metadata": {},
   "outputs": [
    {
     "name": "stdout",
     "output_type": "stream",
     "text": [
      "First 5 elements:\n",
      " 0    10\n",
      "1    20\n",
      "2    30\n",
      "3    40\n",
      "4    50\n",
      "dtype: int64 \n",
      "\n",
      "Last 5 elements:\n",
      " 5     60\n",
      "6     70\n",
      "7     80\n",
      "8     90\n",
      "9    100\n",
      "dtype: int64 \n",
      "\n",
      "Updated Series:\n",
      " 1     20\n",
      "2     30\n",
      "3     40\n",
      "4     50\n",
      "5    200\n",
      "6     70\n",
      "7     80\n",
      "8     90\n",
      "9    120\n",
      "dtype: int64\n"
     ]
    }
   ],
   "source": [
    "# Step 1: Create a Series with 10 elements\n",
    "my_series = pd.Series([10, 20, 30, 40, 50, 60, 70, 80, 90, 100])\n",
    "\n",
    "# Step 2: Print the first 5 and last 5 elements\n",
    "print(\"First 5 elements:\\n\", my_series.head(), \"\\n\")\n",
    "print(\"Last 5 elements:\\n\", my_series.tail(), \"\\n\")\n",
    "\n",
    "# Step 3: Update the value at index 5 (6th position) to 200\n",
    "my_series[5] = 200\n",
    "\n",
    "# Step 4: Update the last element to 120\n",
    "my_series[my_series.index[-1]] = 120\n",
    "\n",
    "# Step 5: Delete the first element (index 0)\n",
    "my_series = my_series.drop(0)\n",
    "\n",
    "# Final Series\n",
    "print(\"Updated Series:\\n\", my_series)"
   ]
  },
  {
   "cell_type": "markdown",
   "id": "f806dcdd-47c5-4b06-a872-3625f04fd3d7",
   "metadata": {},
   "source": [
    "### 2nd method"
   ]
  },
  {
   "cell_type": "code",
   "execution_count": 48,
   "id": "8063c168-43a5-4a7f-beca-d21627ad7846",
   "metadata": {},
   "outputs": [
    {
     "data": {
      "text/plain": [
       "1     20\n",
       "2     30\n",
       "3     40\n",
       "4     50\n",
       "5    200\n",
       "6     70\n",
       "7     80\n",
       "8     90\n",
       "9    120\n",
       "dtype: int64"
      ]
     },
     "execution_count": 48,
     "metadata": {},
     "output_type": "execute_result"
    }
   ],
   "source": [
    "# Run each code in a particular cell\n",
    "sample = pd.Series([10,20,30,40,50,60,70,80,90,100])\n",
    "sample\n",
    "\n",
    "# Display the first 5 rows\n",
    "sample.head()\n",
    "sample\n",
    "\n",
    "# Display the last 5 rows\n",
    "sample.tail()\n",
    "sample\n",
    "\n",
    "sample[5] = 200 #Updating the 5th index element value.\n",
    "sample\n",
    "\n",
    "sample[9] = 120 #Updating the 9th index element value.\n",
    "sample\n",
    "sample.drop(0,inplace=True)   #inplace=True it will store/update the result in actual Series.\n",
    "\n",
    "sample"
   ]
  },
  {
   "cell_type": "markdown",
   "id": "a9ec5980-2cc8-4a85-b012-973d94aec176",
   "metadata": {},
   "source": [
    "### Create a nested list and dictionary (in dictionary store the values in a list). Store atleast 5 values in them and then convert them into a dataframe"
   ]
  },
  {
   "cell_type": "code",
   "execution_count": 40,
   "id": "84f4806f-596b-4958-a25f-ed382a352198",
   "metadata": {},
   "outputs": [
    {
     "name": "stdout",
     "output_type": "stream",
     "text": [
      "DataFrame from Dictionary:\n",
      "     ID   Product  Price\n",
      "0  101    Laptop   1000\n",
      "1  102     Phone    500\n",
      "2  103    Tablet    300\n",
      "3  104   Monitor    150\n",
      "4  105  Keyboard     80\n"
     ]
    }
   ],
   "source": [
    "# Dictionary with lists as values\n",
    "data_dict = {\n",
    "    'ID': [101, 102, 103, 104, 105],\n",
    "    'Product': ['Laptop', 'Phone', 'Tablet', 'Monitor', 'Keyboard'],\n",
    "    'Price': [1000, 500, 300, 150, 80]\n",
    "}\n",
    "\n",
    "# Convert to DataFrame\n",
    "df_from_dict = pd.DataFrame(data_dict)\n",
    "\n",
    "print(\"DataFrame from Dictionary:\\n\", df_from_dict)\n"
   ]
  },
  {
   "cell_type": "markdown",
   "id": "33ac123f-1444-4e34-ab38-571bc324f613",
   "metadata": {},
   "source": [
    "### Select all the rows where year > 2023 from the above DataFrame"
   ]
  },
  {
   "cell_type": "code",
   "execution_count": 51,
   "id": "d75f6cea-1525-4dab-8105-4e18b5310e6b",
   "metadata": {},
   "outputs": [
    {
     "data": {
      "text/html": [
       "<div>\n",
       "<style scoped>\n",
       "    .dataframe tbody tr th:only-of-type {\n",
       "        vertical-align: middle;\n",
       "    }\n",
       "\n",
       "    .dataframe tbody tr th {\n",
       "        vertical-align: top;\n",
       "    }\n",
       "\n",
       "    .dataframe thead th {\n",
       "        text-align: right;\n",
       "    }\n",
       "</style>\n",
       "<table border=\"1\" class=\"dataframe\">\n",
       "  <thead>\n",
       "    <tr style=\"text-align: right;\">\n",
       "      <th></th>\n",
       "      <th>model_name</th>\n",
       "      <th>Brand</th>\n",
       "      <th>Year</th>\n",
       "    </tr>\n",
       "  </thead>\n",
       "  <tbody>\n",
       "    <tr>\n",
       "      <th>0</th>\n",
       "      <td>Kushaq</td>\n",
       "      <td>Skoda</td>\n",
       "      <td>2022</td>\n",
       "    </tr>\n",
       "    <tr>\n",
       "      <th>1</th>\n",
       "      <td>Venue</td>\n",
       "      <td>Hyundai</td>\n",
       "      <td>2024</td>\n",
       "    </tr>\n",
       "    <tr>\n",
       "      <th>2</th>\n",
       "      <td>Tucson</td>\n",
       "      <td>Hyundai</td>\n",
       "      <td>2025</td>\n",
       "    </tr>\n",
       "    <tr>\n",
       "      <th>3</th>\n",
       "      <td>Curve</td>\n",
       "      <td>Tata</td>\n",
       "      <td>2023</td>\n",
       "    </tr>\n",
       "    <tr>\n",
       "      <th>4</th>\n",
       "      <td>Polo</td>\n",
       "      <td>Wolksvagon</td>\n",
       "      <td>2021</td>\n",
       "    </tr>\n",
       "  </tbody>\n",
       "</table>\n",
       "</div>"
      ],
      "text/plain": [
       "  model_name       Brand  Year\n",
       "0     Kushaq       Skoda  2022\n",
       "1      Venue     Hyundai  2024\n",
       "2     Tucson     Hyundai  2025\n",
       "3      Curve        Tata  2023\n",
       "4       Polo  Wolksvagon  2021"
      ]
     },
     "execution_count": 51,
     "metadata": {},
     "output_type": "execute_result"
    }
   ],
   "source": [
    "di = {\n",
    "    'model_name':['Kushaq','Venue','Tucson','Curve','Polo'],\n",
    "    'Brand':['Skoda','Hyundai','Hyundai','Tata','Wolksvagon'],\n",
    "    'Year':[2022,2024,2025,2023,2021],\n",
    "}\n",
    "di_df = pd.DataFrame(di)\n",
    "di_df"
   ]
  },
  {
   "cell_type": "code",
   "execution_count": 57,
   "id": "70859fe8-9cf2-468b-b2c9-2956b9b3e257",
   "metadata": {},
   "outputs": [
    {
     "data": {
      "text/html": [
       "<div>\n",
       "<style scoped>\n",
       "    .dataframe tbody tr th:only-of-type {\n",
       "        vertical-align: middle;\n",
       "    }\n",
       "\n",
       "    .dataframe tbody tr th {\n",
       "        vertical-align: top;\n",
       "    }\n",
       "\n",
       "    .dataframe thead th {\n",
       "        text-align: right;\n",
       "    }\n",
       "</style>\n",
       "<table border=\"1\" class=\"dataframe\">\n",
       "  <thead>\n",
       "    <tr style=\"text-align: right;\">\n",
       "      <th></th>\n",
       "      <th>model_name</th>\n",
       "      <th>Brand</th>\n",
       "      <th>Year</th>\n",
       "    </tr>\n",
       "  </thead>\n",
       "  <tbody>\n",
       "    <tr>\n",
       "      <th>1</th>\n",
       "      <td>Venue</td>\n",
       "      <td>Hyundai</td>\n",
       "      <td>2024</td>\n",
       "    </tr>\n",
       "    <tr>\n",
       "      <th>2</th>\n",
       "      <td>Tucson</td>\n",
       "      <td>Hyundai</td>\n",
       "      <td>2025</td>\n",
       "    </tr>\n",
       "  </tbody>\n",
       "</table>\n",
       "</div>"
      ],
      "text/plain": [
       "  model_name    Brand  Year\n",
       "1      Venue  Hyundai  2024\n",
       "2     Tucson  Hyundai  2025"
      ]
     },
     "execution_count": 57,
     "metadata": {},
     "output_type": "execute_result"
    }
   ],
   "source": [
    "di_df[di_df['Year']>2023]"
   ]
  },
  {
   "cell_type": "code",
   "execution_count": 61,
   "id": "3c6e88db-3b90-4e9e-8122-e1ad07b22cd7",
   "metadata": {},
   "outputs": [
    {
     "data": {
      "text/html": [
       "<div>\n",
       "<style scoped>\n",
       "    .dataframe tbody tr th:only-of-type {\n",
       "        vertical-align: middle;\n",
       "    }\n",
       "\n",
       "    .dataframe tbody tr th {\n",
       "        vertical-align: top;\n",
       "    }\n",
       "\n",
       "    .dataframe thead th {\n",
       "        text-align: right;\n",
       "    }\n",
       "</style>\n",
       "<table border=\"1\" class=\"dataframe\">\n",
       "  <thead>\n",
       "    <tr style=\"text-align: right;\">\n",
       "      <th></th>\n",
       "      <th>model_name</th>\n",
       "      <th>Brand</th>\n",
       "      <th>Year</th>\n",
       "    </tr>\n",
       "  </thead>\n",
       "  <tbody>\n",
       "    <tr>\n",
       "      <th>2</th>\n",
       "      <td>Tucson</td>\n",
       "      <td>Hyundai</td>\n",
       "      <td>2025</td>\n",
       "    </tr>\n",
       "  </tbody>\n",
       "</table>\n",
       "</div>"
      ],
      "text/plain": [
       "  model_name    Brand  Year\n",
       "2     Tucson  Hyundai  2025"
      ]
     },
     "execution_count": 61,
     "metadata": {},
     "output_type": "execute_result"
    }
   ],
   "source": [
    "di_df[(di_df['Brand']=='Hyundai') & (di_df['Year']>2024)]"
   ]
  },
  {
   "cell_type": "code",
   "execution_count": null,
   "id": "5375477c-06a0-40de-9bad-47b051b44b91",
   "metadata": {},
   "outputs": [],
   "source": [
    "# Homework:\n",
    "# Create a dataframe with 4 columns => Car Model , Brand , Year , Price\n",
    "# Make sure to add atleast 10 rows. \n",
    "# You need to select all the rows but only with Car Model and Brand column.\n",
    "# Select the rows from index 1 till 4 index and columns from brand-price."
   ]
  }
 ],
 "metadata": {
  "kernelspec": {
   "display_name": "Python 3 (ipykernel)",
   "language": "python",
   "name": "python3"
  },
  "language_info": {
   "codemirror_mode": {
    "name": "ipython",
    "version": 3
   },
   "file_extension": ".py",
   "mimetype": "text/x-python",
   "name": "python",
   "nbconvert_exporter": "python",
   "pygments_lexer": "ipython3",
   "version": "3.12.4"
  }
 },
 "nbformat": 4,
 "nbformat_minor": 5
}
