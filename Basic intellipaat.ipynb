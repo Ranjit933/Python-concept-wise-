{
 "cells": [
  {
   "cell_type": "code",
   "execution_count": 1,
   "id": "349d822e-f540-4bf6-b4de-1de1dc1873c7",
   "metadata": {},
   "outputs": [
    {
     "name": "stdout",
     "output_type": "stream",
     "text": [
      "Ranjit\n",
      "10\n",
      "0\n"
     ]
    }
   ],
   "source": [
    "print(\"Ranjit\")\n",
    "print(10)\n",
    "i = 0\n",
    "print(i)"
   ]
  },
  {
   "cell_type": "code",
   "execution_count": 9,
   "id": "09c12762-97ed-4451-9ff6-20531b4d3a38",
   "metadata": {},
   "outputs": [
    {
     "name": "stdout",
     "output_type": "stream",
     "text": [
      "10\n",
      "15.5\n",
      "(5+1j)\n",
      "<class 'int'>\n",
      "<class 'float'>\n",
      "<class 'complex'>\n"
     ]
    }
   ],
   "source": [
    "x= 10\n",
    "y = 15.5\n",
    "z = 5+1j\n",
    "print(x)\n",
    "print(y)\n",
    "print(z)\n",
    "print(type(x))\n",
    "print(type(y))\n",
    "print(type(z))"
   ]
  },
  {
   "cell_type": "code",
   "execution_count": 23,
   "id": "9bfccc25-6b1e-4715-8ac9-e89757cbcce5",
   "metadata": {},
   "outputs": [
    {
     "name": "stdout",
     "output_type": "stream",
     "text": [
      "Ranjit\n",
      "R\n",
      "nji\n",
      "Ranjit\n",
      "n\n"
     ]
    }
   ],
   "source": [
    "name = \"Ranjit\"\n",
    "print(name)\n",
    "print(name[0])\n",
    "print(name[2:5])\n",
    "print(name[:])\n",
    "print(name[2:3])"
   ]
  },
  {
   "cell_type": "code",
   "execution_count": 37,
   "id": "bf8bc41a-8b75-4d4d-bdf4-c29f77d126e2",
   "metadata": {},
   "outputs": [
    {
     "name": "stdout",
     "output_type": "stream",
     "text": [
      "R\n",
      "a\n",
      "n\n",
      "j\n",
      "i\n",
      "t\n"
     ]
    }
   ],
   "source": [
    "#python strings:\n",
    "print(name[0])\n",
    "print(name[1])\n",
    "print(name[2])\n",
    "print(name[3])\n",
    "print(name[4])\n",
    "print(name[5])"
   ]
  },
  {
   "cell_type": "code",
   "execution_count": 31,
   "id": "521cddfa-76df-4dde-9bfd-8bad8ef042e3",
   "metadata": {},
   "outputs": [
    {
     "name": "stdout",
     "output_type": "stream",
     "text": [
      "6\n"
     ]
    }
   ],
   "source": [
    "print(len(name))"
   ]
  },
  {
   "cell_type": "code",
   "execution_count": 47,
   "id": "e1821a25-d3e4-4dc3-aae7-ff1bee80da39",
   "metadata": {},
   "outputs": [
    {
     "name": "stdout",
     "output_type": "stream",
     "text": [
      "ello_\n",
      "llo\n",
      "_Kiwi\n",
      "Kiwi\n"
     ]
    }
   ],
   "source": [
    "#String slicing\n",
    "a = \"Hello_Kiwi\"\n",
    "print(a[1:6])\n",
    "print(a[2:5])\n",
    "print(a[5:])\n",
    "print(a[6:])"
   ]
  },
  {
   "cell_type": "code",
   "execution_count": 51,
   "id": "71039707-dd97-434b-a0c3-8da7795e26ce",
   "metadata": {},
   "outputs": [
    {
     "name": "stdout",
     "output_type": "stream",
     "text": [
      "True\n",
      "False\n"
     ]
    }
   ],
   "source": [
    "a = 10\n",
    "b = 5\n",
    "print(a>b)\n",
    "print(b>a)"
   ]
  },
  {
   "cell_type": "code",
   "execution_count": 57,
   "id": "fc7874f8-0e70-48dd-88c9-d4b9adcd6813",
   "metadata": {},
   "outputs": [
    {
     "data": {
      "text/plain": [
       "['Ranjit', 'Kiwi', 'Tulu']"
      ]
     },
     "execution_count": 57,
     "metadata": {},
     "output_type": "execute_result"
    }
   ],
   "source": [
    "l1=[\"Ranjit\",\"Kiwi\",\"Tulu\"]\n",
    "l1"
   ]
  },
  {
   "cell_type": "code",
   "execution_count": 67,
   "id": "975bb4bb-a008-4ba8-b6da-815e8e1c1101",
   "metadata": {},
   "outputs": [
    {
     "name": "stdout",
     "output_type": "stream",
     "text": [
      "<class 'list'>\n"
     ]
    }
   ],
   "source": [
    "print(type(l1))"
   ]
  },
  {
   "cell_type": "code",
   "execution_count": 71,
   "id": "a1ad3ba6-dc75-456d-af4e-2fe8b43697d2",
   "metadata": {},
   "outputs": [
    {
     "data": {
      "text/plain": [
       "('Ranjit', 'Kiwi', 'Tulu')"
      ]
     },
     "execution_count": 71,
     "metadata": {},
     "output_type": "execute_result"
    }
   ],
   "source": [
    "l2=(\"Ranjit\",\"Kiwi\",\"Tulu\")\n",
    "l2"
   ]
  },
  {
   "cell_type": "code",
   "execution_count": 73,
   "id": "85ae8f1b-3737-4efa-9940-1799bcd99b0e",
   "metadata": {},
   "outputs": [
    {
     "name": "stdout",
     "output_type": "stream",
     "text": [
      "<class 'tuple'>\n"
     ]
    }
   ],
   "source": [
    "print(type(l2))"
   ]
  },
  {
   "cell_type": "code",
   "execution_count": 75,
   "id": "ba5a1716-5237-498c-9cf0-49232f20cb99",
   "metadata": {},
   "outputs": [
    {
     "data": {
      "text/plain": [
       "{'Kiwi', 'Ranjit', 'Tulu'}"
      ]
     },
     "execution_count": 75,
     "metadata": {},
     "output_type": "execute_result"
    }
   ],
   "source": [
    "l3={\"Ranjit\",\"Kiwi\",\"Tulu\"}\n",
    "l3"
   ]
  },
  {
   "cell_type": "code",
   "execution_count": 77,
   "id": "7c75e596-a31f-435c-b2ad-776d28f478bf",
   "metadata": {},
   "outputs": [
    {
     "name": "stdout",
     "output_type": "stream",
     "text": [
      "<class 'set'>\n"
     ]
    }
   ],
   "source": [
    "print(type(l3))"
   ]
  },
  {
   "cell_type": "code",
   "execution_count": 79,
   "id": "73da5fb4-b93e-4fcf-85f5-58dcfec90e99",
   "metadata": {},
   "outputs": [
    {
     "name": "stdin",
     "output_type": "stream",
     "text": [
      "enter your age 28\n"
     ]
    },
    {
     "name": "stdout",
     "output_type": "stream",
     "text": [
      "28\n",
      "<class 'str'>\n"
     ]
    }
   ],
   "source": [
    "age = input(\"enter your age\")\n",
    "print(age)\n",
    "print(type(age))"
   ]
  },
  {
   "cell_type": "code",
   "execution_count": 87,
   "id": "6d29c566-2132-4bc9-a5f7-ddccd751f73c",
   "metadata": {},
   "outputs": [
    {
     "name": "stdin",
     "output_type": "stream",
     "text": [
      "Enter your name: kiwi\n",
      "Enter your age: 18\n",
      "Enter your Nationality: indian\n"
     ]
    },
    {
     "name": "stdout",
     "output_type": "stream",
     "text": [
      "kiwi\n",
      "18\n",
      "indian\n",
      "Congratulation you are eligible to vote\n"
     ]
    }
   ],
   "source": [
    "_Name = str(input(\"Enter your name:\"))\n",
    "age = int(input(\"Enter your age:\"))\n",
    "nationality= input(\"Enter your Nationality:\").strip().lower()\n",
    "print(_Name)\n",
    "print(age)\n",
    "print(nationality)\n",
    "\n",
    "if age>=18 and nationality==\"indian\":\n",
    "    print(\"Congratulation you are eligible to vote\")\n",
    "elif age >=17 and nationality==\"indian\":\n",
    "    print(\"You will be vote from next year good luck!\")\n",
    "else:\n",
    "    print(\"Sorry!! you can't vote\")"
   ]
  },
  {
   "cell_type": "code",
   "execution_count": 131,
   "id": "1a92fa9d-bb20-4221-8e96-aaa4e2f859f6",
   "metadata": {},
   "outputs": [
    {
     "name": "stdin",
     "output_type": "stream",
     "text": [
      "Enter your number: 8\n"
     ]
    },
    {
     "name": "stdout",
     "output_type": "stream",
     "text": [
      "8\n",
      "It's a odd number\n"
     ]
    }
   ],
   "source": [
    "#Prime number\n",
    "def prime(num):\n",
    "    if num < 2:\n",
    "        return False\n",
    "        for i in range(2, int(num ** 0.5)+1):\n",
    "         if num % i == 0:\n",
    "             return False\n",
    "             return True\n",
    "Prime_number=int(input(\"Enter your number:\"))\n",
    "print(Prime_number)\n",
    "\n",
    "if is_prime(num):\n",
    "    print(\"It's a prime number\")\n",
    "else:\n",
    "    print(\"It's a odd number\")"
   ]
  },
  {
   "cell_type": "code",
   "execution_count": 135,
   "id": "02552ff6-a706-4692-bc7c-cbaaba125bd8",
   "metadata": {},
   "outputs": [
    {
     "name": "stdin",
     "output_type": "stream",
     "text": [
      "Enter your number: 3\n"
     ]
    },
    {
     "name": "stdout",
     "output_type": "stream",
     "text": [
      "3 is an odd number\n"
     ]
    }
   ],
   "source": [
    "# Even odd number\n",
    "\n",
    "num = int(input(\"Enter your number:\"))\n",
    "\n",
    "if num%2 == 0:\n",
    "    print(f\"{num} is an even number\")\n",
    "else:\n",
    "    print(f\"{num} is an odd number\")\n"
   ]
  },
  {
   "cell_type": "code",
   "execution_count": 143,
   "id": "34463a29-28fd-4fda-b113-dede3b972569",
   "metadata": {},
   "outputs": [
    {
     "name": "stdin",
     "output_type": "stream",
     "text": [
      "Enter your number:  10\n"
     ]
    },
    {
     "name": "stdout",
     "output_type": "stream",
     "text": [
      "10\n",
      "Even number\n"
     ]
    }
   ],
   "source": [
    "def is_even(num):\n",
    "    if num % 2 == 0:\n",
    "        return True  # Even number\n",
    "    else:\n",
    "        return False  # Odd number\n",
    "\n",
    "# Taking user input\n",
    "num = int(input(\"Enter your number: \"))\n",
    "print(num)\n",
    "\n",
    "# Checking even or odd\n",
    "if is_even(num):\n",
    "    print(\"Even number\")\n",
    "else:\n",
    "    print(\"Odd number\")\n"
   ]
  },
  {
   "cell_type": "code",
   "execution_count": 149,
   "id": "266483e5-9142-41fb-ad87-da955d7f5fca",
   "metadata": {},
   "outputs": [
    {
     "name": "stdout",
     "output_type": "stream",
     "text": [
      "K\n",
      "i\n",
      "w\n",
      "i\n"
     ]
    }
   ],
   "source": [
    "#python loops\n",
    "#for : iterate over the sequences : str, list, tuple, dict, set\n",
    "#while\n",
    "\n",
    "s1 =\"Kiwi\"\n",
    "\n",
    "for x in s1:\n",
    "  print(x)"
   ]
  },
  {
   "cell_type": "code",
   "execution_count": 151,
   "id": "716ed580-cf89-4cc9-a4f6-69e08dd74ffe",
   "metadata": {},
   "outputs": [
    {
     "name": "stdout",
     "output_type": "stream",
     "text": [
      "Apple\n",
      "Banana\n",
      "Graphs\n",
      "Mango\n"
     ]
    }
   ],
   "source": [
    "k1 = [\"Apple\",\"Banana\",\"Graphs\",\"Mango\"]\n",
    "\n",
    "for x in k1:\n",
    "    print(x)"
   ]
  },
  {
   "cell_type": "code",
   "execution_count": 159,
   "id": "0fefeac4-94de-43c7-b4c4-a51327fd7bf1",
   "metadata": {},
   "outputs": [
    {
     "name": "stdout",
     "output_type": "stream",
     "text": [
      "R\n",
      "a\n",
      "n\n",
      "j\n",
      "i\n"
     ]
    }
   ],
   "source": [
    "s1= \"Ranjit\"\n",
    "for x in s1:\n",
    "    print(x)\n",
    "    if x == 'i':\n",
    "        break"
   ]
  },
  {
   "cell_type": "code",
   "execution_count": 161,
   "id": "9b913066-f636-4230-acce-4960bf8d52e1",
   "metadata": {},
   "outputs": [
    {
     "name": "stdout",
     "output_type": "stream",
     "text": [
      "K\n",
      "i\n",
      "w\n"
     ]
    }
   ],
   "source": [
    "s2='Kiwi'\n",
    "for a in s2:\n",
    "    print(a)\n",
    "    if a == 'w':\n",
    "        break"
   ]
  },
  {
   "cell_type": "code",
   "execution_count": 169,
   "id": "a242d988-d036-4a25-acbd-d2276a0f51e2",
   "metadata": {},
   "outputs": [
    {
     "name": "stdout",
     "output_type": "stream",
     "text": [
      "K\n",
      "i\n",
      "i\n"
     ]
    }
   ],
   "source": [
    "s3=\"Kiwi\"\n",
    "for k in s3:\n",
    "    if k == 'w':\n",
    "        continue\n",
    "    print(k)"
   ]
  },
  {
   "cell_type": "code",
   "execution_count": 171,
   "id": "638bb311-cc60-4be8-ac38-14ad37300468",
   "metadata": {},
   "outputs": [
    {
     "name": "stdout",
     "output_type": "stream",
     "text": [
      "R\n",
      "a\n",
      "n\n",
      "j\n",
      "i\n",
      "K\n",
      "i\n",
      "i\n"
     ]
    }
   ],
   "source": [
    "k2= \"Ranjit\"\n",
    "H1 = \"Kiwi\"\n",
    "for a in k2:\n",
    "    print(a)\n",
    "    if a == \"i\":\n",
    "        break\n",
    "for b in H1:\n",
    "    if b == 'w':\n",
    "        continue\n",
    "    print(b)"
   ]
  },
  {
   "cell_type": "code",
   "execution_count": 173,
   "id": "48c2b70e-d475-448c-a2c6-890f700c673c",
   "metadata": {},
   "outputs": [
    {
     "name": "stdout",
     "output_type": "stream",
     "text": [
      "10\n",
      "9\n",
      "8\n",
      "7\n",
      "6\n",
      "5\n",
      "4\n",
      "3\n",
      "2\n",
      "1\n"
     ]
    }
   ],
   "source": [
    "#while loop\n",
    "\n",
    "i = 10 #initialization\n",
    "while i>=1: #condition\n",
    "  print(i)\n",
    "  i=i-1#increment"
   ]
  },
  {
   "cell_type": "code",
   "execution_count": 186,
   "id": "f44338ec-8aa7-43c6-8fa6-62a256053a70",
   "metadata": {},
   "outputs": [
    {
     "name": "stdout",
     "output_type": "stream",
     "text": [
      "1\n",
      "2\n",
      "3\n",
      "4\n",
      "5\n",
      "6\n",
      "7\n",
      "8\n",
      "9\n",
      "10\n"
     ]
    }
   ],
   "source": [
    "i = 1  # Start from 1\n",
    "while i <= 10:  # Condition to run until 10\n",
    "    print(i)\n",
    "    i = i + 1  # Increment by 1\n"
   ]
  },
  {
   "cell_type": "code",
   "execution_count": 199,
   "id": "90025fd9-0d92-4afc-90e5-1b5d44b39a7b",
   "metadata": {},
   "outputs": [
    {
     "name": "stdin",
     "output_type": "stream",
     "text": [
      "Enter the number 2\n"
     ]
    },
    {
     "name": "stdout",
     "output_type": "stream",
     "text": [
      "2 X 1 = 2\n",
      "2 X 2 = 4\n",
      "2 X 3 = 6\n",
      "2 X 4 = 8\n",
      "2 X 5 = 10\n"
     ]
    }
   ],
   "source": [
    "num = int(input(\"Enter the number\"))\n",
    "i = 1 #initialization\n",
    "#while loop\n",
    "while i<=10:\n",
    "  #formatted strings\n",
    "  print(f\"{num} X {i} = {num*i}\")\n",
    "  if i == 5:\n",
    "    break\n",
    "  i+=1"
   ]
  },
  {
   "cell_type": "code",
   "execution_count": 205,
   "id": "ed36cc13-717e-403c-bc8b-13587dee0ff3",
   "metadata": {},
   "outputs": [
    {
     "name": "stdin",
     "output_type": "stream",
     "text": [
      "Enter the number: 6\n"
     ]
    },
    {
     "name": "stdout",
     "output_type": "stream",
     "text": [
      "6 X 1 = 2\n",
      "6 X 2 = 4\n",
      "6 X 3 = 6\n",
      "6 X 4 = 8\n",
      "6 X 5 = 10\n",
      "6 X 6 = 12\n",
      "6 X 7 = 14\n",
      "6 X 8 = 16\n",
      "6 X 9 = 18\n",
      "6 X 10 = 20\n"
     ]
    }
   ],
   "source": [
    "num1 = int(input(\"Enter the number:\"))\n",
    "d = 1\n",
    "while d<=10:\n",
    "    print(f\"{num1} X {d} = {num*d}\")\n",
    "    if i == 2:\n",
    "        break\n",
    "    d+=1"
   ]
  },
  {
   "cell_type": "markdown",
   "id": "696dbc90-dd2f-4a2b-be22-42f5477e5421",
   "metadata": {},
   "source": [
    "# OOPS"
   ]
  },
  {
   "cell_type": "code",
   "execution_count": 2,
   "id": "4182b046-355c-40f3-bfd2-5428bb3ce2ca",
   "metadata": {},
   "outputs": [],
   "source": [
    "def abc():\n",
    "\n",
    "  print(\"Hey\")"
   ]
  },
  {
   "cell_type": "markdown",
   "id": "5aa519a2-0b6d-41f5-8bf6-61642647ee34",
   "metadata": {},
   "source": [
    "Any Programing language which follows the properties of Inheritance, Polymorphism, encapsulation and Abstraction, that language is called as Object oriented programing language(OOPS)"
   ]
  },
  {
   "cell_type": "markdown",
   "id": "b7ff7ef2-9163-4905-a96c-f780bb309edb",
   "metadata": {},
   "source": [
    "## class is a blueprint used to create functions and variables"
   ]
  },
  {
   "cell_type": "code",
   "execution_count": 7,
   "id": "3e652944-b7fb-4867-b142-a6efe19a3da2",
   "metadata": {},
   "outputs": [],
   "source": [
    "# syntax\n",
    "\n",
    "# class class_name():\n",
    "     # properties"
   ]
  },
  {
   "cell_type": "code",
   "execution_count": 9,
   "id": "c00a7445-225c-4042-9b01-437fd50d507a",
   "metadata": {},
   "outputs": [],
   "source": [
    "class Kiwi():\n",
    "    x = 25\n",
    "    \n",
    "    def fun(self,a,b):\n",
    "        print(a+b)"
   ]
  },
  {
   "cell_type": "code",
   "execution_count": null,
   "id": "ce428b8e-fbcf-4d5c-99e0-62e64de87ba0",
   "metadata": {},
   "outputs": [],
   "source": [
    "# object\n",
    "\n",
    "# syntax: obj_name=class_name()\n",
    "# obj_name.data_member"
   ]
  },
  {
   "cell_type": "code",
   "execution_count": 15,
   "id": "1a251a3b-6bf5-451a-9f43-98f5c6e1f728",
   "metadata": {},
   "outputs": [
    {
     "data": {
      "text/plain": [
       "25"
      ]
     },
     "execution_count": 15,
     "metadata": {},
     "output_type": "execute_result"
    }
   ],
   "source": [
    "XYZ=Kiwi()\n",
    "XYZ.x"
   ]
  },
  {
   "cell_type": "code",
   "execution_count": 23,
   "id": "368d1a84-52ec-490c-9181-9e25c80dbec8",
   "metadata": {},
   "outputs": [
    {
     "data": {
      "text/plain": [
       "35"
      ]
     },
     "execution_count": 23,
     "metadata": {},
     "output_type": "execute_result"
    }
   ],
   "source": [
    "class Abcd():\n",
    "    a = 25\n",
    "    b = 10\n",
    "    c = a+b\n",
    "    \n",
    "    def fun(self,y,z):\n",
    "        print(y+z)\n",
    "\n",
    "Hello=Abcd()\n",
    "Hello.c"
   ]
  },
  {
   "cell_type": "code",
   "execution_count": 9,
   "id": "8c3dacb9-49de-4a6d-a8bb-083f3158345c",
   "metadata": {},
   "outputs": [
    {
     "name": "stdout",
     "output_type": "stream",
     "text": [
      "Ranjit\n"
     ]
    }
   ],
   "source": [
    "class Demo:\n",
    "    def set_name(self, name):\n",
    "        self.name = name  \n",
    "    \n",
    "    def get_name(self):\n",
    "        print(self.name)  \n",
    "\n",
    "# Creating an instance of the class\n",
    "obj1 = Demo()\n",
    "\n",
    "# Setting name\n",
    "obj1.set_name(\"Ranjit\")\n",
    "\n",
    "# Getting name\n",
    "obj1.get_name()\n"
   ]
  },
  {
   "cell_type": "code",
   "execution_count": 41,
   "id": "8c0547ba-f874-4e0a-9952-b50839d32433",
   "metadata": {},
   "outputs": [
    {
     "name": "stdout",
     "output_type": "stream",
     "text": [
      "Hey, Everyone, my name is Ranjit, and I am 25, years old. My height is 185 cm, and my weight is 85, I am M\n"
     ]
    }
   ],
   "source": [
    "class Human:\n",
    "    def set_human_details(self,name,age,height,weight,gender):\n",
    "        self.name=name\n",
    "        self.age=age\n",
    "        self.height=height\n",
    "        self.weight=weight\n",
    "        self.gender=gender\n",
    "        \n",
    "    def get_details(self):\n",
    "        print(f\"Hey, Everyone, my name is {self.name}, and I am {self.age}, years old. My height is {self.height}, and my weight is {self.weight}, I am {self.gender}\")\n",
    "        \n",
    "person1=Human()\n",
    "#person2=Human()\n",
    "        \n",
    "person1.set_human_details(\"Ranjit\",25,\"185 cm\",85,\"M\")\n",
    "person1.get_details()                                                                                                                                                                                                                                                                                                                                                                                                                                                                                                                                                                                                                                                                                                                                                                         "
   ]
  },
  {
   "cell_type": "code",
   "execution_count": 49,
   "id": "e2bf705a-4831-49a6-b7d6-c0e2c7d514cf",
   "metadata": {},
   "outputs": [
    {
     "name": "stdout",
     "output_type": "stream",
     "text": [
      "2100cc\n",
      "Mahindra-Thar\n",
      "Diesal\n",
      "5\n",
      "Your car is Mahindra-Thar\n",
      "------- fuel type:Diesal\n",
      "-------- engine:2100cc\n",
      "-------- seating capacity:5\n"
     ]
    }
   ],
   "source": [
    "class car:\n",
    "    def __init__(self,brand,fuel,engine,sitting_capacity):\n",
    "        self.brand = brand\n",
    "        self.fuel = fuel\n",
    "        self.engine = engine\n",
    "        self.sitting_capacity = sitting_capacity\n",
    "\n",
    "    def show_car_details(self):\n",
    "        print(f\"Your car is {self.brand}\")\n",
    "        print(f\"------- fuel type:{self.fuel}\")\n",
    "        print(f\"-------- engine:{self.engine}\")\n",
    "        print(f\"-------- seating capacity:{self.sitting_capacity}\")\n",
    "\n",
    "car1 = car(\"Mahindra-Thar\",\"Diesal\",\"2100cc\",5)\n",
    "print(car1.engine)\n",
    "print(car1.brand)\n",
    "print(car1.fuel)\n",
    "print(car1.sitting_capacity)\n",
    "\n",
    "car1.show_car_details()"
   ]
  },
  {
   "cell_type": "code",
   "execution_count": 63,
   "id": "cde112ef-444d-4f37-943b-7a29e2a29b38",
   "metadata": {},
   "outputs": [
    {
     "name": "stdout",
     "output_type": "stream",
     "text": [
      "Ranjit\n"
     ]
    }
   ],
   "source": [
    "# Medical record system\n",
    "class patient:\n",
    "    def __init__(self,name,age,disease):\n",
    "        self.name=name\n",
    "        self.age=age\n",
    "        self.disease=disease\n",
    "\n",
    "# Public method to access my private attribute\n",
    "    def get_disease(self):\n",
    "        return self.__disease\n",
    "        \n",
    "    def set_disease(self,new_disease):\n",
    "        self.__disease = new_disease\n",
    "        return self.__disease\n",
    "\n",
    "patient1=patient(\"Ranjit\",25,\"Tension\")\n",
    "print(patient1.name)\n",
    "#print(patient1. _age)\n",
    "#print(patient1. __disease)\n",
    "#print(patient1.get_disease(\"Heart-Failure\"))"
   ]
  },
  {
   "cell_type": "code",
   "execution_count": 3,
   "id": "1c94139f-bb76-4928-b199-baa84b24bcf0",
   "metadata": {},
   "outputs": [
    {
     "name": "stdout",
     "output_type": "stream",
     "text": [
      "Hey, I am method from class C\n"
     ]
    }
   ],
   "source": [
    "# Multiple inheritance\n",
    "class A:\n",
    "    def method1(self):\n",
    "        print(\"Hey, I am method from class A\")\n",
    "class B:\n",
    "    def method2(self):\n",
    "        print(\"Hey, I am method from class B\")\n",
    "class C(A,B):\n",
    "    def method3(self):\n",
    "        print(\"Hey, I am method from class C\")\n",
    "\n",
    "obj = C()\n",
    "obj.method3()"
   ]
  },
  {
   "cell_type": "code",
   "execution_count": 7,
   "id": "877bb7de-f88e-40aa-8018-9a5fc8fb0742",
   "metadata": {},
   "outputs": [
    {
     "name": "stdout",
     "output_type": "stream",
     "text": [
      "Developer is writing a code\n",
      "Manager is planning the project\n"
     ]
    }
   ],
   "source": [
    "class Employee:\n",
    "    def work(self):\n",
    "        print(\"Employee is working\")\n",
    "class Developer(Employee):\n",
    "    def work(self):\n",
    "        print(\"Developer is writing a code\")\n",
    "class Manager(Employee):\n",
    "    def work(self):\n",
    "        print(\"Manager is planning the project\")\n",
    "for work in [Developer(),Manager()]:\n",
    "    work.work()"
   ]
  },
  {
   "cell_type": "code",
   "execution_count": 9,
   "id": "258b75c8-6483-42c8-b44d-ea5e64c25ccb",
   "metadata": {},
   "outputs": [
    {
     "name": "stdout",
     "output_type": "stream",
     "text": [
      "b of B\n"
     ]
    }
   ],
   "source": [
    "# single level inheritance\n",
    "class A():\n",
    "    def a(self):\n",
    "        print(\"a of A\")\n",
    "class B():\n",
    "    def b(self):\n",
    "        print(\"b of B\")\n",
    "obj=B()\n",
    "obj.b()"
   ]
  },
  {
   "cell_type": "code",
   "execution_count": 19,
   "id": "9e709501-cb18-4454-a389-1bf9475adbc2",
   "metadata": {},
   "outputs": [
    {
     "name": "stdout",
     "output_type": "stream",
     "text": [
      "Tulu_singh of Cute Tulu\n",
      "Kiwi_singh of Cute Kiwi\n",
      "Tommoy_singh of Cute Tommoy\n"
     ]
    }
   ],
   "source": [
    "#Multi level inheritance\n",
    "class Kiwi():\n",
    "    def Kiwi_singh(self):\n",
    "        print(\"Kiwi_singh of Cute Kiwi\")\n",
    "class Tulu(Kiwi):\n",
    "    def Tulu_singh(self):\n",
    "        print(\"Tulu_singh of Cute Tulu\")\n",
    "class Tommoy(Tulu):\n",
    "    def Tommoy_Singh(self):\n",
    "        print(\"Tommoy_singh of Cute Tommoy\")\n",
    "\n",
    "obj=Kiwi()\n",
    "obj=Tulu()\n",
    "obj=Tommoy()\n",
    "obj.Tulu_singh()\n",
    "obj.Kiwi_singh()\n",
    "obj.Tommoy_Singh()"
   ]
  },
  {
   "cell_type": "code",
   "execution_count": 21,
   "id": "27b9baac-cc6d-40d5-b7bb-034a28796db1",
   "metadata": {},
   "outputs": [
    {
     "name": "stdout",
     "output_type": "stream",
     "text": [
      "b of B\n"
     ]
    }
   ],
   "source": [
    "#Hierarchical Inheritance\n",
    "class A:\n",
    "    def a(self):\n",
    "        print(\"a of A\")\n",
    "class B(A):\n",
    "    def b(self):\n",
    "        print(\"b of B\")\n",
    "class C(A):\n",
    "    def c(self):\n",
    "        print(\"c of C\")\n",
    "\n",
    "obj=B()\n",
    "obj.b()"
   ]
  },
  {
   "cell_type": "code",
   "execution_count": 23,
   "id": "91e140a7-2a4a-4b5b-b68a-8d96d42357ae",
   "metadata": {},
   "outputs": [
    {
     "name": "stdout",
     "output_type": "stream",
     "text": [
      "I am B\n"
     ]
    }
   ],
   "source": [
    "#Hybrid\n",
    "class A():\n",
    "    def a(self):\n",
    "        print(\"I am A\")\n",
    "class B(A):\n",
    "    def a(self):\n",
    "        print(\"I am B\")\n",
    "class C(B):\n",
    "    def b(self):\n",
    "        print(\"I am C\")\n",
    "class D(A):\n",
    "    def d(self):\n",
    "        print(\"I am D\")\n",
    "class E(B):\n",
    "    def b(self):\n",
    "        print(\"I am E\")\n",
    "\n",
    "obj=E()\n",
    "obj.a()"
   ]
  },
  {
   "cell_type": "code",
   "execution_count": null,
   "id": "2f2b0606-b8b2-4121-bba7-3ebd6ff54cc7",
   "metadata": {},
   "outputs": [],
   "source": []
  }
 ],
 "metadata": {
  "kernelspec": {
   "display_name": "Python 3 (ipykernel)",
   "language": "python",
   "name": "python3"
  },
  "language_info": {
   "codemirror_mode": {
    "name": "ipython",
    "version": 3
   },
   "file_extension": ".py",
   "mimetype": "text/x-python",
   "name": "python",
   "nbconvert_exporter": "python",
   "pygments_lexer": "ipython3",
   "version": "3.12.4"
  }
 },
 "nbformat": 4,
 "nbformat_minor": 5
}
