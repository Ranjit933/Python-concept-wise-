{
 "cells": [
  {
   "cell_type": "code",
   "execution_count": 2,
   "id": "13976218",
   "metadata": {},
   "outputs": [],
   "source": [
    "# T test"
   ]
  },
  {
   "cell_type": "code",
   "execution_count": null,
   "id": "61feae89",
   "metadata": {},
   "outputs": [],
   "source": [
    "The average salary of an Indian IT worker is approximately $100 and this survey has been conducted \n",
    "in 2019. If I take a new survey and 30 participants in 2025, we find out that their average salary is $140 with a \n",
    "standard deviation of $20. Can you calculate whether the salaries have significantly changed or not and can you \n",
    "do this at a 95% confidence interval, state alternate and null hypothesis for the given question?"
   ]
  },
  {
   "cell_type": "code",
   "execution_count": null,
   "id": "104e3f1b",
   "metadata": {},
   "outputs": [],
   "source": [
    "null = average salary is still 100 dollars (mu = 100), it is still the same no significant difference\n",
    "alternate = average salary is no longer 100 dollars (mu != 100), there is significant difference in salaries"
   ]
  },
  {
   "cell_type": "code",
   "execution_count": 19,
   "id": "d1fade9a",
   "metadata": {},
   "outputs": [
    {
     "name": "stdout",
     "output_type": "stream",
     "text": [
      "t_statistic : -10.954451150103322\n",
      "\n",
      "degrees_of_freedom : 29\n",
      "\n",
      "t_critical_upper_bound : 2.0452296421327034 || t_critical_lower_bound:-2.0452296421327034\n",
      "\n",
      "p_value : 8.021361352916756e-12\n",
      "\n",
      "Reject H0 : average salary is no longer 100 dollars (mu != 100), there is significant difference in salaries\n"
     ]
    }
   ],
   "source": [
    "from scipy import stats\n",
    "import numpy as np\n",
    "\n",
    "#data\n",
    "sample_mean = 60\n",
    "sample_std = 20\n",
    "n = 30\n",
    "population_mean = 100\n",
    "alpha = 0.05\n",
    "\n",
    "#step-1 t_statistic\n",
    "t_statistic = (sample_mean - population_mean) / (sample_std / np.sqrt(n))\n",
    "print(f\"t_statistic : {t_statistic}\\n\")\n",
    "\n",
    "#step-1 degree of freedom\n",
    "degrees_of_freedom = n - 1\n",
    "print(f\"degrees_of_freedom : {degrees_of_freedom}\\n\")\n",
    "\n",
    "#ctitical value\n",
    "t_critical_upper_bound = stats.t.ppf(1 - alpha/2, degrees_of_freedom)\n",
    "t_critical_lower_bound = stats.t.ppf(alpha/2, degrees_of_freedom)\n",
    "\n",
    "print(f\"t_critical_upper_bound : {t_critical_upper_bound} || t_critical_lower_bound:{t_critical_lower_bound}\\n\")\n",
    "\n",
    "p_value = 2 * (1 - stats.t.cdf(abs(t_statistic), degrees_of_freedom))\n",
    "print(f\"p_value : {p_value}\\n\")\n",
    "\n",
    "#universal code\n",
    "if p_value < alpha:\n",
    "    print(\"Reject H0 : average salary is no longer 100 dollars (mu != 100), there is significant difference in salaries\")\n",
    "else:\n",
    "    print(\"Accept H0 : average salary is still 100 dollars (mu = 100), it is still the same no significant difference\")"
   ]
  },
  {
   "cell_type": "code",
   "execution_count": null,
   "id": "85dac6d6",
   "metadata": {},
   "outputs": [],
   "source": [
    "A factory that manufactures shampoo has a machine that dispenses 80 mL of shampoo in a bottle. \n",
    "Now an employee believes that the machine is not working properly. He takes a sample of \n",
    "40 bottles and find out that the machine is giving 78 ML on an average of all the shampoo bottles \n",
    "with a population standard deviation of 2.5 ML, can you state the null and alternate hypothesis at 95% confidence interval and provide enough enough evidence to prove that the machine is either working properly or not \n",
    "working properly"
   ]
  },
  {
   "cell_type": "code",
   "execution_count": null,
   "id": "f945027a",
   "metadata": {},
   "outputs": [],
   "source": [
    "# null = average quantity of shampoo in bottle is = 80ml (Machine working fine!)\n",
    "# alternate = average quantity of shampoo in bottle is != 80ml (Machine is not working fine!)\n",
    "\n",
    "# (>,<) # two tail z test"
   ]
  },
  {
   "cell_type": "code",
   "execution_count": 32,
   "id": "332f48fa",
   "metadata": {},
   "outputs": [
    {
     "name": "stdout",
     "output_type": "stream",
     "text": [
      "z_statistic : -1.2649110640673518\n",
      "\n",
      "p_value : 0.2059032107320684\n",
      "\n",
      "Accept H0 : average quantity of shampoo in bottle is = 80ml (Machine working fine!)\n"
     ]
    }
   ],
   "source": [
    "#lib\n",
    "from scipy import stats\n",
    "import numpy as np\n",
    "\n",
    "\n",
    "#data  0.5 ml ok, >0.5 sense\n",
    "population_mean = 80\n",
    "sample_mean = 79.5  #2ml\n",
    "std_dev = 2.5\n",
    "n = 40\n",
    "alpha = 0.05\n",
    "\n",
    "z_statistic = (sample_mean - population_mean) / (std_dev / np.sqrt(n))\n",
    "print(f\"z_statistic : {z_statistic}\\n\")\n",
    "\n",
    "# #you do not need critical value in code\n",
    "# z_critial_value = stats.norm.ppf(1 - alpha/2)\n",
    "# print(f\"z_critial_value : {z_critial_value}\")\n",
    "\n",
    "p_value = 2 * (1 - stats.norm.cdf(abs(z_statistic)))\n",
    "print(f\"p_value : {p_value}\\n\")\n",
    "\n",
    "\n",
    "#universal code\n",
    "if p_value < alpha:\n",
    "    print(\"Reject H0 : average quantity of shampoo in bottle is != 80ml (Machine is not working fine!)\")\n",
    "else:\n",
    "    print(\"Accept H0 : average quantity of shampoo in bottle is = 80ml (Machine working fine!)\")"
   ]
  },
  {
   "cell_type": "code",
   "execution_count": null,
   "id": "13559bc3",
   "metadata": {},
   "outputs": [],
   "source": [
    "In a sample survey conducted in Bangalore, it is found that 960 people out of 1860 people were vegetarian and the\n",
    "rest \n",
    "were non-taste whether both vegetarian and non-vegetarian are equally popular and in same proportion and \n",
    "at 1% level of significance"
   ]
  },
  {
   "cell_type": "code",
   "execution_count": 34,
   "id": "6c8acaf7",
   "metadata": {},
   "outputs": [
    {
     "name": "stdout",
     "output_type": "stream",
     "text": [
      "z_critial_value : 2.5758293035489004\n"
     ]
    }
   ],
   "source": [
    "alpha = 0.01\n",
    "# #you do not need critical value in code\n",
    "z_critial_value = stats.norm.ppf(1 - alpha/2)\n",
    "print(f\"z_critial_value : {z_critial_value}\")"
   ]
  },
  {
   "cell_type": "code",
   "execution_count": null,
   "id": "7b0a5a5a",
   "metadata": {},
   "outputs": [],
   "source": [
    "null = veg and non veg are equall popular (50-50)\n",
    "alterna = veg and non veg are not equall popular (not 50-50)"
   ]
  },
  {
   "cell_type": "code",
   "execution_count": 35,
   "id": "78c7669a",
   "metadata": {},
   "outputs": [
    {
     "name": "stdout",
     "output_type": "stream",
     "text": [
      "Accept H0 : veg and non veg are equall popular (50-50)\n"
     ]
    }
   ],
   "source": [
    "import numpy as np\n",
    "from statsmodels.stats.proportion import proportions_ztest\n",
    "\n",
    "veg_count = 960\n",
    "tot_pop = 1860\n",
    "\n",
    "p_hat = veg_count / tot_pop\n",
    "\n",
    "alpha=0.01\n",
    "\n",
    "z_statistic, p_value = proportions_ztest(count=veg_count,\n",
    "                                        nobs=tot_pop,\n",
    "                                        value=0.50,\n",
    "                                        alternative='two-sided')\n",
    "\n",
    "\n",
    "\n",
    "#universal code\n",
    "if p_value < alpha:\n",
    "    print(\"Reject H0 : veg and non veg are not equall popular (not 50-50) \")\n",
    "else:\n",
    "    print(\"Accept H0 : veg and non veg are equall popular (50-50)\")"
   ]
  },
  {
   "cell_type": "code",
   "execution_count": 37,
   "id": "7057b9e8",
   "metadata": {},
   "outputs": [
    {
     "name": "stdout",
     "output_type": "stream",
     "text": [
      "Accept H0 : veg and non veg are equall popular (21-79)\n"
     ]
    }
   ],
   "source": [
    "import numpy as np\n",
    "from statsmodels.stats.proportion import proportions_ztest\n",
    "\n",
    "veg_count = 400\n",
    "tot_pop = 1860\n",
    "\n",
    "p_hat = veg_count / tot_pop\n",
    "\n",
    "alpha=0.01\n",
    "\n",
    "z_statistic, p_value = proportions_ztest(count=veg_count,\n",
    "                                        nobs=tot_pop,\n",
    "                                        value=0.21,\n",
    "                                        alternative='two-sided')\n",
    "\n",
    "\n",
    "\n",
    "#universal code\n",
    "if p_value < alpha:\n",
    "    print(\"Reject H0 : veg and non veg are not equall popular (not 21-79) \")\n",
    "else:\n",
    "    print(\"Accept H0 : veg and non veg are equall popular (21-79)\")"
   ]
  },
  {
   "cell_type": "code",
   "execution_count": 38,
   "id": "8427c80c",
   "metadata": {},
   "outputs": [],
   "source": [
    "#break the prob"
   ]
  },
  {
   "cell_type": "code",
   "execution_count": null,
   "id": "959987a8",
   "metadata": {},
   "outputs": [],
   "source": [
    "null = var oreo = var parle (equall variances)\n",
    "alternate = var oreo != var parle (unequall variances)  (two tailed test)"
   ]
  },
  {
   "cell_type": "code",
   "execution_count": 46,
   "id": "e446aca7",
   "metadata": {},
   "outputs": [
    {
     "name": "stdout",
     "output_type": "stream",
     "text": [
      "var_oreo : 10.0\n",
      "var_parle : 9.0\n",
      "f_statistic : 1.1111111111111112\n",
      "p_value : 0.8450844722222652\n",
      "Accept H0 : var oreo = var parle (equall variances) \n"
     ]
    }
   ],
   "source": [
    "#lib\n",
    "import numpy as np\n",
    "from scipy.stats import f\n",
    "\n",
    "sample_size_oreo = 10\n",
    "sample_size_parle = 13\n",
    "sample_mean_oreo = 15\n",
    "sample_mean_parle = 14\n",
    "SSD_oreo = 90\n",
    "SSD_parle = 108\n",
    "alpha = 0.05\n",
    "\n",
    "df_o = sample_size_oreo - 1\n",
    "df_p = sample_size_parle - 1\n",
    "\n",
    "var_oreo = SSD_oreo / (sample_size_oreo - 1)\n",
    "var_parle = SSD_parle / (sample_size_parle - 1)\n",
    "\n",
    "print(f\"var_oreo : {var_oreo}\")\n",
    "print(f\"var_parle : {var_parle}\")\n",
    "\n",
    "f_statistic = max(var_oreo, var_parle) / min(var_oreo, var_parle)\n",
    "print(f\"f_statistic : {f_statistic}\")\n",
    "\n",
    "p_value = 2 * (1 - f.cdf(f_statistic,df_o,df_p))\n",
    "print(f\"p_value : {p_value}\")\n",
    "\n",
    "#universal code\n",
    "if p_value < alpha:\n",
    "    print(\"Reject H0 : var oreo != var parle (unequall variances) \")\n",
    "else:\n",
    "    print(\"Accept H0 : var oreo = var parle (equall variances) \")"
   ]
  },
  {
   "cell_type": "code",
   "execution_count": 47,
   "id": "dce8e72b",
   "metadata": {},
   "outputs": [],
   "source": [
    "#anova\n",
    "\n",
    "null : fert a = fert b = fert c (equall in growth no signigicant diffrence)\n",
    "alt : fert a != fert b != fert c ( signigicant diffrence in growth)\n",
    "    \n",
    "    \n",
    "alpha = 0.05 #confidence interval = 95%"
   ]
  },
  {
   "cell_type": "code",
   "execution_count": 50,
   "id": "9840655d",
   "metadata": {},
   "outputs": [
    {
     "name": "stdout",
     "output_type": "stream",
     "text": [
      "f_statistic : 20.235099337748334\n",
      "p_value  : 4.269715761720122e-06\n",
      "Reject H0 : fert a != fert b != fert c ( signigicant diffrence in growth) \n"
     ]
    }
   ],
   "source": [
    "from scipy.stats import f_oneway\n",
    "\n",
    "fertilizer_A = [12, 13, 15, 14, 16, 13, 15, 14, 15, 13]\n",
    "fertilizer_B = [14, 15, 16, 15, 17, 15, 16, 14, 16, 15]\n",
    "fertilizer_C = [11, 12, 13, 12, 14, 12, 13, 11, 13, 12]\n",
    "\n",
    "f_statistic, p_value = f_oneway(fertilizer_A, fertilizer_B, fertilizer_C)\n",
    "print(f\"f_statistic : {f_statistic}\")\n",
    "print(f\"p_value  : {p_value }\")\n",
    "\n",
    "#universal code\n",
    "if p_value < alpha:\n",
    "    print(\"Reject H0 : fert a != fert b != fert c ( signigicant diffrence in growth) \")\n",
    "else:\n",
    "    print(\"Accept H0 : fert a = fert b = fert c (equall in growth no signigicant diffrence) \")"
   ]
  },
  {
   "cell_type": "code",
   "execution_count": 54,
   "id": "fd3ec028",
   "metadata": {},
   "outputs": [
    {
     "name": "stdout",
     "output_type": "stream",
     "text": [
      "f_statistic : 7.2049861495844905\n",
      "p_value  : 0.0031080938667800576\n",
      "Reject H0 : fert a != fert b != fert c ( signigicant diffrence in growth) \n"
     ]
    }
   ],
   "source": [
    "from scipy.stats import f_oneway\n",
    "\n",
    "fertilizer_A = [12, 13, 15, 14, 16, 13, 15, 14, 15, 13]\n",
    "fertilizer_B = [12, 13, 15, 14, 16, 13, 15, 14, 15, 13]\n",
    "fertilizer_C = [11, 12, 13, 12, 14, 12, 13, 11, 13, 12]\n",
    "\n",
    "f_statistic, p_value = f_oneway(fertilizer_A, fertilizer_B, fertilizer_C)\n",
    "print(f\"f_statistic : {f_statistic}\")\n",
    "print(f\"p_value  : {p_value }\")\n",
    "\n",
    "#universal code\n",
    "if p_value < alpha:\n",
    "    print(\"Reject H0 : fert a != fert b != fert c ( signigicant diffrence in growth) \")\n",
    "else:\n",
    "    print(\"Accept H0 : fert a = fert b = fert c (equall in growth no signigicant diffrence) \")"
   ]
  },
  {
   "cell_type": "code",
   "execution_count": 51,
   "id": "d16714cb",
   "metadata": {},
   "outputs": [
    {
     "data": {
      "text/plain": [
       "14.0"
      ]
     },
     "execution_count": 51,
     "metadata": {},
     "output_type": "execute_result"
    }
   ],
   "source": [
    "np.mean(fertilizer_A)"
   ]
  },
  {
   "cell_type": "code",
   "execution_count": 52,
   "id": "b6731742",
   "metadata": {},
   "outputs": [
    {
     "data": {
      "text/plain": [
       "15.3"
      ]
     },
     "execution_count": 52,
     "metadata": {},
     "output_type": "execute_result"
    }
   ],
   "source": [
    "np.mean(fertilizer_B)"
   ]
  },
  {
   "cell_type": "code",
   "execution_count": 53,
   "id": "e0cf7ad5",
   "metadata": {},
   "outputs": [
    {
     "data": {
      "text/plain": [
       "12.3"
      ]
     },
     "execution_count": 53,
     "metadata": {},
     "output_type": "execute_result"
    }
   ],
   "source": [
    "np.mean(fertilizer_C)"
   ]
  },
  {
   "cell_type": "code",
   "execution_count": 55,
   "id": "4af9f933",
   "metadata": {},
   "outputs": [],
   "source": [
    "#chi2 test"
   ]
  },
  {
   "cell_type": "code",
   "execution_count": 56,
   "id": "703ca376",
   "metadata": {},
   "outputs": [],
   "source": [
    "from scipy.stats import chi2"
   ]
  },
  {
   "cell_type": "code",
   "execution_count": null,
   "id": "1391d144",
   "metadata": {},
   "outputs": [],
   "source": [
    "null = ob = ex (purchase)\n",
    "alt = ob != ex (do not purchase)"
   ]
  },
  {
   "cell_type": "code",
   "execution_count": 63,
   "id": "25127770",
   "metadata": {},
   "outputs": [
    {
     "name": "stdout",
     "output_type": "stream",
     "text": [
      "critical_chi : 9.487729036781154\n",
      "p_value : 5.420830721480918e-05\n",
      "Reject H0 : ob != ex (do not purchase) \n"
     ]
    }
   ],
   "source": [
    "# observed = [23, 16, 14, 19, 28]\n",
    "# expected = [20, 20, 20, 20, 20]\n",
    "\n",
    "# chi_stats = 0\n",
    "# for observed_val, expected_val in zip(observed, expected):\n",
    "#     chi_stats += ((observed_val - expected_val)**2)/expected_val\n",
    "# chi_stats\n",
    "\n",
    "\n",
    "observed = np.array([23, 16, 14, 19, 28])\n",
    "expected = np.array([35, 28, 30, 29, 40])\n",
    "# expected = np.array([20, 20, 20, 20, 20])\n",
    "\n",
    "chi_stats = np.sum((observed - expected)**2/expected)\n",
    "chi_stats\n",
    "\n",
    "\n",
    "alpha = 0.05\n",
    "df = 4\n",
    "critical_chi = chi2.ppf(1 - alpha, df)\n",
    "print(f\"critical_chi : {critical_chi}\")\n",
    "\n",
    "\n",
    "p_value = 1 - chi2.cdf(chi_stats, df)\n",
    "print(f\"p_value : {p_value}\")\n",
    "\n",
    "\n",
    "#universal code\n",
    "if p_value < alpha:\n",
    "    print(\"Reject H0 : ob != ex (do not purchase) \")\n",
    "else:\n",
    "    print(\"Accept H0 : ob = ex (purchase) \")"
   ]
  },
  {
   "cell_type": "code",
   "execution_count": null,
   "id": "b381df9a",
   "metadata": {},
   "outputs": [],
   "source": []
  }
 ],
 "metadata": {
  "kernelspec": {
   "display_name": "Python 3 (ipykernel)",
   "language": "python",
   "name": "python3"
  },
  "language_info": {
   "codemirror_mode": {
    "name": "ipython",
    "version": 3
   },
   "file_extension": ".py",
   "mimetype": "text/x-python",
   "name": "python",
   "nbconvert_exporter": "python",
   "pygments_lexer": "ipython3",
   "version": "3.11.4"
  }
 },
 "nbformat": 4,
 "nbformat_minor": 5
}
