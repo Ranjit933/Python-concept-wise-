{
 "cells": [
  {
   "cell_type": "code",
   "execution_count": 1,
   "id": "43678b31-6247-4280-ad26-190711d9a0e8",
   "metadata": {},
   "outputs": [
    {
     "data": {
      "text/plain": [
       "array([[ 1,  2,  3,  4],\n",
       "       [ 5,  6,  7,  8],\n",
       "       [ 9, 10, 11, 12],\n",
       "       [13, 14, 15, 16],\n",
       "       [17, 18, 19, 20],\n",
       "       [21, 22, 23, 24]])"
      ]
     },
     "execution_count": 1,
     "metadata": {},
     "output_type": "execute_result"
    }
   ],
   "source": [
    "import numpy as np\n",
    "ar1 = np.arange(1,25).reshape(6,4)\n",
    "ar1"
   ]
  },
  {
   "cell_type": "code",
   "execution_count": 3,
   "id": "5842972e-9a15-4c75-8ac4-12271f383663",
   "metadata": {},
   "outputs": [
    {
     "data": {
      "text/plain": [
       "array([[ 9, 10, 11, 12],\n",
       "       [13, 14, 15, 16],\n",
       "       [17, 18, 19, 20],\n",
       "       [21, 22, 23, 24]])"
      ]
     },
     "execution_count": 3,
     "metadata": {},
     "output_type": "execute_result"
    }
   ],
   "source": []
  },
  {
   "cell_type": "code",
   "execution_count": null,
   "id": "c2d28695-b2ac-468b-ae05-adc541984ee5",
   "metadata": {},
   "outputs": [],
   "source": [
    "# 10 11 \n",
    "# 14 15"
   ]
  },
  {
   "cell_type": "code",
   "execution_count": 2,
   "id": "5f2d2ed2-e9a3-43b2-a7a9-cab2f7f264ed",
   "metadata": {},
   "outputs": [
    {
     "data": {
      "text/plain": [
       "array([[10, 11],\n",
       "       [14, 15]])"
      ]
     },
     "execution_count": 2,
     "metadata": {},
     "output_type": "execute_result"
    }
   ],
   "source": [
    "ar1[2:4, 1:3]"
   ]
  },
  {
   "cell_type": "code",
   "execution_count": null,
   "id": "90489e9b-b8d2-4ff9-b6ff-4d6c484567a8",
   "metadata": {},
   "outputs": [],
   "source": [
    "# if either start / end value is not given python automatically picks 0 and last values as default"
   ]
  },
  {
   "cell_type": "code",
   "execution_count": null,
   "id": "b3102d2c-18eb-441f-b5d5-1932a344a587",
   "metadata": {},
   "outputs": [],
   "source": [
    "# [9, 10, 11, 12],\n",
    "# [13, 14, 15, 16],\n",
    "# [17, 18, 19, 20],\n",
    "# [21, 22, 23, 24]"
   ]
  },
  {
   "cell_type": "code",
   "execution_count": 4,
   "id": "589f508e-4202-4fff-b94a-eb222e0ef11f",
   "metadata": {},
   "outputs": [
    {
     "data": {
      "text/plain": [
       "array([[ 9, 10, 11, 12],\n",
       "       [13, 14, 15, 16],\n",
       "       [17, 18, 19, 20],\n",
       "       [21, 22, 23, 24]])"
      ]
     },
     "execution_count": 4,
     "metadata": {},
     "output_type": "execute_result"
    }
   ],
   "source": [
    "ar1[2:6, 0:4]"
   ]
  },
  {
   "cell_type": "code",
   "execution_count": 5,
   "id": "08434514-ec64-4803-acc8-3b33e611a22a",
   "metadata": {},
   "outputs": [
    {
     "data": {
      "text/plain": [
       "array([[ 9, 10, 11, 12],\n",
       "       [13, 14, 15, 16],\n",
       "       [17, 18, 19, 20],\n",
       "       [21, 22, 23, 24]])"
      ]
     },
     "execution_count": 5,
     "metadata": {},
     "output_type": "execute_result"
    }
   ],
   "source": [
    "ar1[2:6,0:] # no end value is given so python considers from zero till last"
   ]
  },
  {
   "cell_type": "code",
   "execution_count": 6,
   "id": "cb00162f-ff0e-4eda-b1e8-fd540635f612",
   "metadata": {},
   "outputs": [
    {
     "data": {
      "text/plain": [
       "array([[ 9, 10, 11, 12],\n",
       "       [13, 14, 15, 16],\n",
       "       [17, 18, 19, 20],\n",
       "       [21, 22, 23, 24]])"
      ]
     },
     "execution_count": 6,
     "metadata": {},
     "output_type": "execute_result"
    }
   ],
   "source": [
    "ar1[2:,0:] # no end value is given so python considers from zero till last"
   ]
  },
  {
   "cell_type": "code",
   "execution_count": 9,
   "id": "5e6036ab-a748-4a10-9047-4bfa6ded8c02",
   "metadata": {},
   "outputs": [
    {
     "data": {
      "text/plain": [
       "array([[ 9, 10, 11, 12],\n",
       "       [13, 14, 15, 16],\n",
       "       [17, 18, 19, 20],\n",
       "       [21, 22, 23, 24]])"
      ]
     },
     "execution_count": 9,
     "metadata": {},
     "output_type": "execute_result"
    }
   ],
   "source": [
    "ar1[2:,:] # no start/end value is given so python considers from startting till last"
   ]
  },
  {
   "cell_type": "code",
   "execution_count": 8,
   "id": "10661eb4-cf95-4e36-b752-5124d94a1c12",
   "metadata": {},
   "outputs": [
    {
     "data": {
      "text/plain": [
       "array([[ 9, 10, 11, 12],\n",
       "       [13, 14, 15, 16],\n",
       "       [17, 18, 19, 20],\n",
       "       [21, 22, 23, 24]])"
      ]
     },
     "execution_count": 8,
     "metadata": {},
     "output_type": "execute_result"
    }
   ],
   "source": [
    "ar1[2:] # no end value is given so python considers from zero till last\n",
    "# when no value given for columns --> It's supposed to return everything in columns"
   ]
  },
  {
   "cell_type": "code",
   "execution_count": 10,
   "id": "efb253b3-ac0b-4959-88a8-ef83184a05de",
   "metadata": {},
   "outputs": [
    {
     "data": {
      "text/plain": [
       "array([[ 3,  4],\n",
       "       [ 7,  8],\n",
       "       [11, 12],\n",
       "       [15, 16],\n",
       "       [19, 20],\n",
       "       [23, 24]])"
      ]
     },
     "execution_count": 10,
     "metadata": {},
     "output_type": "execute_result"
    }
   ],
   "source": [
    "ar1[:,2:]# no end value is given so python considers from zero till last\n",
    "# when no value given for rows --> It's supposed to return everything in rows"
   ]
  },
  {
   "cell_type": "code",
   "execution_count": null,
   "id": "80746981-1b7d-43ab-ba08-d2794bf4126e",
   "metadata": {},
   "outputs": [],
   "source": []
  },
  {
   "cell_type": "code",
   "execution_count": 14,
   "id": "97d6f2a5-0602-4767-9ad4-3ce07aa2d48a",
   "metadata": {},
   "outputs": [
    {
     "data": {
      "text/plain": [
       "array([ 1,  2,  3,  4,  5,  6,  7,  8,  9, 10, 11, 12, 13, 14, 15, 16, 17,\n",
       "       18, 19, 20, 21, 22, 23, 24])"
      ]
     },
     "execution_count": 14,
     "metadata": {},
     "output_type": "execute_result"
    }
   ],
   "source": [
    "ar1 = np.arange(1,25)\n",
    "ar1"
   ]
  },
  {
   "cell_type": "code",
   "execution_count": 12,
   "id": "5ae6a41e-13a0-4d59-b1ca-22226f927722",
   "metadata": {},
   "outputs": [
    {
     "ename": "IndexError",
     "evalue": "too many indices for array: array is 1-dimensional, but 2 were indexed",
     "output_type": "error",
     "traceback": [
      "\u001b[1;31m---------------------------------------------------------------------------\u001b[0m",
      "\u001b[1;31mIndexError\u001b[0m                                Traceback (most recent call last)",
      "Cell \u001b[1;32mIn[12], line 1\u001b[0m\n\u001b[1;32m----> 1\u001b[0m ar1[\u001b[38;5;241m2\u001b[39m:,\u001b[38;5;241m1\u001b[39m:]\n",
      "\u001b[1;31mIndexError\u001b[0m: too many indices for array: array is 1-dimensional, but 2 were indexed"
     ]
    }
   ],
   "source": [
    "ar1[2:,1:]"
   ]
  },
  {
   "cell_type": "code",
   "execution_count": 16,
   "id": "f03801a3-0298-4c1b-a2f7-c3288dfbb8e9",
   "metadata": {},
   "outputs": [
    {
     "data": {
      "text/plain": [
       "array([[10, 11, 12],\n",
       "       [14, 15, 16],\n",
       "       [18, 19, 20],\n",
       "       [22, 23, 24]])"
      ]
     },
     "execution_count": 16,
     "metadata": {},
     "output_type": "execute_result"
    }
   ],
   "source": [
    "ar2 = ar1.reshape(6,4)\n",
    "ar2[2:,1:]"
   ]
  },
  {
   "cell_type": "code",
   "execution_count": null,
   "id": "2b375792-64be-4682-a930-86833e9ef1c4",
   "metadata": {},
   "outputs": [],
   "source": []
  },
  {
   "cell_type": "code",
   "execution_count": null,
   "id": "2a2b3117-97c1-47e1-aabd-ea0294c177de",
   "metadata": {},
   "outputs": [],
   "source": [
    "# shape : used when you wanted to check how many rows and columns are there in array\n",
    "# reshape: used when converting one array shape into another one"
   ]
  },
  {
   "cell_type": "code",
   "execution_count": null,
   "id": "59523c33-215a-42bd-8089-a43db6179486",
   "metadata": {},
   "outputs": [],
   "source": []
  },
  {
   "cell_type": "markdown",
   "id": "b25ca786-6d9d-4d79-a5c5-afb762749a59",
   "metadata": {},
   "source": [
    "#### Array Manipulation"
   ]
  },
  {
   "cell_type": "code",
   "execution_count": 17,
   "id": "3f108f4d-0723-46fc-bd60-e4465d9aa4f7",
   "metadata": {},
   "outputs": [
    {
     "data": {
      "text/plain": [
       "array([[50, 60],\n",
       "       [70, 80]])"
      ]
     },
     "execution_count": 17,
     "metadata": {},
     "output_type": "execute_result"
    }
   ],
   "source": [
    "ar1 = np.array([[10,20],[30,40]])\n",
    "ar2 = np.array([[50,60],[70,80]])\n",
    "ar2"
   ]
  },
  {
   "cell_type": "code",
   "execution_count": 18,
   "id": "f1737043-e83c-4ade-8da4-24aa930594bb",
   "metadata": {},
   "outputs": [
    {
     "data": {
      "text/plain": [
       "array([[10, 20],\n",
       "       [30, 40]])"
      ]
     },
     "execution_count": 18,
     "metadata": {},
     "output_type": "execute_result"
    }
   ],
   "source": [
    "ar1"
   ]
  },
  {
   "cell_type": "code",
   "execution_count": 20,
   "id": "d5fc03db-2bed-4659-abe8-bdbc38f36ecb",
   "metadata": {},
   "outputs": [
    {
     "data": {
      "text/plain": [
       "array([[10, 20],\n",
       "       [30, 40],\n",
       "       [50, 60],\n",
       "       [70, 80]])"
      ]
     },
     "execution_count": 20,
     "metadata": {},
     "output_type": "execute_result"
    }
   ],
   "source": [
    "np.concatenate([ar1,ar2], axis = 0) # combine two arrays on rows\n",
    "# before ar1 , ar2 individually has only two rows in each \n",
    "# ar1 --> 2,2 \n",
    "# ar2 --> 2,2 \n",
    "# conca --> 4, 2"
   ]
  },
  {
   "cell_type": "code",
   "execution_count": 23,
   "id": "d3c42ef0-5a68-4714-92a5-96310b7f2f99",
   "metadata": {},
   "outputs": [
    {
     "data": {
      "text/plain": [
       "array([[10, 20],\n",
       "       [30, 40],\n",
       "       [50, 60],\n",
       "       [70, 80]])"
      ]
     },
     "execution_count": 23,
     "metadata": {},
     "output_type": "execute_result"
    }
   ],
   "source": [
    "np.vstack([ar1,ar2])"
   ]
  },
  {
   "cell_type": "code",
   "execution_count": 24,
   "id": "12ac784c-38df-4e40-b5e6-bbadbb51ffa7",
   "metadata": {},
   "outputs": [
    {
     "data": {
      "text/plain": [
       "array([[10, 20],\n",
       "       [30, 40],\n",
       "       [50, 60],\n",
       "       [70, 80]])"
      ]
     },
     "execution_count": 24,
     "metadata": {},
     "output_type": "execute_result"
    }
   ],
   "source": [
    "np.row_stack([ar1,ar2])"
   ]
  },
  {
   "cell_type": "code",
   "execution_count": 22,
   "id": "4cb44ba9-552a-40f7-8320-939c8b12007f",
   "metadata": {},
   "outputs": [
    {
     "data": {
      "text/plain": [
       "array([[10, 20, 50, 60],\n",
       "       [30, 40, 70, 80]])"
      ]
     },
     "execution_count": 22,
     "metadata": {},
     "output_type": "execute_result"
    }
   ],
   "source": [
    "np.concatenate([ar1,ar2], axis = 1) # combine two arrays on columns\n",
    "# 2, 4"
   ]
  },
  {
   "cell_type": "code",
   "execution_count": 25,
   "id": "4fe4fa4f-1950-4b01-9642-887caf0ca4a8",
   "metadata": {},
   "outputs": [
    {
     "data": {
      "text/plain": [
       "array([[10, 20, 50, 60],\n",
       "       [30, 40, 70, 80]])"
      ]
     },
     "execution_count": 25,
     "metadata": {},
     "output_type": "execute_result"
    }
   ],
   "source": [
    "np.hstack([ar1,ar2])"
   ]
  },
  {
   "cell_type": "code",
   "execution_count": 26,
   "id": "d6dbc4ff-5fe7-4b1e-b2d8-36ea0b081205",
   "metadata": {},
   "outputs": [
    {
     "data": {
      "text/plain": [
       "array([[10, 20, 50, 60],\n",
       "       [30, 40, 70, 80]])"
      ]
     },
     "execution_count": 26,
     "metadata": {},
     "output_type": "execute_result"
    }
   ],
   "source": [
    "np.column_stack([ar1,ar2])"
   ]
  },
  {
   "cell_type": "code",
   "execution_count": 27,
   "id": "b3c8abf3-4546-4734-975e-51d538ef901a",
   "metadata": {},
   "outputs": [
    {
     "data": {
      "text/plain": [
       "array([[10, 20, 50, 60, 10, 20],\n",
       "       [30, 40, 70, 80, 30, 40]])"
      ]
     },
     "execution_count": 27,
     "metadata": {},
     "output_type": "execute_result"
    }
   ],
   "source": [
    "ar3 = np.concatenate([ar1,ar2,ar1], axis = 1)\n",
    "ar3 # creating dummy array"
   ]
  },
  {
   "cell_type": "code",
   "execution_count": 28,
   "id": "49ec4871-faf1-4ebc-98d4-73f243803a06",
   "metadata": {},
   "outputs": [
    {
     "data": {
      "text/plain": [
       "[array([[10, 20],\n",
       "        [30, 40]]),\n",
       " array([[50, 60],\n",
       "        [70, 80]]),\n",
       " array([[10, 20],\n",
       "        [30, 40]])]"
      ]
     },
     "execution_count": 28,
     "metadata": {},
     "output_type": "execute_result"
    }
   ],
   "source": [
    "np.hsplit(ar3,3) # split your array into 3 equal portions"
   ]
  },
  {
   "cell_type": "code",
   "execution_count": 29,
   "id": "4dd687fa-7c59-45e3-aa23-f9a08f1e190d",
   "metadata": {},
   "outputs": [
    {
     "data": {
      "text/plain": [
       "array([ 1,  2,  3,  4,  5,  6,  7,  8,  9, 10, 11, 12, 13, 14, 15, 16, 17,\n",
       "       18, 19, 20, 21, 22, 23, 24])"
      ]
     },
     "execution_count": 29,
     "metadata": {},
     "output_type": "execute_result"
    }
   ],
   "source": [
    "ar1 = np.arange(1,25)\n",
    "ar1"
   ]
  },
  {
   "cell_type": "code",
   "execution_count": 30,
   "id": "c29225dc-7b3a-4afd-8167-c27d51ec731d",
   "metadata": {},
   "outputs": [
    {
     "data": {
      "text/plain": [
       "24"
      ]
     },
     "execution_count": 30,
     "metadata": {},
     "output_type": "execute_result"
    }
   ],
   "source": [
    "ar1.size"
   ]
  },
  {
   "cell_type": "code",
   "execution_count": null,
   "id": "a1c63d2c-3d36-4bbe-b1f0-3f46b26944b5",
   "metadata": {},
   "outputs": [],
   "source": [
    "# rows * columns == ar1.size"
   ]
  },
  {
   "cell_type": "code",
   "execution_count": 31,
   "id": "5d2232ed-ab45-4e7e-80a2-31f8f3f7ca6a",
   "metadata": {},
   "outputs": [
    {
     "data": {
      "text/plain": [
       "array([[ 1,  2,  3,  4,  5,  6,  7,  8],\n",
       "       [ 9, 10, 11, 12, 13, 14, 15, 16],\n",
       "       [17, 18, 19, 20, 21, 22, 23, 24]])"
      ]
     },
     "execution_count": 31,
     "metadata": {},
     "output_type": "execute_result"
    }
   ],
   "source": [
    "ar1.reshape(3,8)"
   ]
  },
  {
   "cell_type": "code",
   "execution_count": 34,
   "id": "ef645a4f-5614-43ad-af3d-04196cb291cb",
   "metadata": {},
   "outputs": [
    {
     "ename": "ValueError",
     "evalue": "cannot reshape array of size 24 into shape (5,newaxis)",
     "output_type": "error",
     "traceback": [
      "\u001b[1;31m---------------------------------------------------------------------------\u001b[0m",
      "\u001b[1;31mValueError\u001b[0m                                Traceback (most recent call last)",
      "Cell \u001b[1;32mIn[34], line 1\u001b[0m\n\u001b[1;32m----> 1\u001b[0m ar1\u001b[38;5;241m.\u001b[39mreshape(\u001b[38;5;241m5\u001b[39m,\u001b[38;5;241m-\u001b[39m\u001b[38;5;241m1\u001b[39m)\n",
      "\u001b[1;31mValueError\u001b[0m: cannot reshape array of size 24 into shape (5,newaxis)"
     ]
    }
   ],
   "source": [
    "ar1.reshape(3,-1) # -1 indicates one parameter is unknows and asking python to replace it with suitable value \n",
    "# in one reshape only single -1 is possible "
   ]
  },
  {
   "cell_type": "code",
   "execution_count": 33,
   "id": "dff99fba-636e-4b6f-bfc4-b7246f05412b",
   "metadata": {},
   "outputs": [
    {
     "ename": "ValueError",
     "evalue": "can only specify one unknown dimension",
     "output_type": "error",
     "traceback": [
      "\u001b[1;31m---------------------------------------------------------------------------\u001b[0m",
      "\u001b[1;31mValueError\u001b[0m                                Traceback (most recent call last)",
      "Cell \u001b[1;32mIn[33], line 1\u001b[0m\n\u001b[1;32m----> 1\u001b[0m ar1\u001b[38;5;241m.\u001b[39mreshape(\u001b[38;5;241m-\u001b[39m\u001b[38;5;241m1\u001b[39m,\u001b[38;5;241m-\u001b[39m\u001b[38;5;241m1\u001b[39m)\n",
      "\u001b[1;31mValueError\u001b[0m: can only specify one unknown dimension"
     ]
    }
   ],
   "source": [
    "ar1.reshape(-1,-1)"
   ]
  }
 ],
 "metadata": {
  "kernelspec": {
   "display_name": "Python 3 (ipykernel)",
   "language": "python",
   "name": "python3"
  },
  "language_info": {
   "codemirror_mode": {
    "name": "ipython",
    "version": 3
   },
   "file_extension": ".py",
   "mimetype": "text/x-python",
   "name": "python",
   "nbconvert_exporter": "python",
   "pygments_lexer": "ipython3",
   "version": "3.11.7"
  },
  "widgets": {
   "application/vnd.jupyter.widget-state+json": {
    "state": {},
    "version_major": 2,
    "version_minor": 0
   }
  }
 },
 "nbformat": 4,
 "nbformat_minor": 5
}
