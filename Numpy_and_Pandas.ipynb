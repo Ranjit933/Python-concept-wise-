{
  "cells": [
    {
      "cell_type": "markdown",
      "id": "744d0bde",
      "metadata": {
        "id": "744d0bde"
      },
      "source": [
        "Todays agenda\n",
        "Introduction to numpy\n",
        "create numpy\n",
        "functions of numpy\n",
        "array\n",
        "types of array"
      ]
    },
    {
      "cell_type": "markdown",
      "id": "2cb7af47",
      "metadata": {
        "id": "2cb7af47"
      },
      "source": [
        "# what is numpy"
      ]
    },
    {
      "cell_type": "markdown",
      "id": "7539d92f",
      "metadata": {
        "id": "7539d92f"
      },
      "source": [
        "numpy is a numerical python and\n",
        "it is a very powerful library in python for numerical computing\n",
        "mainly useful for working on datasets and performing mathematical cal"
      ]
    },
    {
      "cell_type": "code",
      "execution_count": null,
      "id": "1f6ad25c",
      "metadata": {
        "id": "1f6ad25c"
      },
      "outputs": [],
      "source": [
        "list - it helps in storing different types of data , heterogeneous\n",
        "disadavanatge\n",
        "it consumes large memory\n",
        "computation time is very high\n",
        "cant perform any arithmetic operators"
      ]
    },
    {
      "cell_type": "code",
      "execution_count": null,
      "id": "f8642e1a",
      "metadata": {
        "id": "f8642e1a"
      },
      "outputs": [],
      "source": [
        "numpy introduces array\n",
        "-store data which are of same data type\n",
        "-homogenous data\n",
        "-it consumes less memory\n",
        "-compuatation time is less\n",
        "-can perform arithmatic operators as well\n"
      ]
    },
    {
      "cell_type": "code",
      "execution_count": null,
      "id": "c3d4744e",
      "metadata": {
        "id": "c3d4744e"
      },
      "outputs": [],
      "source": [
        "import numpy as np"
      ]
    },
    {
      "cell_type": "code",
      "execution_count": null,
      "id": "09b98d2d",
      "metadata": {
        "id": "09b98d2d",
        "outputId": "9cae991c-f4d7-486a-9fa7-fa4ffa0eac74"
      },
      "outputs": [
        {
          "name": "stdout",
          "output_type": "stream",
          "text": [
            "Requirement already satisfied: numpy in c:\\users\\hp\\anaconda3\\lib\\site-packages (1.22.4)\n",
            "Note: you may need to restart the kernel to use updated packages.\n"
          ]
        }
      ],
      "source": [
        "pip install numpy"
      ]
    },
    {
      "cell_type": "code",
      "execution_count": null,
      "id": "85288050",
      "metadata": {
        "id": "85288050",
        "outputId": "21a3d083-a4ed-47c4-e6fc-8bc1576df4a5"
      },
      "outputs": [
        {
          "name": "stdout",
          "output_type": "stream",
          "text": [
            "1.22.4\n"
          ]
        }
      ],
      "source": [
        "import numpy as np\n",
        "print(np.__version__)"
      ]
    },
    {
      "cell_type": "code",
      "execution_count": null,
      "id": "cc5e453c",
      "metadata": {
        "id": "cc5e453c",
        "outputId": "c77462e2-e5de-4fb5-ba23-856d835b2dd9"
      },
      "outputs": [
        {
          "name": "stdout",
          "output_type": "stream",
          "text": [
            "[1, 'xyz', 8.0, 7]\n"
          ]
        }
      ],
      "source": [
        "#list is heterogenous\n",
        "x = [1,\"xyz\",8.0,7]\n",
        "print(x)"
      ]
    },
    {
      "cell_type": "code",
      "execution_count": null,
      "id": "cfefecd3",
      "metadata": {
        "id": "cfefecd3",
        "outputId": "906fe35d-70ab-4abc-e0ce-fce2270c9c18"
      },
      "outputs": [
        {
          "name": "stdout",
          "output_type": "stream",
          "text": [
            "['1' '2' '3' '8.0' 'yyy']\n",
            "<U32\n"
          ]
        }
      ],
      "source": [
        "#array is homogenous\n",
        "import numpy as np\n",
        "x = np.array([1,2,3,8.0,\"yyy\"])   # int,float,string - yyy -??\n",
        "print(x)\n",
        "print(x.dtype)"
      ]
    },
    {
      "cell_type": "code",
      "execution_count": null,
      "id": "ba5eb902",
      "metadata": {
        "id": "ba5eb902",
        "outputId": "c824b88f-1f99-42f2-ef67-34d1f8214dbd"
      },
      "outputs": [
        {
          "name": "stdout",
          "output_type": "stream",
          "text": [
            "[1 2 3]\n",
            "int32\n"
          ]
        }
      ],
      "source": [
        "x = np.array([1,2,3])\n",
        "print(x)\n",
        "print(x.dtype)"
      ]
    },
    {
      "cell_type": "code",
      "execution_count": null,
      "id": "2557f3ea",
      "metadata": {
        "id": "2557f3ea"
      },
      "outputs": [],
      "source": [
        "# 1 - int---- 1.0 - float\n",
        "3.5 - ???"
      ]
    },
    {
      "cell_type": "code",
      "execution_count": null,
      "id": "a70c5bcb",
      "metadata": {
        "id": "a70c5bcb"
      },
      "outputs": [],
      "source": [
        "#create array\n",
        "list\n",
        "tuple"
      ]
    },
    {
      "cell_type": "code",
      "execution_count": null,
      "id": "64c135d7",
      "metadata": {
        "id": "64c135d7",
        "outputId": "6d3fdbdf-af0e-43e5-8396-22692c062585"
      },
      "outputs": [
        {
          "name": "stdout",
          "output_type": "stream",
          "text": [
            "[1 2 3 4 5]\n"
          ]
        }
      ],
      "source": [
        "#using list\n",
        "x = np.array([1,2,3,4,5])\n",
        "print(x)"
      ]
    },
    {
      "cell_type": "code",
      "execution_count": null,
      "id": "3a691e1a",
      "metadata": {
        "id": "3a691e1a",
        "outputId": "1fb67852-9f84-4d97-f2da-da20b3586444"
      },
      "outputs": [
        {
          "name": "stdout",
          "output_type": "stream",
          "text": [
            "[1 2 3 4 5]\n"
          ]
        }
      ],
      "source": [
        "#using tuple\n",
        "import numpy as np\n",
        "x = np.array((1,2,3,4,5))\n",
        "print(x)"
      ]
    },
    {
      "cell_type": "markdown",
      "id": "7befbe71",
      "metadata": {
        "id": "7befbe71"
      },
      "source": [
        "types of array -\n",
        "o dimension array\n",
        "1 dimension array\n",
        "2 dimension array\n",
        "3 dimension array\n",
        "n dimension array"
      ]
    },
    {
      "cell_type": "code",
      "execution_count": null,
      "id": "477b58c8",
      "metadata": {
        "id": "477b58c8",
        "outputId": "b667a68b-dd6f-418d-de68-a9e20046e181"
      },
      "outputs": [
        {
          "name": "stdout",
          "output_type": "stream",
          "text": [
            "10\n",
            "0\n"
          ]
        }
      ],
      "source": [
        "#o dimension\n",
        "a = np.array(10)\n",
        "print(a)\n",
        "print(a.ndim)"
      ]
    },
    {
      "cell_type": "code",
      "execution_count": null,
      "id": "2d38f4bf",
      "metadata": {
        "id": "2d38f4bf",
        "outputId": "8b49aaa1-62ec-4450-ca12-3fc10549868e"
      },
      "outputs": [
        {
          "name": "stdout",
          "output_type": "stream",
          "text": [
            "[10 20 30 40 50]\n",
            "1\n"
          ]
        }
      ],
      "source": [
        "#1dimension\n",
        "a = np.array([10,20,30,40,50])\n",
        "print(a)\n",
        "print(a.ndim)"
      ]
    },
    {
      "cell_type": "code",
      "execution_count": null,
      "id": "3e84847b",
      "metadata": {
        "id": "3e84847b",
        "outputId": "be920e07-6e40-4d9c-e329-bf1c577c4c00"
      },
      "outputs": [
        {
          "name": "stdout",
          "output_type": "stream",
          "text": [
            "[[10 20]\n",
            " [30 40]]\n",
            "2\n"
          ]
        }
      ],
      "source": [
        "#2d\n",
        "a =np.array([[10,20],[30,40]])\n",
        "print(a)\n",
        "print(a.ndim)"
      ]
    },
    {
      "cell_type": "code",
      "execution_count": null,
      "id": "9426e5e9",
      "metadata": {
        "id": "9426e5e9",
        "outputId": "91fc6d91-abe6-450e-c468-090411b81963"
      },
      "outputs": [
        {
          "name": "stdout",
          "output_type": "stream",
          "text": [
            "[[[10 20]\n",
            "  [30 50]\n",
            "  [60 70]\n",
            "  [80 90]]]\n",
            "3\n"
          ]
        }
      ],
      "source": [
        "#3d\n",
        "a = np.array([[[10,20],[30,50],[60,70],[80,90]]])\n",
        "print(a)\n",
        "print(a.ndim)"
      ]
    },
    {
      "cell_type": "code",
      "execution_count": null,
      "id": "6307fc61",
      "metadata": {
        "id": "6307fc61",
        "outputId": "aab8734d-c6f1-4fde-ae8f-8367ff3c18e8"
      },
      "outputs": [
        {
          "data": {
            "text/plain": [
              "8"
            ]
          },
          "execution_count": 41,
          "metadata": {},
          "output_type": "execute_result"
        }
      ],
      "source": [
        "#indexing\n",
        "list1 = [1,2,3,4,5,6,7,8]\n",
        "a = np.array(list1)\n",
        "a[-1]"
      ]
    },
    {
      "cell_type": "code",
      "execution_count": null,
      "id": "c1b0a25b",
      "metadata": {
        "id": "c1b0a25b",
        "outputId": "542e78ce-bce4-4669-dcd4-4284ab71747b"
      },
      "outputs": [
        {
          "name": "stdout",
          "output_type": "stream",
          "text": [
            "[[1 2]\n",
            " [3 4]\n",
            " [5 6]]\n"
          ]
        }
      ],
      "source": [
        "#Reshape function\n",
        "#1d-2d\n",
        "a = np.array([1,2,3,4,5,6])\n",
        "b = a.reshape((3,2))  #6 elements - 2* 3, 3*2,6*1,1*6\n",
        "print(b)"
      ]
    },
    {
      "cell_type": "code",
      "execution_count": null,
      "id": "d034237d",
      "metadata": {
        "id": "d034237d",
        "outputId": "106b5de9-b042-4ac8-dcff-427ca1de2c8a"
      },
      "outputs": [
        {
          "name": "stdout",
          "output_type": "stream",
          "text": [
            "[1 2 3 4]\n"
          ]
        }
      ],
      "source": [
        "#2d -1d\n",
        "a = np.array([[1,2],[3,4]])\n",
        "b = a.reshape(-1)\n",
        "print(b)"
      ]
    },
    {
      "cell_type": "code",
      "execution_count": null,
      "id": "650942db",
      "metadata": {
        "id": "650942db"
      },
      "outputs": [],
      "source": [
        "#matrix operations using numpy\n",
        "np.full() - will create a numpy array of n dimesions  and will fill it with one element completrely\n",
        "np.zeros()- will fill with zeros\n",
        "np.ones()- will fill with ones\n",
        "np.identity() - will create a identity matrix of n*n size\n",
        "np.eye() - will create m*n matrix"
      ]
    },
    {
      "cell_type": "code",
      "execution_count": null,
      "id": "72d04861",
      "metadata": {
        "id": "72d04861",
        "outputId": "849144ab-3edd-45f2-e5f3-173261761b96"
      },
      "outputs": [
        {
          "name": "stdout",
          "output_type": "stream",
          "text": [
            "[[7 7 7]\n",
            " [7 7 7]]\n"
          ]
        }
      ],
      "source": [
        "a = np.full((2,3),7)\n",
        "print(a)"
      ]
    },
    {
      "cell_type": "code",
      "execution_count": null,
      "id": "84f97ac3",
      "metadata": {
        "id": "84f97ac3",
        "outputId": "19d6c5e8-bbdc-4569-b1b6-3a4a6ccc12eb"
      },
      "outputs": [
        {
          "name": "stdout",
          "output_type": "stream",
          "text": [
            "[[0. 0.]\n",
            " [0. 0.]\n",
            " [0. 0.]]\n"
          ]
        }
      ],
      "source": [
        "a = np.zeros((3,2))\n",
        "print(a)"
      ]
    },
    {
      "cell_type": "code",
      "execution_count": null,
      "id": "30974ed8",
      "metadata": {
        "id": "30974ed8",
        "outputId": "d58b059e-710b-4ac8-d379-f11b7b7a7647"
      },
      "outputs": [
        {
          "name": "stdout",
          "output_type": "stream",
          "text": [
            "[[1. 1. 1. 1. 1.]\n",
            " [1. 1. 1. 1. 1.]\n",
            " [1. 1. 1. 1. 1.]\n",
            " [1. 1. 1. 1. 1.]]\n"
          ]
        }
      ],
      "source": [
        "c = np.ones((4,5))\n",
        "print(c)"
      ]
    },
    {
      "cell_type": "code",
      "execution_count": null,
      "id": "2a9fa8bc",
      "metadata": {
        "id": "2a9fa8bc",
        "outputId": "c411fd4d-b65b-42eb-9f24-7ad1bd6681c2"
      },
      "outputs": [
        {
          "name": "stdout",
          "output_type": "stream",
          "text": [
            "[[1. 0. 0.]\n",
            " [0. 1. 0.]\n",
            " [0. 0. 1.]]\n"
          ]
        }
      ],
      "source": [
        "d = np.identity(3)#n*n\n",
        "print(d)"
      ]
    },
    {
      "cell_type": "code",
      "execution_count": null,
      "id": "af899f2a",
      "metadata": {
        "id": "af899f2a",
        "outputId": "6a97552e-c22f-48ea-ebb4-f9e7bc5f9ee9"
      },
      "outputs": [
        {
          "name": "stdout",
          "output_type": "stream",
          "text": [
            "[[1. 0. 0. 0. 0. 0. 0. 0. 0.]\n",
            " [0. 1. 0. 0. 0. 0. 0. 0. 0.]\n",
            " [0. 0. 1. 0. 0. 0. 0. 0. 0.]\n",
            " [0. 0. 0. 1. 0. 0. 0. 0. 0.]]\n"
          ]
        }
      ],
      "source": [
        "e = np.eye(4,9)#m*n\n",
        "print(e)"
      ]
    },
    {
      "cell_type": "code",
      "execution_count": null,
      "id": "efbb0ee5",
      "metadata": {
        "id": "efbb0ee5"
      },
      "outputs": [],
      "source": [
        "#random functions in numpy\n",
        "1.randint\n",
        "2.random\n",
        "3.linspace\n",
        "4.arange"
      ]
    },
    {
      "cell_type": "code",
      "execution_count": null,
      "id": "e305781d",
      "metadata": {
        "id": "e305781d",
        "outputId": "69deb7ad-35dc-4224-a9b2-c25a68e30210"
      },
      "outputs": [
        {
          "name": "stdout",
          "output_type": "stream",
          "text": [
            "72\n"
          ]
        }
      ],
      "source": [
        "#randint\n",
        "x = np.random.randint(1,100)\n",
        "print(x)"
      ]
    },
    {
      "cell_type": "markdown",
      "id": "8574eb5d",
      "metadata": {
        "id": "8574eb5d"
      },
      "source": [
        "#training any data - 70%\n",
        "testing -30%\n",
        "\n",
        "100% data - 1-70 machine, 70-30 test\n",
        "1-100 1-10,11-20,20-30"
      ]
    },
    {
      "cell_type": "code",
      "execution_count": null,
      "id": "1ed747cb",
      "metadata": {
        "id": "1ed747cb",
        "outputId": "409c5c3d-d050-406b-d1b7-0b5df951d055"
      },
      "outputs": [
        {
          "name": "stdout",
          "output_type": "stream",
          "text": [
            "[[0.85388249 0.32838288 0.65014668]\n",
            " [0.34054268 0.87756375 0.82843194]]\n"
          ]
        }
      ],
      "source": [
        "y = np.random.random((2,3)) #0-1\n",
        "print(y)"
      ]
    },
    {
      "cell_type": "code",
      "execution_count": null,
      "id": "521fbb90",
      "metadata": {
        "id": "521fbb90"
      },
      "outputs": [],
      "source": [
        "1000 marks\n",
        "20 marks -a\n",
        "950 - marks b\n",
        "0-1"
      ]
    },
    {
      "cell_type": "code",
      "execution_count": null,
      "id": "74614b51",
      "metadata": {
        "id": "74614b51",
        "outputId": "4bf4dc97-4414-4544-ca05-cce48b05453f"
      },
      "outputs": [
        {
          "name": "stdout",
          "output_type": "stream",
          "text": [
            "[0.         0.35714286 0.71428571 1.07142857 1.42857143 1.78571429\n",
            " 2.14285714 2.5        2.85714286 3.21428571 3.57142857 3.92857143\n",
            " 4.28571429 4.64285714 5.        ]\n"
          ]
        }
      ],
      "source": [
        "z = np.linspace(0,5,num =15)\n",
        "print(z)"
      ]
    },
    {
      "cell_type": "code",
      "execution_count": null,
      "id": "25516e36",
      "metadata": {
        "id": "25516e36",
        "outputId": "dbe9475e-d90e-48b1-b62c-12d4078911f9"
      },
      "outputs": [
        {
          "name": "stdout",
          "output_type": "stream",
          "text": [
            "[0 2 4 6 8]\n"
          ]
        }
      ],
      "source": [
        "x = np.arange(0,10,2) #start,stop,step\n",
        "print(x)"
      ]
    },
    {
      "cell_type": "code",
      "execution_count": null,
      "id": "8c76f4ad",
      "metadata": {
        "id": "8c76f4ad",
        "outputId": "a0232621-030d-4c22-d2de-d9308f781e79"
      },
      "outputs": [
        {
          "name": "stdout",
          "output_type": "stream",
          "text": [
            "[5 7 9]\n"
          ]
        }
      ],
      "source": [
        "#Arithmetic operators on arrays(+,-,*,/,//,%)\n",
        "import numpy as np\n",
        "a = np.array([1,2,3])\n",
        "b = np.array([4,5,6])\n",
        "result = a+b\n",
        "print(result)"
      ]
    },
    {
      "cell_type": "code",
      "execution_count": null,
      "id": "3e029f75",
      "metadata": {
        "id": "3e029f75",
        "outputId": "623e342e-d10f-4846-aaeb-b228498a78e4"
      },
      "outputs": [
        {
          "name": "stdout",
          "output_type": "stream",
          "text": [
            "[-3 -3 -3]\n"
          ]
        }
      ],
      "source": [
        "result = a-b\n",
        "print(result)"
      ]
    },
    {
      "cell_type": "code",
      "execution_count": null,
      "id": "22d34e0a",
      "metadata": {
        "id": "22d34e0a",
        "outputId": "6c353e8d-f147-41eb-fb53-f19a863e2125"
      },
      "outputs": [
        {
          "name": "stdout",
          "output_type": "stream",
          "text": [
            "[ 4 10 18]\n"
          ]
        }
      ],
      "source": [
        "result = a*b\n",
        "print(result)"
      ]
    },
    {
      "cell_type": "code",
      "execution_count": null,
      "id": "21246df0",
      "metadata": {
        "id": "21246df0",
        "outputId": "f68e33e3-92cb-42fe-b04c-3508e6219fec"
      },
      "outputs": [
        {
          "name": "stdout",
          "output_type": "stream",
          "text": [
            "[0.25 0.4  0.5 ]\n"
          ]
        }
      ],
      "source": [
        "result = a/b\n",
        "print(result)"
      ]
    },
    {
      "cell_type": "code",
      "execution_count": null,
      "id": "27ea39fa",
      "metadata": {
        "id": "27ea39fa",
        "outputId": "78823631-799a-4f81-afce-51924a38f2cf"
      },
      "outputs": [
        {
          "name": "stdout",
          "output_type": "stream",
          "text": [
            "[0 0 0]\n"
          ]
        }
      ],
      "source": [
        "result = a//b\n",
        "print(result)"
      ]
    },
    {
      "cell_type": "code",
      "execution_count": null,
      "id": "0b92fcfa",
      "metadata": {
        "id": "0b92fcfa",
        "outputId": "0679f984-5dfb-4ea7-e0ef-4eb081d45dde"
      },
      "outputs": [
        {
          "name": "stdout",
          "output_type": "stream",
          "text": [
            "[1 2 3]\n"
          ]
        }
      ],
      "source": [
        "result = a%b\n",
        "print(result)"
      ]
    },
    {
      "cell_type": "markdown",
      "id": "7c4b9ffb",
      "metadata": {
        "id": "7c4b9ffb"
      },
      "source": [
        "#broadcasting numpy\n",
        "simple rule\n",
        "2d array, 1d array\n",
        "2d array"
      ]
    },
    {
      "cell_type": "code",
      "execution_count": null,
      "id": "cd4546e7",
      "metadata": {
        "colab": {
          "base_uri": "https://localhost:8080/"
        },
        "id": "cd4546e7",
        "outputId": "b3206a87-48da-4c92-de38-32e76059cbd5"
      },
      "outputs": [
        {
          "output_type": "stream",
          "name": "stdout",
          "text": [
            "[[11 22 33]\n",
            " [14 25 36]]\n"
          ]
        }
      ],
      "source": [
        "import numpy as np\n",
        "a = np.array([[1,2,3],[4,5,6]])\n",
        "b = np.array([10,20,30])\n",
        "result = a+b\n",
        "print(result)"
      ]
    },
    {
      "cell_type": "code",
      "execution_count": null,
      "id": "2b8d8df4",
      "metadata": {
        "id": "2b8d8df4",
        "outputId": "08759e5c-c0be-4a9b-ae8c-13473dd209ce"
      },
      "outputs": [
        {
          "name": "stdout",
          "output_type": "stream",
          "text": [
            "[[ -9 -18 -27]\n",
            " [ -6 -15 -24]]\n"
          ]
        }
      ],
      "source": [
        "result = a-b\n",
        "print(result)"
      ]
    },
    {
      "cell_type": "code",
      "execution_count": null,
      "id": "64111f24",
      "metadata": {
        "id": "64111f24",
        "outputId": "8baec594-43b3-4b15-b165-cb296e53000b"
      },
      "outputs": [
        {
          "name": "stdout",
          "output_type": "stream",
          "text": [
            "[[1 2 3]\n",
            " [4 5 6]]\n"
          ]
        }
      ],
      "source": [
        "#sum\n",
        "a = np.array([[1,2,3],[4,5,6]])\n",
        "print(a)"
      ]
    },
    {
      "cell_type": "code",
      "execution_count": null,
      "id": "12f3b2fe",
      "metadata": {
        "id": "12f3b2fe",
        "outputId": "1181ce17-8ebc-49d3-cf72-f47e118d4b4d"
      },
      "outputs": [
        {
          "name": "stdout",
          "output_type": "stream",
          "text": [
            "21\n"
          ]
        }
      ],
      "source": [
        "x = np.sum(a)\n",
        "print(x)"
      ]
    },
    {
      "cell_type": "code",
      "execution_count": null,
      "id": "8482b995",
      "metadata": {
        "id": "8482b995",
        "outputId": "5261ecda-7858-48b7-98f7-b3099478d4c9"
      },
      "outputs": [
        {
          "name": "stdout",
          "output_type": "stream",
          "text": [
            "[ 6 15]\n"
          ]
        }
      ],
      "source": [
        "#along rows = axis =1\n",
        "#along columns = axis =0\n",
        "y =np.sum(a, axis = 1)\n",
        "print(y)"
      ]
    },
    {
      "cell_type": "code",
      "execution_count": null,
      "id": "d28e1e58",
      "metadata": {
        "id": "d28e1e58",
        "outputId": "53904574-2a6e-47bd-b5ef-1fe31d8de94a"
      },
      "outputs": [
        {
          "name": "stdout",
          "output_type": "stream",
          "text": [
            "[5 7 9]\n"
          ]
        }
      ],
      "source": [
        "y =np.sum(a, axis = 0)\n",
        "print(y)"
      ]
    },
    {
      "cell_type": "code",
      "execution_count": null,
      "id": "2cd3da42",
      "metadata": {
        "id": "2cd3da42",
        "outputId": "d71a5139-ffc6-428f-e9f2-2f9d7c6daf18"
      },
      "outputs": [
        {
          "name": "stdout",
          "output_type": "stream",
          "text": [
            "3.5\n"
          ]
        }
      ],
      "source": [
        "#np.mean\n",
        "import numpy as np\n",
        "a = np.array([[1,2,3],[4,5,6]]) #1+2+3+4+5+6 = 21/6 = 3.5\n",
        "x = np.mean(a)\n",
        "print(x)"
      ]
    },
    {
      "cell_type": "code",
      "execution_count": null,
      "id": "f3955760",
      "metadata": {
        "id": "f3955760",
        "outputId": "e9a39c10-da62-4dba-f993-9deda8c7fa27"
      },
      "outputs": [
        {
          "name": "stdout",
          "output_type": "stream",
          "text": [
            "[2. 5.]\n"
          ]
        }
      ],
      "source": [
        "y = np.mean(a,axis =1) #3+2+1 = 6 ---6/3----2\n",
        "print(y)"
      ]
    },
    {
      "cell_type": "code",
      "execution_count": null,
      "id": "0df9de15",
      "metadata": {
        "id": "0df9de15",
        "outputId": "91791ddf-d22e-47d4-b574-ed35c7540a53"
      },
      "outputs": [
        {
          "name": "stdout",
          "output_type": "stream",
          "text": [
            "1.707825127659933\n"
          ]
        }
      ],
      "source": [
        "#np.std  --- mean (3.5 - 1)^2 2.5, 3.5 -2  = 255 =\n",
        "import numpy as np\n",
        "a = np.array([[1,2,3],[4,5,6]])\n",
        "x= np.std(a)\n",
        "print(x)"
      ]
    },
    {
      "cell_type": "markdown",
      "id": "c8691912",
      "metadata": {
        "id": "c8691912"
      },
      "source": [
        "---std #sqrt of variance =std"
      ]
    },
    {
      "cell_type": "code",
      "execution_count": null,
      "id": "32b831b1",
      "metadata": {
        "id": "32b831b1",
        "outputId": "119f22a7-653f-4cc8-ffec-1b81cfdd5eb8"
      },
      "outputs": [
        {
          "name": "stdout",
          "output_type": "stream",
          "text": [
            "2.9166666666666665\n"
          ]
        }
      ],
      "source": [
        "#variance\n",
        "np.var\n",
        "a = np.array([[1,2,3],[4,5,6]])\n",
        "x= np.var(a)\n",
        "print(x)"
      ]
    },
    {
      "cell_type": "code",
      "execution_count": null,
      "id": "4376cd29",
      "metadata": {
        "id": "4376cd29"
      },
      "outputs": [],
      "source": [
        "#np.sqrt()\n",
        "#np.exp()"
      ]
    },
    {
      "cell_type": "code",
      "execution_count": null,
      "id": "b292ef30",
      "metadata": {
        "id": "b292ef30",
        "outputId": "dcfc8ca4-f001-4e9c-b2da-fcd760125c97"
      },
      "outputs": [
        {
          "name": "stdout",
          "output_type": "stream",
          "text": [
            "[0 1 2 3 4 6 7 8 9]\n"
          ]
        }
      ],
      "source": [
        "#np.sort\n",
        "a = np.array([3,1,4,6,2,7,9,0,8])\n",
        "x= np.sort(a)\n",
        "print(x)"
      ]
    },
    {
      "cell_type": "code",
      "execution_count": null,
      "id": "e513a103",
      "metadata": {
        "id": "e513a103",
        "outputId": "ac22d3fb-14a1-4f17-8349-fe3cc1055817"
      },
      "outputs": [
        {
          "name": "stdout",
          "output_type": "stream",
          "text": [
            "[0 1 2 3]\n"
          ]
        }
      ],
      "source": [
        "#argsort- for knowing the index values\n",
        "b = np.array([1,2,3,4])  #4,5,6,7,8 # 0,1,2,3,4\n",
        "x = np.argsort(b)\n",
        "print(x)"
      ]
    },
    {
      "cell_type": "code",
      "execution_count": null,
      "id": "346ac387",
      "metadata": {
        "id": "346ac387"
      },
      "outputs": [],
      "source": []
    },
    {
      "cell_type": "markdown",
      "id": "5784499c",
      "metadata": {
        "id": "5784499c"
      },
      "source": [
        "# Pandas"
      ]
    },
    {
      "cell_type": "markdown",
      "id": "f07bfabd",
      "metadata": {
        "id": "f07bfabd"
      },
      "source": [
        "-powerfull and flexible open source data analysis and adata manipulation\n",
        "-panel data- word came from\n",
        "-easy handling\n",
        "-manipulation of data structures\n",
        "real life uses\n",
        "retail sales analysis\n",
        "-finance\n",
        "-healthcare"
      ]
    },
    {
      "cell_type": "markdown",
      "id": "05501056",
      "metadata": {
        "id": "05501056"
      },
      "source": [
        "-series\n",
        "-data frame"
      ]
    },
    {
      "cell_type": "code",
      "execution_count": null,
      "id": "f80714b6",
      "metadata": {
        "id": "f80714b6"
      },
      "outputs": [],
      "source": [
        "#series\n",
        "-1d array\n",
        "-hold any type of data\n",
        "-homogenous\n",
        "-very easy to access and manipulate tha data\n",
        "-labeled data"
      ]
    },
    {
      "cell_type": "code",
      "execution_count": null,
      "id": "3250609d",
      "metadata": {
        "id": "3250609d"
      },
      "outputs": [],
      "source": [
        "#data frame\n",
        "data frame - 2d\n",
        "-size is mutable\n",
        "-heterogenous- multiple col - 1,2,3\n",
        "-age, name,height- int,str,float\n",
        "-tabular data structure with labeled axis(rows and columns)"
      ]
    },
    {
      "cell_type": "code",
      "execution_count": null,
      "id": "0b9ec531",
      "metadata": {
        "id": "0b9ec531"
      },
      "outputs": [],
      "source": [
        "#how to create pandas\n",
        "import pandas as pd"
      ]
    },
    {
      "cell_type": "code",
      "execution_count": null,
      "id": "30517ef2",
      "metadata": {
        "id": "30517ef2",
        "outputId": "8502199c-6a46-4482-9754-40098b3b4875"
      },
      "outputs": [
        {
          "name": "stdout",
          "output_type": "stream",
          "text": [
            "Requirement already satisfied: pandas in c:\\users\\hp\\anaconda3\\lib\\site-packages (1.4.2)\n",
            "Requirement already satisfied: pytz>=2020.1 in c:\\users\\hp\\anaconda3\\lib\\site-packages (from pandas) (2021.3)\n",
            "Requirement already satisfied: numpy>=1.18.5 in c:\\users\\hp\\anaconda3\\lib\\site-packages (from pandas) (1.22.4)\n",
            "Requirement already satisfied: python-dateutil>=2.8.1 in c:\\users\\hp\\anaconda3\\lib\\site-packages (from pandas) (2.8.2)\n",
            "Requirement already satisfied: six>=1.5 in c:\\users\\hp\\anaconda3\\lib\\site-packages (from python-dateutil>=2.8.1->pandas) (1.16.0)\n",
            "Note: you may need to restart the kernel to use updated packages.\n"
          ]
        }
      ],
      "source": [
        "pip install pandas"
      ]
    },
    {
      "cell_type": "code",
      "execution_count": null,
      "id": "3c56997e",
      "metadata": {
        "id": "3c56997e",
        "outputId": "d0f396d5-c986-4593-d060-f2aa80424a99"
      },
      "outputs": [
        {
          "name": "stdout",
          "output_type": "stream",
          "text": [
            "1.4.2\n"
          ]
        }
      ],
      "source": [
        "print(pd.__version__)"
      ]
    },
    {
      "cell_type": "code",
      "execution_count": null,
      "id": "0edf26e1",
      "metadata": {
        "id": "0edf26e1",
        "outputId": "4ec71c29-46d9-4000-e985-206e759652c3"
      },
      "outputs": [
        {
          "name": "stdout",
          "output_type": "stream",
          "text": [
            "0    10\n",
            "1    20\n",
            "2    30\n",
            "3    40\n",
            "4    50\n",
            "dtype: int64\n"
          ]
        }
      ],
      "source": [
        "import pandas as pd\n",
        "#list\n",
        "x = [10,20,30,40,50]\n",
        "y = pd.Series(x)\n",
        "print(y)"
      ]
    },
    {
      "cell_type": "code",
      "execution_count": null,
      "id": "2d5d9b8a",
      "metadata": {
        "id": "2d5d9b8a",
        "outputId": "c433887a-2f68-4de2-ca35-0bdb50ae4fc4"
      },
      "outputs": [
        {
          "name": "stdout",
          "output_type": "stream",
          "text": [
            "0    10\n",
            "1    20\n",
            "2    30\n",
            "3    40\n",
            "4    50\n",
            "dtype: int64\n"
          ]
        }
      ],
      "source": [
        "a =  (10,20,30,40,50)#tuple\n",
        "b = pd.Series(a)\n",
        "print(b)\n"
      ]
    },
    {
      "cell_type": "code",
      "execution_count": null,
      "id": "5b469f38",
      "metadata": {
        "id": "5b469f38",
        "outputId": "f45c1024-f21a-4a4d-de31-e45de0589644"
      },
      "outputs": [
        {
          "name": "stdout",
          "output_type": "stream",
          "text": [
            "0    50\n",
            "1    20\n",
            "2    40\n",
            "3    10\n",
            "4    30\n",
            "dtype: int64\n"
          ]
        }
      ],
      "source": [
        "a = {10,20,30,40,50} #set\n",
        "b = pd.Series(list(a))\n",
        "print(b)"
      ]
    },
    {
      "cell_type": "code",
      "execution_count": null,
      "id": "738a3407",
      "metadata": {
        "id": "738a3407",
        "outputId": "e5cca9ba-e04c-4bf1-ea1e-5e8530977bc1"
      },
      "outputs": [
        {
          "name": "stdout",
          "output_type": "stream",
          "text": [
            "a    10\n",
            "b    20\n",
            "c    30\n",
            "d    40\n",
            "dtype: int64\n"
          ]
        }
      ],
      "source": [
        "#dic\n",
        "x = {'a':10,'b':20,'c':30,'d':40}\n",
        "y = pd.Series(x)\n",
        "print(y)"
      ]
    },
    {
      "cell_type": "code",
      "execution_count": null,
      "id": "0889ed8c",
      "metadata": {
        "id": "0889ed8c",
        "outputId": "05adbd5e-96c3-4ed7-f98e-c428c48f0ad4"
      },
      "outputs": [
        {
          "name": "stdout",
          "output_type": "stream",
          "text": [
            "   ID    Name  Age\n",
            "0   1    john   30\n",
            "1   2    kiwi   20\n",
            "2   3  orange   35\n",
            "   ID    Name  Age Gender\n",
            "0   1    john   30      m\n",
            "1   2    kiwi   20      f\n",
            "2   3  orange   35      T\n",
            "   ID    Name Gender\n",
            "0   1    john      m\n",
            "1   2    kiwi      f\n",
            "2   3  orange      T\n",
            "   ID    Name Gender   Age\n",
            "0   1    john      m   NaN\n",
            "1   2    kiwi      f   NaN\n",
            "2   3  orange      T   NaN\n",
            "3   4   apple    NaN  10.0\n"
          ]
        },
        {
          "name": "stderr",
          "output_type": "stream",
          "text": [
            "C:\\Users\\hp\\AppData\\Local\\Temp\\ipykernel_23736\\3994745526.py:10: FutureWarning: The frame.append method is deprecated and will be removed from pandas in a future version. Use pandas.concat instead.\n",
            "  y = y.append(a,ignore_index = True)\n"
          ]
        }
      ],
      "source": [
        "#data frame\n",
        "x = [[1, 'john',30],[2,'kiwi',20],[3,'orange',35]]\n",
        "y = pd.DataFrame(x,columns =['ID','Name','Age'])\n",
        "print(y)\n",
        "y['Gender'] = ['m','f','T']\n",
        "print(y)\n",
        "y = y.drop('Age',axis = 1)\n",
        "print(y)\n",
        "a = {'ID':4,'Name':'apple','Age':10}\n",
        "y = y.append(a,ignore_index = True)\n",
        "print(y)"
      ]
    },
    {
      "cell_type": "code",
      "execution_count": null,
      "id": "03667eba",
      "metadata": {
        "id": "03667eba",
        "outputId": "92e6ba26-fd8f-4514-8189-740407a26093"
      },
      "outputs": [
        {
          "name": "stdout",
          "output_type": "stream",
          "text": [
            "   ID    Name  Age\n",
            "0   1    john   30\n",
            "1   2    kiwi   20\n",
            "2   3  orange   35\n"
          ]
        }
      ],
      "source": [
        "#tuple\n",
        "import pandas as pd\n",
        "x = [(1, 'john',30),(2,'kiwi',20),(3,'orange',35)]\n",
        "y = pd.DataFrame(x,columns =['ID','Name','Age'])\n",
        "print(y)"
      ]
    },
    {
      "cell_type": "code",
      "execution_count": null,
      "id": "bbc64d29",
      "metadata": {
        "id": "bbc64d29"
      },
      "outputs": [],
      "source": []
    }
  ],
  "metadata": {
    "kernelspec": {
      "display_name": "Python 3 (ipykernel)",
      "language": "python",
      "name": "python3"
    },
    "language_info": {
      "codemirror_mode": {
        "name": "ipython",
        "version": 3
      },
      "file_extension": ".py",
      "mimetype": "text/x-python",
      "name": "python",
      "nbconvert_exporter": "python",
      "pygments_lexer": "ipython3",
      "version": "3.9.12"
    },
    "colab": {
      "provenance": []
    }
  },
  "nbformat": 4,
  "nbformat_minor": 5
}