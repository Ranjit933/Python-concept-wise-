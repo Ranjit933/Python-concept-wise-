{
  "nbformat": 4,
  "nbformat_minor": 0,
  "metadata": {
    "colab": {
      "provenance": []
    },
    "kernelspec": {
      "name": "python3",
      "display_name": "Python 3"
    },
    "language_info": {
      "name": "python"
    }
  },
  "cells": [
    {
      "cell_type": "code",
      "execution_count": null,
      "metadata": {
        "colab": {
          "base_uri": "https://localhost:8080/"
        },
        "id": "dtI8ghqIB5dd",
        "outputId": "7f864b54-247e-417c-d8d9-5da6de33fa2c"
      },
      "outputs": [
        {
          "output_type": "stream",
          "name": "stdout",
          "text": [
            "hello world\n",
            "hi\n"
          ]
        }
      ],
      "source": [
        "print(\"hello world\")\n",
        "print(\"hi\")"
      ]
    },
    {
      "cell_type": "code",
      "source": [
        "#why python?\n",
        "#simple syntax\n",
        "#easy to understand\n",
        "#open source language, large community, large set of libraries\n",
        "#interpreted language\n",
        "#object-oriented programming\n",
        "#high-level language"
      ],
      "metadata": {
        "id": "tBJxn36kCDAU"
      },
      "execution_count": null,
      "outputs": []
    },
    {
      "cell_type": "code",
      "source": [
        "#medical,research,data science, finance etc..."
      ],
      "metadata": {
        "id": "bmAPFdRYE_6l"
      },
      "execution_count": null,
      "outputs": []
    },
    {
      "cell_type": "code",
      "source": [
        "#they convert the code to binary, binary to code/human understandable language\n",
        "#compiler: takes all the line code, then converts to binary\n",
        "#interpreter: executes code line by line\n",
        "#decode the errors\n",
        "#binary(0,1)"
      ],
      "metadata": {
        "id": "8S6E2q9ZGC10"
      },
      "execution_count": null,
      "outputs": []
    },
    {
      "cell_type": "code",
      "source": [
        "print(\"hello world\")\n",
        "print(\"hi\")\n",
        "print(how are you?)"
      ],
      "metadata": {
        "colab": {
          "base_uri": "https://localhost:8080/",
          "height": 109
        },
        "id": "qV3P2jESH6xQ",
        "outputId": "a2c3ba75-fc14-4997-95ca-137c5d890bfa"
      },
      "execution_count": null,
      "outputs": [
        {
          "output_type": "error",
          "ename": "SyntaxError",
          "evalue": "invalid syntax. Perhaps you forgot a comma? (<ipython-input-6-12f3b66a9bdc>, line 3)",
          "traceback": [
            "\u001b[0;36m  File \u001b[0;32m\"<ipython-input-6-12f3b66a9bdc>\"\u001b[0;36m, line \u001b[0;32m3\u001b[0m\n\u001b[0;31m    print(how are you?)\u001b[0m\n\u001b[0m          ^\u001b[0m\n\u001b[0;31mSyntaxError\u001b[0m\u001b[0;31m:\u001b[0m invalid syntax. Perhaps you forgot a comma?\n"
          ]
        }
      ]
    },
    {
      "cell_type": "code",
      "source": [
        "High level language: code language is close to human language\n",
        "\n",
        "low level Language: code language is to close machine language"
      ],
      "metadata": {
        "id": "oJ0QWA0FKe0s"
      },
      "execution_count": null,
      "outputs": []
    },
    {
      "cell_type": "code",
      "source": [
        "#c,c++,java,python\n",
        "\n",
        "#guido van rossum,1991"
      ],
      "metadata": {
        "id": "zemXp50CIZ4q"
      },
      "execution_count": null,
      "outputs": []
    },
    {
      "cell_type": "code",
      "source": [
        "#Introduction to python\n",
        "#variables\n",
        "#syntax\n",
        "#comments\n",
        "#data types\n",
        "#operators\n",
        "#indexing and slicing\n",
        "#list\n",
        "#tuple\n",
        "#set\n",
        "#dictionaries\n",
        "#conditional statements\n",
        "#loops\n",
        "#functions"
      ],
      "metadata": {
        "id": "8hBXFWGRLmwt"
      },
      "execution_count": null,
      "outputs": []
    },
    {
      "cell_type": "code",
      "source": [
        "#syntax\n",
        "print(123)\n",
        "print(12683)"
      ],
      "metadata": {
        "colab": {
          "base_uri": "https://localhost:8080/"
        },
        "id": "OmHvYWWJ2MHd",
        "outputId": "093fc0dd-3f26-4799-9473-603e3c439225"
      },
      "execution_count": null,
      "outputs": [
        {
          "output_type": "stream",
          "name": "stdout",
          "text": [
            "123\n",
            "12683\n"
          ]
        }
      ]
    },
    {
      "cell_type": "code",
      "source": [
        "#python google style guide\n",
        "#pep8"
      ],
      "metadata": {
        "id": "y8p7Rqcb-ORO"
      },
      "execution_count": null,
      "outputs": []
    },
    {
      "cell_type": "code",
      "source": [
        "#variables: it is an object, which stores a value."
      ],
      "metadata": {
        "id": "5KxnwUOR9Vo-"
      },
      "execution_count": null,
      "outputs": []
    },
    {
      "cell_type": "code",
      "source": [
        "x=156"
      ],
      "metadata": {
        "id": "iKRZobXC-AOH"
      },
      "execution_count": null,
      "outputs": []
    },
    {
      "cell_type": "code",
      "source": [
        "print(x)"
      ],
      "metadata": {
        "colab": {
          "base_uri": "https://localhost:8080/"
        },
        "id": "2aFvDZWT_rlS",
        "outputId": "39559d59-ee34-407e-fe32-d087ac93bcff"
      },
      "execution_count": null,
      "outputs": [
        {
          "output_type": "stream",
          "name": "stdout",
          "text": [
            "156\n"
          ]
        }
      ]
    },
    {
      "cell_type": "code",
      "source": [
        "#python is Case sensitive\n",
        "#1- can use alphanumeric characters(A-Za-z0-9), special character \"_\"\n",
        "#2- very first character of the variable cannot be an number"
      ],
      "metadata": {
        "id": "4Wphhm8-A26O"
      },
      "execution_count": null,
      "outputs": []
    },
    {
      "cell_type": "code",
      "source": [
        "#example:\n",
        "word_0='hi, how are you?'\n",
        "print(word_0)"
      ],
      "metadata": {
        "colab": {
          "base_uri": "https://localhost:8080/"
        },
        "id": "oHq3bf_rDdnd",
        "outputId": "1c82eec3-8e5f-4843-c8d8-0f864cd09c7c"
      },
      "execution_count": null,
      "outputs": [
        {
          "output_type": "stream",
          "name": "stdout",
          "text": [
            "hi, how are you?\n"
          ]
        }
      ]
    },
    {
      "cell_type": "code",
      "source": [
        "0_x=124\n",
        "0_x"
      ],
      "metadata": {
        "colab": {
          "base_uri": "https://localhost:8080/",
          "height": 109
        },
        "id": "I-p0eoFGDp32",
        "outputId": "2fa07b6a-b4bb-4af4-9ef5-5492185f5c3e"
      },
      "execution_count": null,
      "outputs": [
        {
          "output_type": "error",
          "ename": "SyntaxError",
          "evalue": "invalid decimal literal (<ipython-input-27-01733a96e04a>, line 1)",
          "traceback": [
            "\u001b[0;36m  File \u001b[0;32m\"<ipython-input-27-01733a96e04a>\"\u001b[0;36m, line \u001b[0;32m1\u001b[0m\n\u001b[0;31m    0_x=124\u001b[0m\n\u001b[0m     ^\u001b[0m\n\u001b[0;31mSyntaxError\u001b[0m\u001b[0;31m:\u001b[0m invalid decimal literal\n"
          ]
        }
      ]
    },
    {
      "cell_type": "code",
      "source": [
        "#\n",
        "a- word2vec-correct\n",
        "b- word_vec2-correct\n",
        "c- _word vector-incorrect\n",
        "d- 2vector_word-incorrect\n",
        "e- vec2_word_-correct"
      ],
      "metadata": {
        "id": "m7G4zixLEMjc"
      },
      "execution_count": null,
      "outputs": []
    },
    {
      "cell_type": "code",
      "source": [
        "word_vec2=123\n",
        "word_vec2"
      ],
      "metadata": {
        "colab": {
          "base_uri": "https://localhost:8080/"
        },
        "id": "TWCy6cOIF27d",
        "outputId": "b34a2718-8ada-4834-8be4-97599037bcaf"
      },
      "execution_count": null,
      "outputs": [
        {
          "output_type": "execute_result",
          "data": {
            "text/plain": [
              "123"
            ]
          },
          "metadata": {},
          "execution_count": 28
        }
      ]
    },
    {
      "cell_type": "code",
      "source": [
        "_word vector=12 #this is a variable\n",
        "_word vector"
      ],
      "metadata": {
        "colab": {
          "base_uri": "https://localhost:8080/",
          "height": 109
        },
        "id": "UBBl8HPzF7Ws",
        "outputId": "5e8c1839-5556-4326-c65f-aced6636965f"
      },
      "execution_count": null,
      "outputs": [
        {
          "output_type": "error",
          "ename": "SyntaxError",
          "evalue": "invalid syntax (<ipython-input-35-34303e2c4953>, line 1)",
          "traceback": [
            "\u001b[0;36m  File \u001b[0;32m\"<ipython-input-35-34303e2c4953>\"\u001b[0;36m, line \u001b[0;32m1\u001b[0m\n\u001b[0;31m    _word vector=12 #this is a variable\u001b[0m\n\u001b[0m          ^\u001b[0m\n\u001b[0;31mSyntaxError\u001b[0m\u001b[0;31m:\u001b[0m invalid syntax\n"
          ]
        }
      ]
    },
    {
      "cell_type": "code",
      "source": [
        "abe"
      ],
      "metadata": {
        "colab": {
          "base_uri": "https://localhost:8080/",
          "height": 144
        },
        "id": "H0gkV3rhFNtz",
        "outputId": "a1a47d65-be45-47dd-ec35-4f05587ec56b"
      },
      "execution_count": null,
      "outputs": [
        {
          "output_type": "error",
          "ename": "NameError",
          "evalue": "name 'abe' is not defined",
          "traceback": [
            "\u001b[0;31m---------------------------------------------------------------------------\u001b[0m",
            "\u001b[0;31mNameError\u001b[0m                                 Traceback (most recent call last)",
            "\u001b[0;32m<ipython-input-30-5b1391f3501f>\u001b[0m in \u001b[0;36m<cell line: 0>\u001b[0;34m()\u001b[0m\n\u001b[0;32m----> 1\u001b[0;31m \u001b[0mabe\u001b[0m\u001b[0;34m\u001b[0m\u001b[0;34m\u001b[0m\u001b[0m\n\u001b[0m",
            "\u001b[0;31mNameError\u001b[0m: name 'abe' is not defined"
          ]
        }
      ]
    },
    {
      "cell_type": "code",
      "source": [
        "#comments- It is non-executuable code line\n",
        "#\n",
        "x='Hi'\n",
        "y=\"Hello\"\n",
        "print(x)\n",
        "# print(y)"
      ],
      "metadata": {
        "colab": {
          "base_uri": "https://localhost:8080/"
        },
        "id": "f5E6ZuvhGNJj",
        "outputId": "00c18c8d-ee0a-4dee-a152-7c7f5f986133"
      },
      "execution_count": null,
      "outputs": [
        {
          "output_type": "stream",
          "name": "stdout",
          "text": [
            "Hi\n"
          ]
        }
      ]
    },
    {
      "cell_type": "code",
      "source": [
        "#mutiline line comments:ctrl+/\n",
        "x='Hi'\n",
        "# y=\"Hello\"\n",
        "# print(x)\n",
        "# print(y)"
      ],
      "metadata": {
        "colab": {
          "base_uri": "https://localhost:8080/"
        },
        "id": "f2PG1sPdICZ2",
        "outputId": "1314e3ce-3dc6-4f2e-ae0d-f19313277977"
      },
      "execution_count": null,
      "outputs": [
        {
          "output_type": "stream",
          "name": "stdout",
          "text": [
            "Hi\n"
          ]
        }
      ]
    },
    {
      "cell_type": "code",
      "source": [
        "# data types:A Data Type is simply a piece of information associated with a variable to\n",
        "# indicate to the interpreter what type of data is stored in a variable, e.g.:\n",
        "# Number, Text etc.\n",
        "\n",
        "1. Numeric:int,float(decimals),complex\n",
        "2. string\n",
        "3. Boolean\n",
        "4. Squential datatype\n",
        "5. mapping datatype"
      ],
      "metadata": {
        "id": "0GXyZRtqJXj0"
      },
      "execution_count": null,
      "outputs": []
    },
    {
      "cell_type": "code",
      "source": [
        "#type()- used for checking the datatype of a variable/value"
      ],
      "metadata": {
        "id": "ybeCnzq9Mmpw"
      },
      "execution_count": null,
      "outputs": []
    },
    {
      "cell_type": "code",
      "source": [
        "#1. Numeric:int,float(decimals)\n",
        "x=-123\n",
        "print(x)\n",
        "type(x)"
      ],
      "metadata": {
        "colab": {
          "base_uri": "https://localhost:8080/"
        },
        "id": "jtNzXZZrMaTA",
        "outputId": "471988c8-f983-4203-c94d-2066d3e5d0cc"
      },
      "execution_count": null,
      "outputs": [
        {
          "output_type": "stream",
          "name": "stdout",
          "text": [
            "-123\n"
          ]
        },
        {
          "output_type": "execute_result",
          "data": {
            "text/plain": [
              "int"
            ]
          },
          "metadata": {},
          "execution_count": 47
        }
      ]
    },
    {
      "cell_type": "code",
      "source": [
        "y=123.01\n",
        "type(y)"
      ],
      "metadata": {
        "colab": {
          "base_uri": "https://localhost:8080/"
        },
        "id": "cv7poEu2MdWX",
        "outputId": "39ca85f1-ef49-4c6d-94a3-ccc462d40bf5"
      },
      "execution_count": null,
      "outputs": [
        {
          "output_type": "execute_result",
          "data": {
            "text/plain": [
              "float"
            ]
          },
          "metadata": {},
          "execution_count": 48
        }
      ]
    },
    {
      "cell_type": "code",
      "source": [
        "#complex: a+bj, a->real number, bj->imaginary number\n",
        "#i=(-1)^0.5\n",
        "#i^2=-1\n",
        "z=3+2j\n",
        "type(z)"
      ],
      "metadata": {
        "colab": {
          "base_uri": "https://localhost:8080/"
        },
        "id": "L44sbVNwMkwm",
        "outputId": "4409a374-5eb2-4325-e1d8-dfb4c774e0fa"
      },
      "execution_count": null,
      "outputs": [
        {
          "output_type": "execute_result",
          "data": {
            "text/plain": [
              "complex"
            ]
          },
          "metadata": {},
          "execution_count": 49
        }
      ]
    },
    {
      "cell_type": "code",
      "source": [
        "#2. string- seqeuence of characters\n",
        "#''-single quota\n",
        "#\" \"-double quota\n",
        "#''' '''/\"\"\" \"\"\"-triple quota\n",
        "\n",
        "#single quota,double quota - used for single line string\n",
        "#triple quota- creation of multi line strings"
      ],
      "metadata": {
        "id": "e-iVx0I4Nw8w"
      },
      "execution_count": null,
      "outputs": []
    },
    {
      "cell_type": "code",
      "source": [
        "#keyword-str\n",
        "word='HI, how are you?'\n",
        "print(word)"
      ],
      "metadata": {
        "colab": {
          "base_uri": "https://localhost:8080/"
        },
        "id": "6VBgeKygOzbs",
        "outputId": "4ec209dd-5e72-457c-80d8-7c129ed32d94"
      },
      "execution_count": null,
      "outputs": [
        {
          "output_type": "stream",
          "name": "stdout",
          "text": [
            "HI, how are you?\n"
          ]
        }
      ]
    },
    {
      "cell_type": "code",
      "source": [
        "word=\"HI, how are you?\"\n",
        "print(word)"
      ],
      "metadata": {
        "colab": {
          "base_uri": "https://localhost:8080/"
        },
        "id": "TvGIyq7TPB-J",
        "outputId": "68a289fc-e28a-4b36-dcc0-7f7623d8d712"
      },
      "execution_count": null,
      "outputs": [
        {
          "output_type": "stream",
          "name": "stdout",
          "text": [
            "HI, how are you?\n"
          ]
        }
      ]
    },
    {
      "cell_type": "code",
      "source": [
        "word=\"\"\"HI,This is sunny.\n",
        "      How are you?\"\"\"\n",
        "print(word)"
      ],
      "metadata": {
        "colab": {
          "base_uri": "https://localhost:8080/"
        },
        "id": "gw4s08aIPJxc",
        "outputId": "7e227aa9-a670-46f6-9294-42fe8c6f2e81"
      },
      "execution_count": null,
      "outputs": [
        {
          "output_type": "stream",
          "name": "stdout",
          "text": [
            "HI,This is sunny.\n",
            "      How are you?\n"
          ]
        }
      ]
    },
    {
      "cell_type": "code",
      "source": [
        "x=\"He said,'he wont be available.'\"\n",
        "print(x)"
      ],
      "metadata": {
        "colab": {
          "base_uri": "https://localhost:8080/"
        },
        "id": "UUCoFC0GP_TA",
        "outputId": "152701f8-2195-4b86-dcdf-c3e81f271e4c"
      },
      "execution_count": null,
      "outputs": [
        {
          "output_type": "stream",
          "name": "stdout",
          "text": [
            "He said,'he wont be available.'\n"
          ]
        }
      ]
    },
    {
      "cell_type": "code",
      "source": [
        "y='''he said,\"It's complicated\"'''\n",
        "print(y)"
      ],
      "metadata": {
        "colab": {
          "base_uri": "https://localhost:8080/"
        },
        "id": "-Paj5DVqQ5AW",
        "outputId": "e052c343-81c7-4a76-b36d-615cff461a71"
      },
      "execution_count": null,
      "outputs": [
        {
          "output_type": "stream",
          "name": "stdout",
          "text": [
            "he said,\"It's complicated\"\n"
          ]
        }
      ]
    },
    {
      "cell_type": "code",
      "source": [
        "\n",
        "name='sunny'\n",
        "x='HI'\n",
        "print( x,\"this is\",name,\" how are you?\")"
      ],
      "metadata": {
        "colab": {
          "base_uri": "https://localhost:8080/"
        },
        "id": "jvsenl2YRYIK",
        "outputId": "1ff872a9-da66-403e-bf72-fa925653e6a1"
      },
      "execution_count": null,
      "outputs": [
        {
          "output_type": "stream",
          "name": "stdout",
          "text": [
            "HI this is sunny  how are you?\n"
          ]
        }
      ]
    },
    {
      "cell_type": "code",
      "source": [
        "#formatted strings: f\"\",f''\n",
        "name='sunny'\n",
        "s=f'Hi this is {name}'\n",
        "print(s)"
      ],
      "metadata": {
        "colab": {
          "base_uri": "https://localhost:8080/"
        },
        "id": "Wm0FS8J2Sba8",
        "outputId": "4ad90f85-4bcd-4b0b-9998-89cd8f9ff73a"
      },
      "execution_count": null,
      "outputs": [
        {
          "output_type": "stream",
          "name": "stdout",
          "text": [
            "Hi this is sunny\n"
          ]
        }
      ]
    },
    {
      "cell_type": "code",
      "source": [
        "x=2\n",
        "y=4\n",
        "print(\"addition of x:\",x,\"and y:\",y,\"is: \",x+y)\n",
        "print(f\"addition of x:{x} and y:{y} is:{x+y}\")"
      ],
      "metadata": {
        "colab": {
          "base_uri": "https://localhost:8080/"
        },
        "id": "q2kb4KPITNS9",
        "outputId": "ad3d84d8-b2c8-44f0-ca67-6a8b3f2e3dc0"
      },
      "execution_count": null,
      "outputs": [
        {
          "output_type": "stream",
          "name": "stdout",
          "text": [
            "addition of x: 2 and y: 4 is:  6\n",
            "addition of x:2 and y:4 is:6\n"
          ]
        }
      ]
    },
    {
      "cell_type": "code",
      "source": [
        "#3. Boolean:\n",
        "True: 1, False: 0"
      ],
      "metadata": {
        "id": "8njD9VedT-wB"
      },
      "execution_count": null,
      "outputs": []
    },
    {
      "cell_type": "code",
      "source": [
        "#.Sequential datatype: list,tuple,set\n",
        "#can store mutiple values under single variable\n",
        "\n",
        "list=[]\n",
        "tuple=()\n",
        "set={}"
      ],
      "metadata": {
        "id": "BHwAm6oJVYkH"
      },
      "execution_count": null,
      "outputs": []
    },
    {
      "cell_type": "code",
      "source": [
        "x=[12,3,2,12,312,2,132,98]\n",
        "x"
      ],
      "metadata": {
        "colab": {
          "base_uri": "https://localhost:8080/"
        },
        "id": "LBjEsxIUWi0V",
        "outputId": "87454a46-9397-4c21-ad27-5ac9c323b5d0"
      },
      "execution_count": null,
      "outputs": [
        {
          "output_type": "execute_result",
          "data": {
            "text/plain": [
              "[12, 3, 2, 12, 312, 2, 132, 98]"
            ]
          },
          "metadata": {},
          "execution_count": 80
        }
      ]
    },
    {
      "cell_type": "code",
      "source": [
        "#operators:\n",
        "1. Arithemetic operators\n",
        "2. Assignment operators\n",
        "3. comparision operators\n",
        "4. logical operators\n",
        "5. membership operators"
      ],
      "metadata": {
        "id": "vkHiSM_cWp3-"
      },
      "execution_count": null,
      "outputs": []
    },
    {
      "cell_type": "code",
      "source": [
        "#1. Arithemetic operators:\n",
        "+(addition),-(subtraction),*(multiplication),**(exponential),/(division),//(floor division),%(modulus)"
      ],
      "metadata": {
        "id": "DmT5CTRy_dqy"
      },
      "execution_count": null,
      "outputs": []
    },
    {
      "cell_type": "code",
      "source": [
        "/(division),//(floor division),%(modulus)"
      ],
      "metadata": {
        "id": "myuadZivXKk1"
      },
      "execution_count": null,
      "outputs": []
    },
    {
      "cell_type": "code",
      "source": [
        "21/2"
      ],
      "metadata": {
        "colab": {
          "base_uri": "https://localhost:8080/"
        },
        "id": "4oZ_mqU_InNo",
        "outputId": "544f5a78-e968-4662-f301-f1aed80c52c0"
      },
      "execution_count": null,
      "outputs": [
        {
          "output_type": "execute_result",
          "data": {
            "text/plain": [
              "10.5"
            ]
          },
          "metadata": {},
          "execution_count": 1
        }
      ]
    },
    {
      "cell_type": "code",
      "source": [
        "#//(floor division)- int as an output\n",
        "#10.99,10.01,10.5,10.6-10\n",
        "21//2"
      ],
      "metadata": {
        "colab": {
          "base_uri": "https://localhost:8080/"
        },
        "id": "t057zTuWIpsX",
        "outputId": "ae0f28ec-eaaf-4cc8-ad6a-d27f488504ed"
      },
      "execution_count": null,
      "outputs": [
        {
          "output_type": "execute_result",
          "data": {
            "text/plain": [
              "10"
            ]
          },
          "metadata": {},
          "execution_count": 2
        }
      ]
    },
    {
      "cell_type": "code",
      "source": [
        "#%(modulus)-remainder of the division\n",
        "21%2\n"
      ],
      "metadata": {
        "colab": {
          "base_uri": "https://localhost:8080/"
        },
        "id": "jut7K15QJC4g",
        "outputId": "ee6b07b4-bfc1-42da-ae90-0fc77379d9b9"
      },
      "execution_count": null,
      "outputs": [
        {
          "output_type": "execute_result",
          "data": {
            "text/plain": [
              "1"
            ]
          },
          "metadata": {},
          "execution_count": 5
        }
      ]
    },
    {
      "cell_type": "code",
      "source": [
        "#2. Assignment operators: This operators are used for assigining a value to a variable\n",
        "=,+=,-=,*=,**=,/=,...."
      ],
      "metadata": {
        "id": "LXtIHcixJY4d"
      },
      "execution_count": null,
      "outputs": []
    },
    {
      "cell_type": "code",
      "source": [
        "x=2\n",
        "x"
      ],
      "metadata": {
        "colab": {
          "base_uri": "https://localhost:8080/"
        },
        "id": "uSeNMuy0KLND",
        "outputId": "aae1b0a3-edcf-4f9d-a9a8-820b2541ebc6"
      },
      "execution_count": null,
      "outputs": [
        {
          "output_type": "execute_result",
          "data": {
            "text/plain": [
              "2"
            ]
          },
          "metadata": {},
          "execution_count": 6
        }
      ]
    },
    {
      "cell_type": "code",
      "source": [
        "#+=,increment operators\n",
        "x=2\n",
        "x=x+3\n",
        "x"
      ],
      "metadata": {
        "colab": {
          "base_uri": "https://localhost:8080/"
        },
        "id": "nlHnlL30KNIo",
        "outputId": "a6e2a6b0-21d1-4d67-f249-3d827725535f"
      },
      "execution_count": null,
      "outputs": [
        {
          "output_type": "execute_result",
          "data": {
            "text/plain": [
              "5"
            ]
          },
          "metadata": {},
          "execution_count": 7
        }
      ]
    },
    {
      "cell_type": "code",
      "source": [
        "x=2\n",
        "x+=3#x=x+3\n",
        "x"
      ],
      "metadata": {
        "colab": {
          "base_uri": "https://localhost:8080/"
        },
        "id": "CYx2t8oBK7cP",
        "outputId": "7efcb6b5-c233-4ed1-d666-6da9f19a3c16"
      },
      "execution_count": null,
      "outputs": [
        {
          "output_type": "execute_result",
          "data": {
            "text/plain": [
              "5"
            ]
          },
          "metadata": {},
          "execution_count": 8
        }
      ]
    },
    {
      "cell_type": "code",
      "source": [
        "x=2\n",
        "x-=3#x=2-3\n",
        "x"
      ],
      "metadata": {
        "colab": {
          "base_uri": "https://localhost:8080/"
        },
        "id": "KGHyu2IeLHA2",
        "outputId": "84c15e54-1602-4c79-fe81-2fc0d52db875"
      },
      "execution_count": null,
      "outputs": [
        {
          "output_type": "execute_result",
          "data": {
            "text/plain": [
              "-1"
            ]
          },
          "metadata": {},
          "execution_count": 10
        }
      ]
    },
    {
      "cell_type": "code",
      "source": [
        "#bodmas-bracket> of division ,mutiplication> addition and subtraction\n",
        "\n",
        "2*3+20/(2*2)\n",
        "#2*3+20/4\n",
        "#6+20/4\n",
        "#6+5\n",
        "#11"
      ],
      "metadata": {
        "colab": {
          "base_uri": "https://localhost:8080/"
        },
        "id": "3m6bcM8WLSKS",
        "outputId": "48f61e1d-628a-4362-dc25-8c93b6a20158"
      },
      "execution_count": null,
      "outputs": [
        {
          "output_type": "execute_result",
          "data": {
            "text/plain": [
              "11.0"
            ]
          },
          "metadata": {},
          "execution_count": 28
        }
      ]
    },
    {
      "cell_type": "code",
      "source": [
        "#3. comparision operators: for comparision of 2 or more variables\n",
        "#output: boolean\n",
        "#==(equal to), !=(not equal to), >(greater),<(less than),>=,<=\n",
        "x=2\n",
        "y=3"
      ],
      "metadata": {
        "id": "2H59ZxKML4IV"
      },
      "execution_count": null,
      "outputs": []
    },
    {
      "cell_type": "code",
      "source": [
        "x==y"
      ],
      "metadata": {
        "colab": {
          "base_uri": "https://localhost:8080/"
        },
        "id": "_n3NKc2BMRKZ",
        "outputId": "43fdc1b2-7f20-4be7-c39d-89f2449d84b2"
      },
      "execution_count": null,
      "outputs": [
        {
          "output_type": "execute_result",
          "data": {
            "text/plain": [
              "False"
            ]
          },
          "metadata": {},
          "execution_count": 12
        }
      ]
    },
    {
      "cell_type": "code",
      "source": [
        "x!=y"
      ],
      "metadata": {
        "colab": {
          "base_uri": "https://localhost:8080/"
        },
        "id": "hiLN2VNOMdIn",
        "outputId": "b0904970-d366-4d02-9361-550b238fa77a"
      },
      "execution_count": null,
      "outputs": [
        {
          "output_type": "execute_result",
          "data": {
            "text/plain": [
              "True"
            ]
          },
          "metadata": {},
          "execution_count": 13
        }
      ]
    },
    {
      "cell_type": "code",
      "source": [
        "x>y"
      ],
      "metadata": {
        "colab": {
          "base_uri": "https://localhost:8080/"
        },
        "id": "4KEeLkdYMjrO",
        "outputId": "4151e92c-3198-4c4a-8c19-a5e807a17a65"
      },
      "execution_count": null,
      "outputs": [
        {
          "output_type": "execute_result",
          "data": {
            "text/plain": [
              "False"
            ]
          },
          "metadata": {},
          "execution_count": 14
        }
      ]
    },
    {
      "cell_type": "code",
      "source": [
        "#4. Logical operators:\n",
        "# and , or , not\n",
        "# and - gives true when all the condition are true\n",
        "# or - gives true atleast one condition is true\n",
        "# not -True->False and vice versa\n",
        "x=2\n",
        "y=5\n",
        "z=4\n",
        "\n",
        "And\n",
        "\n",
        "T and T -> T\n",
        "T and F -> F\n",
        "F and T -> False\n",
        "F and F -> F\n",
        "\n",
        "or\n",
        "\n",
        "T and T -> T\n",
        "T and F -> T\n",
        "F and T -> T\n",
        "F and F -> F"
      ],
      "metadata": {
        "id": "3yEIDstkMr-8"
      },
      "execution_count": null,
      "outputs": []
    },
    {
      "cell_type": "code",
      "source": [
        "x=2\n",
        "y=5\n",
        "z=4"
      ],
      "metadata": {
        "id": "sLJX-6T-OwLQ"
      },
      "execution_count": null,
      "outputs": []
    },
    {
      "cell_type": "code",
      "source": [
        "x>y and x<z#2>5 -false,2<4-True"
      ],
      "metadata": {
        "colab": {
          "base_uri": "https://localhost:8080/"
        },
        "id": "lap-ydtzOw8f",
        "outputId": "4c48d88d-27f4-404e-a00f-5f6a493b7fa6"
      },
      "execution_count": null,
      "outputs": [
        {
          "output_type": "execute_result",
          "data": {
            "text/plain": [
              "False"
            ]
          },
          "metadata": {},
          "execution_count": 16
        }
      ]
    },
    {
      "cell_type": "code",
      "source": [
        "x>y or x<z# False or True -True"
      ],
      "metadata": {
        "colab": {
          "base_uri": "https://localhost:8080/"
        },
        "id": "Ov9WqpOsPEWz",
        "outputId": "456ffd47-2b08-44d8-b887-b8adc70d29d0"
      },
      "execution_count": null,
      "outputs": [
        {
          "output_type": "execute_result",
          "data": {
            "text/plain": [
              "True"
            ]
          },
          "metadata": {},
          "execution_count": 17
        }
      ]
    },
    {
      "cell_type": "code",
      "source": [
        "not(x>y or x<z)"
      ],
      "metadata": {
        "colab": {
          "base_uri": "https://localhost:8080/"
        },
        "id": "R6CV6Gp0POYi",
        "outputId": "fe820851-f0be-4f25-e00e-d5fb30df23fe"
      },
      "execution_count": null,
      "outputs": [
        {
          "output_type": "execute_result",
          "data": {
            "text/plain": [
              "False"
            ]
          },
          "metadata": {},
          "execution_count": 18
        }
      ]
    },
    {
      "cell_type": "code",
      "source": [
        "#membership operators: in, not in\n",
        "#to check/test if an particular value is present in a sequetial datatype or str."
      ],
      "metadata": {
        "id": "Uc8j0JIdPefu"
      },
      "execution_count": null,
      "outputs": []
    },
    {
      "cell_type": "code",
      "source": [
        "word=\"HI, how are you?\""
      ],
      "metadata": {
        "id": "1XQbbYAzQO_D"
      },
      "execution_count": null,
      "outputs": []
    },
    {
      "cell_type": "code",
      "source": [
        "\"HI\" in word"
      ],
      "metadata": {
        "colab": {
          "base_uri": "https://localhost:8080/"
        },
        "id": "bZRfPwLlQPa-",
        "outputId": "ccf03668-2689-4fec-e055-482ecd5b96ee"
      },
      "execution_count": null,
      "outputs": [
        {
          "output_type": "execute_result",
          "data": {
            "text/plain": [
              "True"
            ]
          },
          "metadata": {},
          "execution_count": 24
        }
      ]
    },
    {
      "cell_type": "code",
      "source": [
        "\"z\" in word"
      ],
      "metadata": {
        "colab": {
          "base_uri": "https://localhost:8080/"
        },
        "id": "3ng5ORiDQffb",
        "outputId": "9cb1ecf3-d0ae-4a24-b0c0-e2a57d96330f"
      },
      "execution_count": null,
      "outputs": [
        {
          "output_type": "execute_result",
          "data": {
            "text/plain": [
              "False"
            ]
          },
          "metadata": {},
          "execution_count": 22
        }
      ]
    },
    {
      "cell_type": "code",
      "source": [
        "x=[1,2,32,4,1,2,3]\n",
        "x"
      ],
      "metadata": {
        "colab": {
          "base_uri": "https://localhost:8080/"
        },
        "id": "b6fBBRZQQnXA",
        "outputId": "e0bc4aec-acbe-40f9-b6e1-2d833be91bc7"
      },
      "execution_count": null,
      "outputs": [
        {
          "output_type": "execute_result",
          "data": {
            "text/plain": [
              "[1, 2, 32, 4, 1, 2, 3]"
            ]
          },
          "metadata": {},
          "execution_count": 25
        }
      ]
    },
    {
      "cell_type": "code",
      "source": [
        "32 in x"
      ],
      "metadata": {
        "colab": {
          "base_uri": "https://localhost:8080/"
        },
        "id": "r26AWP7VRETw",
        "outputId": "cf4440c4-824a-4d71-d738-f67c249a072c"
      },
      "execution_count": null,
      "outputs": [
        {
          "output_type": "execute_result",
          "data": {
            "text/plain": [
              "True"
            ]
          },
          "metadata": {},
          "execution_count": 26
        }
      ]
    },
    {
      "cell_type": "code",
      "source": [
        "432 not in x"
      ],
      "metadata": {
        "colab": {
          "base_uri": "https://localhost:8080/"
        },
        "id": "2xk0ETYNRPUf",
        "outputId": "c8093386-3255-4ebe-8f3d-20ea8769dc71"
      },
      "execution_count": null,
      "outputs": [
        {
          "output_type": "execute_result",
          "data": {
            "text/plain": [
              "True"
            ]
          },
          "metadata": {},
          "execution_count": 27
        }
      ]
    },
    {
      "cell_type": "code",
      "source": [
        "#slicing and indexing\n",
        "#str\n",
        "word=\"HI, how are you?\"\n",
        "#     0123456789......\n",
        "#index:0 to ...."
      ],
      "metadata": {
        "id": "76RkAsnnRc6V"
      },
      "execution_count": null,
      "outputs": []
    },
    {
      "cell_type": "code",
      "source": [
        "#indexing: retrevial of a value stored at an specific index position\n",
        "#variable[index]\n",
        "word[4]"
      ],
      "metadata": {
        "colab": {
          "base_uri": "https://localhost:8080/",
          "height": 36
        },
        "id": "dM1K81GOVjwz",
        "outputId": "41a13c86-7073-4c59-a110-88849e386ee8"
      },
      "execution_count": null,
      "outputs": [
        {
          "output_type": "execute_result",
          "data": {
            "text/plain": [
              "'h'"
            ],
            "application/vnd.google.colaboratory.intrinsic+json": {
              "type": "string"
            }
          },
          "metadata": {},
          "execution_count": 29
        }
      ]
    },
    {
      "cell_type": "code",
      "source": [
        "word[0]"
      ],
      "metadata": {
        "colab": {
          "base_uri": "https://localhost:8080/",
          "height": 36
        },
        "id": "JmRa5tLdWC7x",
        "outputId": "f5227cfd-ffca-48a4-a17d-d0ea2b3f880d"
      },
      "execution_count": null,
      "outputs": [
        {
          "output_type": "execute_result",
          "data": {
            "text/plain": [
              "'H'"
            ],
            "application/vnd.google.colaboratory.intrinsic+json": {
              "type": "string"
            }
          },
          "metadata": {},
          "execution_count": 30
        }
      ]
    },
    {
      "cell_type": "code",
      "source": [
        "#len()-length/no of character/values stored in a variable\n",
        "len(word)"
      ],
      "metadata": {
        "colab": {
          "base_uri": "https://localhost:8080/"
        },
        "id": "_W59Uf6iWNxq",
        "outputId": "da21b049-0667-4b1a-f531-9659967d7329"
      },
      "execution_count": null,
      "outputs": [
        {
          "output_type": "execute_result",
          "data": {
            "text/plain": [
              "16"
            ]
          },
          "metadata": {},
          "execution_count": 32
        }
      ]
    },
    {
      "cell_type": "code",
      "source": [
        "print(word)\n",
        "#len(word)-1\n",
        "len(word)-1"
      ],
      "metadata": {
        "colab": {
          "base_uri": "https://localhost:8080/"
        },
        "id": "tgMil4OVWUuM",
        "outputId": "8010b7a1-f737-4499-b88f-ad21f3450be3"
      },
      "execution_count": null,
      "outputs": [
        {
          "output_type": "stream",
          "name": "stdout",
          "text": [
            "HI, how are you?\n"
          ]
        },
        {
          "output_type": "execute_result",
          "data": {
            "text/plain": [
              "15"
            ]
          },
          "metadata": {},
          "execution_count": 35
        }
      ]
    },
    {
      "cell_type": "code",
      "source": [
        "word[15]"
      ],
      "metadata": {
        "colab": {
          "base_uri": "https://localhost:8080/",
          "height": 36
        },
        "id": "YLJX-oi7XKM2",
        "outputId": "483a5f4d-39ac-4be7-9295-bc994e08ed8b"
      },
      "execution_count": null,
      "outputs": [
        {
          "output_type": "execute_result",
          "data": {
            "text/plain": [
              "'?'"
            ],
            "application/vnd.google.colaboratory.intrinsic+json": {
              "type": "string"
            }
          },
          "metadata": {},
          "execution_count": 37
        }
      ]
    },
    {
      "cell_type": "code",
      "source": [
        "#slicing:\n",
        "#variable[start:end:step]\n",
        "#var[2:10]#start,...end-1\n",
        "#2,3,4,5,6,7,8,9"
      ],
      "metadata": {
        "id": "B8JqbFJRXgW6"
      },
      "execution_count": null,
      "outputs": []
    },
    {
      "cell_type": "code",
      "source": [
        "word"
      ],
      "metadata": {
        "colab": {
          "base_uri": "https://localhost:8080/",
          "height": 36
        },
        "id": "-UO7GP24Z0bS",
        "outputId": "f747c127-6302-4c9d-eb48-efe30509acfd"
      },
      "execution_count": null,
      "outputs": [
        {
          "output_type": "execute_result",
          "data": {
            "text/plain": [
              "'HI, how are you?'"
            ],
            "application/vnd.google.colaboratory.intrinsic+json": {
              "type": "string"
            }
          },
          "metadata": {},
          "execution_count": 38
        }
      ]
    },
    {
      "cell_type": "code",
      "source": [
        "word[4:9]#4,5,6,7,8"
      ],
      "metadata": {
        "colab": {
          "base_uri": "https://localhost:8080/",
          "height": 36
        },
        "id": "qaO1QvlZZ04K",
        "outputId": "95cef05a-8add-4de0-cac7-88567f29cea5"
      },
      "execution_count": null,
      "outputs": [
        {
          "output_type": "execute_result",
          "data": {
            "text/plain": [
              "'how a'"
            ],
            "application/vnd.google.colaboratory.intrinsic+json": {
              "type": "string"
            }
          },
          "metadata": {},
          "execution_count": 39
        }
      ]
    },
    {
      "cell_type": "code",
      "source": [
        "word[:5]#start=0-> default,0,1,2,3,4"
      ],
      "metadata": {
        "colab": {
          "base_uri": "https://localhost:8080/",
          "height": 36
        },
        "id": "Cw0H8Y-6aPS4",
        "outputId": "01a7ea6b-ac3d-44aa-d20b-d60cacd974d7"
      },
      "execution_count": null,
      "outputs": [
        {
          "output_type": "execute_result",
          "data": {
            "text/plain": [
              "'HI, h'"
            ],
            "application/vnd.google.colaboratory.intrinsic+json": {
              "type": "string"
            }
          },
          "metadata": {},
          "execution_count": 40
        }
      ]
    },
    {
      "cell_type": "code",
      "source": [
        "word[5:]"
      ],
      "metadata": {
        "colab": {
          "base_uri": "https://localhost:8080/",
          "height": 36
        },
        "id": "kG8TUYUPazDZ",
        "outputId": "b35afaeb-1723-4549-e05b-5a96cfa696a3"
      },
      "execution_count": null,
      "outputs": [
        {
          "output_type": "execute_result",
          "data": {
            "text/plain": [
              "'ow are you?'"
            ],
            "application/vnd.google.colaboratory.intrinsic+json": {
              "type": "string"
            }
          },
          "metadata": {},
          "execution_count": 41
        }
      ]
    },
    {
      "cell_type": "code",
      "source": [
        "word[:]"
      ],
      "metadata": {
        "colab": {
          "base_uri": "https://localhost:8080/",
          "height": 36
        },
        "id": "TrGVpWTIa4iD",
        "outputId": "340a4ef2-2631-4264-9e7d-6c0bef21bf26"
      },
      "execution_count": null,
      "outputs": [
        {
          "output_type": "execute_result",
          "data": {
            "text/plain": [
              "'HI, how are you?'"
            ],
            "application/vnd.google.colaboratory.intrinsic+json": {
              "type": "string"
            }
          },
          "metadata": {},
          "execution_count": 42
        }
      ]
    },
    {
      "cell_type": "code",
      "source": [
        "#step\n",
        "20 steps:\n",
        "0,1,...20:\n",
        "step1:0,1,2,3,...20\n",
        "step2:0,2,4,6,8....20\n",
        "step6:0,6,12,18"
      ],
      "metadata": {
        "id": "0lOSwuoIbM3m"
      },
      "execution_count": null,
      "outputs": []
    },
    {
      "cell_type": "code",
      "source": [
        "word"
      ],
      "metadata": {
        "colab": {
          "base_uri": "https://localhost:8080/",
          "height": 36
        },
        "id": "5UJmIfSIcPTN",
        "outputId": "16a63aad-a071-43b5-d0e8-b2f2c8f7109c"
      },
      "execution_count": null,
      "outputs": [
        {
          "output_type": "execute_result",
          "data": {
            "text/plain": [
              "'HI, how are you?'"
            ],
            "application/vnd.google.colaboratory.intrinsic+json": {
              "type": "string"
            }
          },
          "metadata": {},
          "execution_count": 43
        }
      ]
    },
    {
      "cell_type": "code",
      "source": [
        "word[4::]#default step:1"
      ],
      "metadata": {
        "colab": {
          "base_uri": "https://localhost:8080/",
          "height": 36
        },
        "id": "iCVAarDocQLw",
        "outputId": "5f97acd4-b99a-46ee-8c44-d1bfd80bf937"
      },
      "execution_count": null,
      "outputs": [
        {
          "output_type": "execute_result",
          "data": {
            "text/plain": [
              "'how are you?'"
            ],
            "application/vnd.google.colaboratory.intrinsic+json": {
              "type": "string"
            }
          },
          "metadata": {},
          "execution_count": 44
        }
      ]
    },
    {
      "cell_type": "code",
      "source": [
        "word[4::2]#[start:end:step]\n",
        "#last index=15\n",
        "#4,6,8,10,12,14\n"
      ],
      "metadata": {
        "colab": {
          "base_uri": "https://localhost:8080/",
          "height": 36
        },
        "id": "TbEZ_YqScY6f",
        "outputId": "d9330f72-89d3-4029-eb70-ab265a1eca08"
      },
      "execution_count": null,
      "outputs": [
        {
          "output_type": "execute_result",
          "data": {
            "text/plain": [
              "'hwaeyu'"
            ],
            "application/vnd.google.colaboratory.intrinsic+json": {
              "type": "string"
            }
          },
          "metadata": {},
          "execution_count": 45
        }
      ]
    },
    {
      "cell_type": "code",
      "source": [
        "#negative index\n",
        "#+ve->left to right\n",
        "#-ve-> right to left\n",
        "\n",
        "word=\"HI, how are you?\"\n",
        "#     0123456789.....15\n",
        "     -16     ...-3-2-1"
      ],
      "metadata": {
        "id": "kQGAkJtwdKcf"
      },
      "execution_count": null,
      "outputs": []
    },
    {
      "cell_type": "code",
      "source": [
        "word[0]"
      ],
      "metadata": {
        "colab": {
          "base_uri": "https://localhost:8080/",
          "height": 36
        },
        "id": "BtQ8FUpAecOg",
        "outputId": "5efa49c4-2ca2-4c78-a521-a501abaedcc0"
      },
      "execution_count": null,
      "outputs": [
        {
          "output_type": "execute_result",
          "data": {
            "text/plain": [
              "'H'"
            ],
            "application/vnd.google.colaboratory.intrinsic+json": {
              "type": "string"
            }
          },
          "metadata": {},
          "execution_count": 46
        }
      ]
    },
    {
      "cell_type": "code",
      "source": [
        "len(word)"
      ],
      "metadata": {
        "colab": {
          "base_uri": "https://localhost:8080/"
        },
        "id": "-RqHPsoaeiGG",
        "outputId": "4529f435-2efd-4726-fa1b-7f98e41278a8"
      },
      "execution_count": null,
      "outputs": [
        {
          "output_type": "execute_result",
          "data": {
            "text/plain": [
              "16"
            ]
          },
          "metadata": {},
          "execution_count": 47
        }
      ]
    },
    {
      "cell_type": "code",
      "source": [
        "word[-16]"
      ],
      "metadata": {
        "colab": {
          "base_uri": "https://localhost:8080/",
          "height": 36
        },
        "id": "M7EMGz5Mekz3",
        "outputId": "ae9002e8-5844-4bbe-d89e-396eb6edff47"
      },
      "execution_count": null,
      "outputs": [
        {
          "output_type": "execute_result",
          "data": {
            "text/plain": [
              "'H'"
            ],
            "application/vnd.google.colaboratory.intrinsic+json": {
              "type": "string"
            }
          },
          "metadata": {},
          "execution_count": 48
        }
      ]
    },
    {
      "cell_type": "code",
      "source": [
        "word[-1]"
      ],
      "metadata": {
        "colab": {
          "base_uri": "https://localhost:8080/",
          "height": 36
        },
        "id": "jCiMbVU6epUD",
        "outputId": "a0ce19ed-8bf5-41c9-a94b-e8b1bdb039a3"
      },
      "execution_count": null,
      "outputs": [
        {
          "output_type": "execute_result",
          "data": {
            "text/plain": [
              "'?'"
            ],
            "application/vnd.google.colaboratory.intrinsic+json": {
              "type": "string"
            }
          },
          "metadata": {},
          "execution_count": 49
        }
      ]
    },
    {
      "cell_type": "code",
      "source": [
        "#slicing\n",
        "#step:+ve start<end\n",
        "#step:-ve start>end"
      ],
      "metadata": {
        "id": "t5SLzVl3ewsc"
      },
      "execution_count": null,
      "outputs": []
    },
    {
      "cell_type": "code",
      "source": [
        "word"
      ],
      "metadata": {
        "colab": {
          "base_uri": "https://localhost:8080/",
          "height": 36
        },
        "id": "x6ZWR9XEe-IB",
        "outputId": "ca831bb3-0225-4327-f72f-8861d7c78f40"
      },
      "execution_count": null,
      "outputs": [
        {
          "output_type": "execute_result",
          "data": {
            "text/plain": [
              "'HI, how are you?'"
            ],
            "application/vnd.google.colaboratory.intrinsic+json": {
              "type": "string"
            }
          },
          "metadata": {},
          "execution_count": 50
        }
      ]
    },
    {
      "cell_type": "code",
      "source": [
        "#[3:10:2]->step 2:3,5,7,9\n",
        "#[10:7:2]->No\n",
        "#[10:7:-1]->10,9,8"
      ],
      "metadata": {
        "id": "8fkhafxpe_II"
      },
      "execution_count": null,
      "outputs": []
    },
    {
      "cell_type": "code",
      "source": [
        "word[10:7:-1]"
      ],
      "metadata": {
        "colab": {
          "base_uri": "https://localhost:8080/",
          "height": 36
        },
        "id": "C2MY_puXf37T",
        "outputId": "ebd461d3-67f2-4672-d6b8-636b2d78099e"
      },
      "execution_count": null,
      "outputs": [
        {
          "output_type": "execute_result",
          "data": {
            "text/plain": [
              "'era'"
            ],
            "application/vnd.google.colaboratory.intrinsic+json": {
              "type": "string"
            }
          },
          "metadata": {},
          "execution_count": 51
        }
      ]
    },
    {
      "cell_type": "code",
      "source": [
        "word[::-1]"
      ],
      "metadata": {
        "colab": {
          "base_uri": "https://localhost:8080/",
          "height": 36
        },
        "id": "fBa99n9pgHwF",
        "outputId": "489250f1-21a7-4d0b-c431-4da8b8a91a64"
      },
      "execution_count": null,
      "outputs": [
        {
          "output_type": "execute_result",
          "data": {
            "text/plain": [
              "'?uoy era woh ,IH'"
            ],
            "application/vnd.google.colaboratory.intrinsic+json": {
              "type": "string"
            }
          },
          "metadata": {},
          "execution_count": 52
        }
      ]
    },
    {
      "cell_type": "code",
      "source": [
        "word=\"HI, how are you?\""
      ],
      "metadata": {
        "id": "nSRwcdtsSDnH"
      },
      "execution_count": null,
      "outputs": []
    },
    {
      "cell_type": "code",
      "source": [
        "word[-10:-2]#step->+ve,-10 to -2\n",
        "#-10,-9,-8,..-3"
      ],
      "metadata": {
        "colab": {
          "base_uri": "https://localhost:8080/",
          "height": 36
        },
        "id": "AQZh7AY7SE0D",
        "outputId": "797fda59-f8e4-4955-ed35-ed02b210f2c4"
      },
      "execution_count": null,
      "outputs": [
        {
          "output_type": "execute_result",
          "data": {
            "text/plain": [
              "'w are yo'"
            ],
            "application/vnd.google.colaboratory.intrinsic+json": {
              "type": "string"
            }
          },
          "metadata": {},
          "execution_count": 3
        }
      ]
    },
    {
      "cell_type": "code",
      "source": [],
      "metadata": {
        "id": "CmbCk58pTXi9"
      },
      "execution_count": null,
      "outputs": []
    },
    {
      "cell_type": "code",
      "source": [
        "-10<-2"
      ],
      "metadata": {
        "colab": {
          "base_uri": "https://localhost:8080/"
        },
        "id": "jv0wCZZWSyVC",
        "outputId": "dc13e053-cf0d-4156-e034-bfbefb95e45f"
      },
      "execution_count": null,
      "outputs": [
        {
          "output_type": "execute_result",
          "data": {
            "text/plain": [
              "True"
            ]
          },
          "metadata": {},
          "execution_count": 2
        }
      ]
    },
    {
      "cell_type": "code",
      "source": [
        "#list=[]\n",
        "#tuple=()\n",
        "#set={}\n",
        "#dictionaries\n",
        "#conditional statements\n",
        "#loops\n",
        "#functions"
      ],
      "metadata": {
        "id": "184w8bLyghXc"
      },
      "execution_count": null,
      "outputs": []
    },
    {
      "cell_type": "code",
      "source": [
        "List: ordered, allows duplicates, mutable\n",
        "Tuple: ordered, allows duplicates, immutuable\n",
        "set: unordered, duplicates not allowed, immutuable\n",
        "#list=[]\n",
        "#tuple=()\n",
        "#set={}\n",
        "#hetrogeneous datatypes\n",
        "10,4,3,65\n",
        "\n",
        "3,4,10,65"
      ],
      "metadata": {
        "id": "yJCEABXkL1Uk"
      },
      "execution_count": null,
      "outputs": []
    },
    {
      "cell_type": "code",
      "source": [
        "#list=[]\n",
        "#hetrogeneous datatypes(multiple datatypes/shape)\n",
        "l=[18,19,20,4,3,21,3,19,20]\n",
        "l"
      ],
      "metadata": {
        "colab": {
          "base_uri": "https://localhost:8080/"
        },
        "id": "Twx1T1RXV-VI",
        "outputId": "91b94465-5dbe-4979-bc92-963d1ef36920"
      },
      "execution_count": null,
      "outputs": [
        {
          "output_type": "execute_result",
          "data": {
            "text/plain": [
              "[18, 19, 20, 4, 3, 21, 3, 19, 20]"
            ]
          },
          "metadata": {},
          "execution_count": 5
        }
      ]
    },
    {
      "cell_type": "code",
      "source": [
        "t=(18,19,20,4,3,21,3,19,20)\n",
        "t"
      ],
      "metadata": {
        "colab": {
          "base_uri": "https://localhost:8080/"
        },
        "id": "OpD9hgqXWkI7",
        "outputId": "8c5c4441-f4a0-47c4-b8d4-71d071406bee"
      },
      "execution_count": null,
      "outputs": [
        {
          "output_type": "execute_result",
          "data": {
            "text/plain": [
              "(18, 19, 20, 4, 3, 21, 3, 19, 20)"
            ]
          },
          "metadata": {},
          "execution_count": 6
        }
      ]
    },
    {
      "cell_type": "code",
      "source": [
        "s={18,19,20,4,3,21,3,19,20}\n",
        "s"
      ],
      "metadata": {
        "colab": {
          "base_uri": "https://localhost:8080/"
        },
        "id": "yyWDILnVW3Qg",
        "outputId": "3a99f1e6-8a3a-4f69-fcb4-459e096cd4c8"
      },
      "execution_count": null,
      "outputs": [
        {
          "output_type": "execute_result",
          "data": {
            "text/plain": [
              "{3, 4, 18, 19, 20, 21}"
            ]
          },
          "metadata": {},
          "execution_count": 7
        }
      ]
    },
    {
      "cell_type": "code",
      "source": [
        "l=[12,10.3,'str',True,[1,3,2],(87,2,3)]\n",
        "l"
      ],
      "metadata": {
        "colab": {
          "base_uri": "https://localhost:8080/"
        },
        "id": "Gp2VdUNfXGlQ",
        "outputId": "726a9044-3e55-4874-bd8d-34205112ca0c"
      },
      "execution_count": null,
      "outputs": [
        {
          "output_type": "execute_result",
          "data": {
            "text/plain": [
              "[12, 10.3, 'str', True, [1, 3, 2], (87, 2, 3)]"
            ]
          },
          "metadata": {},
          "execution_count": 8
        }
      ]
    },
    {
      "cell_type": "code",
      "source": [
        "l[4]"
      ],
      "metadata": {
        "colab": {
          "base_uri": "https://localhost:8080/"
        },
        "id": "91_oQjaoX5dQ",
        "outputId": "313bd014-5faa-435c-c807-771437b34cd9"
      },
      "execution_count": null,
      "outputs": [
        {
          "output_type": "execute_result",
          "data": {
            "text/plain": [
              "[1, 3, 2]"
            ]
          },
          "metadata": {},
          "execution_count": 10
        }
      ]
    },
    {
      "cell_type": "code",
      "source": [
        "l=['j','o','h','n','n','y']"
      ],
      "metadata": {
        "id": "BAdBDRtIZQHv"
      },
      "execution_count": null,
      "outputs": []
    },
    {
      "cell_type": "code",
      "source": [
        "#mutuable\n",
        "->adding/appending new values\n",
        "-> remove the values\n",
        "-> updation"
      ],
      "metadata": {
        "id": "TZXJYdLyYIOt"
      },
      "execution_count": null,
      "outputs": []
    },
    {
      "cell_type": "code",
      "source": [
        "l=[18,19,20,4,3,21,3,19,20]\n",
        "l"
      ],
      "metadata": {
        "colab": {
          "base_uri": "https://localhost:8080/"
        },
        "id": "GeC_b0MKZ2bk",
        "outputId": "59a1aa02-4b82-409c-b290-f341a0548893"
      },
      "execution_count": null,
      "outputs": [
        {
          "output_type": "execute_result",
          "data": {
            "text/plain": [
              "[18, 19, 20, 4, 3, 21, 3, 19, 20]"
            ]
          },
          "metadata": {},
          "execution_count": 25
        }
      ]
    },
    {
      "cell_type": "code",
      "source": [
        "len(l)"
      ],
      "metadata": {
        "colab": {
          "base_uri": "https://localhost:8080/"
        },
        "id": "ywjFUZ0IZ57I",
        "outputId": "0dbca343-8e11-431e-fe13-152fff0fd379"
      },
      "execution_count": null,
      "outputs": [
        {
          "output_type": "execute_result",
          "data": {
            "text/plain": [
              "9"
            ]
          },
          "metadata": {},
          "execution_count": 26
        }
      ]
    },
    {
      "cell_type": "code",
      "source": [
        "print()"
      ],
      "metadata": {
        "colab": {
          "base_uri": "https://localhost:8080/"
        },
        "id": "cRSTOD_Kan9e",
        "outputId": "86bb68af-07f6-4841-aa88-57ed8a5b4e2e"
      },
      "execution_count": null,
      "outputs": [
        {
          "output_type": "stream",
          "name": "stdout",
          "text": [
            "\n"
          ]
        }
      ]
    },
    {
      "cell_type": "code",
      "source": [
        "#append()- this will add the element at end of the list\n",
        "#syntax:list_var.append(value)\n",
        "l.append(45)\n",
        "l"
      ],
      "metadata": {
        "colab": {
          "base_uri": "https://localhost:8080/"
        },
        "id": "J9e5ukKraNAE",
        "outputId": "9964816c-2cc2-498a-97ba-bf1f2e25e8c9"
      },
      "execution_count": null,
      "outputs": [
        {
          "output_type": "execute_result",
          "data": {
            "text/plain": [
              "[18, 19, 20, 4, 3, 21, 3, 19, 20, 45]"
            ]
          },
          "metadata": {},
          "execution_count": 28
        }
      ]
    },
    {
      "cell_type": "code",
      "source": [
        "#insert()-this will add the element at the index position specified\n",
        "#syntax: list_var.insert(index,value)\n",
        "l.insert(0,10)\n",
        "l"
      ],
      "metadata": {
        "colab": {
          "base_uri": "https://localhost:8080/"
        },
        "id": "3hff_Pyqa4ay",
        "outputId": "afd496c2-b4e7-42c8-b8cc-975b0ff54e63"
      },
      "execution_count": null,
      "outputs": [
        {
          "output_type": "execute_result",
          "data": {
            "text/plain": [
              "[10, 18, 19, 20, 4, 3, 21, 3, 19, 20, 45]"
            ]
          },
          "metadata": {},
          "execution_count": 29
        }
      ]
    },
    {
      "cell_type": "code",
      "source": [],
      "metadata": {
        "id": "7ekTglgGdfjn"
      },
      "execution_count": null,
      "outputs": []
    },
    {
      "cell_type": "code",
      "source": [
        "#last value index=-1\n",
        "l.insert(-1,65)\n",
        "l"
      ],
      "metadata": {
        "colab": {
          "base_uri": "https://localhost:8080/"
        },
        "id": "S7uI7vD8bhKQ",
        "outputId": "6bb67296-71be-4eee-c58f-45a6a8754d6e"
      },
      "execution_count": null,
      "outputs": [
        {
          "output_type": "execute_result",
          "data": {
            "text/plain": [
              "[10, 18, 19, 20, 4, 3, 21, 3, 19, 20, 65, 45]"
            ]
          },
          "metadata": {},
          "execution_count": 30
        }
      ]
    },
    {
      "cell_type": "code",
      "source": [
        "l.insert(len(l),100)#(12,100)\n",
        "l"
      ],
      "metadata": {
        "colab": {
          "base_uri": "https://localhost:8080/"
        },
        "id": "wNvI_sJDcEEy",
        "outputId": "4879207d-19fc-4feb-d6b7-e4345aca1d7f"
      },
      "execution_count": null,
      "outputs": [
        {
          "output_type": "execute_result",
          "data": {
            "text/plain": [
              "[10, 18, 19, 20, 4, 3, 21, 3, 19, 20, 65, 45, 100]"
            ]
          },
          "metadata": {},
          "execution_count": 31
        }
      ]
    },
    {
      "cell_type": "code",
      "source": [
        "l.insert(5,'apple')\n",
        "l"
      ],
      "metadata": {
        "colab": {
          "base_uri": "https://localhost:8080/"
        },
        "id": "ddTbJzL1c0DN",
        "outputId": "d4379c5d-2ffb-4870-81dd-4d46840de9eb"
      },
      "execution_count": null,
      "outputs": [
        {
          "output_type": "execute_result",
          "data": {
            "text/plain": [
              "[10, 18, 19, 20, 4, 'apple', 3, 21, 3, 19, 20, 65, 45, 100]"
            ]
          },
          "metadata": {},
          "execution_count": 32
        }
      ]
    },
    {
      "cell_type": "code",
      "source": [
        "#-> remove the values\n",
        "#pop()- removes the last value from the list\n",
        "#list_var.pop()"
      ],
      "metadata": {
        "id": "uVlwh1n9eRoE"
      },
      "execution_count": null,
      "outputs": []
    },
    {
      "cell_type": "code",
      "source": [
        "l.pop()\n",
        "l"
      ],
      "metadata": {
        "colab": {
          "base_uri": "https://localhost:8080/"
        },
        "id": "9US6Rfexe_dy",
        "outputId": "7da1f309-96a0-4bc2-d9ea-4b5e488d5b60"
      },
      "execution_count": null,
      "outputs": [
        {
          "output_type": "execute_result",
          "data": {
            "text/plain": [
              "[10, 18, 19, 20, 4, 'apple', 3, 21, 3, 19, 20, 65, 45]"
            ]
          },
          "metadata": {},
          "execution_count": 33
        }
      ]
    },
    {
      "cell_type": "code",
      "source": [
        "print(l[-1])#\n",
        "l.pop()#removing the last element\n",
        "print(l)#updated list"
      ],
      "metadata": {
        "colab": {
          "base_uri": "https://localhost:8080/"
        },
        "id": "CTzfIF5tfBYE",
        "outputId": "fc7a23c8-4bd9-485e-a799-b1f94ea09b16"
      },
      "execution_count": null,
      "outputs": [
        {
          "output_type": "stream",
          "name": "stdout",
          "text": [
            "45\n",
            "[10, 18, 19, 20, 4, 'apple', 3, 21, 3, 19, 20, 65]\n"
          ]
        }
      ]
    },
    {
      "cell_type": "code",
      "source": [
        "#.remove(value)- removes value from a specific position\n",
        "\n",
        "#del -removes the value of the index passed\n",
        "#syntax: del list_var[index]\n",
        "#del list_var[start:end]"
      ],
      "metadata": {
        "id": "-P3ZwYeafdMn"
      },
      "execution_count": null,
      "outputs": []
    },
    {
      "cell_type": "code",
      "source": [
        "l"
      ],
      "metadata": {
        "colab": {
          "base_uri": "https://localhost:8080/"
        },
        "id": "2fQH_VCkgFE7",
        "outputId": "4dd9671e-c540-400e-a468-b9513938f7f2"
      },
      "execution_count": null,
      "outputs": [
        {
          "output_type": "execute_result",
          "data": {
            "text/plain": [
              "[10, 18, 19, 20, 4, 'apple', 3, 21, 3, 19, 20, 65]"
            ]
          },
          "metadata": {},
          "execution_count": 35
        }
      ]
    },
    {
      "cell_type": "code",
      "source": [
        "l.remove(3)\n",
        "l"
      ],
      "metadata": {
        "colab": {
          "base_uri": "https://localhost:8080/"
        },
        "id": "IV6LQEhQgLov",
        "outputId": "b640dccf-0b57-45c2-dcd8-b36564cb7f72"
      },
      "execution_count": null,
      "outputs": [
        {
          "output_type": "execute_result",
          "data": {
            "text/plain": [
              "[10, 18, 19, 20, 4, 'apple', 21, 3, 19, 20, 65]"
            ]
          },
          "metadata": {},
          "execution_count": 36
        }
      ]
    },
    {
      "cell_type": "code",
      "source": [
        "del l[7]\n",
        "l"
      ],
      "metadata": {
        "colab": {
          "base_uri": "https://localhost:8080/"
        },
        "id": "oRce9p8fgmQ1",
        "outputId": "b587a855-dfd7-45d7-9897-266585de506f"
      },
      "execution_count": null,
      "outputs": [
        {
          "output_type": "execute_result",
          "data": {
            "text/plain": [
              "[10, 18, 19, 20, 4, 'apple', 21, 19, 20, 65]"
            ]
          },
          "metadata": {},
          "execution_count": 37
        }
      ]
    },
    {
      "cell_type": "code",
      "source": [
        "#delete 2 to 5\n",
        "del l[2:6]\n",
        "l"
      ],
      "metadata": {
        "colab": {
          "base_uri": "https://localhost:8080/"
        },
        "id": "CUO_JrMwhQsy",
        "outputId": "2635d1b4-f331-44c2-af16-eb67134ac705"
      },
      "execution_count": null,
      "outputs": [
        {
          "output_type": "execute_result",
          "data": {
            "text/plain": [
              "[10, 18, 21, 19, 20, 65]"
            ]
          },
          "metadata": {},
          "execution_count": 38
        }
      ]
    },
    {
      "cell_type": "code",
      "source": [
        "l"
      ],
      "metadata": {
        "colab": {
          "base_uri": "https://localhost:8080/"
        },
        "id": "ZacEj6zmihib",
        "outputId": "0258137e-de7f-4069-ecde-9ce05a5d3f12"
      },
      "execution_count": null,
      "outputs": [
        {
          "output_type": "execute_result",
          "data": {
            "text/plain": [
              "[10, 18, 21, 19, 20, 65]"
            ]
          },
          "metadata": {},
          "execution_count": 44
        }
      ]
    },
    {
      "cell_type": "code",
      "source": [
        "#18-1,20-4\n",
        "l.pop(1)\n",
        "l"
      ],
      "metadata": {
        "colab": {
          "base_uri": "https://localhost:8080/"
        },
        "id": "LvzWHba-hmlD",
        "outputId": "3ee347ef-093e-41ba-cfb7-8b1cc0237112"
      },
      "execution_count": null,
      "outputs": [
        {
          "output_type": "execute_result",
          "data": {
            "text/plain": [
              "[10, 21, 19, 20, 65]"
            ]
          },
          "metadata": {},
          "execution_count": 45
        }
      ]
    },
    {
      "cell_type": "code",
      "source": [
        "# -> updation"
      ],
      "metadata": {
        "id": "eTiza-OaiG-X"
      },
      "execution_count": null,
      "outputs": []
    },
    {
      "cell_type": "code",
      "source": [
        "l"
      ],
      "metadata": {
        "colab": {
          "base_uri": "https://localhost:8080/"
        },
        "id": "I1gk3N79jE5K",
        "outputId": "1ec1de82-ea76-4094-b029-9d9889ec9923"
      },
      "execution_count": null,
      "outputs": [
        {
          "output_type": "execute_result",
          "data": {
            "text/plain": [
              "[10, 21, 19, 20, 65]"
            ]
          },
          "metadata": {},
          "execution_count": 48
        }
      ]
    },
    {
      "cell_type": "code",
      "source": [
        "#list_var[index]\n",
        "l[2]='abc'"
      ],
      "metadata": {
        "id": "ZuwEdNgfjWaB"
      },
      "execution_count": null,
      "outputs": []
    },
    {
      "cell_type": "code",
      "source": [
        "l"
      ],
      "metadata": {
        "colab": {
          "base_uri": "https://localhost:8080/"
        },
        "id": "F2F3BXXgjnEL",
        "outputId": "87e66587-15a3-497e-a300-35b86601e97f"
      },
      "execution_count": null,
      "outputs": [
        {
          "output_type": "execute_result",
          "data": {
            "text/plain": [
              "[10, 21, 'abc', 20, 65]"
            ]
          },
          "metadata": {},
          "execution_count": 51
        }
      ]
    },
    {
      "cell_type": "code",
      "source": [
        "l[-1]=100\n",
        "l"
      ],
      "metadata": {
        "colab": {
          "base_uri": "https://localhost:8080/"
        },
        "id": "pgEnhmfxjyLG",
        "outputId": "b55be92a-3890-49d5-97bb-36f912ba86cd"
      },
      "execution_count": null,
      "outputs": [
        {
          "output_type": "execute_result",
          "data": {
            "text/plain": [
              "[10, 21, 'abc', 20, 100]"
            ]
          },
          "metadata": {},
          "execution_count": 53
        }
      ]
    },
    {
      "cell_type": "code",
      "source": [
        "l=['hi, iam going crazy']\n",
        "l"
      ],
      "metadata": {
        "colab": {
          "base_uri": "https://localhost:8080/"
        },
        "id": "Jio1qq4bkOhk",
        "outputId": "76ce564f-4a6e-455a-c05d-b51b32cc7f71"
      },
      "execution_count": null,
      "outputs": [
        {
          "output_type": "execute_result",
          "data": {
            "text/plain": [
              "['hi, iam going crazy']"
            ]
          },
          "metadata": {},
          "execution_count": 67
        }
      ]
    },
    {
      "cell_type": "code",
      "source": [
        "l[0][:8]"
      ],
      "metadata": {
        "colab": {
          "base_uri": "https://localhost:8080/",
          "height": 36
        },
        "id": "OYTJx6iAko9S",
        "outputId": "43bebe1e-2d1f-456b-a053-3f0a6d5ea00d"
      },
      "execution_count": null,
      "outputs": [
        {
          "output_type": "execute_result",
          "data": {
            "text/plain": [
              "'hi, iam '"
            ],
            "application/vnd.google.colaboratory.intrinsic+json": {
              "type": "string"
            }
          },
          "metadata": {},
          "execution_count": 68
        }
      ]
    },
    {
      "cell_type": "code",
      "source": [
        "l[0][13:]"
      ],
      "metadata": {
        "colab": {
          "base_uri": "https://localhost:8080/",
          "height": 36
        },
        "id": "aEjkFT5Fkpby",
        "outputId": "2b2a6ca1-b3d4-403d-e872-3ec6c01b43eb"
      },
      "execution_count": null,
      "outputs": [
        {
          "output_type": "execute_result",
          "data": {
            "text/plain": [
              "' crazy'"
            ],
            "application/vnd.google.colaboratory.intrinsic+json": {
              "type": "string"
            }
          },
          "metadata": {},
          "execution_count": 69
        }
      ]
    },
    {
      "cell_type": "code",
      "source": [
        "l[0][:8]+l[0][13:]"
      ],
      "metadata": {
        "colab": {
          "base_uri": "https://localhost:8080/",
          "height": 36
        },
        "id": "U3Xr09lMmPEy",
        "outputId": "3c05bf13-a56c-4f70-d977-83d338ba8127"
      },
      "execution_count": null,
      "outputs": [
        {
          "output_type": "execute_result",
          "data": {
            "text/plain": [
              "'hi, iam  crazy'"
            ],
            "application/vnd.google.colaboratory.intrinsic+json": {
              "type": "string"
            }
          },
          "metadata": {},
          "execution_count": 70
        }
      ]
    },
    {
      "cell_type": "code",
      "source": [
        "#.replace(to_replace,value)-> replaces the value\n",
        "l[0]=l[0].replace('going','')\n",
        "l"
      ],
      "metadata": {
        "colab": {
          "base_uri": "https://localhost:8080/"
        },
        "id": "1J1t2zWpmUGK",
        "outputId": "e8241b18-0985-4d33-e01e-c328342674f3"
      },
      "execution_count": null,
      "outputs": [
        {
          "output_type": "execute_result",
          "data": {
            "text/plain": [
              "['hi, iam  crazy']"
            ]
          },
          "metadata": {},
          "execution_count": 71
        }
      ]
    },
    {
      "cell_type": "code",
      "source": [
        "l=[10, 21, 'abc', 20, 100]\n",
        "l"
      ],
      "metadata": {
        "colab": {
          "base_uri": "https://localhost:8080/"
        },
        "id": "dIVLYGGqmcuq",
        "outputId": "758496ff-85c0-41e4-ea5b-baf91d32a01c"
      },
      "execution_count": null,
      "outputs": [
        {
          "output_type": "execute_result",
          "data": {
            "text/plain": [
              "[10, 21, 'abc', 20, 100]"
            ]
          },
          "metadata": {},
          "execution_count": 72
        }
      ]
    },
    {
      "cell_type": "code",
      "source": [
        "l[2]=l[2].replace('abc','def')\n",
        "l"
      ],
      "metadata": {
        "colab": {
          "base_uri": "https://localhost:8080/"
        },
        "id": "640AnD5dnPJB",
        "outputId": "2b336ff0-f976-4e72-d969-44a3caa6280d"
      },
      "execution_count": null,
      "outputs": [
        {
          "output_type": "execute_result",
          "data": {
            "text/plain": [
              "[10, 21, 'def', 20, 100]"
            ]
          },
          "metadata": {},
          "execution_count": 73
        }
      ]
    },
    {
      "cell_type": "code",
      "source": [],
      "metadata": {
        "id": "wgd1smw1nlK9"
      },
      "execution_count": null,
      "outputs": []
    },
    {
      "cell_type": "code",
      "source": [
        "t=(1,2,1231,2)\n",
        "t"
      ],
      "metadata": {
        "colab": {
          "base_uri": "https://localhost:8080/"
        },
        "id": "LkZ4bF89n-Qo",
        "outputId": "96c8434f-a044-4630-caad-b4283271908b"
      },
      "execution_count": null,
      "outputs": [
        {
          "output_type": "execute_result",
          "data": {
            "text/plain": [
              "(1, 2, 1231, 2)"
            ]
          },
          "metadata": {},
          "execution_count": 75
        }
      ]
    },
    {
      "cell_type": "code",
      "source": [
        "t.append(23)"
      ],
      "metadata": {
        "colab": {
          "base_uri": "https://localhost:8080/",
          "height": 144
        },
        "id": "ySqA05J0os0O",
        "outputId": "bda437b1-7254-4692-ff57-e57320ca03e4"
      },
      "execution_count": null,
      "outputs": [
        {
          "output_type": "error",
          "ename": "AttributeError",
          "evalue": "'tuple' object has no attribute 'append'",
          "traceback": [
            "\u001b[0;31m---------------------------------------------------------------------------\u001b[0m",
            "\u001b[0;31mAttributeError\u001b[0m                            Traceback (most recent call last)",
            "\u001b[0;32m<ipython-input-76-14aff6672cd9>\u001b[0m in \u001b[0;36m<cell line: 0>\u001b[0;34m()\u001b[0m\n\u001b[0;32m----> 1\u001b[0;31m \u001b[0mt\u001b[0m\u001b[0;34m.\u001b[0m\u001b[0mappend\u001b[0m\u001b[0;34m(\u001b[0m\u001b[0;36m23\u001b[0m\u001b[0;34m)\u001b[0m\u001b[0;34m\u001b[0m\u001b[0;34m\u001b[0m\u001b[0m\n\u001b[0m",
            "\u001b[0;31mAttributeError\u001b[0m: 'tuple' object has no attribute 'append'"
          ]
        }
      ]
    },
    {
      "cell_type": "code",
      "source": [
        "t[2]='ashda'"
      ],
      "metadata": {
        "colab": {
          "base_uri": "https://localhost:8080/",
          "height": 144
        },
        "id": "Zop2nmclpRaC",
        "outputId": "50d86da2-b876-49c6-dda1-032945fde153"
      },
      "execution_count": null,
      "outputs": [
        {
          "output_type": "error",
          "ename": "TypeError",
          "evalue": "'tuple' object does not support item assignment",
          "traceback": [
            "\u001b[0;31m---------------------------------------------------------------------------\u001b[0m",
            "\u001b[0;31mTypeError\u001b[0m                                 Traceback (most recent call last)",
            "\u001b[0;32m<ipython-input-77-211896c09f7a>\u001b[0m in \u001b[0;36m<cell line: 0>\u001b[0;34m()\u001b[0m\n\u001b[0;32m----> 1\u001b[0;31m \u001b[0mt\u001b[0m\u001b[0;34m[\u001b[0m\u001b[0;36m2\u001b[0m\u001b[0;34m]\u001b[0m\u001b[0;34m=\u001b[0m\u001b[0;34m'ashda'\u001b[0m\u001b[0;34m\u001b[0m\u001b[0;34m\u001b[0m\u001b[0m\n\u001b[0m",
            "\u001b[0;31mTypeError\u001b[0m: 'tuple' object does not support item assignment"
          ]
        }
      ]
    },
    {
      "cell_type": "code",
      "source": [
        "s={12,12,312,32}"
      ],
      "metadata": {
        "id": "RsEP1jOFpgYD"
      },
      "execution_count": null,
      "outputs": []
    },
    {
      "cell_type": "code",
      "source": [
        "s.append(12)"
      ],
      "metadata": {
        "colab": {
          "base_uri": "https://localhost:8080/",
          "height": 144
        },
        "id": "eEqntBeoqfGc",
        "outputId": "e8f59d3d-ab73-4f97-919d-5a24696af0b9"
      },
      "execution_count": null,
      "outputs": [
        {
          "output_type": "error",
          "ename": "AttributeError",
          "evalue": "'set' object has no attribute 'append'",
          "traceback": [
            "\u001b[0;31m---------------------------------------------------------------------------\u001b[0m",
            "\u001b[0;31mAttributeError\u001b[0m                            Traceback (most recent call last)",
            "\u001b[0;32m<ipython-input-79-a4b85ae78c00>\u001b[0m in \u001b[0;36m<cell line: 0>\u001b[0;34m()\u001b[0m\n\u001b[0;32m----> 1\u001b[0;31m \u001b[0ms\u001b[0m\u001b[0;34m.\u001b[0m\u001b[0mappend\u001b[0m\u001b[0;34m(\u001b[0m\u001b[0;36m12\u001b[0m\u001b[0;34m)\u001b[0m\u001b[0;34m\u001b[0m\u001b[0;34m\u001b[0m\u001b[0m\n\u001b[0m",
            "\u001b[0;31mAttributeError\u001b[0m: 'set' object has no attribute 'append'"
          ]
        }
      ]
    },
    {
      "cell_type": "code",
      "source": [
        "s.add(3)"
      ],
      "metadata": {
        "id": "lvEYHnIlqhCx"
      },
      "execution_count": null,
      "outputs": []
    },
    {
      "cell_type": "code",
      "source": [
        "#dictionaries\n",
        "#conditional statements\n",
        "#loops\n",
        "#functions"
      ],
      "metadata": {
        "id": "ITfKaaitq0tb"
      },
      "execution_count": null,
      "outputs": []
    },
    {
      "cell_type": "code",
      "source": [
        "#mapping datatype\n",
        "dictionaries\n",
        "syntax= {key: value}\n",
        "#key are unqiue value, can be either a string/int\n",
        "#value : hetrogeneous value"
      ],
      "metadata": {
        "id": "4ywTFtu32qHU"
      },
      "execution_count": null,
      "outputs": []
    },
    {
      "cell_type": "code",
      "source": [
        "d={'name':'Sunny','age':26, 10:[1,2,3,2]}\n",
        "d"
      ],
      "metadata": {
        "id": "Vd0o21t-rC9m",
        "colab": {
          "base_uri": "https://localhost:8080/"
        },
        "outputId": "360d70d1-7159-433f-b1be-6cafa948d3a1"
      },
      "execution_count": null,
      "outputs": [
        {
          "output_type": "execute_result",
          "data": {
            "text/plain": [
              "{'name': 'Sunny', 'age': 26, 10: [1, 2, 3, 2]}"
            ]
          },
          "metadata": {},
          "execution_count": 4
        }
      ]
    },
    {
      "cell_type": "code",
      "source": [
        "#l[3]\n",
        "print(d['age'])\n",
        "print(d[10])"
      ],
      "metadata": {
        "id": "hEkEmSe1rMX4",
        "colab": {
          "base_uri": "https://localhost:8080/"
        },
        "outputId": "d83e33dd-9936-48ab-cb5f-4365b88fe985"
      },
      "execution_count": null,
      "outputs": [
        {
          "output_type": "stream",
          "name": "stdout",
          "text": [
            "26\n",
            "[1, 2, 3, 2]\n"
          ]
        }
      ]
    },
    {
      "cell_type": "code",
      "source": [
        "d[10]"
      ],
      "metadata": {
        "id": "VA5OjYVmsgqr",
        "colab": {
          "base_uri": "https://localhost:8080/",
          "height": 36
        },
        "outputId": "9041ee61-5465-4428-c18f-1a8fb2426ff5"
      },
      "execution_count": null,
      "outputs": [
        {
          "output_type": "execute_result",
          "data": {
            "text/plain": [
              "'hello'"
            ],
            "application/vnd.google.colaboratory.intrinsic+json": {
              "type": "string"
            }
          },
          "metadata": {},
          "execution_count": 3
        }
      ]
    },
    {
      "cell_type": "code",
      "source": [
        "d={0:12,1:23,2:65,3:23}\n",
        "d"
      ],
      "metadata": {
        "id": "ZZEJvsP0shZ-",
        "colab": {
          "base_uri": "https://localhost:8080/"
        },
        "outputId": "6a03de3b-d724-4ffd-9498-066866339101"
      },
      "execution_count": null,
      "outputs": [
        {
          "output_type": "execute_result",
          "data": {
            "text/plain": [
              "{0: 12, 1: 23, 2: 65, 3: 23}"
            ]
          },
          "metadata": {},
          "execution_count": 8
        }
      ]
    },
    {
      "cell_type": "code",
      "source": [
        "#what happens if the same key mutiple times\n",
        "d={0:12,1:23,2:65,3:23,2:100}\n",
        "d"
      ],
      "metadata": {
        "id": "5ya-wJFstOId",
        "colab": {
          "base_uri": "https://localhost:8080/"
        },
        "outputId": "b362b6e0-265d-4a3a-bdf4-22a71381b558"
      },
      "execution_count": null,
      "outputs": [
        {
          "output_type": "execute_result",
          "data": {
            "text/plain": [
              "{0: 12, 1: 23, 2: 100, 3: 23}"
            ]
          },
          "metadata": {},
          "execution_count": 26
        }
      ]
    },
    {
      "cell_type": "code",
      "source": [
        "#dictionaries are mutuable data type\n",
        "#add\n",
        "#remove\n",
        "#update"
      ],
      "metadata": {
        "id": "687mmKJQ6EXf"
      },
      "execution_count": null,
      "outputs": []
    },
    {
      "cell_type": "code",
      "source": [
        "d"
      ],
      "metadata": {
        "colab": {
          "base_uri": "https://localhost:8080/"
        },
        "id": "8yFR0ZvM7Ej2",
        "outputId": "799e2ed4-c543-45d4-e090-577b515a33da"
      },
      "execution_count": null,
      "outputs": [
        {
          "output_type": "execute_result",
          "data": {
            "text/plain": [
              "{0: 12, 1: 23, 2: 100, 3: 23}"
            ]
          },
          "metadata": {},
          "execution_count": 28
        }
      ]
    },
    {
      "cell_type": "code",
      "source": [
        "#update\n",
        "#list at index 2 , value =10, update =15"
      ],
      "metadata": {
        "id": "8nsdR43A6XKs"
      },
      "execution_count": null,
      "outputs": []
    },
    {
      "cell_type": "code",
      "source": [
        "d[1]=99\n",
        "d"
      ],
      "metadata": {
        "colab": {
          "base_uri": "https://localhost:8080/"
        },
        "id": "PyRZMbjt7GXi",
        "outputId": "e532e475-5ee5-4ba0-d824-30e69aaefdfb"
      },
      "execution_count": null,
      "outputs": [
        {
          "output_type": "execute_result",
          "data": {
            "text/plain": [
              "{0: 12, 1: 99, 2: 100, 3: 23}"
            ]
          },
          "metadata": {},
          "execution_count": 30
        }
      ]
    },
    {
      "cell_type": "code",
      "source": [
        "#add: create a key which is not in the dictonary and assign a value\n",
        "d[7]=45\n",
        "d"
      ],
      "metadata": {
        "colab": {
          "base_uri": "https://localhost:8080/"
        },
        "id": "enp1RB887J-i",
        "outputId": "5b1950c6-9e03-4b49-9308-9b5e1b12d35d"
      },
      "execution_count": null,
      "outputs": [
        {
          "output_type": "execute_result",
          "data": {
            "text/plain": [
              "{0: 12, 1: 99, 2: 100, 3: 23, 7: 45}"
            ]
          },
          "metadata": {},
          "execution_count": 31
        }
      ]
    },
    {
      "cell_type": "code",
      "source": [
        "d['key1']=(1,2,32,3)\n",
        "d"
      ],
      "metadata": {
        "colab": {
          "base_uri": "https://localhost:8080/"
        },
        "id": "HlGWLlI37gkW",
        "outputId": "5e7866cc-5f04-4119-bb2a-82208759b5f0"
      },
      "execution_count": null,
      "outputs": [
        {
          "output_type": "execute_result",
          "data": {
            "text/plain": [
              "{0: 12, 1: 99, 2: 100, 3: 23, 7: 45, 'key1': (1, 2, 32, 3)}"
            ]
          },
          "metadata": {},
          "execution_count": 32
        }
      ]
    },
    {
      "cell_type": "code",
      "source": [
        "#remove\n",
        "#1.pop('key')\n",
        "#2.del d_name['key']"
      ],
      "metadata": {
        "id": "7PP_Jg_a716c"
      },
      "execution_count": null,
      "outputs": []
    },
    {
      "cell_type": "code",
      "source": [
        "d.pop(3)\n",
        "d"
      ],
      "metadata": {
        "colab": {
          "base_uri": "https://localhost:8080/"
        },
        "id": "vAYkC7eW9CLZ",
        "outputId": "a3bc8f4f-6320-4eb2-d20c-a0ddb650d023"
      },
      "execution_count": null,
      "outputs": [
        {
          "output_type": "execute_result",
          "data": {
            "text/plain": [
              "{0: 12, 1: 99, 2: 100, 7: 45, 'key1': (1, 2, 32, 3)}"
            ]
          },
          "metadata": {},
          "execution_count": 34
        }
      ]
    },
    {
      "cell_type": "code",
      "source": [
        "del d[2]\n",
        "d"
      ],
      "metadata": {
        "colab": {
          "base_uri": "https://localhost:8080/"
        },
        "id": "ngX4OzLv9IGA",
        "outputId": "eaabef13-aaa0-4b3c-a314-ca9a6df674b8"
      },
      "execution_count": null,
      "outputs": [
        {
          "output_type": "execute_result",
          "data": {
            "text/plain": [
              "{0: 12, 1: 99, 7: 45, 'key1': (1, 2, 32, 3)}"
            ]
          },
          "metadata": {},
          "execution_count": 35
        }
      ]
    },
    {
      "cell_type": "code",
      "source": [
        "d"
      ],
      "metadata": {
        "colab": {
          "base_uri": "https://localhost:8080/"
        },
        "id": "O8peIfKM9O5E",
        "outputId": "5ad540e1-2374-4ea2-95ce-ab2ed1a4c1de"
      },
      "execution_count": null,
      "outputs": [
        {
          "output_type": "execute_result",
          "data": {
            "text/plain": [
              "{0: 12, 7: 45, 'key1': (1, 2, 32, 3)}"
            ]
          },
          "metadata": {},
          "execution_count": 37
        }
      ]
    },
    {
      "cell_type": "code",
      "source": [
        "#.keys()- it will retrive all the keys defined in the dictionary\n",
        "#.values()- it will retrive all the values stored in the dictionary\n",
        "#.items()- it will display all the data points in key, value pair"
      ],
      "metadata": {
        "id": "OgMDfyNt9W7g"
      },
      "execution_count": null,
      "outputs": []
    },
    {
      "cell_type": "code",
      "source": [
        "d.keys()"
      ],
      "metadata": {
        "colab": {
          "base_uri": "https://localhost:8080/"
        },
        "id": "LpZewGqh_OXY",
        "outputId": "b9172579-1882-402e-c0db-df627829ea84"
      },
      "execution_count": null,
      "outputs": [
        {
          "output_type": "execute_result",
          "data": {
            "text/plain": [
              "dict_keys([0, 7, 'key1'])"
            ]
          },
          "metadata": {},
          "execution_count": 38
        }
      ]
    },
    {
      "cell_type": "code",
      "source": [
        "d.values()"
      ],
      "metadata": {
        "colab": {
          "base_uri": "https://localhost:8080/"
        },
        "id": "l7kikAjR_SSV",
        "outputId": "2dbab472-8232-4db8-ced9-cdfb06c50ae8"
      },
      "execution_count": null,
      "outputs": [
        {
          "output_type": "execute_result",
          "data": {
            "text/plain": [
              "dict_values([12, 45, (1, 2, 32, 3)])"
            ]
          },
          "metadata": {},
          "execution_count": 39
        }
      ]
    },
    {
      "cell_type": "code",
      "source": [
        "d.items()"
      ],
      "metadata": {
        "colab": {
          "base_uri": "https://localhost:8080/"
        },
        "id": "_IhAw3CN_dEP",
        "outputId": "ecd93600-06d6-44e6-e4f8-55f2cec68757"
      },
      "execution_count": null,
      "outputs": [
        {
          "output_type": "execute_result",
          "data": {
            "text/plain": [
              "dict_items([(0, 12), (7, 45), ('key1', (1, 2, 32, 3))])"
            ]
          },
          "metadata": {},
          "execution_count": 40
        }
      ]
    },
    {
      "cell_type": "code",
      "source": [
        "d"
      ],
      "metadata": {
        "colab": {
          "base_uri": "https://localhost:8080/"
        },
        "id": "PXbho8yVGJ0V",
        "outputId": "9aad259b-fc1a-4773-d91f-b7efff38b789"
      },
      "execution_count": null,
      "outputs": [
        {
          "output_type": "execute_result",
          "data": {
            "text/plain": [
              "{0: 12, 7: 45, 'key1': (1, 2, 32, 3)}"
            ]
          },
          "metadata": {},
          "execution_count": 68
        }
      ]
    },
    {
      "cell_type": "code",
      "source": [
        "d={1:10, 2:20, 3:30, 4:40, 5:50, 6:60, 7:70, 8:80, 9:90, 10:100}\n",
        "d.pop(5)"
      ],
      "metadata": {
        "colab": {
          "base_uri": "https://localhost:8080/"
        },
        "id": "s2rZ_5AkGK-G",
        "outputId": "874cc509-3b3e-4368-ad35-b83f3c31115f"
      },
      "execution_count": null,
      "outputs": [
        {
          "output_type": "execute_result",
          "data": {
            "text/plain": [
              "50"
            ]
          },
          "metadata": {},
          "execution_count": 74
        }
      ]
    },
    {
      "cell_type": "code",
      "source": [
        "del d[6]"
      ],
      "metadata": {
        "id": "3INVYaHqGOMt"
      },
      "execution_count": null,
      "outputs": []
    },
    {
      "cell_type": "code",
      "source": [],
      "metadata": {
        "id": "HC3n_GHsGndo"
      },
      "execution_count": null,
      "outputs": []
    },
    {
      "cell_type": "code",
      "source": [
        "7 in d.keys()"
      ],
      "metadata": {
        "colab": {
          "base_uri": "https://localhost:8080/"
        },
        "id": "Dm2WzePd_lju",
        "outputId": "3ab1938f-c468-43ce-fbb6-b23feb8dd35b"
      },
      "execution_count": null,
      "outputs": [
        {
          "output_type": "execute_result",
          "data": {
            "text/plain": [
              "True"
            ]
          },
          "metadata": {},
          "execution_count": 41
        }
      ]
    },
    {
      "cell_type": "code",
      "source": [
        "'key2' in d.keys()"
      ],
      "metadata": {
        "colab": {
          "base_uri": "https://localhost:8080/"
        },
        "id": "JJsesmIyAItD",
        "outputId": "2f7d41d8-3557-43f6-a5b1-9efc49e4598d"
      },
      "execution_count": null,
      "outputs": [
        {
          "output_type": "execute_result",
          "data": {
            "text/plain": [
              "False"
            ]
          },
          "metadata": {},
          "execution_count": 42
        }
      ]
    },
    {
      "cell_type": "code",
      "source": [
        "#input(\"message\")-used for taking user input\n",
        "#default datatype is string"
      ],
      "metadata": {
        "id": "vqOaETjnANlG"
      },
      "execution_count": null,
      "outputs": []
    },
    {
      "cell_type": "code",
      "source": [
        "x=input()"
      ],
      "metadata": {
        "colab": {
          "base_uri": "https://localhost:8080/"
        },
        "id": "wDMjEl0OAxbf",
        "outputId": "61c78e76-32a3-4066-be1c-77f841812882"
      },
      "execution_count": null,
      "outputs": [
        {
          "name": "stdout",
          "output_type": "stream",
          "text": [
            "hii\n"
          ]
        }
      ]
    },
    {
      "cell_type": "code",
      "source": [
        "x"
      ],
      "metadata": {
        "colab": {
          "base_uri": "https://localhost:8080/",
          "height": 36
        },
        "id": "wfwv1eKtA1QY",
        "outputId": "caa2904c-2020-4067-cc21-71603fc9a2fd"
      },
      "execution_count": null,
      "outputs": [
        {
          "output_type": "execute_result",
          "data": {
            "text/plain": [
              "'hii'"
            ],
            "application/vnd.google.colaboratory.intrinsic+json": {
              "type": "string"
            }
          },
          "metadata": {},
          "execution_count": 45
        }
      ]
    },
    {
      "cell_type": "code",
      "source": [
        "y=input(\"enter your name: \")"
      ],
      "metadata": {
        "colab": {
          "base_uri": "https://localhost:8080/"
        },
        "id": "AqpgdoDwA9lW",
        "outputId": "e61c6f65-c0b8-483f-8a26-c51329bbbec9"
      },
      "execution_count": null,
      "outputs": [
        {
          "name": "stdout",
          "output_type": "stream",
          "text": [
            "enter your name: sunny\n"
          ]
        }
      ]
    },
    {
      "cell_type": "code",
      "source": [
        "y"
      ],
      "metadata": {
        "colab": {
          "base_uri": "https://localhost:8080/",
          "height": 36
        },
        "id": "QKaHxAhCBOI4",
        "outputId": "777689be-f662-414c-87b4-d1033540439f"
      },
      "execution_count": null,
      "outputs": [
        {
          "output_type": "execute_result",
          "data": {
            "text/plain": [
              "'sunny'"
            ],
            "application/vnd.google.colaboratory.intrinsic+json": {
              "type": "string"
            }
          },
          "metadata": {},
          "execution_count": 47
        }
      ]
    },
    {
      "cell_type": "code",
      "source": [
        "z=13\n",
        "z=input(\"enter a number: \")\n",
        "z"
      ],
      "metadata": {
        "colab": {
          "base_uri": "https://localhost:8080/",
          "height": 53
        },
        "id": "nn6oq6jeBVL3",
        "outputId": "3382e8be-8c7b-47de-8fe4-064fd48feef4"
      },
      "execution_count": null,
      "outputs": [
        {
          "name": "stdout",
          "output_type": "stream",
          "text": [
            "enter a number: 154\n"
          ]
        },
        {
          "output_type": "execute_result",
          "data": {
            "text/plain": [
              "'154'"
            ],
            "application/vnd.google.colaboratory.intrinsic+json": {
              "type": "string"
            }
          },
          "metadata": {},
          "execution_count": 49
        }
      ]
    },
    {
      "cell_type": "code",
      "source": [],
      "metadata": {
        "id": "rIAJfFXkCQFk"
      },
      "execution_count": null,
      "outputs": []
    },
    {
      "cell_type": "code",
      "source": [
        "#typecasting:\n",
        "#coversion of one datatype to another\n",
        "#int to float\n",
        "#2 to 2.0\n",
        "#float to int\n",
        "#int to str\n",
        "#2 to '2'\n",
        "#str to int( possible if the value stored is numeric)\n",
        "#'2' to 2 -"
      ],
      "metadata": {
        "id": "YIzH0PU5BkqD"
      },
      "execution_count": null,
      "outputs": []
    },
    {
      "cell_type": "code",
      "source": [
        "type()-used for checking the datatype of a variable"
      ],
      "metadata": {
        "id": "4XlqZvb4DpvA"
      },
      "execution_count": null,
      "outputs": []
    },
    {
      "cell_type": "code",
      "source": [
        "x=2\n",
        "y=13.3\n",
        "z='23'"
      ],
      "metadata": {
        "id": "df2eNfPhDMnh"
      },
      "execution_count": null,
      "outputs": []
    },
    {
      "cell_type": "code",
      "source": [
        "type(z)"
      ],
      "metadata": {
        "colab": {
          "base_uri": "https://localhost:8080/"
        },
        "id": "_wrL7LC1Dvy6",
        "outputId": "5e771673-3410-470f-c413-473dbd454fc8"
      },
      "execution_count": null,
      "outputs": [
        {
          "output_type": "execute_result",
          "data": {
            "text/plain": [
              "str"
            ]
          },
          "metadata": {},
          "execution_count": 55
        }
      ]
    },
    {
      "cell_type": "code",
      "source": [
        "#int to float\n",
        "#syntax: float(int_variable_name)\n",
        "print(float(x))\n",
        "type(float(x))\n"
      ],
      "metadata": {
        "colab": {
          "base_uri": "https://localhost:8080/"
        },
        "id": "seAD0yZsDTRM",
        "outputId": "ed3859ff-a404-4d5f-eca6-a4e84f5fe1c3"
      },
      "execution_count": null,
      "outputs": [
        {
          "output_type": "stream",
          "name": "stdout",
          "text": [
            "2.0\n"
          ]
        },
        {
          "output_type": "execute_result",
          "data": {
            "text/plain": [
              "float"
            ]
          },
          "metadata": {},
          "execution_count": 61
        }
      ]
    },
    {
      "cell_type": "code",
      "source": [
        "#float to int\n",
        "y=13.9\n",
        "y"
      ],
      "metadata": {
        "colab": {
          "base_uri": "https://localhost:8080/"
        },
        "id": "jMrJXI4uDjUA",
        "outputId": "f93978e0-9f6f-4f7f-bb75-e0a0ccea99e6"
      },
      "execution_count": null,
      "outputs": [
        {
          "output_type": "execute_result",
          "data": {
            "text/plain": [
              "13.9"
            ]
          },
          "metadata": {},
          "execution_count": 59
        }
      ]
    },
    {
      "cell_type": "code",
      "source": [
        "int(y)"
      ],
      "metadata": {
        "colab": {
          "base_uri": "https://localhost:8080/"
        },
        "id": "UdtMzipJEENR",
        "outputId": "f5301da2-78ad-4a49-c632-401f63de0a75"
      },
      "execution_count": null,
      "outputs": [
        {
          "output_type": "execute_result",
          "data": {
            "text/plain": [
              "13"
            ]
          },
          "metadata": {},
          "execution_count": 60
        }
      ]
    },
    {
      "cell_type": "code",
      "source": [],
      "metadata": {
        "id": "d2mbPj2EFs1j"
      },
      "execution_count": null,
      "outputs": []
    },
    {
      "cell_type": "code",
      "source": [
        "z"
      ],
      "metadata": {
        "colab": {
          "base_uri": "https://localhost:8080/",
          "height": 36
        },
        "id": "vrzwEFR1EFok",
        "outputId": "e4e19c3e-c233-4624-9e22-125b6aca1254"
      },
      "execution_count": null,
      "outputs": [
        {
          "output_type": "execute_result",
          "data": {
            "text/plain": [
              "'23'"
            ],
            "application/vnd.google.colaboratory.intrinsic+json": {
              "type": "string"
            }
          },
          "metadata": {},
          "execution_count": 62
        }
      ]
    },
    {
      "cell_type": "code",
      "source": [
        "#str to int\n",
        "int(z)"
      ],
      "metadata": {
        "colab": {
          "base_uri": "https://localhost:8080/"
        },
        "id": "E3MGVZa_Etae",
        "outputId": "829bcb75-a15e-486c-9f4a-5c9dac4797ab"
      },
      "execution_count": null,
      "outputs": [
        {
          "output_type": "execute_result",
          "data": {
            "text/plain": [
              "23"
            ]
          },
          "metadata": {},
          "execution_count": 63
        }
      ]
    },
    {
      "cell_type": "code",
      "source": [
        "z=int(input(\"enter a number: \"))\n",
        "type(z)"
      ],
      "metadata": {
        "colab": {
          "base_uri": "https://localhost:8080/"
        },
        "id": "t3_fBGNCE1n9",
        "outputId": "99587dce-14be-4284-b19a-bdf3a400176c"
      },
      "execution_count": null,
      "outputs": [
        {
          "name": "stdout",
          "output_type": "stream",
          "text": [
            "enter a number: 123\n"
          ]
        },
        {
          "output_type": "execute_result",
          "data": {
            "text/plain": [
              "int"
            ]
          },
          "metadata": {},
          "execution_count": 65
        }
      ]
    },
    {
      "cell_type": "code",
      "source": [
        "z=float(input(\"enter a number: \"))\n",
        "type(z)"
      ],
      "metadata": {
        "colab": {
          "base_uri": "https://localhost:8080/"
        },
        "id": "WPHC_r_0FHrL",
        "outputId": "bf50f3a4-24da-409e-92bb-78cb8d559ff9"
      },
      "execution_count": null,
      "outputs": [
        {
          "name": "stdout",
          "output_type": "stream",
          "text": [
            "enter a number: 12.3\n"
          ]
        },
        {
          "output_type": "execute_result",
          "data": {
            "text/plain": [
              "float"
            ]
          },
          "metadata": {},
          "execution_count": 66
        }
      ]
    },
    {
      "cell_type": "code",
      "source": [
        "#conditional statements: if else statements\n",
        "#goal: adding a new key and value\n",
        "#input()- new value\n",
        "key is available: print a message, ask a new key/operation not possible\n",
        "key is not available: then take the value to be stored and assign to the value to dictionary"
      ],
      "metadata": {
        "id": "CliX4Re7HKK5"
      },
      "execution_count": null,
      "outputs": []
    },
    {
      "cell_type": "code",
      "source": [
        "#          weather='mild'\n",
        "if weather=='mild': yes you can play outside\n",
        "# if waether not mild, no you cannot play"
      ],
      "metadata": {
        "id": "ChpiwS1zFO9j"
      },
      "execution_count": null,
      "outputs": []
    },
    {
      "cell_type": "code",
      "source": [
        "#condition=True: code1\n",
        "#condition=False: code2"
      ],
      "metadata": {
        "id": "8j7v6-L5HLHE"
      },
      "execution_count": null,
      "outputs": []
    },
    {
      "cell_type": "code",
      "source": [
        "syntax:\n",
        "if condition:#True-statement1\n",
        "  statement1\n",
        "else:#false-statement2\n",
        "  statement2\n"
      ],
      "metadata": {
        "id": "HI8rcumsLBv6"
      },
      "execution_count": null,
      "outputs": []
    },
    {
      "cell_type": "code",
      "source": [
        "x=43\n",
        "if x%2==0:\n",
        "  print(\"x is even\")\n",
        "else:\n",
        "  print(\"x is odd\")"
      ],
      "metadata": {
        "colab": {
          "base_uri": "https://localhost:8080/"
        },
        "id": "cw4u5hkcLjyX",
        "outputId": "982ed974-50da-4803-9447-175cdc848c85"
      },
      "execution_count": null,
      "outputs": [
        {
          "output_type": "stream",
          "name": "stdout",
          "text": [
            "x is odd\n"
          ]
        }
      ]
    },
    {
      "cell_type": "code",
      "source": [
        "x=12\n",
        "y=16\n",
        "z=14\n",
        "# x:x>y and x>z-(True)- x is largest\n",
        "# y:y>x and y>z-(True)-y is largest\n",
        "# z: if both conditions are false, z is largest"
      ],
      "metadata": {
        "id": "6tovPjK1Lsqc"
      },
      "execution_count": null,
      "outputs": []
    },
    {
      "cell_type": "code",
      "source": [
        "#elif statments- used when you have more than 1 condition\n",
        "\n",
        "#if > elif1>elif2>....>else"
      ],
      "metadata": {
        "id": "G_SXUT5VNpFi"
      },
      "execution_count": null,
      "outputs": []
    },
    {
      "cell_type": "code",
      "source": [
        "syntax:\n",
        "if condition1:#True-statement1\n",
        "  statement1\n",
        "elif condition2:\n",
        "  statement2\n",
        "elif Condition3:\n",
        "  statement3\n",
        "else:\n",
        "  statement4"
      ],
      "metadata": {
        "id": "uq6IEtLbORiP"
      },
      "execution_count": null,
      "outputs": []
    },
    {
      "cell_type": "code",
      "source": [
        "x=12\n",
        "y=16\n",
        "z=14\n",
        "if x>y and x>z:#F and F\n",
        "  print(f\"{x} is largest\")\n",
        "elif y>x and y>z:#T and T\n",
        "  print(f\"{y} is largest\")\n",
        "else:\n",
        "  print(f\"{z} is largest\")"
      ],
      "metadata": {
        "colab": {
          "base_uri": "https://localhost:8080/"
        },
        "id": "olkjD771NvMJ",
        "outputId": "bbb30e6a-2da0-47a2-df6a-ca799eb11bba"
      },
      "execution_count": null,
      "outputs": [
        {
          "output_type": "stream",
          "name": "stdout",
          "text": [
            "16 is largest\n"
          ]
        }
      ]
    },
    {
      "cell_type": "code",
      "source": [
        "#\n",
        "d"
      ],
      "metadata": {
        "colab": {
          "base_uri": "https://localhost:8080/"
        },
        "id": "f15YALrsPKPj",
        "outputId": "c8563742-994c-4e46-ef40-d0d5fc3b3a04"
      },
      "execution_count": null,
      "outputs": [
        {
          "output_type": "execute_result",
          "data": {
            "text/plain": [
              "{1: 10, 2: 20, 3: 30, 4: 40, 7: 70, 8: 80, 9: 90, 10: 100}"
            ]
          },
          "metadata": {},
          "execution_count": 86
        }
      ]
    },
    {
      "cell_type": "code",
      "source": [
        "#take a user input of key to be created\n",
        "#check if the key is available in dictionary\n",
        "#yes: print a message saying key is present,ask for a new key\n",
        "#no : take the value to be added in the dictionary,perform the operations\n",
        "#finally display the updated dictionary"
      ],
      "metadata": {
        "id": "lgwkVwNXPdrt"
      },
      "execution_count": null,
      "outputs": []
    },
    {
      "cell_type": "code",
      "source": [
        "d={}\n",
        "key=input(\"enter a key: \")\n",
        "if key in d.keys():\n",
        "  print(\"key is already present,retry!\")\n",
        "else:\n",
        "  value=input(\"enter the value: \")\n",
        "  d[key]=value\n",
        "print(d)"
      ],
      "metadata": {
        "colab": {
          "base_uri": "https://localhost:8080/"
        },
        "id": "xpeRLAfWANst",
        "outputId": "cf3c8a8e-d581-4ccb-eae3-0fdb17b70d26"
      },
      "execution_count": null,
      "outputs": [
        {
          "output_type": "stream",
          "name": "stdout",
          "text": [
            "enter a key: key1\n",
            "enter the value: 120\n",
            "{'key1': '120'}\n"
          ]
        }
      ]
    },
    {
      "cell_type": "code",
      "source": [
        "key=input(\"enter a key: \")\n",
        "if key in d.keys():\n",
        "  print(\"key is already present,retry!\")\n",
        "else:\n",
        "  value=input(\"enter the value: \")\n",
        "  d[key]=value\n",
        "print(d)"
      ],
      "metadata": {
        "colab": {
          "base_uri": "https://localhost:8080/"
        },
        "id": "7d2ON2K_BSW8",
        "outputId": "70a82ac1-3b04-4e45-e1bb-c1ef87676f04"
      },
      "execution_count": null,
      "outputs": [
        {
          "output_type": "stream",
          "name": "stdout",
          "text": [
            "enter a key: key2\n",
            "key is already present,retry!\n",
            "{'key1': '120', 'key2': '1221'}\n"
          ]
        }
      ]
    },
    {
      "cell_type": "code",
      "source": [
        "#loops/iteration\n",
        "print(\"hello\")\n",
        "print(\"hello\")\n",
        "print(\"hello\")\n",
        "print(\"hello\")"
      ],
      "metadata": {
        "colab": {
          "base_uri": "https://localhost:8080/"
        },
        "id": "xioRklccCqsm",
        "outputId": "5769967a-36bb-4a45-95b2-05dee8904410"
      },
      "execution_count": null,
      "outputs": [
        {
          "output_type": "stream",
          "name": "stdout",
          "text": [
            "hello\n",
            "hello\n",
            "hello\n",
            "hello\n"
          ]
        }
      ]
    },
    {
      "cell_type": "code",
      "source": [
        "track-1km,competition-4km"
      ],
      "metadata": {
        "id": "fiwh8iX9EO9H"
      },
      "execution_count": null,
      "outputs": []
    },
    {
      "cell_type": "code",
      "source": [
        "l=[2,3,2,4,32,423,23]"
      ],
      "metadata": {
        "id": "VGOQStFMHBsZ"
      },
      "execution_count": null,
      "outputs": []
    },
    {
      "cell_type": "code",
      "source": [
        "#for , while loops\n",
        "#for: when the number of iterations are defined\n",
        "#while: loops will be executed till the condition is false\n",
        "\n",
        "#syntax:\n",
        "#for temp_var in variable/range():\n",
        "  #code\n"
      ],
      "metadata": {
        "id": "9EkTUtwyFSQW"
      },
      "execution_count": null,
      "outputs": []
    },
    {
      "cell_type": "code",
      "source": [
        "l"
      ],
      "metadata": {
        "colab": {
          "base_uri": "https://localhost:8080/"
        },
        "id": "nBPU3YXtHJeX",
        "outputId": "1eea81d6-c552-439c-a13e-4dee6ffcafd2"
      },
      "execution_count": null,
      "outputs": [
        {
          "output_type": "execute_result",
          "data": {
            "text/plain": [
              "[2, 3, 2, 4, 32, 423, 23]"
            ]
          },
          "metadata": {},
          "execution_count": 15
        }
      ]
    },
    {
      "cell_type": "code",
      "source": [
        "for i in l:#i=2,3\n",
        "  print(i)\n",
        "#iter1:i=2,print(i)\n",
        "#iter2:i=3,print(i)\n",
        "#iter3:i=2,print(i)\n",
        "#iter4:i=4,print(i)\n",
        "#iter5:i=32,print(i)\n",
        "#iter6:i=423,print(i)\n",
        "#iter7:i=23,print(i)\n",
        "#iter8:loops terminated"
      ],
      "metadata": {
        "colab": {
          "base_uri": "https://localhost:8080/"
        },
        "id": "xT8upOcoHJ3y",
        "outputId": "bab48648-4bd2-4524-d541-7520b66cc253"
      },
      "execution_count": null,
      "outputs": [
        {
          "output_type": "stream",
          "name": "stdout",
          "text": [
            "2\n",
            "3\n",
            "2\n",
            "4\n",
            "32\n",
            "423\n",
            "23\n"
          ]
        }
      ]
    },
    {
      "cell_type": "code",
      "source": [
        "#iter1:i=s,print(i)\n",
        "#iter2:i=t,print(i)\n",
        "#iter3:i=r,print(i)\n",
        "#iter4:i=i,print(i)\n",
        "#iter5:i=n,print(i)\n",
        "#iter6:i=g,print(i)\n",
        "#iter7:loop terminates\n",
        "s=\"string\"\n",
        "for i in s:\n",
        "  print(i)"
      ],
      "metadata": {
        "colab": {
          "base_uri": "https://localhost:8080/"
        },
        "id": "uQysXhIMHLeD",
        "outputId": "bc52fe4c-50d9-4dd4-bef4-20ea026a284f"
      },
      "execution_count": null,
      "outputs": [
        {
          "output_type": "stream",
          "name": "stdout",
          "text": [
            "s\n",
            "t\n",
            "r\n",
            "i\n",
            "n\n",
            "g\n"
          ]
        }
      ]
    },
    {
      "cell_type": "code",
      "source": [
        "#range(low,end,step)\n",
        "#default low value is 0\n",
        "#range(10)-0,...9\n",
        "#range(2,7):2,3,4,5,6"
      ],
      "metadata": {
        "id": "NXCLEwXNJ4DI"
      },
      "execution_count": null,
      "outputs": []
    },
    {
      "cell_type": "code",
      "source": [
        "for num in range(10):#0-9\n",
        "  print(num)"
      ],
      "metadata": {
        "colab": {
          "base_uri": "https://localhost:8080/"
        },
        "id": "xC4m1EurJ8ja",
        "outputId": "354910fd-b1cd-43d5-d983-878a1983d91b"
      },
      "execution_count": null,
      "outputs": [
        {
          "output_type": "stream",
          "name": "stdout",
          "text": [
            "0\n",
            "1\n",
            "2\n",
            "3\n",
            "4\n",
            "5\n",
            "6\n",
            "7\n",
            "8\n",
            "9\n"
          ]
        }
      ]
    },
    {
      "cell_type": "code",
      "source": [
        "for num in range(2,20,3):#2,5,8,11,14,17\n",
        "  print(num)"
      ],
      "metadata": {
        "colab": {
          "base_uri": "https://localhost:8080/"
        },
        "id": "TjpZ1sxuLmWM",
        "outputId": "edac7672-77d3-4c0b-d96f-c7a3f2dcdb05"
      },
      "execution_count": null,
      "outputs": [
        {
          "output_type": "stream",
          "name": "stdout",
          "text": [
            "2\n",
            "5\n",
            "8\n",
            "11\n",
            "14\n",
            "17\n"
          ]
        }
      ]
    },
    {
      "cell_type": "code",
      "source": [
        "l"
      ],
      "metadata": {
        "colab": {
          "base_uri": "https://localhost:8080/"
        },
        "id": "fBLOWDEsMOBU",
        "outputId": "ee7183f7-bcc6-495d-f35d-c1238915a0ea"
      },
      "execution_count": null,
      "outputs": [
        {
          "output_type": "execute_result",
          "data": {
            "text/plain": [
              "[2, 3, 2, 4, 32, 423, 23]"
            ]
          },
          "metadata": {},
          "execution_count": 22
        }
      ]
    },
    {
      "cell_type": "code",
      "source": [
        "# print(l[0])\n",
        "# print(l[1])\n",
        "# print(l[2])\n",
        "#print(l[7])\n",
        "for a in range(len(l)):#0-6\n",
        "  print(l[a])"
      ],
      "metadata": {
        "colab": {
          "base_uri": "https://localhost:8080/"
        },
        "id": "BcM3xBcRMRJC",
        "outputId": "42de138f-7eb6-4487-cf12-7ec2cb599435"
      },
      "execution_count": null,
      "outputs": [
        {
          "output_type": "stream",
          "name": "stdout",
          "text": [
            "2\n",
            "3\n",
            "2\n",
            "4\n",
            "32\n",
            "423\n",
            "23\n"
          ]
        }
      ]
    },
    {
      "cell_type": "code",
      "source": [
        "d={}\n",
        "for i in range(4):\n",
        "  key=input(\"enter a key: \")\n",
        "  if key in d.keys():\n",
        "    print(\"key is already present,retry!\")\n",
        "  else:\n",
        "    value=input(\"enter the value: \")\n",
        "    d[key]=value\n",
        "print(d)"
      ],
      "metadata": {
        "colab": {
          "base_uri": "https://localhost:8080/"
        },
        "id": "i5jooBVLMhnk",
        "outputId": "c7c94573-536d-42cd-ccff-1e914e4e55c3"
      },
      "execution_count": null,
      "outputs": [
        {
          "output_type": "stream",
          "name": "stdout",
          "text": [
            "enter a key: key1\n",
            "enter the value: 120\n",
            "{'key1': '120'}\n",
            "enter a key: key2\n",
            "enter the value: 123\n",
            "{'key1': '120', 'key2': '123'}\n",
            "enter a key: key3\n",
            "enter the value: 1223\n",
            "{'key1': '120', 'key2': '123', 'key3': '1223'}\n",
            "enter a key: key2\n",
            "key is already present,retry!\n",
            "{'key1': '120', 'key2': '123', 'key3': '1223'}\n"
          ]
        }
      ]
    },
    {
      "cell_type": "code",
      "source": [
        "#i=2\n",
        "#sum=0\n",
        "#end=20\n",
        "\n",
        "#i=56\n",
        "#sum=0\n",
        "#end=23824966\n",
        "#while loop:\n",
        "#syntax:\n",
        "while condition:\n",
        "  code\n",
        "#"
      ],
      "metadata": {
        "id": "MIS23Y2bOs8h"
      },
      "execution_count": null,
      "outputs": []
    },
    {
      "cell_type": "code",
      "source": [
        "i=0#1,2,3,4,5\n",
        "while i<5:\n",
        "  print(i)#4\n",
        "  i+=1#i=i+1\n",
        "#iter1:i=0,True-print(i),i=1\n",
        "#iter2:i=1,True-print(i),i=2\n",
        "#iter3:i=2,True-print(i),i=3\n",
        "#iter4:i=3,True-print(i),i=4\n",
        "#iter5:i=4,True-print(i),i=5\n",
        "#iter6:i=5,False- loop terminates"
      ],
      "metadata": {
        "colab": {
          "base_uri": "https://localhost:8080/"
        },
        "id": "yFwWyQuPSagq",
        "outputId": "d5109b07-9143-487b-a21d-b3d7979f0e31"
      },
      "execution_count": null,
      "outputs": [
        {
          "output_type": "stream",
          "name": "stdout",
          "text": [
            "0\n",
            "1\n",
            "2\n",
            "3\n",
            "4\n"
          ]
        }
      ]
    },
    {
      "cell_type": "code",
      "source": [
        "print(i)"
      ],
      "metadata": {
        "colab": {
          "base_uri": "https://localhost:8080/"
        },
        "id": "Nzkl6lJXT7Wx",
        "outputId": "855d354d-7d10-4bb2-853f-1993de72533f"
      },
      "execution_count": null,
      "outputs": [
        {
          "output_type": "stream",
          "name": "stdout",
          "text": [
            "5\n"
          ]
        }
      ]
    },
    {
      "cell_type": "code",
      "source": [
        "l"
      ],
      "metadata": {
        "colab": {
          "base_uri": "https://localhost:8080/"
        },
        "id": "y5bC6SHiUO9I",
        "outputId": "2bdbf4d0-de69-471f-9555-efc8afd0d32b"
      },
      "execution_count": null,
      "outputs": [
        {
          "output_type": "execute_result",
          "data": {
            "text/plain": [
              "[2, 3, 2, 4, 32, 423, 23]"
            ]
          },
          "metadata": {},
          "execution_count": 30
        }
      ]
    },
    {
      "cell_type": "code",
      "source": [
        "#using while loop, print all of the values inside the list"
      ],
      "metadata": {
        "id": "nLhjDEKlT8Hl"
      },
      "execution_count": null,
      "outputs": []
    },
    {
      "cell_type": "code",
      "source": [
        "ind=0\n",
        "while ind<len(l):\n",
        "  print(l[ind])\n",
        "  ind+=1"
      ],
      "metadata": {
        "colab": {
          "base_uri": "https://localhost:8080/"
        },
        "id": "OVsuHH8vVYCB",
        "outputId": "96d96184-fd5e-4e1e-c136-e4a3712dbd81"
      },
      "execution_count": null,
      "outputs": [
        {
          "output_type": "stream",
          "name": "stdout",
          "text": [
            "2\n",
            "3\n",
            "2\n",
            "4\n",
            "32\n",
            "423\n",
            "23\n"
          ]
        }
      ]
    },
    {
      "cell_type": "code",
      "source": [
        "#using while loops add the variable to the sum, until sum is equal to 216\n",
        "i=3\n",
        "sum=0#216#219\n",
        "while sum<=216:\n",
        "  sum+=i\n",
        "\n",
        "  if sum==216:\n",
        "    print(sum)\n",
        "print(f\"final sum: {sum}\")"
      ],
      "metadata": {
        "colab": {
          "base_uri": "https://localhost:8080/"
        },
        "id": "W-B0aI0JVouW",
        "outputId": "075a25f5-52f4-443a-9ef6-a55756ee4ef8"
      },
      "execution_count": null,
      "outputs": [
        {
          "output_type": "stream",
          "name": "stdout",
          "text": [
            "216\n",
            "final sum: 219\n"
          ]
        }
      ]
    },
    {
      "cell_type": "code",
      "source": [
        "#break statments: it will end/terminate the entire loops\n",
        "#continue statments: this will end/terminate just the current itteration"
      ],
      "metadata": {
        "id": "G-YEowGbY_7c"
      },
      "execution_count": null,
      "outputs": []
    },
    {
      "cell_type": "code",
      "source": [
        "i=3\n",
        "sum=0#3\n",
        "while sum<=216:\n",
        "  sum+=i\n",
        "  break\n",
        "  if sum==216:\n",
        "    print(sum)\n",
        "print(f\"final sum: {sum}\")"
      ],
      "metadata": {
        "colab": {
          "base_uri": "https://localhost:8080/"
        },
        "id": "fY9WC9d0K28G",
        "outputId": "bf873106-bad1-4311-f8b4-a07d6c3c9f54"
      },
      "execution_count": null,
      "outputs": [
        {
          "output_type": "stream",
          "name": "stdout",
          "text": [
            "final sum: 3\n"
          ]
        }
      ]
    },
    {
      "cell_type": "code",
      "source": [],
      "metadata": {
        "id": "HlL-dApSLQo5"
      },
      "execution_count": null,
      "outputs": []
    },
    {
      "cell_type": "code",
      "source": [
        "#iter1: sum=0, True, sum=3,break-terminates the loop"
      ],
      "metadata": {
        "id": "m8_zh3LMK3wB"
      },
      "execution_count": null,
      "outputs": []
    },
    {
      "cell_type": "code",
      "source": [
        "l=[12,232,32,4,1,231,3]\n",
        "for i in l:\n",
        "  print(i)\n",
        "  break"
      ],
      "metadata": {
        "colab": {
          "base_uri": "https://localhost:8080/"
        },
        "id": "T6S9nZnvLSM2",
        "outputId": "a5cec8e3-b6f4-471e-cc05-313d7e5676b6"
      },
      "execution_count": null,
      "outputs": [
        {
          "output_type": "stream",
          "name": "stdout",
          "text": [
            "12\n"
          ]
        }
      ]
    },
    {
      "cell_type": "code",
      "source": [
        "l=[12,232,32,4,1,231,3]\n",
        "for i in l:\n",
        "  print(i)\n",
        "  if i%32==0:\n",
        "    break"
      ],
      "metadata": {
        "colab": {
          "base_uri": "https://localhost:8080/"
        },
        "id": "zOFSii4NLWOY",
        "outputId": "33b0c3ad-d6d0-44d4-aba5-be36d38e5f63"
      },
      "execution_count": null,
      "outputs": [
        {
          "output_type": "stream",
          "name": "stdout",
          "text": [
            "12\n",
            "232\n",
            "32\n"
          ]
        }
      ]
    },
    {
      "cell_type": "code",
      "source": [
        "l=[12,232,32,4,1,231,3]\n",
        "for i in l:#i=1\n",
        "  if i%2!=0:\n",
        "    break\n",
        "  print(i)"
      ],
      "metadata": {
        "colab": {
          "base_uri": "https://localhost:8080/"
        },
        "id": "4wS533_oMGvU",
        "outputId": "9bc4b2e7-7302-4d32-8223-1a9b5c5580c9"
      },
      "execution_count": null,
      "outputs": [
        {
          "output_type": "stream",
          "name": "stdout",
          "text": [
            "12\n",
            "232\n",
            "32\n",
            "4\n"
          ]
        }
      ]
    },
    {
      "cell_type": "code",
      "source": [
        "for i in range(3):\n",
        "  print(\"Hi\")\n",
        "  print(\"123\")\n",
        "  print(\"hello\")\n",
        "  break\n",
        "  print(124)"
      ],
      "metadata": {
        "colab": {
          "base_uri": "https://localhost:8080/"
        },
        "id": "KZoU5hSIQED6",
        "outputId": "b958e400-f753-43b3-d66c-8d4a327dc870"
      },
      "execution_count": null,
      "outputs": [
        {
          "output_type": "stream",
          "name": "stdout",
          "text": [
            "Hi\n",
            "123\n",
            "hello\n"
          ]
        }
      ]
    },
    {
      "cell_type": "code",
      "source": [
        "#continue\n",
        "#take all the even number, if any odd number skip it\n",
        "l=[12,232,32,4,1,231,3,212,32,5]\n",
        "for i in l:\n",
        "  if i%2!=0:\n",
        "    break\n",
        "  print(i)"
      ],
      "metadata": {
        "colab": {
          "base_uri": "https://localhost:8080/"
        },
        "id": "StpzO9kuMXT7",
        "outputId": "543c330a-febe-4c26-a3e7-2d8026380a64"
      },
      "execution_count": null,
      "outputs": [
        {
          "output_type": "stream",
          "name": "stdout",
          "text": [
            "12\n",
            "232\n",
            "32\n",
            "4\n"
          ]
        }
      ]
    },
    {
      "cell_type": "code",
      "source": [
        "l"
      ],
      "metadata": {
        "colab": {
          "base_uri": "https://localhost:8080/"
        },
        "id": "H2dG__qbRk6I",
        "outputId": "d6630cde-fdd1-4c7a-d83a-db521637353e"
      },
      "execution_count": null,
      "outputs": [
        {
          "output_type": "execute_result",
          "data": {
            "text/plain": [
              "[12, 232, 32, 4, 1, 231, 3, 212, 32, 5]"
            ]
          },
          "metadata": {},
          "execution_count": 17
        }
      ]
    },
    {
      "cell_type": "code",
      "source": [
        "for i in l:\n",
        "  if i%2!=0:#this condition is true when number is not divisible by 2, odd\n",
        "    continue\n",
        "  print(i)\n"
      ],
      "metadata": {
        "colab": {
          "base_uri": "https://localhost:8080/"
        },
        "id": "dJroRursNZpm",
        "outputId": "3dc007b2-401e-41ad-c228-41ca1355c14b"
      },
      "execution_count": null,
      "outputs": [
        {
          "output_type": "stream",
          "name": "stdout",
          "text": [
            "12\n",
            "232\n",
            "32\n",
            "4\n",
            "212\n",
            "32\n"
          ]
        }
      ]
    },
    {
      "cell_type": "code",
      "source": [
        "#functions:\n",
        "block of code will execute only when it is called/(function call)"
      ],
      "metadata": {
        "id": "VVCpbwFsOILK"
      },
      "execution_count": null,
      "outputs": []
    },
    {
      "cell_type": "code",
      "source": [
        "#syntax:\n",
        "#def function_name():\n",
        "#  code\n",
        "\n",
        "#function call:\n",
        "function_name()"
      ],
      "metadata": {
        "id": "Yd1QdT9_SiSV"
      },
      "execution_count": null,
      "outputs": []
    },
    {
      "cell_type": "code",
      "source": [
        "def func():\n",
        "  print(\"Hello\")"
      ],
      "metadata": {
        "id": "ICia5o6NTV3u"
      },
      "execution_count": null,
      "outputs": []
    },
    {
      "cell_type": "code",
      "source": [
        "func()"
      ],
      "metadata": {
        "colab": {
          "base_uri": "https://localhost:8080/"
        },
        "id": "kiqysugGUPLs",
        "outputId": "1d375377-3c7d-4bc5-9fc1-0185b8403d63"
      },
      "execution_count": null,
      "outputs": [
        {
          "output_type": "stream",
          "name": "stdout",
          "text": [
            "Hello\n"
          ]
        }
      ]
    },
    {
      "cell_type": "code",
      "source": [
        "name=input(\"enter the name: \")\n",
        "func()\n",
        "print(f\"welcome back {name}\")"
      ],
      "metadata": {
        "colab": {
          "base_uri": "https://localhost:8080/"
        },
        "id": "Bl9l8-BMUsMC",
        "outputId": "655f10db-15b1-4c9c-b997-63afdf05d366"
      },
      "execution_count": null,
      "outputs": [
        {
          "output_type": "stream",
          "name": "stdout",
          "text": [
            "enter the name: max\n",
            "Hello\n",
            "welcome back max\n"
          ]
        }
      ]
    },
    {
      "cell_type": "code",
      "source": [
        "name=input(\"enter the name: \")\n",
        "print(\"hello\")\n",
        "print(f\"welcome back {name}\")\n",
        "\n",
        "num=3\n",
        "if num%2==0:\n",
        "  print(\"even\")\n",
        "else:\n",
        "  print(\"odd\")"
      ],
      "metadata": {
        "colab": {
          "base_uri": "https://localhost:8080/"
        },
        "id": "wuNRT5_cVXnw",
        "outputId": "eb8d8c1f-f454-435d-c343-edc1a24b17b6"
      },
      "execution_count": null,
      "outputs": [
        {
          "output_type": "stream",
          "name": "stdout",
          "text": [
            "odd\n"
          ]
        }
      ]
    },
    {
      "cell_type": "code",
      "source": [
        "def func1():\n",
        "  name=input(\"enter the name: \")\n",
        "  print(\"hello\")\n",
        "  print(f\"welcome back {name}\")\n",
        "\n",
        "def func2():\n",
        "  num=3\n",
        "  if num%2==0:\n",
        "    print(\"even\")\n",
        "  else:\n",
        "    print(\"odd\")\n",
        "\n",
        "\n",
        "func1()"
      ],
      "metadata": {
        "colab": {
          "base_uri": "https://localhost:8080/"
        },
        "id": "cRmdhIAFWHhP",
        "outputId": "9945b156-e5f4-4076-ce94-374729186414"
      },
      "execution_count": null,
      "outputs": [
        {
          "output_type": "stream",
          "name": "stdout",
          "text": [
            "enter the name: max\n",
            "hello\n",
            "welcome back max\n"
          ]
        }
      ]
    },
    {
      "cell_type": "code",
      "source": [
        "input()\n"
      ],
      "metadata": {
        "id": "3FDb63muYQTH"
      },
      "execution_count": null,
      "outputs": []
    },
    {
      "cell_type": "code",
      "source": [
        "func2()"
      ],
      "metadata": {
        "colab": {
          "base_uri": "https://localhost:8080/"
        },
        "id": "JHMIt5bCXO6X",
        "outputId": "e9e30f59-db83-481d-fcc0-f439c367a8af"
      },
      "execution_count": null,
      "outputs": [
        {
          "output_type": "stream",
          "name": "stdout",
          "text": [
            "odd\n"
          ]
        }
      ]
    },
    {
      "cell_type": "code",
      "source": [
        "func2()"
      ],
      "metadata": {
        "colab": {
          "base_uri": "https://localhost:8080/"
        },
        "id": "3suwNvW-YVry",
        "outputId": "95d64edb-a92d-490c-8044-11ebca2444a2"
      },
      "execution_count": null,
      "outputs": [
        {
          "output_type": "stream",
          "name": "stdout",
          "text": [
            "odd\n"
          ]
        }
      ]
    },
    {
      "cell_type": "code",
      "source": [
        "def func1():\n",
        "  name=input(\"enter the name: \")\n",
        "  print(\"hello\")\n",
        "  print(f\"welcome back {name}\")\n",
        "\n",
        "def user_login():\n",
        "  func1()\n",
        "  user_id=input(\"enter your id:\")\n",
        "  password=input(f\"enter your password for id :{user_id} \")"
      ],
      "metadata": {
        "id": "zlrZzLdfYWrT"
      },
      "execution_count": null,
      "outputs": []
    },
    {
      "cell_type": "code",
      "source": [
        "user_login()"
      ],
      "metadata": {
        "colab": {
          "base_uri": "https://localhost:8080/"
        },
        "id": "7DKsWnimZSWj",
        "outputId": "11680f05-6f64-4c39-9fec-3f98c728d9e0"
      },
      "execution_count": null,
      "outputs": [
        {
          "name": "stdout",
          "output_type": "stream",
          "text": [
            "enter the name: max\n",
            "hello\n",
            "welcome back max\n",
            "enter your id:125183\n",
            "enter your password for id :125183 ashdaasd\n"
          ]
        }
      ]
    },
    {
      "cell_type": "code",
      "source": [
        "def even_odd():\n",
        "  num=3\n",
        "  if num%2==0:\n",
        "    print(\"even\")\n",
        "  else:\n",
        "    print(\"odd\")"
      ],
      "metadata": {
        "id": "SKwVasRaZ8_F"
      },
      "execution_count": null,
      "outputs": []
    },
    {
      "cell_type": "code",
      "source": [
        "def even_odd():\n",
        "  num=int(input(\"enter a number: \"))\n",
        "  if num%2==0:\n",
        "    print(\"even\")\n",
        "  else:\n",
        "    print(\"odd\")"
      ],
      "metadata": {
        "id": "L_tBedpQbUmc"
      },
      "execution_count": null,
      "outputs": []
    },
    {
      "cell_type": "code",
      "source": [
        "even_odd()"
      ],
      "metadata": {
        "colab": {
          "base_uri": "https://localhost:8080/"
        },
        "id": "HIFDRIo-bXtX",
        "outputId": "626cb6c6-fd93-4711-b86e-758bc4d7c045"
      },
      "execution_count": null,
      "outputs": [
        {
          "output_type": "stream",
          "name": "stdout",
          "text": [
            "enter a number: 23\n",
            "odd\n"
          ]
        }
      ]
    },
    {
      "cell_type": "code",
      "source": [
        "even_odd()"
      ],
      "metadata": {
        "colab": {
          "base_uri": "https://localhost:8080/"
        },
        "id": "6s-D_j2ZbZZT",
        "outputId": "5560fa55-889a-4338-d567-f99a071d06b2"
      },
      "execution_count": null,
      "outputs": [
        {
          "output_type": "stream",
          "name": "stdout",
          "text": [
            "enter a number: 12132\n",
            "even\n"
          ]
        }
      ]
    },
    {
      "cell_type": "code",
      "source": [
        "#syntax:\n",
        "#def function_name(parameters):\n",
        "#  code\n",
        "\n",
        "\n",
        "#parameters: are variable we can use or passed inside the function\n",
        "#,arguments: values passed to the parameter"
      ],
      "metadata": {
        "id": "VRPhYoPzbcIi"
      },
      "execution_count": null,
      "outputs": []
    },
    {
      "cell_type": "code",
      "source": [
        "def even_odd(num):#num is a parameter\n",
        "  if num%2==0:\n",
        "    print(\"even\")\n",
        "  else:\n",
        "    print(\"odd\")\n",
        "\n",
        "#\n",
        "even_odd(12)#12- argument"
      ],
      "metadata": {
        "colab": {
          "base_uri": "https://localhost:8080/"
        },
        "id": "3Ll1DZaZbxmc",
        "outputId": "8177ab51-7921-445d-be3c-f6fa1514a0f1"
      },
      "execution_count": null,
      "outputs": [
        {
          "output_type": "stream",
          "name": "stdout",
          "text": [
            "even\n"
          ]
        }
      ]
    },
    {
      "cell_type": "code",
      "source": [
        "def addition(num1,num2):\n",
        "  print(num1+num2)\n",
        "\n",
        "addition(12,3)"
      ],
      "metadata": {
        "colab": {
          "base_uri": "https://localhost:8080/"
        },
        "id": "UY9rRfqQcDMD",
        "outputId": "98cd953e-81b2-4e15-bb98-e22f93d85acf"
      },
      "execution_count": null,
      "outputs": [
        {
          "output_type": "stream",
          "name": "stdout",
          "text": [
            "15\n"
          ]
        }
      ]
    },
    {
      "cell_type": "code",
      "source": [
        "addition(12)"
      ],
      "metadata": {
        "colab": {
          "base_uri": "https://localhost:8080/",
          "height": 144
        },
        "id": "D6OZJniIcx9z",
        "outputId": "0202bf2a-1d1f-468e-8e53-c04aaf1da954"
      },
      "execution_count": null,
      "outputs": [
        {
          "output_type": "error",
          "ename": "TypeError",
          "evalue": "addition() missing 1 required positional argument: 'num2'",
          "traceback": [
            "\u001b[0;31m---------------------------------------------------------------------------\u001b[0m",
            "\u001b[0;31mTypeError\u001b[0m                                 Traceback (most recent call last)",
            "\u001b[0;32m<ipython-input-44-b733e20f1cf7>\u001b[0m in \u001b[0;36m<cell line: 0>\u001b[0;34m()\u001b[0m\n\u001b[0;32m----> 1\u001b[0;31m \u001b[0maddition\u001b[0m\u001b[0;34m(\u001b[0m\u001b[0;36m12\u001b[0m\u001b[0;34m)\u001b[0m\u001b[0;34m\u001b[0m\u001b[0;34m\u001b[0m\u001b[0m\n\u001b[0m",
            "\u001b[0;31mTypeError\u001b[0m: addition() missing 1 required positional argument: 'num2'"
          ]
        }
      ]
    },
    {
      "cell_type": "code",
      "source": [
        "addition(12,3,2)"
      ],
      "metadata": {
        "colab": {
          "base_uri": "https://localhost:8080/",
          "height": 144
        },
        "id": "tf4iVU-0c0XT",
        "outputId": "27107063-b241-4e40-c8d4-b7b3ec5d8c86"
      },
      "execution_count": null,
      "outputs": [
        {
          "output_type": "error",
          "ename": "TypeError",
          "evalue": "addition() takes 2 positional arguments but 3 were given",
          "traceback": [
            "\u001b[0;31m---------------------------------------------------------------------------\u001b[0m",
            "\u001b[0;31mTypeError\u001b[0m                                 Traceback (most recent call last)",
            "\u001b[0;32m<ipython-input-45-dfa39b7310bd>\u001b[0m in \u001b[0;36m<cell line: 0>\u001b[0;34m()\u001b[0m\n\u001b[0;32m----> 1\u001b[0;31m \u001b[0maddition\u001b[0m\u001b[0;34m(\u001b[0m\u001b[0;36m12\u001b[0m\u001b[0;34m,\u001b[0m\u001b[0;36m3\u001b[0m\u001b[0;34m,\u001b[0m\u001b[0;36m2\u001b[0m\u001b[0;34m)\u001b[0m\u001b[0;34m\u001b[0m\u001b[0;34m\u001b[0m\u001b[0m\n\u001b[0m",
            "\u001b[0;31mTypeError\u001b[0m: addition() takes 2 positional arguments but 3 were given"
          ]
        }
      ]
    },
    {
      "cell_type": "code",
      "source": [
        "#return statments\n",
        "x=input()"
      ],
      "metadata": {
        "colab": {
          "base_uri": "https://localhost:8080/"
        },
        "id": "WObwvrjHdKWL",
        "outputId": "507e5a8b-42d0-4735-8e12-cd1c71070ae2"
      },
      "execution_count": null,
      "outputs": [
        {
          "name": "stdout",
          "output_type": "stream",
          "text": [
            "hello\n"
          ]
        }
      ]
    },
    {
      "cell_type": "code",
      "source": [
        "x"
      ],
      "metadata": {
        "colab": {
          "base_uri": "https://localhost:8080/",
          "height": 36
        },
        "id": "e24YalsNey4a",
        "outputId": "4aca0b54-1e51-494d-9c3a-a372af854630"
      },
      "execution_count": null,
      "outputs": [
        {
          "output_type": "execute_result",
          "data": {
            "text/plain": [
              "'hello'"
            ],
            "application/vnd.google.colaboratory.intrinsic+json": {
              "type": "string"
            }
          },
          "metadata": {},
          "execution_count": 57
        }
      ]
    },
    {
      "cell_type": "code",
      "source": [
        "y=addition(12,4)"
      ],
      "metadata": {
        "colab": {
          "base_uri": "https://localhost:8080/"
        },
        "id": "Ma7aNGbxdqKw",
        "outputId": "225ed23d-9683-4bb8-cab4-d946dcb8ceb6"
      },
      "execution_count": null,
      "outputs": [
        {
          "output_type": "stream",
          "name": "stdout",
          "text": [
            "16\n"
          ]
        }
      ]
    },
    {
      "cell_type": "code",
      "source": [
        "def addition(num1,num2):\n",
        "  return num1+num2"
      ],
      "metadata": {
        "id": "vFs1m6dAeJ6r"
      },
      "execution_count": null,
      "outputs": []
    },
    {
      "cell_type": "code",
      "source": [
        "def addition_1():\n",
        "  num1=int(input(\"enter the number1: \"))\n",
        "  num2=int(input(\"enter the number2: \"))\n",
        "  return num1+num2"
      ],
      "metadata": {
        "id": "_W6obBUde6WZ"
      },
      "execution_count": null,
      "outputs": []
    },
    {
      "cell_type": "code",
      "source": [
        "y=addition(3,4)"
      ],
      "metadata": {
        "id": "stT1RJA9eN3i"
      },
      "execution_count": null,
      "outputs": []
    },
    {
      "cell_type": "code",
      "source": [
        "y"
      ],
      "metadata": {
        "colab": {
          "base_uri": "https://localhost:8080/"
        },
        "id": "pRYOEi6Hej4r",
        "outputId": "84c8737a-69f6-436e-d68a-53bc3c09683c"
      },
      "execution_count": null,
      "outputs": [
        {
          "output_type": "execute_result",
          "data": {
            "text/plain": [
              "7"
            ]
          },
          "metadata": {},
          "execution_count": 55
        }
      ]
    },
    {
      "cell_type": "code",
      "source": [
        "z=addition_1()"
      ],
      "metadata": {
        "colab": {
          "base_uri": "https://localhost:8080/"
        },
        "id": "oP2VuP62ert9",
        "outputId": "0e038a32-1183-4d11-c4fb-bae5492dcc39"
      },
      "execution_count": null,
      "outputs": [
        {
          "name": "stdout",
          "output_type": "stream",
          "text": [
            "enter the number1: 23\n",
            "enter the number2: 45\n"
          ]
        }
      ]
    },
    {
      "cell_type": "code",
      "source": [
        "z"
      ],
      "metadata": {
        "colab": {
          "base_uri": "https://localhost:8080/"
        },
        "id": "vVB4o5whfE6u",
        "outputId": "77e73008-3769-4bd7-f50d-54d08cb4e138"
      },
      "execution_count": null,
      "outputs": [
        {
          "output_type": "execute_result",
          "data": {
            "text/plain": [
              "68"
            ]
          },
          "metadata": {},
          "execution_count": 61
        }
      ]
    },
    {
      "cell_type": "code",
      "source": [
        "def user_details():\n",
        "  name=input(\"enter your name: \")\n",
        "  id=input(f\"Hi {name}, enter your id: \")\n",
        "  return name,id\n",
        "\n",
        "user_details()"
      ],
      "metadata": {
        "colab": {
          "base_uri": "https://localhost:8080/"
        },
        "id": "chVmE7_1fkbj",
        "outputId": "8469c609-d553-49c8-a43e-9e83041e084c"
      },
      "execution_count": null,
      "outputs": [
        {
          "name": "stdout",
          "output_type": "stream",
          "text": [
            "enter your name: max\n",
            "Hi max, enter your id: 1238\n"
          ]
        },
        {
          "output_type": "execute_result",
          "data": {
            "text/plain": [
              "('max', '1238')"
            ]
          },
          "metadata": {},
          "execution_count": 62
        }
      ]
    },
    {
      "cell_type": "code",
      "source": [
        "#addition of 2 numbers, than calculate the square the addition\n",
        "add=addition(12,3)\n",
        "add**2"
      ],
      "metadata": {
        "colab": {
          "base_uri": "https://localhost:8080/"
        },
        "id": "0TaC6J9MgwP7",
        "outputId": "6e0aaeba-ac01-4c27-de8f-c9841caa69a0"
      },
      "execution_count": null,
      "outputs": [
        {
          "output_type": "execute_result",
          "data": {
            "text/plain": [
              "225"
            ]
          },
          "metadata": {},
          "execution_count": 65
        }
      ]
    },
    {
      "cell_type": "code",
      "source": [
        "add=addition_1()\n",
        "add**2"
      ],
      "metadata": {
        "colab": {
          "base_uri": "https://localhost:8080/"
        },
        "id": "dW0gUTjuh97w",
        "outputId": "d0ede484-5f18-46f7-d0e7-96817a9b0c16"
      },
      "execution_count": null,
      "outputs": [
        {
          "name": "stdout",
          "output_type": "stream",
          "text": [
            "enter the number1: 12\n",
            "enter the number2: 3\n"
          ]
        },
        {
          "output_type": "execute_result",
          "data": {
            "text/plain": [
              "225"
            ]
          },
          "metadata": {},
          "execution_count": 66
        }
      ]
    },
    {
      "cell_type": "code",
      "source": [
        "def addition(num1,num2):\n",
        "  return num1+num2\n",
        "\n",
        "addition(11,4)"
      ],
      "metadata": {
        "colab": {
          "base_uri": "https://localhost:8080/"
        },
        "id": "BMe6BvvGiOfQ",
        "outputId": "5a606f1a-1297-4887-c48f-f2fde1907c4e"
      },
      "execution_count": null,
      "outputs": [
        {
          "output_type": "execute_result",
          "data": {
            "text/plain": [
              "15"
            ]
          },
          "metadata": {},
          "execution_count": 77
        }
      ]
    },
    {
      "cell_type": "code",
      "source": [
        "#list.pop()#ind=last_index #last index\n",
        "#list.pop(1)#ind=index"
      ],
      "metadata": {
        "id": "hktrxQlLitq9"
      },
      "execution_count": null,
      "outputs": []
    },
    {
      "cell_type": "code",
      "source": [
        "#key word parameter,\n",
        "#parameter,keyword parameter\n",
        "def addition(num1,num2=10):\n",
        "  return num1+num2\n",
        "\n",
        "addition(11,4)"
      ],
      "metadata": {
        "colab": {
          "base_uri": "https://localhost:8080/"
        },
        "id": "VJDfKuKGjIwr",
        "outputId": "4bebb5b1-7e73-4233-bab4-678466cb4006"
      },
      "execution_count": null,
      "outputs": [
        {
          "output_type": "execute_result",
          "data": {
            "text/plain": [
              "15"
            ]
          },
          "metadata": {},
          "execution_count": 72
        }
      ]
    },
    {
      "cell_type": "code",
      "source": [
        "addition(30)"
      ],
      "metadata": {
        "colab": {
          "base_uri": "https://localhost:8080/"
        },
        "id": "Adpi1QxIjQxT",
        "outputId": "786b3b1b-5d1e-4b21-f068-8150e974ce9a"
      },
      "execution_count": null,
      "outputs": [
        {
          "output_type": "execute_result",
          "data": {
            "text/plain": [
              "40"
            ]
          },
          "metadata": {},
          "execution_count": 69
        }
      ]
    },
    {
      "cell_type": "code",
      "source": [
        "addition(10)"
      ],
      "metadata": {
        "colab": {
          "base_uri": "https://localhost:8080/"
        },
        "id": "Y2A3YH4ZjYJn",
        "outputId": "9243c1dc-6a85-441b-8d8f-a0ea490a3031"
      },
      "execution_count": null,
      "outputs": [
        {
          "output_type": "execute_result",
          "data": {
            "text/plain": [
              "20"
            ]
          },
          "metadata": {},
          "execution_count": 71
        }
      ]
    },
    {
      "cell_type": "code",
      "source": [
        "def addition(num1=5,num2=10):\n",
        "  return num1+num2\n",
        "\n",
        "addition(11,14)"
      ],
      "metadata": {
        "colab": {
          "base_uri": "https://localhost:8080/"
        },
        "id": "cJrsmsE8j0pB",
        "outputId": "96b86445-51dc-4974-b582-a1a6a1165a4b"
      },
      "execution_count": null,
      "outputs": [
        {
          "output_type": "execute_result",
          "data": {
            "text/plain": [
              "25"
            ]
          },
          "metadata": {},
          "execution_count": 74
        }
      ]
    },
    {
      "cell_type": "code",
      "source": [
        "addition()#shift + tab"
      ],
      "metadata": {
        "colab": {
          "base_uri": "https://localhost:8080/"
        },
        "id": "Ngg0w46-kYFp",
        "outputId": "185ecf1e-ca1a-4703-cecb-a5af3454a7a7"
      },
      "execution_count": null,
      "outputs": [
        {
          "output_type": "execute_result",
          "data": {
            "text/plain": [
              "15"
            ]
          },
          "metadata": {},
          "execution_count": 75
        }
      ]
    },
    {
      "cell_type": "code",
      "source": [
        "addition(num2=20)#keyword argument"
      ],
      "metadata": {
        "colab": {
          "base_uri": "https://localhost:8080/"
        },
        "id": "Q83Fc38kkcbR",
        "outputId": "b99844c6-ec9e-4af5-e29e-dbde25a9fbe3"
      },
      "execution_count": null,
      "outputs": [
        {
          "output_type": "execute_result",
          "data": {
            "text/plain": [
              "25"
            ]
          },
          "metadata": {},
          "execution_count": 76
        }
      ]
    },
    {
      "cell_type": "code",
      "source": [
        "addition()"
      ],
      "metadata": {
        "id": "VQMfFMUgkpft"
      },
      "execution_count": null,
      "outputs": []
    },
    {
      "cell_type": "code",
      "source": [],
      "metadata": {
        "id": "Sx58AHUhltER"
      },
      "execution_count": null,
      "outputs": []
    },
    {
      "cell_type": "code",
      "source": [
        "#*args(arguments): this allow you to pass a multuple number of arguments to a functions\n",
        "def addition(num1,num2):\n",
        "  return num1+num2\n",
        "\n",
        "addition(11,4)\n",
        "\n",
        "#**kwargs"
      ],
      "metadata": {
        "id": "K6lX56Ntlvi8"
      },
      "execution_count": null,
      "outputs": []
    },
    {
      "cell_type": "code",
      "source": [
        "def addition(*num):\n",
        "  sum=0#21\n",
        "  for i in num:\n",
        "    sum=sum+i#sum+=i\n",
        "  return sum"
      ],
      "metadata": {
        "id": "HU7ld3fFUUEy"
      },
      "execution_count": null,
      "outputs": []
    },
    {
      "cell_type": "code",
      "source": [
        "addition(12,3,2,4)"
      ],
      "metadata": {
        "colab": {
          "base_uri": "https://localhost:8080/"
        },
        "id": "cSnK4KWYUdVz",
        "outputId": "40d02a75-b742-4805-ceec-9d2f830e84ef"
      },
      "execution_count": null,
      "outputs": [
        {
          "output_type": "execute_result",
          "data": {
            "text/plain": [
              "21"
            ]
          },
          "metadata": {},
          "execution_count": 4
        }
      ]
    },
    {
      "cell_type": "code",
      "source": [
        "addition(12,3,2,3,4,5,6,6,7,81,23,2)"
      ],
      "metadata": {
        "colab": {
          "base_uri": "https://localhost:8080/"
        },
        "id": "vyzE4bWuUv2J",
        "outputId": "c547354a-7502-43ba-f16b-0262e8eb343c"
      },
      "execution_count": null,
      "outputs": [
        {
          "output_type": "execute_result",
          "data": {
            "text/plain": [
              "154"
            ]
          },
          "metadata": {},
          "execution_count": 7
        }
      ]
    },
    {
      "cell_type": "code",
      "source": [
        "#nested loops:"
      ],
      "metadata": {
        "id": "jw-voTUYWl8l"
      },
      "execution_count": null,
      "outputs": []
    },
    {
      "cell_type": "code",
      "source": [
        "d={1:{'name': \"John\", 'age': 23},2:{'name': 'Doe', 'age': 20}}"
      ],
      "metadata": {
        "id": "p0mwCpxKV29K"
      },
      "execution_count": null,
      "outputs": []
    },
    {
      "cell_type": "code",
      "source": [
        "d.values()"
      ],
      "metadata": {
        "colab": {
          "base_uri": "https://localhost:8080/"
        },
        "id": "y6oz1-oXYiKR",
        "outputId": "8be5d790-2955-401c-87b2-f1a11134142c"
      },
      "execution_count": null,
      "outputs": [
        {
          "output_type": "execute_result",
          "data": {
            "text/plain": [
              "dict_values([{'name': 'John', 'age': 23}, {'name': 'Doe', 'age': 20}])"
            ]
          },
          "metadata": {},
          "execution_count": 12
        }
      ]
    },
    {
      "cell_type": "code",
      "source": [
        "for i in d.values():\n",
        "  #print(i)\n",
        "  for j in i.values():#['john','value']\n",
        "    print(j)\n",
        "#iter1 i={'name': 'John', 'age': 23},i.values()"
      ],
      "metadata": {
        "colab": {
          "base_uri": "https://localhost:8080/"
        },
        "id": "laH8JiHOXJrX",
        "outputId": "ecf22a34-d4b2-48b3-db89-01cc2ebc197b"
      },
      "execution_count": null,
      "outputs": [
        {
          "output_type": "stream",
          "name": "stdout",
          "text": [
            "John\n",
            "23\n",
            "Doe\n",
            "20\n"
          ]
        }
      ]
    },
    {
      "cell_type": "code",
      "source": [
        "for i in d.values():\n",
        "  print(i)"
      ],
      "metadata": {
        "colab": {
          "base_uri": "https://localhost:8080/"
        },
        "id": "dy7DhVfaXTcU",
        "outputId": "a4519699-c998-473d-fa5f-142787463330"
      },
      "execution_count": null,
      "outputs": [
        {
          "output_type": "stream",
          "name": "stdout",
          "text": [
            "{'name': 'John', 'age': 23}\n",
            "{'name': 'Doe', 'age': 20}\n"
          ]
        }
      ]
    },
    {
      "cell_type": "code",
      "source": [
        "l=[[1,2,3,4],[[2,3,4],[2,3,2]],[2,35,78]]\n"
      ],
      "metadata": {
        "id": "OTVmlfikYWEX"
      },
      "execution_count": null,
      "outputs": []
    },
    {
      "cell_type": "code",
      "source": [
        "for i in l:\n",
        "  print(i)"
      ],
      "metadata": {
        "colab": {
          "base_uri": "https://localhost:8080/"
        },
        "id": "Fuv6otzcZ0pq",
        "outputId": "450d0309-a773-42ae-ba0d-aa5ed87a9df9"
      },
      "execution_count": null,
      "outputs": [
        {
          "output_type": "stream",
          "name": "stdout",
          "text": [
            "[1, 2, 3, 4]\n",
            "[[2, 3, 4], [2, 3, 2]]\n",
            "[2, 35, 78]\n"
          ]
        }
      ]
    },
    {
      "cell_type": "code",
      "source": [
        "for i in l:\n",
        "  for num in i:\n",
        "    print(num)\n",
        "#outer iter1 :i=[1,2,3,4]\n",
        "#inner iter1: num=1\n",
        "#inner iter2: num=2\n",
        "#inner iter3: num=3\n",
        "#inner iter4: num=4\n",
        "\n",
        "#outer iter2:i=[2,3,2]"
      ],
      "metadata": {
        "colab": {
          "base_uri": "https://localhost:8080/"
        },
        "id": "YHdZakt0aCGW",
        "outputId": "318f37c7-efff-4054-a686-c9afd451d686"
      },
      "execution_count": null,
      "outputs": [
        {
          "output_type": "stream",
          "name": "stdout",
          "text": [
            "1\n",
            "2\n",
            "3\n",
            "4\n",
            "[2, 3, 4]\n",
            "[2, 3, 2]\n",
            "2\n",
            "35\n",
            "78\n"
          ]
        }
      ]
    },
    {
      "cell_type": "code",
      "source": [
        "for i in l:\n",
        "  for num in i:\n",
        "    if type(num)==list or type(num)==tuple:\n",
        "      for num3 in num:\n",
        "        print(num3)\n",
        "    else:\n",
        "      print(num)\n"
      ],
      "metadata": {
        "colab": {
          "base_uri": "https://localhost:8080/"
        },
        "id": "L1qDdIeKaSbR",
        "outputId": "fda45ec4-bd4e-48bb-cedb-afc6654d1ce8"
      },
      "execution_count": null,
      "outputs": [
        {
          "output_type": "stream",
          "name": "stdout",
          "text": [
            "1\n",
            "2\n",
            "3\n",
            "4\n",
            "2\n",
            "3\n",
            "4\n",
            "2\n",
            "3\n",
            "2\n",
            "2\n",
            "35\n",
            "78\n"
          ]
        }
      ]
    },
    {
      "cell_type": "code",
      "source": [
        "#question : armstrong number\n",
        "345,3 digits ,sum of cubes of individual numbers==original Number\n",
        "3^3+4^3+5^3==345\n",
        "\n",
        "\n",
        "17,2 digit,1^2+7^2==17\n",
        "50!=17-armstrong number\n",
        "\n",
        "153-> 1^3+5^3+3^3\n",
        "\n",
        "1+125+27==153"
      ],
      "metadata": {
        "id": "yi-92DH5b6QI"
      },
      "execution_count": null,
      "outputs": []
    },
    {
      "cell_type": "code",
      "source": [
        "int(input(\"enter a number: \"))"
      ],
      "metadata": {
        "colab": {
          "base_uri": "https://localhost:8080/",
          "height": 162
        },
        "id": "c14KrjfMk6ml",
        "outputId": "cdebf337-5333-4720-cf5f-847e4c2849bd"
      },
      "execution_count": null,
      "outputs": [
        {
          "name": "stdout",
          "output_type": "stream",
          "text": [
            "enter a number: 153a\n"
          ]
        },
        {
          "output_type": "error",
          "ename": "ValueError",
          "evalue": "invalid literal for int() with base 10: '153a'",
          "traceback": [
            "\u001b[0;31m---------------------------------------------------------------------------\u001b[0m",
            "\u001b[0;31mValueError\u001b[0m                                Traceback (most recent call last)",
            "\u001b[0;32m<ipython-input-29-a6e06bfa6933>\u001b[0m in \u001b[0;36m<cell line: 0>\u001b[0;34m()\u001b[0m\n\u001b[0;32m----> 1\u001b[0;31m \u001b[0mint\u001b[0m\u001b[0;34m(\u001b[0m\u001b[0minput\u001b[0m\u001b[0;34m(\u001b[0m\u001b[0;34m\"enter a number: \"\u001b[0m\u001b[0;34m)\u001b[0m\u001b[0;34m)\u001b[0m\u001b[0;34m\u001b[0m\u001b[0;34m\u001b[0m\u001b[0m\n\u001b[0m",
            "\u001b[0;31mValueError\u001b[0m: invalid literal for int() with base 10: '153a'"
          ]
        }
      ]
    },
    {
      "cell_type": "code",
      "source": [
        "for i in str(153):\n",
        "  print(i)"
      ],
      "metadata": {
        "colab": {
          "base_uri": "https://localhost:8080/"
        },
        "id": "Z3kWDJ0qlJ4U",
        "outputId": "0e28f96c-2374-407c-afc0-09863048e0e6"
      },
      "execution_count": null,
      "outputs": [
        {
          "output_type": "stream",
          "name": "stdout",
          "text": [
            "1\n",
            "5\n",
            "3\n"
          ]
        }
      ]
    },
    {
      "cell_type": "code",
      "source": [
        "def armstrong_number():\n",
        "  num=int(input(\"enter a number: \"))\n",
        "  digit=len(str(num))#153-'153'--3\n",
        "  sum=0\n",
        "  for i in str(num):\n",
        "    sum+=int(i)**digit#sum=sum+int(i)**digit\n",
        "  if sum==num:\n",
        "    print(f\"{num} is an armstrong number\")\n",
        "  else:\n",
        "    print(f\"{num} is not an armstrong number\")"
      ],
      "metadata": {
        "id": "HuLSgLwFkD15"
      },
      "execution_count": null,
      "outputs": []
    },
    {
      "cell_type": "code",
      "source": [
        "armstrong_number()"
      ],
      "metadata": {
        "colab": {
          "base_uri": "https://localhost:8080/"
        },
        "id": "EsUQZF6alzjG",
        "outputId": "d64b40ab-51de-4cac-b161-9ade177191af"
      },
      "execution_count": null,
      "outputs": [
        {
          "output_type": "stream",
          "name": "stdout",
          "text": [
            "enter a number: 153\n",
            "153 is an armstrong number\n"
          ]
        }
      ]
    },
    {
      "cell_type": "code",
      "source": [
        "armstrong_number()"
      ],
      "metadata": {
        "colab": {
          "base_uri": "https://localhost:8080/"
        },
        "id": "lirm73_5l0a4",
        "outputId": "ce73c1e8-e7ba-4740-a8dc-7e825d1e045c"
      },
      "execution_count": null,
      "outputs": [
        {
          "output_type": "stream",
          "name": "stdout",
          "text": [
            "enter a number: 17\n",
            "17 is not an armstrong number\n"
          ]
        }
      ]
    },
    {
      "cell_type": "code",
      "source": [
        "#prime number\n",
        "def prime_number():\n",
        "  num=int(input(\"enter a number: \"))\n",
        "  if num>1:#27,2...26\n",
        "    for i in range(2,num):\n",
        "      if num%i==0:\n",
        "        print(f\"{num} is not prime\")\n",
        "        break\n",
        "    else:\n",
        "      print(f\"{num} is prime\")\n"
      ],
      "metadata": {
        "id": "EmFweN4jl5h5"
      },
      "execution_count": null,
      "outputs": []
    },
    {
      "cell_type": "code",
      "source": [
        "prime_number()"
      ],
      "metadata": {
        "colab": {
          "base_uri": "https://localhost:8080/"
        },
        "id": "-pPb57GbsNsZ",
        "outputId": "84b8357f-a254-468e-a410-d6b55e801c90"
      },
      "execution_count": null,
      "outputs": [
        {
          "output_type": "stream",
          "name": "stdout",
          "text": [
            "enter a number: 27\n",
            "27 is not prime\n"
          ]
        }
      ]
    },
    {
      "cell_type": "code",
      "source": [
        "prime_number()"
      ],
      "metadata": {
        "colab": {
          "base_uri": "https://localhost:8080/"
        },
        "id": "gQgRmkp6sPPL",
        "outputId": "83029226-2f0c-4dc4-c324-14fb05f75dd1"
      },
      "execution_count": null,
      "outputs": [
        {
          "output_type": "stream",
          "name": "stdout",
          "text": [
            "enter a number: 17\n",
            "17 is prime\n"
          ]
        }
      ]
    },
    {
      "cell_type": "code",
      "source": [],
      "metadata": {
        "id": "zXGazhRCsWPT"
      },
      "execution_count": null,
      "outputs": []
    }
  ]
}