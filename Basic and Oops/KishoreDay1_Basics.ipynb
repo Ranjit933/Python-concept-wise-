{
  "nbformat": 4,
  "nbformat_minor": 0,
  "metadata": {
    "colab": {
      "provenance": []
    },
    "kernelspec": {
      "name": "python3",
      "display_name": "Python 3"
    },
    "language_info": {
      "name": "python"
    }
  },
  "cells": [
    {
      "cell_type": "code",
      "execution_count": null,
      "metadata": {
        "id": "gHSNO1M016xg"
      },
      "outputs": [],
      "source": [
        "#What is python?\n",
        "HLL interpreted programming language\n",
        "\n",
        "#What is Program?\n",
        "set of instructions-- written in certain programming language--- which further computer can execute\n",
        "performs a certain task\n",
        "\n",
        "\n",
        "\n",
        "HLL Interpreted:---High level is not directly processed by machines.\n",
        "#Translator:-------------------\n",
        "Interpreter and Compiler"
      ]
    },
    {
      "cell_type": "code",
      "source": [
        "#compiler: translates the entire program into machine code in one go\n",
        "#fast bcz entire code is pre- compiled\n",
        "#detects errors while compiling\n",
        "\n",
        "#It compiles the entire code it generates an intermediate executable file ehich is platform\n",
        "#independent and then executes the code.\n",
        "C++ and Java"
      ],
      "metadata": {
        "id": "cCGp-J7y6e4J"
      },
      "execution_count": null,
      "outputs": []
    },
    {
      "cell_type": "code",
      "source": [
        "#interpreter:\n",
        "#it translates the code in line by line manner\n",
        "#speed it pretty low-- since each line is executed one by one\n",
        "#error in line\n",
        "python and js"
      ],
      "metadata": {
        "id": "zJFwsF-c7fum"
      },
      "execution_count": null,
      "outputs": []
    },
    {
      "cell_type": "code",
      "source": [
        "print(\"hello world!\")"
      ],
      "metadata": {
        "colab": {
          "base_uri": "https://localhost:8080/"
        },
        "id": "tY3NfShH7dl7",
        "outputId": "1cc765be-d539-425d-b8e4-767cac141060"
      },
      "execution_count": null,
      "outputs": [
        {
          "output_type": "stream",
          "name": "stdout",
          "text": [
            "hello world!\n"
          ]
        }
      ]
    },
    {
      "cell_type": "code",
      "source": [
        "a = 10\n",
        "print(a)"
      ],
      "metadata": {
        "colab": {
          "base_uri": "https://localhost:8080/"
        },
        "id": "Tc9EaHyrKGBU",
        "outputId": "0d78963e-c727-40d3-e164-204d7b6155eb"
      },
      "execution_count": null,
      "outputs": [
        {
          "output_type": "stream",
          "name": "stdout",
          "text": [
            "10\n"
          ]
        }
      ]
    },
    {
      "cell_type": "code",
      "source": [
        "print(\"Kishore\")\n",
        "print(a)\n",
        "I = 0\n",
        "print(I)"
      ],
      "metadata": {
        "colab": {
          "base_uri": "https://localhost:8080/"
        },
        "id": "YuT7D5_zKQAj",
        "outputId": "6004cdbc-9d25-4f1c-8f64-08c9902283fc"
      },
      "execution_count": null,
      "outputs": [
        {
          "output_type": "stream",
          "name": "stdout",
          "text": [
            "Kishore\n",
            "10\n",
            "0\n"
          ]
        }
      ]
    },
    {
      "cell_type": "code",
      "source": [
        "#this is used to make comments in python which are iggnored by python interpreter"
      ],
      "metadata": {
        "id": "ej1txtg5Kf9k"
      },
      "execution_count": null,
      "outputs": []
    },
    {
      "cell_type": "code",
      "source": [
        "print(\"Hello world\")"
      ],
      "metadata": {
        "colab": {
          "base_uri": "https://localhost:8080/"
        },
        "id": "UNAuYypoLa53",
        "outputId": "cdbce06e-df1d-4ae0-879e-bec941bd8ede"
      },
      "execution_count": null,
      "outputs": [
        {
          "output_type": "stream",
          "name": "stdout",
          "text": [
            "Hello world\n"
          ]
        }
      ]
    },
    {
      "cell_type": "code",
      "source": [
        "print('hello world')"
      ],
      "metadata": {
        "colab": {
          "base_uri": "https://localhost:8080/"
        },
        "id": "AbIINQxlN8z8",
        "outputId": "7364d5e6-d134-4e89-860d-56f5b26597a6"
      },
      "execution_count": null,
      "outputs": [
        {
          "output_type": "stream",
          "name": "stdout",
          "text": [
            "hello world\n"
          ]
        }
      ]
    },
    {
      "cell_type": "code",
      "source": [
        "print('Kishor's class')"
      ],
      "metadata": {
        "colab": {
          "base_uri": "https://localhost:8080/",
          "height": 106
        },
        "id": "zGmvFoxZN_mm",
        "outputId": "ec686ac1-57ef-4e86-cbd8-deb957b39b7f"
      },
      "execution_count": null,
      "outputs": [
        {
          "output_type": "error",
          "ename": "SyntaxError",
          "evalue": "unterminated string literal (detected at line 1) (<ipython-input-17-7acbd402aa20>, line 1)",
          "traceback": [
            "\u001b[0;36m  File \u001b[0;32m\"<ipython-input-17-7acbd402aa20>\"\u001b[0;36m, line \u001b[0;32m1\u001b[0m\n\u001b[0;31m    print('Kishor's class')\u001b[0m\n\u001b[0m                         ^\u001b[0m\n\u001b[0;31mSyntaxError\u001b[0m\u001b[0;31m:\u001b[0m unterminated string literal (detected at line 1)\n"
          ]
        }
      ]
    },
    {
      "cell_type": "code",
      "source": [
        "#comments in python (multiple line)\n",
        "\"\"\"Kishore is our trainer for\n",
        "\n",
        "python Basics\n",
        "\n",
        "from today\"\"\"\n",
        "\n",
        "# Diff bw '' and \"\"\n",
        "print(\"Kishor's class\")"
      ],
      "metadata": {
        "colab": {
          "base_uri": "https://localhost:8080/"
        },
        "id": "BF-eud8qOHuF",
        "outputId": "1c03e903-f271-411e-9fbc-f4f8fd432301"
      },
      "execution_count": null,
      "outputs": [
        {
          "output_type": "stream",
          "name": "stdout",
          "text": [
            "Kishor's class\n"
          ]
        }
      ]
    },
    {
      "cell_type": "code",
      "source": [
        "print(''' hello \"I am Here\".''')"
      ],
      "metadata": {
        "colab": {
          "base_uri": "https://localhost:8080/"
        },
        "id": "uo-3ViVhOSci",
        "outputId": "045ab056-770e-4d07-a3ac-fcded3fb1ba3"
      },
      "execution_count": null,
      "outputs": [
        {
          "output_type": "stream",
          "name": "stdout",
          "text": [
            " hello \"I am Here\".\n"
          ]
        }
      ]
    },
    {
      "cell_type": "code",
      "source": [
        "#case sensetiveness\n",
        "\n",
        "a = 10\n",
        "a = 1\n",
        "A = 10\n",
        "print(a)\n",
        "print(A)"
      ],
      "metadata": {
        "colab": {
          "base_uri": "https://localhost:8080/"
        },
        "id": "Tyjn_vRgO26R",
        "outputId": "5c97bcf3-7e7c-49fb-f849-d69d5007bd0f"
      },
      "execution_count": null,
      "outputs": [
        {
          "output_type": "stream",
          "name": "stdout",
          "text": [
            "1\n",
            "10\n"
          ]
        }
      ]
    },
    {
      "cell_type": "code",
      "source": [
        "#variable are to store the items\n",
        "x = 10\n",
        "#here value 10 is assigned to variable named as x\n",
        "y = 20\n",
        "#here value 20 is assigned to variable named as y\n"
      ],
      "metadata": {
        "id": "grXvFd_8PMqQ"
      },
      "execution_count": null,
      "outputs": []
    },
    {
      "cell_type": "code",
      "source": [
        "#Rules naming the variable:\n",
        "\n",
        "# 1. Must start with _ or letter\n",
        "_a = 10 # Valid variable declaration\n",
        "a = 10 #valid var declaration\n",
        "# $a = 10\n",
        "\n",
        "#2. It can't start with number\n",
        "# 5a = 10 Invalid Variable declaration\n",
        "\n",
        "#3. can't be a reserved keyword.\n",
        "#eg: class = 10 and = 20\n",
        "\n",
        "#Case sensetive\n",
        "'''a = 10\n",
        "a = 1\n",
        "A = 10\n",
        "print(a)\n",
        "print(A)'''\n"
      ],
      "metadata": {
        "id": "MsklORMnP_nu"
      },
      "execution_count": null,
      "outputs": []
    },
    {
      "cell_type": "code",
      "source": [
        "'''x = 10\n",
        "   y = 11\n",
        "   z = 12'''\n",
        "x,y,z= 10,11,12\n",
        "print(x,y,z)"
      ],
      "metadata": {
        "colab": {
          "base_uri": "https://localhost:8080/"
        },
        "id": "ROYnuk5lSJxv",
        "outputId": "b6c5a695-e49d-442b-f5e3-be1537b0b113"
      },
      "execution_count": null,
      "outputs": [
        {
          "output_type": "stream",
          "name": "stdout",
          "text": [
            "10 11 12\n"
          ]
        }
      ]
    },
    {
      "cell_type": "code",
      "source": [
        "x = \"Kishore\"\n",
        "print(x)"
      ],
      "metadata": {
        "colab": {
          "base_uri": "https://localhost:8080/"
        },
        "id": "OYjUM443SNFf",
        "outputId": "2bba90d0-b90f-4ed1-9278-3385637ac800"
      },
      "execution_count": null,
      "outputs": [
        {
          "output_type": "stream",
          "name": "stdout",
          "text": [
            "Kishore\n"
          ]
        }
      ]
    },
    {
      "cell_type": "code",
      "source": [
        "x = 10.10\n",
        "print(x)"
      ],
      "metadata": {
        "colab": {
          "base_uri": "https://localhost:8080/"
        },
        "id": "hXQWT4ghSmy-",
        "outputId": "853f4cfd-4fc3-41c3-d852-cc8133f56e6d"
      },
      "execution_count": null,
      "outputs": [
        {
          "output_type": "stream",
          "name": "stdout",
          "text": [
            "10.1\n"
          ]
        }
      ]
    },
    {
      "cell_type": "code",
      "source": [
        "x = 10\n",
        "print(type(x))\n",
        "y = 10.1\n",
        "print(type(y))\n",
        "z = \"Kishore\"\n",
        "print(type(z))"
      ],
      "metadata": {
        "colab": {
          "base_uri": "https://localhost:8080/"
        },
        "id": "msdCs6IZSoUY",
        "outputId": "e3e5c4e0-a824-4456-d360-4510b8940c64"
      },
      "execution_count": null,
      "outputs": [
        {
          "output_type": "stream",
          "name": "stdout",
          "text": [
            "<class 'int'>\n",
            "<class 'float'>\n",
            "<class 'str'>\n"
          ]
        }
      ]
    },
    {
      "cell_type": "code",
      "source": [
        "#Data types\n",
        "#text:  str (string)\n",
        "#Numeric: int, float, complex\n",
        "#sequence: List tuple\n",
        "#sets and dictionaries."
      ],
      "metadata": {
        "id": "dcZM9lPHTPli"
      },
      "execution_count": null,
      "outputs": []
    },
    {
      "cell_type": "code",
      "source": [
        "x = -1\n",
        "print(type(x))\n",
        "y = 1.1\n",
        "print(type(y))\n",
        "z = 5 +1j\n",
        "print(type(z))\n"
      ],
      "metadata": {
        "colab": {
          "base_uri": "https://localhost:8080/"
        },
        "id": "9ILcVoNgUs24",
        "outputId": "1d1aa28b-904c-484d-8278-1522dfadbb02"
      },
      "execution_count": null,
      "outputs": [
        {
          "output_type": "stream",
          "name": "stdout",
          "text": [
            "<class 'int'>\n",
            "<class 'float'>\n",
            "<class 'complex'>\n"
          ]
        }
      ]
    },
    {
      "cell_type": "code",
      "source": [
        "#type conversion\n",
        "a = str(x)\n",
        "print(type(a))\n",
        "print(a)"
      ],
      "metadata": {
        "colab": {
          "base_uri": "https://localhost:8080/"
        },
        "id": "qxqEOiuHVIqL",
        "outputId": "f49120e2-e71b-4b1e-92ff-426c36632abf"
      },
      "execution_count": null,
      "outputs": [
        {
          "output_type": "stream",
          "name": "stdout",
          "text": [
            "<class 'str'>\n",
            "-1\n"
          ]
        }
      ]
    },
    {
      "cell_type": "code",
      "source": [
        "#variable type\n",
        "int(varible name)\n",
        "float()\n",
        "str()"
      ],
      "metadata": {
        "id": "5X3WZqgmVsIL"
      },
      "execution_count": null,
      "outputs": []
    },
    {
      "cell_type": "code",
      "source": [
        "#python strings:\n",
        "name = \"Kishore\"\n",
        "print(name)\n",
        "print(name[0])\n",
        "print(name[1])\n",
        "print(name[2])\n",
        "print(name[3])\n",
        "print(name[4])\n",
        "print(name[5])\n",
        "print(name[6])\n"
      ],
      "metadata": {
        "colab": {
          "base_uri": "https://localhost:8080/"
        },
        "id": "p7k0STK5WcKK",
        "outputId": "13d59b14-77c8-404e-a5b7-5b74aac46db8"
      },
      "execution_count": null,
      "outputs": [
        {
          "output_type": "stream",
          "name": "stdout",
          "text": [
            "Kishore\n",
            "K\n",
            "i\n",
            "s\n",
            "h\n",
            "o\n",
            "r\n",
            "e\n"
          ]
        }
      ]
    },
    {
      "cell_type": "code",
      "source": [
        "len(name)"
      ],
      "metadata": {
        "colab": {
          "base_uri": "https://localhost:8080/"
        },
        "id": "mAyirZ1-XWGM",
        "outputId": "ecee906f-174e-46af-c9c1-f5b0fd4faff6"
      },
      "execution_count": null,
      "outputs": [
        {
          "output_type": "execute_result",
          "data": {
            "text/plain": [
              "7"
            ]
          },
          "metadata": {},
          "execution_count": 48
        }
      ]
    },
    {
      "cell_type": "code",
      "source": [
        "name[0] = 1"
      ],
      "metadata": {
        "colab": {
          "base_uri": "https://localhost:8080/",
          "height": 141
        },
        "id": "ZBIsrAINYXkV",
        "outputId": "a4f54935-b46a-4b7c-da9d-efae6cb68219"
      },
      "execution_count": null,
      "outputs": [
        {
          "output_type": "error",
          "ename": "TypeError",
          "evalue": "'str' object does not support item assignment",
          "traceback": [
            "\u001b[0;31m---------------------------------------------------------------------------\u001b[0m",
            "\u001b[0;31mTypeError\u001b[0m                                 Traceback (most recent call last)",
            "\u001b[0;32m<ipython-input-49-c5cb54d451b2>\u001b[0m in \u001b[0;36m<cell line: 1>\u001b[0;34m()\u001b[0m\n\u001b[0;32m----> 1\u001b[0;31m \u001b[0mname\u001b[0m\u001b[0;34m[\u001b[0m\u001b[0;36m0\u001b[0m\u001b[0;34m]\u001b[0m \u001b[0;34m=\u001b[0m \u001b[0;36m1\u001b[0m\u001b[0;34m\u001b[0m\u001b[0;34m\u001b[0m\u001b[0m\n\u001b[0m",
            "\u001b[0;31mTypeError\u001b[0m: 'str' object does not support item assignment"
          ]
        }
      ]
    },
    {
      "cell_type": "code",
      "source": [
        "#String slicing\n",
        "a = \"Hello_World!\"\n",
        "print(a[1:5])\n",
        "print(a[0:4])\n",
        "print(a[0:6])\n",
        "print(a[:])\n",
        "print(a[:5])\n",
        "print(a[1:])\n",
        "print(len(a))\n",
        "print(a[11])\n",
        "print(a[11:12])\n",
        "print(a[-1])\n"
      ],
      "metadata": {
        "colab": {
          "base_uri": "https://localhost:8080/"
        },
        "id": "KL6nx3tvY-HC",
        "outputId": "e6b4a381-5f75-45e3-aa3b-a0042553b00f"
      },
      "execution_count": null,
      "outputs": [
        {
          "output_type": "stream",
          "name": "stdout",
          "text": [
            "ello\n",
            "Hell\n",
            "Hello_\n",
            "Hello_World!\n",
            "Hello\n",
            "ello_World!\n",
            "12\n",
            "!\n",
            "!\n",
            "!\n"
          ]
        }
      ]
    },
    {
      "cell_type": "code",
      "source": [
        "#List Tuples sets and Dictionary\n",
        "#Booleans\n",
        "#True or False\n",
        "#ANY CONDITION:\n",
        "#(10<5) : False #expresion\n",
        "\n"
      ],
      "metadata": {
        "id": "5HTA3DAyaUdQ"
      },
      "execution_count": null,
      "outputs": []
    },
    {
      "cell_type": "code",
      "source": [
        "print(9>10)\n",
        "print(9<10)"
      ],
      "metadata": {
        "colab": {
          "base_uri": "https://localhost:8080/"
        },
        "id": "SZl1VsPswd6f",
        "outputId": "086bd10f-b0e1-45fd-a9c5-3036ca8691ad"
      },
      "execution_count": null,
      "outputs": [
        {
          "output_type": "stream",
          "name": "stdout",
          "text": [
            "False\n",
            "True\n"
          ]
        }
      ]
    },
    {
      "cell_type": "code",
      "source": [
        "#True - always\n",
        "print(bool('Himanshi'))#true\n",
        "print(bool(10))\n",
        "\n",
        "#False - #always false\n",
        "print(bool(\"\"))\n",
        "print(bool(0))\n",
        "print(bool(False)) #Values\n",
        "print(bool(None))"
      ],
      "metadata": {
        "colab": {
          "base_uri": "https://localhost:8080/"
        },
        "id": "Ljw6LeSawie8",
        "outputId": "af044df6-72d9-4042-d499-5ece30ed5841"
      },
      "execution_count": null,
      "outputs": [
        {
          "output_type": "stream",
          "name": "stdout",
          "text": [
            "True\n",
            "False\n",
            "True\n",
            "False\n",
            "False\n",
            "False\n"
          ]
        }
      ]
    },
    {
      "cell_type": "code",
      "source": [
        "#Python Operators:\n",
        "x = 5\n",
        "y = 10\n",
        "print(\"Arithmetic operators\")\n",
        "#Arithmetic Operator:\n",
        "# addition (+)\n",
        "print(x+y)\n",
        "# subtraction (-)\n",
        "print(x-y)\n",
        "# Multiplication (*)\n",
        "print(x*y)\n",
        "# Division (/)\n",
        "print(10/3)\n",
        "# Mod (%- Remainder):\n",
        "print(10%3)\n",
        "# Expo -(**)\n",
        "print(3**15)\n",
        "#Assignment Operator:\n",
        "print('')\n",
        "print(\"Assignment operator\")\n",
        "c = 10\n",
        "print(c)\n",
        "c+=10 #(c = c+10)\n",
        "print(c)\n",
        "c -=10 #(c = c-10)\n",
        "#c = 70\n",
        "print(c)\n",
        "#Comparison Operator:\n",
        "print(\"\")\n",
        "print(\"comparison operator\")\n",
        "print(x==y)\n",
        "print(x>y)\n",
        "print(x>=y)\n",
        "print(x<y)\n",
        "print(x<=y)\n",
        "print(x!=y)\n",
        "#Logical Operator:\n",
        "print(\"logical op\")\n",
        "a =10\n",
        "print(a > 5 and a <100) # true\n",
        "print(a > 11 and a <100) # False\n",
        "print(a > 1 and a >100) #False\n",
        "print(not(a<2 and a==4))\n",
        "#or\n",
        "print(\"OR\")\n",
        "\n",
        "print(a > 5 or a <100) # true\n",
        "print(a > 11 or a <100) # true\n",
        "print(a > 1 or a >100) #true\n",
        "print(a<2 or a==4)#false\n",
        "\n",
        "\n",
        "#Idendtity Operator:\n",
        "#Membership Operator:\n"
      ],
      "metadata": {
        "colab": {
          "base_uri": "https://localhost:8080/"
        },
        "id": "yBX4y5BAxK6G",
        "outputId": "5f477df1-eab8-4c99-d312-2ae3bb97ac57"
      },
      "execution_count": null,
      "outputs": [
        {
          "output_type": "stream",
          "name": "stdout",
          "text": [
            "Arithmetic operators\n",
            "15\n",
            "-5\n",
            "50\n",
            "3.3333333333333335\n",
            "1\n",
            "14348907\n",
            "\n",
            "Assignment operator\n",
            "10\n",
            "20\n",
            "10\n",
            "\n",
            "comparison operator\n",
            "False\n",
            "False\n",
            "False\n",
            "True\n",
            "True\n",
            "True\n",
            "logical op\n",
            "True\n",
            "False\n",
            "False\n",
            "True\n",
            "OR\n",
            "True\n",
            "True\n",
            "True\n",
            "False\n"
          ]
        }
      ]
    },
    {
      "cell_type": "code",
      "source": [
        "#Lists Tuples Set Dictionary"
      ],
      "metadata": {
        "id": "1tSaW06h1GFn"
      },
      "execution_count": null,
      "outputs": []
    },
    {
      "cell_type": "code",
      "source": [
        "l1 = [\"Kishore\",\"Anil\",\"Tushar\",\"Krishna\",\"Arti\",\"Priyanka\",\"Jyoti\"]\n",
        "print(type(l1))"
      ],
      "metadata": {
        "colab": {
          "base_uri": "https://localhost:8080/"
        },
        "id": "RsrwOcwq8Cgb",
        "outputId": "4e43dae6-9cf5-4265-b035-116aadaabae3"
      },
      "execution_count": null,
      "outputs": [
        {
          "output_type": "stream",
          "name": "stdout",
          "text": [
            "<class 'list'>\n"
          ]
        }
      ]
    },
    {
      "cell_type": "code",
      "source": [
        "#multiple items\n",
        "#Built in\n",
        "#indexed\n",
        "#ordered changeable allow duplicates\n",
        "#List is most flexible"
      ],
      "metadata": {
        "id": "XFcv1FOAI3gi"
      },
      "execution_count": null,
      "outputs": []
    },
    {
      "cell_type": "code",
      "source": [
        "print(l1[6])\n",
        "print(l1[4])"
      ],
      "metadata": {
        "colab": {
          "base_uri": "https://localhost:8080/"
        },
        "id": "JnOc8f2UJRSW",
        "outputId": "bc2c5f05-5224-42ee-aded-f22dc8184530"
      },
      "execution_count": null,
      "outputs": [
        {
          "output_type": "stream",
          "name": "stdout",
          "text": [
            "Jyoti\n",
            "Arti\n"
          ]
        }
      ]
    },
    {
      "cell_type": "code",
      "source": [
        "print(l1)"
      ],
      "metadata": {
        "colab": {
          "base_uri": "https://localhost:8080/"
        },
        "id": "OlyCrH_dJWg6",
        "outputId": "30b98b80-7e6a-4ab2-e574-39b3db70b2b5"
      },
      "execution_count": null,
      "outputs": [
        {
          "output_type": "stream",
          "name": "stdout",
          "text": [
            "['Kishore', 'Anil', 'Tushar', 'Krishna', 'Arti', 'Priyanka', 'Jyoti']\n"
          ]
        }
      ]
    },
    {
      "cell_type": "code",
      "source": [
        "a = 'kishore'\n",
        "a[0] = 't'\n",
        "#'str' object does not support item assignment"
      ],
      "metadata": {
        "colab": {
          "base_uri": "https://localhost:8080/",
          "height": 158
        },
        "id": "R64n-mS1Jr-F",
        "outputId": "c0edc6f5-686b-4702-83c9-cfc76fa7612b"
      },
      "execution_count": null,
      "outputs": [
        {
          "output_type": "error",
          "ename": "TypeError",
          "evalue": "'str' object does not support item assignment",
          "traceback": [
            "\u001b[0;31m---------------------------------------------------------------------------\u001b[0m",
            "\u001b[0;31mTypeError\u001b[0m                                 Traceback (most recent call last)",
            "\u001b[0;32m<ipython-input-56-27748fc4b813>\u001b[0m in \u001b[0;36m<cell line: 0>\u001b[0;34m()\u001b[0m\n\u001b[1;32m      1\u001b[0m \u001b[0ma\u001b[0m \u001b[0;34m=\u001b[0m \u001b[0;34m'kishore'\u001b[0m\u001b[0;34m\u001b[0m\u001b[0;34m\u001b[0m\u001b[0m\n\u001b[0;32m----> 2\u001b[0;31m \u001b[0ma\u001b[0m\u001b[0;34m[\u001b[0m\u001b[0;36m0\u001b[0m\u001b[0;34m]\u001b[0m \u001b[0;34m=\u001b[0m \u001b[0;34m't'\u001b[0m\u001b[0;34m\u001b[0m\u001b[0;34m\u001b[0m\u001b[0m\n\u001b[0m",
            "\u001b[0;31mTypeError\u001b[0m: 'str' object does not support item assignment"
          ]
        }
      ]
    },
    {
      "cell_type": "code",
      "source": [
        "l1[0] = \"Anusha\"\n",
        "print(l1)"
      ],
      "metadata": {
        "colab": {
          "base_uri": "https://localhost:8080/"
        },
        "id": "JBIe4pldJ5A-",
        "outputId": "12419340-78f8-4349-a817-1e39ab68263f"
      },
      "execution_count": null,
      "outputs": [
        {
          "output_type": "stream",
          "name": "stdout",
          "text": [
            "['Anusha', 'Anil', 'Tushar', 'Krishna', 'Arti', 'Priyanka', 'Jyoti']\n"
          ]
        }
      ]
    },
    {
      "cell_type": "code",
      "source": [
        "#mutable --- changeable"
      ],
      "metadata": {
        "id": "ZfqDn99kKD61"
      },
      "execution_count": null,
      "outputs": []
    },
    {
      "cell_type": "code",
      "source": [
        "l1 = [\"Kishore\",\"Anil\",\"Tushar\",\"Krishna\",\"Arti\",\"Priyanka\",\"Jyoti\",\"Kishore\"]\n",
        "print(l1)"
      ],
      "metadata": {
        "colab": {
          "base_uri": "https://localhost:8080/"
        },
        "id": "0R68O1n8KetD",
        "outputId": "fb7f5ad7-fe35-4243-8835-89768095c327"
      },
      "execution_count": null,
      "outputs": [
        {
          "output_type": "stream",
          "name": "stdout",
          "text": [
            "['Kishore', 'Anil', 'Tushar', 'Krishna', 'Arti', 'Priyanka', 'Jyoti', 'Kishore']\n"
          ]
        }
      ]
    },
    {
      "cell_type": "code",
      "source": [
        "print(len(l1))"
      ],
      "metadata": {
        "colab": {
          "base_uri": "https://localhost:8080/"
        },
        "id": "CSfNt3AFKkq2",
        "outputId": "7576c405-2e8b-485d-af8f-b2dc4c034422"
      },
      "execution_count": null,
      "outputs": [
        {
          "output_type": "stream",
          "name": "stdout",
          "text": [
            "8\n"
          ]
        }
      ]
    },
    {
      "cell_type": "code",
      "source": [
        "l2= [1,2,3,45,6,7]\n",
        "print(l2)"
      ],
      "metadata": {
        "colab": {
          "base_uri": "https://localhost:8080/"
        },
        "id": "97xdv1bTK2RY",
        "outputId": "e27c0c34-99cb-4ab1-cbf4-434ef6cc663a"
      },
      "execution_count": null,
      "outputs": [
        {
          "output_type": "stream",
          "name": "stdout",
          "text": [
            "[1, 2, 3, 45, 6, 7]\n"
          ]
        }
      ]
    },
    {
      "cell_type": "code",
      "source": [
        "x= list(y)\n",
        "x = int(y)"
      ],
      "metadata": {
        "id": "vLA8qjurK9w6"
      },
      "execution_count": null,
      "outputs": []
    },
    {
      "cell_type": "code",
      "source": [
        "print(l1[2:5])\n",
        "print(l1[:])\n",
        "print(l1[4:])\n",
        "print(l1[-4])"
      ],
      "metadata": {
        "colab": {
          "base_uri": "https://localhost:8080/"
        },
        "id": "HlmDlp02LYbn",
        "outputId": "342e5e98-3169-4588-aa07-2eef8fc219c6"
      },
      "execution_count": null,
      "outputs": [
        {
          "output_type": "stream",
          "name": "stdout",
          "text": [
            "['Tushar', 'Krishna', 'Arti']\n",
            "['Kishore', 'Anil', 'Tushar', 'Krishna', 'Arti', 'Priyanka', 'Jyoti', 'Kishore']\n",
            "['Arti', 'Priyanka', 'Jyoti', 'Kishore']\n",
            "Arti\n"
          ]
        }
      ]
    },
    {
      "cell_type": "code",
      "source": [
        "l3 =l1[2:5]\n",
        "print(l3)"
      ],
      "metadata": {
        "colab": {
          "base_uri": "https://localhost:8080/"
        },
        "id": "NQUmiwy-Lhaf",
        "outputId": "36df0301-8be1-40c1-9e29-524c5909f223"
      },
      "execution_count": null,
      "outputs": [
        {
          "output_type": "stream",
          "name": "stdout",
          "text": [
            "['Tushar', 'Krishna', 'Arti']\n"
          ]
        }
      ]
    },
    {
      "cell_type": "code",
      "source": [
        "#list methods -- performs specific task\n",
        "\n",
        "#insert()\n",
        "l1.insert(2,\"Venky\")\n",
        "print(l1)"
      ],
      "metadata": {
        "colab": {
          "base_uri": "https://localhost:8080/"
        },
        "id": "ZKyyjZfwMvoU",
        "outputId": "2f013e46-7ca3-4fe8-bc18-8a6604c56d17"
      },
      "execution_count": null,
      "outputs": [
        {
          "output_type": "stream",
          "name": "stdout",
          "text": [
            "['Kishore', 'Anil', 'Venky', 'Venky', 'Venky', 'Tushar', 'Krishna', 'Arti', 'Priyanka', 'Jyoti', 'Kishore']\n"
          ]
        }
      ]
    },
    {
      "cell_type": "code",
      "source": [
        "l1.append(\"Joy\")"
      ],
      "metadata": {
        "id": "L2CZvQhDNIgt"
      },
      "execution_count": null,
      "outputs": []
    },
    {
      "cell_type": "code",
      "source": [
        "print(l1)"
      ],
      "metadata": {
        "colab": {
          "base_uri": "https://localhost:8080/"
        },
        "id": "mOPobl-CNovx",
        "outputId": "b3d5d28e-07ce-435e-9053-6254a1b4ce47"
      },
      "execution_count": null,
      "outputs": [
        {
          "output_type": "stream",
          "name": "stdout",
          "text": [
            "['Kishore', 'Anil', 'Venky', 'Venky', 'Venky', 'Tushar', 'Krishna', 'Arti', 'Priyanka', 'Jyoti', 'Kishore', 'Joy']\n"
          ]
        }
      ]
    },
    {
      "cell_type": "code",
      "source": [
        "l1[2]=\"Rahul\"\n",
        "print(l1)"
      ],
      "metadata": {
        "colab": {
          "base_uri": "https://localhost:8080/"
        },
        "id": "KVzvnfghNqtr",
        "outputId": "7d26abf8-8f40-4d2e-8f8a-46b8b5ef160c"
      },
      "execution_count": null,
      "outputs": [
        {
          "output_type": "stream",
          "name": "stdout",
          "text": [
            "['Kishore', 'Anil', 'Rahul', 'Venky', 'Venky', 'Tushar', 'Krishna', 'Arti', 'Priyanka', 'Jyoti', 'Kishore', 'Joy']\n"
          ]
        }
      ]
    },
    {
      "cell_type": "code",
      "source": [
        "l1.remove(\"Kishore\")"
      ],
      "metadata": {
        "id": "_ZhuwlDTOGiq"
      },
      "execution_count": null,
      "outputs": []
    },
    {
      "cell_type": "code",
      "source": [
        "print(l1)"
      ],
      "metadata": {
        "colab": {
          "base_uri": "https://localhost:8080/"
        },
        "id": "bIt7cyR5Ob1J",
        "outputId": "8bd9a3fe-2695-40af-91e2-e1713d260f72"
      },
      "execution_count": null,
      "outputs": [
        {
          "output_type": "stream",
          "name": "stdout",
          "text": [
            "['Anil', 'Rahul', 'Venky', 'Venky', 'Tushar', 'Krishna', 'Arti', 'Priyanka', 'Jyoti', 'Kishore', 'Joy']\n"
          ]
        }
      ]
    },
    {
      "cell_type": "code",
      "source": [
        "l1.pop(-2)"
      ],
      "metadata": {
        "colab": {
          "base_uri": "https://localhost:8080/",
          "height": 36
        },
        "id": "gCYpyXPUOdCq",
        "outputId": "1756e5b7-e584-4c8e-e34f-8b56aa84ff36"
      },
      "execution_count": null,
      "outputs": [
        {
          "output_type": "execute_result",
          "data": {
            "text/plain": [
              "'Kishore'"
            ],
            "application/vnd.google.colaboratory.intrinsic+json": {
              "type": "string"
            }
          },
          "metadata": {},
          "execution_count": 76
        }
      ]
    },
    {
      "cell_type": "code",
      "source": [
        "print(l1)"
      ],
      "metadata": {
        "colab": {
          "base_uri": "https://localhost:8080/"
        },
        "id": "9Ijq3rmROmjR",
        "outputId": "9f956af1-ab0b-46c7-a4c9-04f7c3c38a47"
      },
      "execution_count": null,
      "outputs": [
        {
          "output_type": "stream",
          "name": "stdout",
          "text": [
            "['Anil', 'Rahul', 'Venky', 'Venky', 'Tushar', 'Krishna', 'Arti', 'Priyanka', 'Jyoti', 'Joy']\n"
          ]
        }
      ]
    },
    {
      "cell_type": "code",
      "source": [
        "l1.pop()\n",
        "print(l1)"
      ],
      "metadata": {
        "colab": {
          "base_uri": "https://localhost:8080/"
        },
        "id": "xKOCCQqHOttR",
        "outputId": "36ec3256-5820-4ae4-80b3-c24a878c70a4"
      },
      "execution_count": null,
      "outputs": [
        {
          "output_type": "stream",
          "name": "stdout",
          "text": [
            "['Anil', 'Rahul', 'Venky', 'Venky', 'Tushar', 'Krishna', 'Arti', 'Priyanka', 'Jyoti']\n"
          ]
        }
      ]
    },
    {
      "cell_type": "code",
      "source": [
        "del l1[3]\n",
        "print(l1)"
      ],
      "metadata": {
        "colab": {
          "base_uri": "https://localhost:8080/"
        },
        "id": "gVURKw7bO2h-",
        "outputId": "c2ad3116-184e-4881-a7c1-256b61994000"
      },
      "execution_count": null,
      "outputs": [
        {
          "output_type": "stream",
          "name": "stdout",
          "text": [
            "['Anil', 'Rahul', 'Venky', 'Tushar', 'Krishna', 'Arti', 'Priyanka', 'Jyoti']\n"
          ]
        }
      ]
    },
    {
      "cell_type": "code",
      "source": [
        "del l1\n",
        "print(l1)"
      ],
      "metadata": {
        "colab": {
          "base_uri": "https://localhost:8080/",
          "height": 158
        },
        "id": "K4QysbBUPJy-",
        "outputId": "f2be42bd-ea64-447b-d82b-69ca16b24560"
      },
      "execution_count": null,
      "outputs": [
        {
          "output_type": "error",
          "ename": "NameError",
          "evalue": "name 'l1' is not defined",
          "traceback": [
            "\u001b[0;31m---------------------------------------------------------------------------\u001b[0m",
            "\u001b[0;31mNameError\u001b[0m                                 Traceback (most recent call last)",
            "\u001b[0;32m<ipython-input-81-ce30788c23bc>\u001b[0m in \u001b[0;36m<cell line: 0>\u001b[0;34m()\u001b[0m\n\u001b[1;32m      1\u001b[0m \u001b[0;32mdel\u001b[0m \u001b[0ml1\u001b[0m\u001b[0;34m\u001b[0m\u001b[0;34m\u001b[0m\u001b[0m\n\u001b[0;32m----> 2\u001b[0;31m \u001b[0mprint\u001b[0m\u001b[0;34m(\u001b[0m\u001b[0ml1\u001b[0m\u001b[0;34m)\u001b[0m\u001b[0;34m\u001b[0m\u001b[0;34m\u001b[0m\u001b[0m\n\u001b[0m",
            "\u001b[0;31mNameError\u001b[0m: name 'l1' is not defined"
          ]
        }
      ]
    },
    {
      "cell_type": "code",
      "source": [
        "a = 10"
      ],
      "metadata": {
        "id": "PhPQOQRzPnmU"
      },
      "execution_count": null,
      "outputs": []
    },
    {
      "cell_type": "code",
      "source": [
        "print(a)"
      ],
      "metadata": {
        "colab": {
          "base_uri": "https://localhost:8080/"
        },
        "id": "a2ee2bc-Pf9q",
        "outputId": "dd055b80-94f9-43f1-dcde-45067ecb63cf"
      },
      "execution_count": null,
      "outputs": [
        {
          "output_type": "stream",
          "name": "stdout",
          "text": [
            "10\n"
          ]
        }
      ]
    },
    {
      "cell_type": "code",
      "source": [
        "print(j)"
      ],
      "metadata": {
        "colab": {
          "base_uri": "https://localhost:8080/",
          "height": 141
        },
        "id": "kstFZINnPpQK",
        "outputId": "54fbd416-fd38-467c-a57f-b1bc236d4da1"
      },
      "execution_count": null,
      "outputs": [
        {
          "output_type": "error",
          "ename": "NameError",
          "evalue": "name 'j' is not defined",
          "traceback": [
            "\u001b[0;31m---------------------------------------------------------------------------\u001b[0m",
            "\u001b[0;31mNameError\u001b[0m                                 Traceback (most recent call last)",
            "\u001b[0;32m<ipython-input-85-325732b9e9c9>\u001b[0m in \u001b[0;36m<cell line: 0>\u001b[0;34m()\u001b[0m\n\u001b[0;32m----> 1\u001b[0;31m \u001b[0mprint\u001b[0m\u001b[0;34m(\u001b[0m\u001b[0mj\u001b[0m\u001b[0;34m)\u001b[0m\u001b[0;34m\u001b[0m\u001b[0;34m\u001b[0m\u001b[0m\n\u001b[0m",
            "\u001b[0;31mNameError\u001b[0m: name 'j' is not defined"
          ]
        }
      ]
    },
    {
      "cell_type": "code",
      "source": [
        "l1 = ['Anil', 'Rahul', 'Venky', 'Tushar', 'Krishna', 'Arti', 'Priyanka', 'Jyoti']"
      ],
      "metadata": {
        "id": "uUdtUT5KPuvF"
      },
      "execution_count": null,
      "outputs": []
    },
    {
      "cell_type": "code",
      "source": [
        "del l1[2:4]\n",
        "print(l1)"
      ],
      "metadata": {
        "colab": {
          "base_uri": "https://localhost:8080/"
        },
        "id": "6ydguhnGP8Yd",
        "outputId": "dd60f3c4-c7d8-49a0-a2c2-ee9e665fbf05"
      },
      "execution_count": null,
      "outputs": [
        {
          "output_type": "stream",
          "name": "stdout",
          "text": [
            "['Anil', 'Rahul', 'Krishna', 'Arti', 'Priyanka', 'Jyoti']\n"
          ]
        }
      ]
    },
    {
      "cell_type": "code",
      "source": [
        "l1.clear()\n",
        "print(l1)"
      ],
      "metadata": {
        "colab": {
          "base_uri": "https://localhost:8080/"
        },
        "id": "TAmwFLoDQGB_",
        "outputId": "e3f457ec-28cf-4d74-acd0-6a309a3d3a34"
      },
      "execution_count": null,
      "outputs": [
        {
          "output_type": "stream",
          "name": "stdout",
          "text": [
            "[]\n"
          ]
        }
      ]
    },
    {
      "cell_type": "code",
      "source": [
        "l1 = ['Anil', 'Rahul', 'Krishna', 'Arti', 'Priyanka', 'Jyoti']"
      ],
      "metadata": {
        "id": "0nN_B61yQuOF"
      },
      "execution_count": null,
      "outputs": []
    },
    {
      "cell_type": "code",
      "source": [
        "l1.sort()\n",
        "print(l1)"
      ],
      "metadata": {
        "colab": {
          "base_uri": "https://localhost:8080/"
        },
        "id": "0lBJAvolRhbH",
        "outputId": "735803fb-bb8c-4354-d9a9-7c9084713922"
      },
      "execution_count": null,
      "outputs": [
        {
          "output_type": "stream",
          "name": "stdout",
          "text": [
            "['Anil', 'Arti', 'Jyoti', 'Krishna', 'Priyanka', 'Rahul']\n"
          ]
        }
      ]
    },
    {
      "cell_type": "code",
      "source": [
        "l1.sort(reverse=True)\n",
        "print(l1)"
      ],
      "metadata": {
        "colab": {
          "base_uri": "https://localhost:8080/"
        },
        "id": "hJ7OTW0ARjtH",
        "outputId": "219befa4-d13d-4f87-e5d2-32e5e2749b48"
      },
      "execution_count": null,
      "outputs": [
        {
          "output_type": "stream",
          "name": "stdout",
          "text": [
            "['Rahul', 'Priyanka', 'Krishna', 'Jyoti', 'Arti', 'Anil']\n"
          ]
        }
      ]
    },
    {
      "cell_type": "code",
      "source": [
        "l1.sort(key = str.lower) #insensetive sort\n",
        "#case sensetive priotizes the capital letters first\n"
      ],
      "metadata": {
        "id": "ym4G8mtERrmh"
      },
      "execution_count": null,
      "outputs": []
    },
    {
      "cell_type": "code",
      "source": [
        "l1 = ['anil','Rahul', 'Priyanka', 'Krishna', 'Jyoti', 'Arti', 'Anil']\n",
        "l1.sort()\n",
        "print(l1)\n"
      ],
      "metadata": {
        "colab": {
          "base_uri": "https://localhost:8080/"
        },
        "id": "2nbVFg4_TZ4v",
        "outputId": "37b502e8-a7f2-4916-ed13-110377e988a5"
      },
      "execution_count": null,
      "outputs": [
        {
          "output_type": "stream",
          "name": "stdout",
          "text": [
            "['Anil', 'Arti', 'Jyoti', 'Krishna', 'Priyanka', 'Rahul', 'anil']\n"
          ]
        }
      ]
    },
    {
      "cell_type": "code",
      "source": [
        "l1.sort(key = str.lower)\n",
        "print(l1)"
      ],
      "metadata": {
        "colab": {
          "base_uri": "https://localhost:8080/"
        },
        "id": "3qy6uXSfTkfz",
        "outputId": "37a5cab7-585f-4342-90a0-fe60c68ec512"
      },
      "execution_count": null,
      "outputs": [
        {
          "output_type": "stream",
          "name": "stdout",
          "text": [
            "['Anil', 'anil', 'Arti', 'Jyoti', 'Krishna', 'Priyanka', 'Rahul']\n"
          ]
        }
      ]
    },
    {
      "cell_type": "code",
      "source": [
        "l1.sort(key = str.lower)"
      ],
      "metadata": {
        "id": "UA_xgP0NTyTQ"
      },
      "execution_count": null,
      "outputs": []
    },
    {
      "cell_type": "code",
      "source": [
        "a = \"KISHORE\"\n",
        "print(a.lower())"
      ],
      "metadata": {
        "colab": {
          "base_uri": "https://localhost:8080/"
        },
        "id": "OBFrlqFF6zBF",
        "outputId": "afd07489-fae5-4df7-cc6d-7a73108472a5"
      },
      "execution_count": null,
      "outputs": [
        {
          "output_type": "stream",
          "name": "stdout",
          "text": [
            "kishore\n"
          ]
        }
      ]
    },
    {
      "cell_type": "code",
      "source": [
        "#Identity Operator:\n",
        "#is and is not\n",
        "#memory--- whether 2 variables refer to the same object in memory or not.\n",
        "#compares the memory address\n",
        "\n",
        "\n",
        "#Membership Operator:\n",
        "#in and not in\n",
        "#checks whether value exsists in the sequence or not.\n",
        "#compares the content\n",
        "\n",
        "x = [1,2,3,4]\n",
        "\n",
        "print(2 in x)    #True\n",
        "print(5 in x)    #False\n",
        "print(5 not in x)#True\n",
        "print(2 not in x)#False\n",
        "\n"
      ],
      "metadata": {
        "colab": {
          "base_uri": "https://localhost:8080/"
        },
        "id": "TQSsUDVj626_",
        "outputId": "0d782dc4-07c9-4a53-c5ec-2d348f30b912"
      },
      "execution_count": null,
      "outputs": [
        {
          "output_type": "stream",
          "name": "stdout",
          "text": [
            "True\n",
            "False\n",
            "True\n",
            "False\n"
          ]
        }
      ]
    },
    {
      "cell_type": "code",
      "source": [
        "a = 42\n",
        "print(id(a))\n"
      ],
      "metadata": {
        "colab": {
          "base_uri": "https://localhost:8080/"
        },
        "id": "iojKz-as-LqY",
        "outputId": "c4d2e056-8d01-4bf1-b6e8-5aeea93d3633"
      },
      "execution_count": null,
      "outputs": [
        {
          "output_type": "stream",
          "name": "stdout",
          "text": [
            "10752168\n"
          ]
        }
      ]
    },
    {
      "cell_type": "code",
      "source": [
        "a = \"hello\"\n",
        "b = \"hello\"\n",
        "print(a is b)\n",
        "print(id(a))\n",
        "print(id(b))\n",
        "a = \"kilo\"\n",
        "print(a is b)\n",
        "print(id(a))\n",
        "print(id(b))"
      ],
      "metadata": {
        "colab": {
          "base_uri": "https://localhost:8080/"
        },
        "id": "h8zlpXxY9kIm",
        "outputId": "9216aa56-bf56-47e5-b437-5c11c61686e7"
      },
      "execution_count": null,
      "outputs": [
        {
          "output_type": "stream",
          "name": "stdout",
          "text": [
            "True\n",
            "138460246265776\n",
            "138460246265776\n",
            "False\n",
            "138459342407728\n",
            "138460246265776\n"
          ]
        }
      ]
    },
    {
      "cell_type": "code",
      "source": [
        "a = \"Kishore\"\n",
        "b = \"Kishore\"\n",
        "c = \"Kishore\"\n",
        "\n",
        "print(id(a))\n",
        "print(id(b))\n",
        "print(id(c))"
      ],
      "metadata": {
        "colab": {
          "base_uri": "https://localhost:8080/"
        },
        "id": "5ppVkl8c_utX",
        "outputId": "8751342c-7495-4d49-c642-295ad47e48b9"
      },
      "execution_count": null,
      "outputs": [
        {
          "output_type": "stream",
          "name": "stdout",
          "text": [
            "138459342439408\n",
            "138459342439408\n",
            "138459342439408\n"
          ]
        }
      ]
    },
    {
      "cell_type": "code",
      "source": [
        "a = [\"Kishore\",\"Tushar\"]\n",
        "\n",
        "b = [\"Kishore\",\"Aravindhan\"]\n",
        "\n",
        "c = [\"Kishore\",\"Tushar\"]\n",
        "\n",
        "print(id(a))\n",
        "print(id(b))\n",
        "print(id(c))"
      ],
      "metadata": {
        "colab": {
          "base_uri": "https://localhost:8080/"
        },
        "id": "UlQIINnzBMSQ",
        "outputId": "20acd43c-7eda-401d-8b9c-61a8a6c98212"
      },
      "execution_count": null,
      "outputs": [
        {
          "output_type": "stream",
          "name": "stdout",
          "text": [
            "138459342537152\n",
            "138459342548800\n",
            "138459342540544\n"
          ]
        }
      ]
    },
    {
      "cell_type": "code",
      "source": [
        "\n",
        "a = [\"ab\", \"bc\"]\n",
        "b = [\"ab\", \"cd\"]\n",
        "print(id(a[0]))\n",
        "print(id(b[0]))"
      ],
      "metadata": {
        "colab": {
          "base_uri": "https://localhost:8080/"
        },
        "id": "-5Rrvwg5DtnE",
        "outputId": "313c9be7-7990-471f-c7b1-06634da2d436"
      },
      "execution_count": null,
      "outputs": [
        {
          "output_type": "stream",
          "name": "stdout",
          "text": [
            "138460670378864\n",
            "138460670378864\n"
          ]
        }
      ]
    },
    {
      "cell_type": "code",
      "source": [
        "#Tuples:\n",
        "t1 = (\"skoda\",\"Benz\",\"Civic\",\"BMW\",\"Nexon\",\"Porsche\",\"Mahindra\",\"Nano\",\"Volkswagen\",\"Volkswagen\")\n",
        "print(t1)\n",
        "#ordered\n",
        "#unchangeable\n",
        "#allow duplicates\n",
        "print(len(t1))"
      ],
      "metadata": {
        "colab": {
          "base_uri": "https://localhost:8080/"
        },
        "id": "5inIMwSmE2M7",
        "outputId": "5035166e-6bd9-4542-9f97-1e01768f855e"
      },
      "execution_count": null,
      "outputs": [
        {
          "output_type": "stream",
          "name": "stdout",
          "text": [
            "('skoda', 'Benz', 'Civic', 'BMW', 'Nexon', 'Porsche', 'Mahindra', 'Nano', 'Volkswagen', 'Volkswagen')\n",
            "10\n"
          ]
        }
      ]
    },
    {
      "cell_type": "code",
      "source": [
        "t1[0] = \"Santro\"\n",
        "t1[1] = \"Dodge\"\n"
      ],
      "metadata": {
        "colab": {
          "base_uri": "https://localhost:8080/",
          "height": 158
        },
        "id": "6HRUi3NvGcGX",
        "outputId": "c8635593-09f4-4c63-f2a8-7cef6a21e081"
      },
      "execution_count": null,
      "outputs": [
        {
          "output_type": "error",
          "ename": "TypeError",
          "evalue": "'tuple' object does not support item assignment",
          "traceback": [
            "\u001b[0;31m---------------------------------------------------------------------------\u001b[0m",
            "\u001b[0;31mTypeError\u001b[0m                                 Traceback (most recent call last)",
            "\u001b[0;32m<ipython-input-18-93a18693b543>\u001b[0m in \u001b[0;36m<cell line: 0>\u001b[0;34m()\u001b[0m\n\u001b[0;32m----> 1\u001b[0;31m \u001b[0mt1\u001b[0m\u001b[0;34m[\u001b[0m\u001b[0;36m0\u001b[0m\u001b[0;34m]\u001b[0m \u001b[0;34m=\u001b[0m \u001b[0;34m\"Santro\"\u001b[0m\u001b[0;34m\u001b[0m\u001b[0;34m\u001b[0m\u001b[0m\n\u001b[0m\u001b[1;32m      2\u001b[0m \u001b[0mt1\u001b[0m\u001b[0;34m[\u001b[0m\u001b[0;36m1\u001b[0m\u001b[0;34m]\u001b[0m \u001b[0;34m=\u001b[0m \u001b[0;34m\"Dodge\"\u001b[0m\u001b[0;34m\u001b[0m\u001b[0;34m\u001b[0m\u001b[0m\n",
            "\u001b[0;31mTypeError\u001b[0m: 'tuple' object does not support item assignment"
          ]
        }
      ]
    },
    {
      "cell_type": "code",
      "source": [
        "print(t1[5])"
      ],
      "metadata": {
        "colab": {
          "base_uri": "https://localhost:8080/"
        },
        "id": "dVH6KoQUG5aC",
        "outputId": "2d2a1212-eb08-41f8-9af2-b4e8c450d7bf"
      },
      "execution_count": null,
      "outputs": [
        {
          "output_type": "stream",
          "name": "stdout",
          "text": [
            "Porsche\n",
            "Porsche\n"
          ]
        }
      ]
    },
    {
      "cell_type": "code",
      "source": [
        "print(type(t1))"
      ],
      "metadata": {
        "colab": {
          "base_uri": "https://localhost:8080/"
        },
        "id": "QSrWCDu6HOVN",
        "outputId": "538e12d9-0373-4ccf-dd43-106bab08098d"
      },
      "execution_count": null,
      "outputs": [
        {
          "output_type": "stream",
          "name": "stdout",
          "text": [
            "<class 'tuple'>\n"
          ]
        }
      ]
    },
    {
      "cell_type": "code",
      "source": [
        "a = (\"Python\",\"C\",\"Java\",\"JavaScript\",\"R\",\"HTML\",\"Ruby\",\"Php\")\n",
        "#a[0] = \"Nodejs\" is is possible but not directly\n",
        "\n",
        "\n",
        "b = list(a)\n",
        "print(type(b))\n",
        "\n",
        "b[0] = \"Nodejs\"\n",
        "b[1] = \"DotNet\"\n",
        "b[2] = \"React\"\n",
        "\n",
        "a = tuple(b)\n",
        "print(a)\n",
        "print(type(a))\n",
        "print(type(b))\n",
        "\n"
      ],
      "metadata": {
        "colab": {
          "base_uri": "https://localhost:8080/"
        },
        "id": "yI3vbc3kHktF",
        "outputId": "73f4095d-1bf2-43e8-9d4e-cd9974006e44"
      },
      "execution_count": null,
      "outputs": [
        {
          "output_type": "stream",
          "name": "stdout",
          "text": [
            "<class 'list'>\n",
            "('Nodejs', 'DotNet', 'React', 'JavaScript', 'R', 'HTML', 'Ruby', 'Php')\n",
            "<class 'tuple'>\n",
            "<class 'list'>\n"
          ]
        }
      ]
    },
    {
      "cell_type": "code",
      "source": [
        "a = (10,11,12)\n",
        "b = [10,11,12,13]\n",
        "print(a)\n",
        "a = tuple(b)\n",
        "print(a)"
      ],
      "metadata": {
        "colab": {
          "base_uri": "https://localhost:8080/"
        },
        "id": "ftcQABBlJR28",
        "outputId": "f437a2f2-e606-4fb8-e46a-b8de564c687c"
      },
      "execution_count": null,
      "outputs": [
        {
          "output_type": "stream",
          "name": "stdout",
          "text": [
            "(10, 11, 12)\n",
            "(10, 11, 12, 13)\n"
          ]
        }
      ]
    },
    {
      "cell_type": "code",
      "source": [
        "t1.pop()"
      ],
      "metadata": {
        "colab": {
          "base_uri": "https://localhost:8080/",
          "height": 141
        },
        "id": "4IPF1M0zK2g2",
        "outputId": "b3e71f63-8ed1-4696-a38b-5affb8bccdee"
      },
      "execution_count": null,
      "outputs": [
        {
          "output_type": "error",
          "ename": "AttributeError",
          "evalue": "'tuple' object has no attribute 'pop'",
          "traceback": [
            "\u001b[0;31m---------------------------------------------------------------------------\u001b[0m",
            "\u001b[0;31mAttributeError\u001b[0m                            Traceback (most recent call last)",
            "\u001b[0;32m<ipython-input-27-becc35787648>\u001b[0m in \u001b[0;36m<cell line: 0>\u001b[0;34m()\u001b[0m\n\u001b[0;32m----> 1\u001b[0;31m \u001b[0mt1\u001b[0m\u001b[0;34m.\u001b[0m\u001b[0mpop\u001b[0m\u001b[0;34m(\u001b[0m\u001b[0;34m)\u001b[0m\u001b[0;34m\u001b[0m\u001b[0;34m\u001b[0m\u001b[0m\n\u001b[0m",
            "\u001b[0;31mAttributeError\u001b[0m: 'tuple' object has no attribute 'pop'"
          ]
        }
      ]
    },
    {
      "cell_type": "code",
      "source": [
        "l1 = [1,2,3]\n",
        "l2 = [4,5,6]\n",
        "l1 = l1+l2\n",
        "print(l1)"
      ],
      "metadata": {
        "colab": {
          "base_uri": "https://localhost:8080/"
        },
        "id": "SRsJkQDKQ-Ke",
        "outputId": "7f68476c-938c-4c33-ebbe-7de1e4f0f06e"
      },
      "execution_count": null,
      "outputs": [
        {
          "output_type": "stream",
          "name": "stdout",
          "text": [
            "[1, 2, 3, 4, 5, 6]\n"
          ]
        }
      ]
    },
    {
      "cell_type": "code",
      "source": [
        "t1 = (1,2,3)\n",
        "t2 = (4,5,6)\n",
        "t1 = t1+t2\n",
        "print(t3)"
      ],
      "metadata": {
        "colab": {
          "base_uri": "https://localhost:8080/"
        },
        "id": "DOK7U2CxRXeJ",
        "outputId": "280b4b2b-81cf-4fe6-a509-83b47d428046"
      },
      "execution_count": null,
      "outputs": [
        {
          "output_type": "stream",
          "name": "stdout",
          "text": [
            "(1, 2, 3, 4, 5, 6)\n"
          ]
        }
      ]
    },
    {
      "cell_type": "code",
      "source": [
        "fname = \"Kishore \"\n",
        "lname = \"kumar\"\n",
        "full_name = fname + lname\n",
        "print(full_name)"
      ],
      "metadata": {
        "colab": {
          "base_uri": "https://localhost:8080/"
        },
        "id": "YfpvwXqzRmxt",
        "outputId": "b56bf1cd-c284-472a-c920-307d12470071"
      },
      "execution_count": null,
      "outputs": [
        {
          "output_type": "stream",
          "name": "stdout",
          "text": [
            "Kishore kumar\n"
          ]
        }
      ]
    },
    {
      "cell_type": "code",
      "source": [
        "#sets: unordered, unchangeable, unindexed\n",
        "s1 = {1,2,3,4,50,6}\n",
        "print(type(s1))\n",
        "s2 = {7,85,90,10}\n",
        "print(type(s2))"
      ],
      "metadata": {
        "colab": {
          "base_uri": "https://localhost:8080/"
        },
        "id": "aqVEzaPQSEB5",
        "outputId": "189351a3-5413-44e4-e0c7-c3ba79d1fa22"
      },
      "execution_count": null,
      "outputs": [
        {
          "output_type": "stream",
          "name": "stdout",
          "text": [
            "<class 'set'>\n",
            "<class 'set'>\n"
          ]
        }
      ]
    },
    {
      "cell_type": "code",
      "source": [
        "print(s1)"
      ],
      "metadata": {
        "colab": {
          "base_uri": "https://localhost:8080/"
        },
        "id": "Oz16t7y8Tohe",
        "outputId": "9a1e2d52-273e-4618-efaf-e479430d46e1"
      },
      "execution_count": null,
      "outputs": [
        {
          "output_type": "stream",
          "name": "stdout",
          "text": [
            "{1, 2, 3, 4, 50, 6}\n"
          ]
        }
      ]
    },
    {
      "cell_type": "code",
      "source": [
        "s1 = {\"Kishore\",\"alpha\",\"bravo\",\"charlie\",\"bravo\",\"bravo\",True,False,1,0}\n",
        "print(s1)"
      ],
      "metadata": {
        "colab": {
          "base_uri": "https://localhost:8080/"
        },
        "id": "rsmM5p8mTxjj",
        "outputId": "11802cb2-e1d9-49a7-e907-231de2613895"
      },
      "execution_count": null,
      "outputs": [
        {
          "output_type": "stream",
          "name": "stdout",
          "text": [
            "{False, True, 'Kishore', 'charlie', 'alpha', 'bravo'}\n"
          ]
        }
      ]
    },
    {
      "cell_type": "code",
      "source": [
        "print(s1)"
      ],
      "metadata": {
        "colab": {
          "base_uri": "https://localhost:8080/"
        },
        "id": "qyZIr8jAUE39",
        "outputId": "5cb3b946-35e8-40fa-d9ff-9ecf39a91f81"
      },
      "execution_count": null,
      "outputs": [
        {
          "output_type": "stream",
          "name": "stdout",
          "text": [
            "{'charlie', 'Kishore', 'alpha', 'bravo'}\n"
          ]
        }
      ]
    },
    {
      "cell_type": "code",
      "source": [
        "#unordered\n",
        "#unindexed\n",
        "#print(s1[0])\n",
        "#no duplicates\n"
      ],
      "metadata": {
        "colab": {
          "base_uri": "https://localhost:8080/",
          "height": 176
        },
        "id": "EWg-AF_0UKFK",
        "outputId": "d665fd5f-771a-42ce-e43e-638e6a9ef805"
      },
      "execution_count": null,
      "outputs": [
        {
          "output_type": "error",
          "ename": "TypeError",
          "evalue": "'set' object is not subscriptable",
          "traceback": [
            "\u001b[0;31m---------------------------------------------------------------------------\u001b[0m",
            "\u001b[0;31mTypeError\u001b[0m                                 Traceback (most recent call last)",
            "\u001b[0;32m<ipython-input-42-952da6fa926e>\u001b[0m in \u001b[0;36m<cell line: 0>\u001b[0;34m()\u001b[0m\n\u001b[1;32m      1\u001b[0m \u001b[0;31m#unordered\u001b[0m\u001b[0;34m\u001b[0m\u001b[0;34m\u001b[0m\u001b[0m\n\u001b[1;32m      2\u001b[0m \u001b[0;31m#unindexed\u001b[0m\u001b[0;34m\u001b[0m\u001b[0;34m\u001b[0m\u001b[0m\n\u001b[0;32m----> 3\u001b[0;31m \u001b[0mprint\u001b[0m\u001b[0;34m(\u001b[0m\u001b[0ms1\u001b[0m\u001b[0;34m[\u001b[0m\u001b[0;36m0\u001b[0m\u001b[0;34m]\u001b[0m\u001b[0;34m)\u001b[0m\u001b[0;34m\u001b[0m\u001b[0;34m\u001b[0m\u001b[0m\n\u001b[0m",
            "\u001b[0;31mTypeError\u001b[0m: 'set' object is not subscriptable"
          ]
        }
      ]
    },
    {
      "cell_type": "code",
      "source": [
        "print(len(s1))"
      ],
      "metadata": {
        "colab": {
          "base_uri": "https://localhost:8080/"
        },
        "id": "jkQ7jV-mUVE4",
        "outputId": "5fd6505d-c4b2-427a-b287-b6364fbd19c1"
      },
      "execution_count": null,
      "outputs": [
        {
          "output_type": "stream",
          "name": "stdout",
          "text": [
            "4\n"
          ]
        }
      ]
    },
    {
      "cell_type": "code",
      "source": [
        "c={True,1,5,1,5,'anil','Dora',False,1,0,-1,1,0,True}\n",
        "print(c)"
      ],
      "metadata": {
        "colab": {
          "base_uri": "https://localhost:8080/"
        },
        "id": "ORGub_YAU6b8",
        "outputId": "d87e1d61-9f7d-4b3f-cd6b-14c80b830aa6"
      },
      "execution_count": null,
      "outputs": [
        {
          "output_type": "stream",
          "name": "stdout",
          "text": [
            "{False, True, 5, 'Dora', 'anil', -1}\n"
          ]
        }
      ]
    },
    {
      "cell_type": "code",
      "source": [
        "s1= {1,2,3,4,5,56,7}\n",
        "print(s1)"
      ],
      "metadata": {
        "colab": {
          "base_uri": "https://localhost:8080/"
        },
        "id": "Ocdr1ksiV5HM",
        "outputId": "62407371-fedf-4d28-e30b-869f76458953"
      },
      "execution_count": null,
      "outputs": [
        {
          "output_type": "stream",
          "name": "stdout",
          "text": [
            "{1, 2, 3, 4, 5, 7, 56}\n"
          ]
        }
      ]
    },
    {
      "cell_type": "code",
      "source": [
        "s1.add(67)"
      ],
      "metadata": {
        "id": "vNMQelLLWiSu"
      },
      "execution_count": null,
      "outputs": []
    },
    {
      "cell_type": "code",
      "source": [
        "print(s1)"
      ],
      "metadata": {
        "colab": {
          "base_uri": "https://localhost:8080/"
        },
        "id": "Q_EJp9O4WqO8",
        "outputId": "eff99b6c-956b-4753-827f-3acbbf44caee"
      },
      "execution_count": null,
      "outputs": [
        {
          "output_type": "stream",
          "name": "stdout",
          "text": [
            "{1, 2, 3, 4, 5, 67, 7, 56}\n"
          ]
        }
      ]
    },
    {
      "cell_type": "code",
      "source": [
        "s2 = {12,\"hero\"}\n",
        "s1.update(s2)\n",
        "print(s1)"
      ],
      "metadata": {
        "colab": {
          "base_uri": "https://localhost:8080/"
        },
        "id": "LaJIo8n2WrpX",
        "outputId": "1b3fcb5c-f6f5-4bde-ac41-c8807c26bb27"
      },
      "execution_count": null,
      "outputs": [
        {
          "output_type": "stream",
          "name": "stdout",
          "text": [
            "{1, 2, 3, 4, 5, 67, 7, 'hero', 12, 56}\n"
          ]
        }
      ]
    },
    {
      "cell_type": "code",
      "source": [
        "s1.remove(\"hero\")\n",
        "print(s1)"
      ],
      "metadata": {
        "colab": {
          "base_uri": "https://localhost:8080/"
        },
        "id": "LIWPGyC6W67R",
        "outputId": "0572442b-5283-475e-b45a-7325ef6e97bb"
      },
      "execution_count": null,
      "outputs": [
        {
          "output_type": "stream",
          "name": "stdout",
          "text": [
            "{1, 2, 3, 4, 5, 67, 7, 12, 56}\n"
          ]
        }
      ]
    },
    {
      "cell_type": "code",
      "source": [
        "s1.remove(\"hero\")"
      ],
      "metadata": {
        "colab": {
          "base_uri": "https://localhost:8080/",
          "height": 141
        },
        "id": "lMYrWnm7XEso",
        "outputId": "ef987535-3366-48b7-f725-d27276cc0037"
      },
      "execution_count": null,
      "outputs": [
        {
          "output_type": "error",
          "ename": "KeyError",
          "evalue": "'hero'",
          "traceback": [
            "\u001b[0;31m---------------------------------------------------------------------------\u001b[0m",
            "\u001b[0;31mKeyError\u001b[0m                                  Traceback (most recent call last)",
            "\u001b[0;32m<ipython-input-57-780ebc861ddb>\u001b[0m in \u001b[0;36m<cell line: 0>\u001b[0;34m()\u001b[0m\n\u001b[0;32m----> 1\u001b[0;31m \u001b[0ms1\u001b[0m\u001b[0;34m.\u001b[0m\u001b[0mremove\u001b[0m\u001b[0;34m(\u001b[0m\u001b[0;34m\"hero\"\u001b[0m\u001b[0;34m)\u001b[0m\u001b[0;34m\u001b[0m\u001b[0;34m\u001b[0m\u001b[0m\n\u001b[0m",
            "\u001b[0;31mKeyError\u001b[0m: 'hero'"
          ]
        }
      ]
    },
    {
      "cell_type": "code",
      "source": [
        "s1.pop()"
      ],
      "metadata": {
        "colab": {
          "base_uri": "https://localhost:8080/"
        },
        "id": "Ob5NK8-7XIlR",
        "outputId": "f13815d1-d9b9-4ca8-ceed-8424f4bc7632"
      },
      "execution_count": null,
      "outputs": [
        {
          "output_type": "execute_result",
          "data": {
            "text/plain": [
              "1"
            ]
          },
          "metadata": {},
          "execution_count": 58
        }
      ]
    },
    {
      "cell_type": "code",
      "source": [
        "print(s1)"
      ],
      "metadata": {
        "colab": {
          "base_uri": "https://localhost:8080/"
        },
        "id": "buhUdDP8XgAM",
        "outputId": "db00a4f6-8a88-4da9-e217-3521c0a10cb4"
      },
      "execution_count": null,
      "outputs": [
        {
          "output_type": "stream",
          "name": "stdout",
          "text": [
            "{2, 3, 4, 5, 67, 7, 12, 56}\n"
          ]
        }
      ]
    },
    {
      "cell_type": "code",
      "source": [
        "s1.clear()"
      ],
      "metadata": {
        "id": "nDGIiWAsXimR"
      },
      "execution_count": null,
      "outputs": []
    },
    {
      "cell_type": "code",
      "source": [
        "print(s1)"
      ],
      "metadata": {
        "colab": {
          "base_uri": "https://localhost:8080/"
        },
        "id": "CuXC0vUiXn7L",
        "outputId": "3e636786-90da-4334-b587-8d48508ece1c"
      },
      "execution_count": null,
      "outputs": [
        {
          "output_type": "stream",
          "name": "stdout",
          "text": [
            "set()\n"
          ]
        }
      ]
    },
    {
      "cell_type": "code",
      "source": [
        "del s1"
      ],
      "metadata": {
        "id": "FIIHc6nBXpnv"
      },
      "execution_count": null,
      "outputs": []
    },
    {
      "cell_type": "code",
      "source": [
        "print(s1)"
      ],
      "metadata": {
        "colab": {
          "base_uri": "https://localhost:8080/",
          "height": 141
        },
        "id": "NSyveeMFXr-2",
        "outputId": "fbb45612-cf06-4ed7-a11c-3cf7b195f548"
      },
      "execution_count": null,
      "outputs": [
        {
          "output_type": "error",
          "ename": "NameError",
          "evalue": "name 's1' is not defined",
          "traceback": [
            "\u001b[0;31m---------------------------------------------------------------------------\u001b[0m",
            "\u001b[0;31mNameError\u001b[0m                                 Traceback (most recent call last)",
            "\u001b[0;32m<ipython-input-63-230e0263beec>\u001b[0m in \u001b[0;36m<cell line: 0>\u001b[0;34m()\u001b[0m\n\u001b[0;32m----> 1\u001b[0;31m \u001b[0mprint\u001b[0m\u001b[0;34m(\u001b[0m\u001b[0ms1\u001b[0m\u001b[0;34m)\u001b[0m\u001b[0;34m\u001b[0m\u001b[0;34m\u001b[0m\u001b[0m\n\u001b[0m",
            "\u001b[0;31mNameError\u001b[0m: name 's1' is not defined"
          ]
        }
      ]
    },
    {
      "cell_type": "code",
      "source": [
        "for x in s2:\n",
        "  print(x)"
      ],
      "metadata": {
        "colab": {
          "base_uri": "https://localhost:8080/"
        },
        "id": "nlbSdlm2XtWt",
        "outputId": "1327afc1-c785-47bf-f5db-65331f480fe7"
      },
      "execution_count": null,
      "outputs": [
        {
          "output_type": "stream",
          "name": "stdout",
          "text": [
            "hero\n",
            "12\n"
          ]
        }
      ]
    },
    {
      "cell_type": "code",
      "source": [
        "#*unchageable: index\n",
        "#modify: add remove\n",
        "\n",
        "s1 = {1,2,3,4,56}\n",
        "s1[0] = \"kishore\"\n"
      ],
      "metadata": {
        "colab": {
          "base_uri": "https://localhost:8080/",
          "height": 176
        },
        "id": "Z7sxt_TZYJdL",
        "outputId": "22ea62ca-e862-43f5-e81e-2ce7a87de531"
      },
      "execution_count": null,
      "outputs": [
        {
          "output_type": "error",
          "ename": "TypeError",
          "evalue": "'set' object does not support item assignment",
          "traceback": [
            "\u001b[0;31m---------------------------------------------------------------------------\u001b[0m",
            "\u001b[0;31mTypeError\u001b[0m                                 Traceback (most recent call last)",
            "\u001b[0;32m<ipython-input-66-4dadbe69c366>\u001b[0m in \u001b[0;36m<cell line: 0>\u001b[0;34m()\u001b[0m\n\u001b[1;32m      3\u001b[0m \u001b[0;34m\u001b[0m\u001b[0m\n\u001b[1;32m      4\u001b[0m \u001b[0ms1\u001b[0m \u001b[0;34m=\u001b[0m \u001b[0;34m{\u001b[0m\u001b[0;36m1\u001b[0m\u001b[0;34m,\u001b[0m\u001b[0;36m2\u001b[0m\u001b[0;34m,\u001b[0m\u001b[0;36m3\u001b[0m\u001b[0;34m,\u001b[0m\u001b[0;36m4\u001b[0m\u001b[0;34m,\u001b[0m\u001b[0;36m56\u001b[0m\u001b[0;34m}\u001b[0m\u001b[0;34m\u001b[0m\u001b[0;34m\u001b[0m\u001b[0m\n\u001b[0;32m----> 5\u001b[0;31m \u001b[0ms1\u001b[0m\u001b[0;34m[\u001b[0m\u001b[0;36m0\u001b[0m\u001b[0;34m]\u001b[0m \u001b[0;34m=\u001b[0m \u001b[0;34m\"kishore\"\u001b[0m\u001b[0;34m\u001b[0m\u001b[0;34m\u001b[0m\u001b[0m\n\u001b[0m",
            "\u001b[0;31mTypeError\u001b[0m: 'set' object does not support item assignment"
          ]
        }
      ]
    },
    {
      "cell_type": "code",
      "source": [
        "#dictionaries:\n",
        "#[\"key\":\"Value\"]\n",
        "# *\n",
        "#changeable\n",
        "#not allowing duplicates\n",
        "d1 = {\"Name\": \"Kishore\", \"age\": 27, \"Designation\": \"Data Scientist\",\"Salary\": \"18 LPA\",\"Name\":\"Tushar\"}\n",
        "print(d1)\n",
        "print(type(d1))\n"
      ],
      "metadata": {
        "colab": {
          "base_uri": "https://localhost:8080/"
        },
        "id": "5vu4YugcY-BP",
        "outputId": "f6fd37c1-ee30-4094-e0e2-c695867dd72a"
      },
      "execution_count": null,
      "outputs": [
        {
          "output_type": "stream",
          "name": "stdout",
          "text": [
            "{'Name': 'Tushar', 'age': 27, 'Designation': 'Data Scientist', 'Salary': '18 LPA'}\n",
            "<class 'dict'>\n"
          ]
        }
      ]
    },
    {
      "cell_type": "code",
      "source": [
        "print(len(d1))"
      ],
      "metadata": {
        "colab": {
          "base_uri": "https://localhost:8080/"
        },
        "id": "F6NOQ-UBZ4pi",
        "outputId": "da5f8e60-21c9-4b7b-d534-eecc6e29c84c"
      },
      "execution_count": null,
      "outputs": [
        {
          "output_type": "stream",
          "name": "stdout",
          "text": [
            "4\n"
          ]
        }
      ]
    },
    {
      "cell_type": "code",
      "source": [
        "print(d1[\"Name\"])"
      ],
      "metadata": {
        "colab": {
          "base_uri": "https://localhost:8080/"
        },
        "id": "1NeHDpgvaihZ",
        "outputId": "90bb1de7-e128-407f-8950-8cdc305bf752"
      },
      "execution_count": null,
      "outputs": [
        {
          "output_type": "stream",
          "name": "stdout",
          "text": [
            "Tushar\n"
          ]
        }
      ]
    },
    {
      "cell_type": "code",
      "source": [
        "print(d1.get(\"Name\"))"
      ],
      "metadata": {
        "colab": {
          "base_uri": "https://localhost:8080/"
        },
        "id": "lj9DsMmQbLaj",
        "outputId": "37675b78-f201-498d-80ab-109cad247698"
      },
      "execution_count": null,
      "outputs": [
        {
          "output_type": "stream",
          "name": "stdout",
          "text": [
            "Tushar\n"
          ]
        }
      ]
    },
    {
      "cell_type": "code",
      "source": [
        "x = d1.keys()\n",
        "print(x)"
      ],
      "metadata": {
        "colab": {
          "base_uri": "https://localhost:8080/"
        },
        "id": "lIEr1rszbVF3",
        "outputId": "334ea005-dd31-4e52-c27e-a2b71a0207f2"
      },
      "execution_count": null,
      "outputs": [
        {
          "output_type": "stream",
          "name": "stdout",
          "text": [
            "dict_keys(['Name', 'age', 'Designation', 'Salary'])\n"
          ]
        }
      ]
    },
    {
      "cell_type": "code",
      "source": [
        "print(d1.values())"
      ],
      "metadata": {
        "colab": {
          "base_uri": "https://localhost:8080/"
        },
        "id": "FLGtJ_y2bgtO",
        "outputId": "f6e9e0a6-11fa-4731-c375-f600ff15dc25"
      },
      "execution_count": null,
      "outputs": [
        {
          "output_type": "stream",
          "name": "stdout",
          "text": [
            "dict_values(['Tushar', 27, 'Data Scientist', '18 LPA'])\n"
          ]
        }
      ]
    },
    {
      "cell_type": "code",
      "source": [
        "print(d1.items())"
      ],
      "metadata": {
        "colab": {
          "base_uri": "https://localhost:8080/"
        },
        "id": "apCErHJ_b6hk",
        "outputId": "63f703da-cbec-498b-d2b3-5e075f48e7f0"
      },
      "execution_count": null,
      "outputs": [
        {
          "output_type": "stream",
          "name": "stdout",
          "text": [
            "dict_items([('Name', 'Tushar'), ('age', 27), ('Designation', 'Data Scientist'), ('Salary', '18 LPA')])\n"
          ]
        }
      ]
    },
    {
      "cell_type": "code",
      "source": [],
      "metadata": {
        "colab": {
          "base_uri": "https://localhost:8080/",
          "height": 141
        },
        "id": "ObL4choKcGJb",
        "outputId": "49456e25-c290-4071-f046-90a863f5ab78"
      },
      "execution_count": null,
      "outputs": [
        {
          "output_type": "error",
          "ename": "KeyError",
          "evalue": "0",
          "traceback": [
            "\u001b[0;31m---------------------------------------------------------------------------\u001b[0m",
            "\u001b[0;31mKeyError\u001b[0m                                  Traceback (most recent call last)",
            "\u001b[0;32m<ipython-input-82-e9ee20a91bb4>\u001b[0m in \u001b[0;36m<cell line: 0>\u001b[0;34m()\u001b[0m\n\u001b[0;32m----> 1\u001b[0;31m \u001b[0mprint\u001b[0m\u001b[0;34m(\u001b[0m\u001b[0md1\u001b[0m\u001b[0;34m[\u001b[0m\u001b[0;36m0\u001b[0m\u001b[0;34m]\u001b[0m\u001b[0;34m)\u001b[0m\u001b[0;34m\u001b[0m\u001b[0;34m\u001b[0m\u001b[0m\n\u001b[0m",
            "\u001b[0;31mKeyError\u001b[0m: 0"
          ]
        }
      ]
    },
    {
      "cell_type": "code",
      "source": [
        "x = d1.keys()\n",
        "print(x[0])"
      ],
      "metadata": {
        "colab": {
          "base_uri": "https://localhost:8080/",
          "height": 158
        },
        "id": "kzy2FQM_cZVD",
        "outputId": "2cc23b2c-d035-4c3b-a638-849a949cba4a"
      },
      "execution_count": null,
      "outputs": [
        {
          "output_type": "error",
          "ename": "TypeError",
          "evalue": "'dict_keys' object is not subscriptable",
          "traceback": [
            "\u001b[0;31m---------------------------------------------------------------------------\u001b[0m",
            "\u001b[0;31mTypeError\u001b[0m                                 Traceback (most recent call last)",
            "\u001b[0;32m<ipython-input-83-7196bee2d528>\u001b[0m in \u001b[0;36m<cell line: 0>\u001b[0;34m()\u001b[0m\n\u001b[1;32m      1\u001b[0m \u001b[0mx\u001b[0m \u001b[0;34m=\u001b[0m \u001b[0md1\u001b[0m\u001b[0;34m.\u001b[0m\u001b[0mkeys\u001b[0m\u001b[0;34m(\u001b[0m\u001b[0;34m)\u001b[0m\u001b[0;34m\u001b[0m\u001b[0;34m\u001b[0m\u001b[0m\n\u001b[0;32m----> 2\u001b[0;31m \u001b[0mprint\u001b[0m\u001b[0;34m(\u001b[0m\u001b[0mx\u001b[0m\u001b[0;34m[\u001b[0m\u001b[0;36m0\u001b[0m\u001b[0;34m]\u001b[0m\u001b[0;34m)\u001b[0m\u001b[0;34m\u001b[0m\u001b[0;34m\u001b[0m\u001b[0m\n\u001b[0m",
            "\u001b[0;31mTypeError\u001b[0m: 'dict_keys' object is not subscriptable"
          ]
        }
      ]
    },
    {
      "cell_type": "code",
      "source": [
        "print(d1.keys(),d1.values())"
      ],
      "metadata": {
        "colab": {
          "base_uri": "https://localhost:8080/"
        },
        "id": "0PJjHc0ZckXb",
        "outputId": "aba1298c-39c6-4fb1-83ba-999a2741583b"
      },
      "execution_count": null,
      "outputs": [
        {
          "output_type": "stream",
          "name": "stdout",
          "text": [
            "dict_keys(['Name', 'age', 'Designation', 'Salary']) dict_values(['Tushar', 27, 'Data Scientist', '18 LPA'])\n"
          ]
        }
      ]
    },
    {
      "cell_type": "code",
      "source": [
        "d1 = {\"Name\": \"Kishore\",\"Name1\":\"Kishore\", \"age\": 27, \"Designation\": \"Data Scientist\",\"Salary\": \"18 LPA\"}\n"
      ],
      "metadata": {
        "id": "vM_KjNG_cvtv"
      },
      "execution_count": null,
      "outputs": []
    },
    {
      "cell_type": "code",
      "source": [
        "print(d1)"
      ],
      "metadata": {
        "colab": {
          "base_uri": "https://localhost:8080/"
        },
        "id": "ZNoEY9fyeFR1",
        "outputId": "f05eb6f6-929d-4001-c4b0-fb957bed4390"
      },
      "execution_count": null,
      "outputs": [
        {
          "output_type": "stream",
          "name": "stdout",
          "text": [
            "{'Name': 'Kishore', 'Name1': 'Kishore', 'age': 27, 'Designation': 'Data Scientist', 'Salary': '18 LPA'}\n"
          ]
        }
      ]
    },
    {
      "cell_type": "code",
      "source": [
        "tried dictionary of dictionaries :d1 ={\"emp1\":{\"name\":\"Tush\",\"age\":10,\"val\":900},\"emp2\":{\"name\":\"Bush\",\"age\":20,\"val\":1000} }\n",
        "print(d1[\"emp1\"])"
      ],
      "metadata": {
        "id": "MAWd7wbneGkb"
      },
      "execution_count": null,
      "outputs": []
    },
    {
      "cell_type": "code",
      "source": [
        "print(type(d1))"
      ],
      "metadata": {
        "colab": {
          "base_uri": "https://localhost:8080/"
        },
        "id": "Qk30PRMsfA7Z",
        "outputId": "af3ae772-cd2b-4fd9-b3c0-aea07433a80e"
      },
      "execution_count": null,
      "outputs": [
        {
          "output_type": "stream",
          "name": "stdout",
          "text": [
            "<class 'dict'>\n"
          ]
        }
      ]
    },
    {
      "cell_type": "code",
      "source": [
        "d1 = {\"Name\":\"Kishore\"}\n",
        "d1.keys()\n"
      ],
      "metadata": {
        "colab": {
          "base_uri": "https://localhost:8080/"
        },
        "id": "k5J4PBAZfCM7",
        "outputId": "4a732d36-0bdd-447f-81be-67243fe09775"
      },
      "execution_count": null,
      "outputs": [
        {
          "output_type": "execute_result",
          "data": {
            "text/plain": [
              "dict_keys(['Name'])"
            ]
          },
          "metadata": {},
          "execution_count": 89
        }
      ]
    },
    {
      "cell_type": "code",
      "source": [
        "a = \"Kishore\"\n",
        "print(type(a))"
      ],
      "metadata": {
        "colab": {
          "base_uri": "https://localhost:8080/"
        },
        "id": "2fG6yaCifnj4",
        "outputId": "1ed05445-0d01-4b2c-9be2-8f2735376318"
      },
      "execution_count": null,
      "outputs": [
        {
          "output_type": "stream",
          "name": "stdout",
          "text": [
            "<class 'str'>\n"
          ]
        }
      ]
    },
    {
      "cell_type": "code",
      "source": [
        "print(a.lower())"
      ],
      "metadata": {
        "colab": {
          "base_uri": "https://localhost:8080/"
        },
        "id": "VmhuqReyfuj1",
        "outputId": "48f9cef3-cd10-4f29-fb55-083783d8f056"
      },
      "execution_count": null,
      "outputs": [
        {
          "output_type": "stream",
          "name": "stdout",
          "text": [
            "kishore\n"
          ]
        }
      ]
    },
    {
      "cell_type": "code",
      "source": [
        "d1 = {\"Name\":\"Kishore\"}\n",
        "d1[\"Name\"] = \"Kartik\"\n",
        "print(d1)"
      ],
      "metadata": {
        "colab": {
          "base_uri": "https://localhost:8080/"
        },
        "id": "-SVDAg__f1Pv",
        "outputId": "e0dbe795-26f8-43b9-fa3a-331e840d7d62"
      },
      "execution_count": null,
      "outputs": [
        {
          "output_type": "stream",
          "name": "stdout",
          "text": [
            "{'Name': 'Kartik'}\n"
          ]
        }
      ]
    },
    {
      "cell_type": "code",
      "source": [
        "d1[\"Name1\"] = [\"Kishore\",\"Aman\",\"Joy\"]\n"
      ],
      "metadata": {
        "id": "5VImzeG_g-i4"
      },
      "execution_count": null,
      "outputs": []
    },
    {
      "cell_type": "code",
      "source": [
        "print(d1)"
      ],
      "metadata": {
        "colab": {
          "base_uri": "https://localhost:8080/"
        },
        "id": "DtnBu-U6hS5i",
        "outputId": "043249c2-8d32-44a9-ac81-902f8dc68677"
      },
      "execution_count": null,
      "outputs": [
        {
          "output_type": "stream",
          "name": "stdout",
          "text": [
            "{'Name': 'Kartik', 'Name1': 'Kishore'}\n"
          ]
        }
      ]
    },
    {
      "cell_type": "code",
      "source": [
        "d1.pop(\"Name\")"
      ],
      "metadata": {
        "colab": {
          "base_uri": "https://localhost:8080/",
          "height": 36
        },
        "id": "WbRb501chT_Z",
        "outputId": "01485e44-6100-41d3-cbaf-46555f0d79ab"
      },
      "execution_count": null,
      "outputs": [
        {
          "output_type": "execute_result",
          "data": {
            "text/plain": [
              "'Kartik'"
            ],
            "application/vnd.google.colaboratory.intrinsic+json": {
              "type": "string"
            }
          },
          "metadata": {},
          "execution_count": 96
        }
      ]
    },
    {
      "cell_type": "code",
      "source": [
        "print(d1)"
      ],
      "metadata": {
        "colab": {
          "base_uri": "https://localhost:8080/"
        },
        "id": "KFA4VT0uhdab",
        "outputId": "f505b7a2-c00d-418d-f91a-e3dc0908b2a8"
      },
      "execution_count": null,
      "outputs": [
        {
          "output_type": "stream",
          "name": "stdout",
          "text": [
            "{'Name1': ['Kishore', 'Aman', 'Joy']}\n"
          ]
        }
      ]
    },
    {
      "cell_type": "code",
      "source": [
        "print(d1[\"Name1\"])"
      ],
      "metadata": {
        "colab": {
          "base_uri": "https://localhost:8080/"
        },
        "id": "gzrl2n4che83",
        "outputId": "d42c6014-6b28-48ca-9920-d544eae18bc1"
      },
      "execution_count": null,
      "outputs": [
        {
          "output_type": "stream",
          "name": "stdout",
          "text": [
            "['Kishore', 'Aman', 'Joy']\n"
          ]
        }
      ]
    },
    {
      "cell_type": "code",
      "source": [
        "#if and else:\n",
        "\n",
        "if : condition\n",
        "elif: (multiple conditions)\n",
        "else: (by default -- No condition required)\n",
        "\n",
        "'''age >= 18\n",
        "Resident of India: (Citizenship)\n",
        "Yes\n",
        "\n",
        "No'''\n",
        "\n",
        "'''\n",
        "==\n",
        ">\n",
        "<\n",
        ">=\n",
        "<=\n",
        "!=\n",
        "'''"
      ],
      "metadata": {
        "id": "jzSBcLbAiEFS"
      },
      "execution_count": null,
      "outputs": []
    },
    {
      "cell_type": "code",
      "source": [
        "age = input(\"enter your age\")\n",
        "print(age)\n",
        "print(type(age))"
      ],
      "metadata": {
        "colab": {
          "base_uri": "https://localhost:8080/",
          "height": 321
        },
        "id": "YwjifNg_zQT3",
        "outputId": "38446994-4e30-4e6d-8b09-24213dabc8da"
      },
      "execution_count": null,
      "outputs": [
        {
          "output_type": "error",
          "ename": "KeyboardInterrupt",
          "evalue": "Interrupted by user",
          "traceback": [
            "\u001b[0;31m---------------------------------------------------------------------------\u001b[0m",
            "\u001b[0;31mKeyboardInterrupt\u001b[0m                         Traceback (most recent call last)",
            "\u001b[0;32m<ipython-input-1-c598f94c9e98>\u001b[0m in \u001b[0;36m<cell line: 0>\u001b[0;34m()\u001b[0m\n\u001b[0;32m----> 1\u001b[0;31m \u001b[0mage\u001b[0m \u001b[0;34m=\u001b[0m \u001b[0minput\u001b[0m\u001b[0;34m(\u001b[0m\u001b[0;34m\"enter you age\"\u001b[0m\u001b[0;34m)\u001b[0m\u001b[0;34m\u001b[0m\u001b[0;34m\u001b[0m\u001b[0m\n\u001b[0m\u001b[1;32m      2\u001b[0m \u001b[0mprint\u001b[0m\u001b[0;34m(\u001b[0m\u001b[0mage\u001b[0m\u001b[0;34m)\u001b[0m\u001b[0;34m\u001b[0m\u001b[0;34m\u001b[0m\u001b[0m\n\u001b[1;32m      3\u001b[0m \u001b[0mprint\u001b[0m\u001b[0;34m(\u001b[0m\u001b[0mtype\u001b[0m\u001b[0;34m(\u001b[0m\u001b[0mage\u001b[0m\u001b[0;34m)\u001b[0m\u001b[0;34m)\u001b[0m\u001b[0;34m\u001b[0m\u001b[0;34m\u001b[0m\u001b[0m\n",
            "\u001b[0;32m/usr/local/lib/python3.11/dist-packages/ipykernel/kernelbase.py\u001b[0m in \u001b[0;36mraw_input\u001b[0;34m(self, prompt)\u001b[0m\n\u001b[1;32m    849\u001b[0m                 \u001b[0;34m\"raw_input was called, but this frontend does not support input requests.\"\u001b[0m\u001b[0;34m\u001b[0m\u001b[0;34m\u001b[0m\u001b[0m\n\u001b[1;32m    850\u001b[0m             )\n\u001b[0;32m--> 851\u001b[0;31m         return self._input_request(str(prompt),\n\u001b[0m\u001b[1;32m    852\u001b[0m             \u001b[0mself\u001b[0m\u001b[0;34m.\u001b[0m\u001b[0m_parent_ident\u001b[0m\u001b[0;34m,\u001b[0m\u001b[0;34m\u001b[0m\u001b[0;34m\u001b[0m\u001b[0m\n\u001b[1;32m    853\u001b[0m             \u001b[0mself\u001b[0m\u001b[0;34m.\u001b[0m\u001b[0m_parent_header\u001b[0m\u001b[0;34m,\u001b[0m\u001b[0;34m\u001b[0m\u001b[0;34m\u001b[0m\u001b[0m\n",
            "\u001b[0;32m/usr/local/lib/python3.11/dist-packages/ipykernel/kernelbase.py\u001b[0m in \u001b[0;36m_input_request\u001b[0;34m(self, prompt, ident, parent, password)\u001b[0m\n\u001b[1;32m    893\u001b[0m             \u001b[0;32mexcept\u001b[0m \u001b[0mKeyboardInterrupt\u001b[0m\u001b[0;34m:\u001b[0m\u001b[0;34m\u001b[0m\u001b[0;34m\u001b[0m\u001b[0m\n\u001b[1;32m    894\u001b[0m                 \u001b[0;31m# re-raise KeyboardInterrupt, to truncate traceback\u001b[0m\u001b[0;34m\u001b[0m\u001b[0;34m\u001b[0m\u001b[0m\n\u001b[0;32m--> 895\u001b[0;31m                 \u001b[0;32mraise\u001b[0m \u001b[0mKeyboardInterrupt\u001b[0m\u001b[0;34m(\u001b[0m\u001b[0;34m\"Interrupted by user\"\u001b[0m\u001b[0;34m)\u001b[0m \u001b[0;32mfrom\u001b[0m \u001b[0;32mNone\u001b[0m\u001b[0;34m\u001b[0m\u001b[0;34m\u001b[0m\u001b[0m\n\u001b[0m\u001b[1;32m    896\u001b[0m             \u001b[0;32mexcept\u001b[0m \u001b[0mException\u001b[0m \u001b[0;32mas\u001b[0m \u001b[0me\u001b[0m\u001b[0;34m:\u001b[0m\u001b[0;34m\u001b[0m\u001b[0;34m\u001b[0m\u001b[0m\n\u001b[1;32m    897\u001b[0m                 \u001b[0mself\u001b[0m\u001b[0;34m.\u001b[0m\u001b[0mlog\u001b[0m\u001b[0;34m.\u001b[0m\u001b[0mwarning\u001b[0m\u001b[0;34m(\u001b[0m\u001b[0;34m\"Invalid Message:\"\u001b[0m\u001b[0;34m,\u001b[0m \u001b[0mexc_info\u001b[0m\u001b[0;34m=\u001b[0m\u001b[0;32mTrue\u001b[0m\u001b[0;34m)\u001b[0m\u001b[0;34m\u001b[0m\u001b[0;34m\u001b[0m\u001b[0m\n",
            "\u001b[0;31mKeyboardInterrupt\u001b[0m: Interrupted by user"
          ]
        }
      ]
    },
    {
      "cell_type": "code",
      "source": [
        "age = input(\"enter your age\")\n",
        "print(age)\n",
        "print(type(age))"
      ],
      "metadata": {
        "colab": {
          "base_uri": "https://localhost:8080/"
        },
        "id": "TH_246V71WWC",
        "outputId": "cdd758e8-394a-43c3-a971-924d5d5f16b2"
      },
      "execution_count": null,
      "outputs": [
        {
          "output_type": "stream",
          "name": "stdout",
          "text": [
            "enter your age18\n",
            "18\n",
            "<class 'str'>\n"
          ]
        }
      ]
    },
    {
      "cell_type": "code",
      "source": [
        "#input----- string\n",
        "#typeconversion\n",
        "age = int(input(\"Enter your age\"))\n",
        "nationality= input(\"Enter your Nationality:\").strip().lower()\n",
        "print(age)\n",
        "print(nationality)\n",
        "#print(type(age))\n",
        "\n",
        "if age>70 and nationality==\"indian\":\n",
        "  print(\"Hey! You are eligble to cast a vote but be careful it may be your last govt choose the govt. wisely for your future generations!\")\n",
        "elif age>=18 and nationality==\"indian\":\n",
        "  print(\"Hey! You are eligble to cast a vote\")\n",
        "else:\n",
        "  print(\"Sorry!! You can't Vote\")\n",
        "\n",
        "\n",
        "\n"
      ],
      "metadata": {
        "colab": {
          "base_uri": "https://localhost:8080/"
        },
        "id": "OuWp-ZYx1fic",
        "outputId": "3a7f07e2-85a3-4629-94f0-127c8872c73d"
      },
      "execution_count": null,
      "outputs": [
        {
          "output_type": "stream",
          "name": "stdout",
          "text": [
            "Enter your age54\n",
            "Enter your Nationality:india\n",
            "54\n",
            "india\n",
            "Sorry!! You can't Vote\n"
          ]
        }
      ]
    },
    {
      "cell_type": "code",
      "source": [
        "a = \"INDIAN\"\n",
        "b = \"indian\"\n",
        "\n",
        "a == b"
      ],
      "metadata": {
        "colab": {
          "base_uri": "https://localhost:8080/"
        },
        "id": "Ckc-K59L2Qor",
        "outputId": "9521eb45-7c42-4291-c54e-c732f9eacbad"
      },
      "execution_count": null,
      "outputs": [
        {
          "output_type": "execute_result",
          "data": {
            "text/plain": [
              "False"
            ]
          },
          "metadata": {},
          "execution_count": 8
        }
      ]
    },
    {
      "cell_type": "code",
      "source": [
        "#scholarship eligibility\n",
        "\n",
        "age = int(input(\"enter your age\")) #age input <= 25\n",
        "percentage = float(input(\"Enter your marks percentage\")) # >85%\n",
        "income = int(input(\"Enter your family annual income\")) # 300000 INR\n",
        "extracuricullar = input(\"have you participated in any national event(sports/NCC/NSS)ENTER: (Yes/No)\").strip().lower()#Yes\n",
        "\n",
        "\n",
        "if age<=25 and percentage >=85 and income<= 300000 and extracuricullar == \"yes\":\n",
        "  print(\"Congratulations!! You are eligible for scholarship and you can proceed with your application\")\n",
        "\n",
        "elif age>25:\n",
        "  print(\"You can not apply for the scholarship as age limit is surpassed\")\n",
        "\n",
        "elif percentage<85:\n",
        "  print(\"You are having less marks, sorry! you are not eligible\")\n",
        "\n",
        "elif income > 300000:\n",
        "  print(\"Hey! you are capable enough to sustain your studies, without scholarship\")\n",
        "\n",
        "elif extracuricullar!=\"yes\":\n",
        "  print(\"Sorry! there is no record for any extracuricullar participation you are not eligible \")\n",
        "\n",
        "else:\n",
        "  print(\"INVALID INPUT\")\n",
        "\n",
        "\n"
      ],
      "metadata": {
        "id": "3ReoPrJr5FQV"
      },
      "execution_count": null,
      "outputs": []
    },
    {
      "cell_type": "code",
      "source": [
        "#python loops\n",
        "#for : iterate over the sequences : str, list, tuple, dict, set\n",
        "#while\n",
        "\n",
        "s1 =\"Kishore\"\n",
        "\n",
        "for x in s1:\n",
        "  print(x)"
      ],
      "metadata": {
        "id": "0kAVHPq1BWP5"
      },
      "execution_count": null,
      "outputs": []
    },
    {
      "cell_type": "code",
      "source": [
        "s1 =\"Kishore\"\n",
        "for x in s1:\n",
        "  print(x)"
      ],
      "metadata": {
        "colab": {
          "base_uri": "https://localhost:8080/"
        },
        "id": "Ff6XXXyBC-xV",
        "outputId": "6ba1a913-809c-4bfb-b5a6-be3a5a6fa6d8"
      },
      "execution_count": null,
      "outputs": [
        {
          "output_type": "stream",
          "name": "stdout",
          "text": [
            "K\n",
            "i\n",
            "s\n",
            "h\n",
            "o\n",
            "r\n",
            "e\n"
          ]
        }
      ]
    },
    {
      "cell_type": "code",
      "source": [
        "l1 = [\"Kishore\",\"Anusha\",\"Anil\",\"Shubra\",\"Krishana\"]\n",
        "for a in l1:\n",
        "  print(a)"
      ],
      "metadata": {
        "colab": {
          "base_uri": "https://localhost:8080/"
        },
        "id": "JvaooMpmDDi2",
        "outputId": "12a04612-06a2-495f-a607-e7bf4f8a9dab"
      },
      "execution_count": null,
      "outputs": [
        {
          "output_type": "stream",
          "name": "stdout",
          "text": [
            "Kishore\n",
            "Anusha\n",
            "Anil\n",
            "Shubra\n",
            "Krishana\n"
          ]
        }
      ]
    },
    {
      "cell_type": "code",
      "source": [
        "s1 = \"python\"\n",
        "for index,char in enumerate(s1):\n",
        "  print(f\"Index {index}:{char}\")"
      ],
      "metadata": {
        "colab": {
          "base_uri": "https://localhost:8080/"
        },
        "id": "3DVQCwr1DtRg",
        "outputId": "ad9ccc18-be4a-46ea-81f1-f61d35a3fd99"
      },
      "execution_count": null,
      "outputs": [
        {
          "output_type": "stream",
          "name": "stdout",
          "text": [
            "Index 0:p\n",
            "Index 1:y\n",
            "Index 2:t\n",
            "Index 3:h\n",
            "Index 4:o\n",
            "Index 5:n\n"
          ]
        }
      ]
    },
    {
      "cell_type": "code",
      "source": [
        "for char in ['k','i','s','h','o','r','e']\n",
        "\n"
      ],
      "metadata": {
        "colab": {
          "base_uri": "https://localhost:8080/"
        },
        "id": "TfqN56ApEsFf",
        "outputId": "cf0b1432-b4e8-461d-9c40-3bde6a31e543"
      },
      "execution_count": null,
      "outputs": [
        {
          "output_type": "stream",
          "name": "stdout",
          "text": [
            "<class 'list'>\n"
          ]
        }
      ]
    },
    {
      "cell_type": "code",
      "source": [
        "s1 = \"Kishore\"\n",
        "for x in s1:\n",
        "     print(x)\n",
        "     if x == 'o':\n",
        "      break\n",
        "\n"
      ],
      "metadata": {
        "colab": {
          "base_uri": "https://localhost:8080/"
        },
        "id": "hNDpHd2zF0z2",
        "outputId": "4c69d6ea-68d8-418f-f2f5-37656cd37d77"
      },
      "execution_count": null,
      "outputs": [
        {
          "output_type": "stream",
          "name": "stdout",
          "text": [
            "K\n",
            "i\n",
            "s\n",
            "h\n",
            "o\n"
          ]
        }
      ]
    },
    {
      "cell_type": "code",
      "source": [
        "s1 = \"Kishore\"\n",
        "for x in s1:\n",
        "  if x == 'o':\n",
        "   continue\n",
        "  if x == 'r':\n",
        "   continue\n",
        "  print(x)\n",
        "\n"
      ],
      "metadata": {
        "colab": {
          "base_uri": "https://localhost:8080/"
        },
        "id": "mGi24Nr4MKqa",
        "outputId": "148f1b16-daf6-4a06-b82b-4e0d9be3378d"
      },
      "execution_count": null,
      "outputs": [
        {
          "output_type": "stream",
          "name": "stdout",
          "text": [
            "K\n",
            "i\n",
            "s\n",
            "h\n",
            "e\n"
          ]
        }
      ]
    },
    {
      "cell_type": "code",
      "source": [
        "#while loop\n",
        "\n",
        "i = 10 #initialization\n",
        "while i>=1: #condition\n",
        "  print(i)\n",
        "  i=i-1#increment\n"
      ],
      "metadata": {
        "colab": {
          "base_uri": "https://localhost:8080/"
        },
        "id": "yHiBN-1yLSKo",
        "outputId": "0795fd63-0fca-4be4-d1a7-780fdf74686c"
      },
      "execution_count": null,
      "outputs": [
        {
          "output_type": "stream",
          "name": "stdout",
          "text": [
            "10\n",
            "9\n",
            "8\n",
            "7\n",
            "6\n",
            "5\n",
            "4\n",
            "3\n",
            "2\n",
            "1\n"
          ]
        }
      ]
    },
    {
      "cell_type": "code",
      "source": [
        "print(i)"
      ],
      "metadata": {
        "colab": {
          "base_uri": "https://localhost:8080/"
        },
        "id": "QpXRBo50O-5u",
        "outputId": "35084053-469b-4583-9eee-83bd6bbc4afa"
      },
      "execution_count": null,
      "outputs": [
        {
          "output_type": "stream",
          "name": "stdout",
          "text": [
            "0\n"
          ]
        }
      ]
    },
    {
      "cell_type": "code",
      "source": [
        "num = int(input(\"Enter the number\"))\n",
        "i = 1 #initialization\n",
        "#while loop\n",
        "while i<=10:\n",
        "  #formatted strings\n",
        "  print(f\"{num} X {i} = {num*i}\")\n",
        "  if i == 5:\n",
        "    break\n",
        "  i+=1"
      ],
      "metadata": {
        "colab": {
          "base_uri": "https://localhost:8080/"
        },
        "id": "u3r0lM3hPCFK",
        "outputId": "8ea475ed-0340-49a3-ae0d-bf2987181beb"
      },
      "execution_count": null,
      "outputs": [
        {
          "output_type": "stream",
          "name": "stdout",
          "text": [
            "Enter the number5\n",
            "5 X 1 = 5\n",
            "5 X 2 = 10\n",
            "5 X 3 = 15\n",
            "5 X 4 = 20\n",
            "5 X 5 = 25\n"
          ]
        }
      ]
    },
    {
      "cell_type": "code",
      "source": [
        "#functions: user def inbuilt\n",
        "#parametrised func\n",
        "#non parameterized\n",
        "#parameters : variables\n",
        "#callable piece of a code\n",
        "#call by name\n",
        "#use again and again\n",
        "#def keyword\n"
      ],
      "metadata": {
        "id": "a7XmBJklRjj9"
      },
      "execution_count": null,
      "outputs": []
    },
    {
      "cell_type": "code",
      "source": [
        "#non parameterized\n",
        "def add_num():\n",
        "  a = int(input(\"enter the value for a\"))\n",
        "  b = int(input(\"enter the value for b\"))\n",
        "  c = a + b\n",
        "  print(c)\n",
        "\n",
        "add_num()"
      ],
      "metadata": {
        "colab": {
          "base_uri": "https://localhost:8080/"
        },
        "id": "zmOS8dVBTp0H",
        "outputId": "6545fb8e-e50a-4aaa-8244-4767cdcfa453"
      },
      "execution_count": null,
      "outputs": [
        {
          "output_type": "stream",
          "name": "stdout",
          "text": [
            "enter the value for a11\n",
            "enter the value for b12\n",
            "23\n"
          ]
        }
      ]
    },
    {
      "cell_type": "code",
      "source": [
        "def vote_eligiblity_checker():\n",
        " age = int(input(\"Enter your age\"))\n",
        " nationality= input(\"Enter your Nationality:\").strip().lower()\n",
        " print(age)\n",
        " print(nationality)\n",
        " #print(type(age))\n",
        "\n",
        " if age>70 and nationality==\"indian\":\n",
        "  print(\"Hey! You are eligble to cast a vote but be careful it may be your last govt choose the govt. wisely for your future generations!\")\n",
        " elif age>=18 and nationality==\"indian\":\n",
        "  print(\"Hey! You are eligble to cast a vote\")\n",
        " else:\n",
        "  print(\"Sorry!! You can't Vote\")\n"
      ],
      "metadata": {
        "id": "KW2SJXv3UIfA"
      },
      "execution_count": null,
      "outputs": []
    },
    {
      "cell_type": "code",
      "source": [
        "vote_eligiblity_checker()"
      ],
      "metadata": {
        "colab": {
          "base_uri": "https://localhost:8080/",
          "height": 287
        },
        "id": "I_UJ_6xkUzDa",
        "outputId": "30e46d22-b586-4413-e584-c4c78c81ca3c"
      },
      "execution_count": null,
      "outputs": [
        {
          "output_type": "error",
          "ename": "KeyboardInterrupt",
          "evalue": "Interrupted by user",
          "traceback": [
            "\u001b[0;31m---------------------------------------------------------------------------\u001b[0m",
            "\u001b[0;31mKeyboardInterrupt\u001b[0m                         Traceback (most recent call last)",
            "\u001b[0;32m<ipython-input-33-c72169aa7e48>\u001b[0m in \u001b[0;36m<cell line: 0>\u001b[0;34m()\u001b[0m\n\u001b[0;32m----> 1\u001b[0;31m \u001b[0mvote_eligiblity_checker\u001b[0m\u001b[0;34m(\u001b[0m\u001b[0;34m)\u001b[0m\u001b[0;34m\u001b[0m\u001b[0;34m\u001b[0m\u001b[0m\n\u001b[0m",
            "\u001b[0;32m<ipython-input-31-96eb98facb7e>\u001b[0m in \u001b[0;36mvote_eligiblity_checker\u001b[0;34m()\u001b[0m\n\u001b[1;32m      1\u001b[0m \u001b[0;32mdef\u001b[0m \u001b[0mvote_eligiblity_checker\u001b[0m\u001b[0;34m(\u001b[0m\u001b[0;34m)\u001b[0m\u001b[0;34m:\u001b[0m\u001b[0;34m\u001b[0m\u001b[0;34m\u001b[0m\u001b[0m\n\u001b[0;32m----> 2\u001b[0;31m  \u001b[0mage\u001b[0m \u001b[0;34m=\u001b[0m \u001b[0mint\u001b[0m\u001b[0;34m(\u001b[0m\u001b[0minput\u001b[0m\u001b[0;34m(\u001b[0m\u001b[0;34m\"Enter your age\"\u001b[0m\u001b[0;34m)\u001b[0m\u001b[0;34m)\u001b[0m\u001b[0;34m\u001b[0m\u001b[0;34m\u001b[0m\u001b[0m\n\u001b[0m\u001b[1;32m      3\u001b[0m  \u001b[0mnationality\u001b[0m\u001b[0;34m=\u001b[0m \u001b[0minput\u001b[0m\u001b[0;34m(\u001b[0m\u001b[0;34m\"Enter your Nationality:\"\u001b[0m\u001b[0;34m)\u001b[0m\u001b[0;34m.\u001b[0m\u001b[0mstrip\u001b[0m\u001b[0;34m(\u001b[0m\u001b[0;34m)\u001b[0m\u001b[0;34m.\u001b[0m\u001b[0mlower\u001b[0m\u001b[0;34m(\u001b[0m\u001b[0;34m)\u001b[0m\u001b[0;34m\u001b[0m\u001b[0;34m\u001b[0m\u001b[0m\n\u001b[1;32m      4\u001b[0m  \u001b[0mprint\u001b[0m\u001b[0;34m(\u001b[0m\u001b[0mage\u001b[0m\u001b[0;34m)\u001b[0m\u001b[0;34m\u001b[0m\u001b[0;34m\u001b[0m\u001b[0m\n\u001b[1;32m      5\u001b[0m  \u001b[0mprint\u001b[0m\u001b[0;34m(\u001b[0m\u001b[0mnationality\u001b[0m\u001b[0;34m)\u001b[0m\u001b[0;34m\u001b[0m\u001b[0;34m\u001b[0m\u001b[0m\n",
            "\u001b[0;32m/usr/local/lib/python3.11/dist-packages/ipykernel/kernelbase.py\u001b[0m in \u001b[0;36mraw_input\u001b[0;34m(self, prompt)\u001b[0m\n\u001b[1;32m    849\u001b[0m                 \u001b[0;34m\"raw_input was called, but this frontend does not support input requests.\"\u001b[0m\u001b[0;34m\u001b[0m\u001b[0;34m\u001b[0m\u001b[0m\n\u001b[1;32m    850\u001b[0m             )\n\u001b[0;32m--> 851\u001b[0;31m         return self._input_request(str(prompt),\n\u001b[0m\u001b[1;32m    852\u001b[0m             \u001b[0mself\u001b[0m\u001b[0;34m.\u001b[0m\u001b[0m_parent_ident\u001b[0m\u001b[0;34m,\u001b[0m\u001b[0;34m\u001b[0m\u001b[0;34m\u001b[0m\u001b[0m\n\u001b[1;32m    853\u001b[0m             \u001b[0mself\u001b[0m\u001b[0;34m.\u001b[0m\u001b[0m_parent_header\u001b[0m\u001b[0;34m,\u001b[0m\u001b[0;34m\u001b[0m\u001b[0;34m\u001b[0m\u001b[0m\n",
            "\u001b[0;32m/usr/local/lib/python3.11/dist-packages/ipykernel/kernelbase.py\u001b[0m in \u001b[0;36m_input_request\u001b[0;34m(self, prompt, ident, parent, password)\u001b[0m\n\u001b[1;32m    893\u001b[0m             \u001b[0;32mexcept\u001b[0m \u001b[0mKeyboardInterrupt\u001b[0m\u001b[0;34m:\u001b[0m\u001b[0;34m\u001b[0m\u001b[0;34m\u001b[0m\u001b[0m\n\u001b[1;32m    894\u001b[0m                 \u001b[0;31m# re-raise KeyboardInterrupt, to truncate traceback\u001b[0m\u001b[0;34m\u001b[0m\u001b[0;34m\u001b[0m\u001b[0m\n\u001b[0;32m--> 895\u001b[0;31m                 \u001b[0;32mraise\u001b[0m \u001b[0mKeyboardInterrupt\u001b[0m\u001b[0;34m(\u001b[0m\u001b[0;34m\"Interrupted by user\"\u001b[0m\u001b[0;34m)\u001b[0m \u001b[0;32mfrom\u001b[0m \u001b[0;32mNone\u001b[0m\u001b[0;34m\u001b[0m\u001b[0;34m\u001b[0m\u001b[0m\n\u001b[0m\u001b[1;32m    896\u001b[0m             \u001b[0;32mexcept\u001b[0m \u001b[0mException\u001b[0m \u001b[0;32mas\u001b[0m \u001b[0me\u001b[0m\u001b[0;34m:\u001b[0m\u001b[0;34m\u001b[0m\u001b[0;34m\u001b[0m\u001b[0m\n\u001b[1;32m    897\u001b[0m                 \u001b[0mself\u001b[0m\u001b[0;34m.\u001b[0m\u001b[0mlog\u001b[0m\u001b[0;34m.\u001b[0m\u001b[0mwarning\u001b[0m\u001b[0;34m(\u001b[0m\u001b[0;34m\"Invalid Message:\"\u001b[0m\u001b[0;34m,\u001b[0m \u001b[0mexc_info\u001b[0m\u001b[0;34m=\u001b[0m\u001b[0;32mTrue\u001b[0m\u001b[0;34m)\u001b[0m\u001b[0;34m\u001b[0m\u001b[0;34m\u001b[0m\u001b[0m\n",
            "\u001b[0;31mKeyboardInterrupt\u001b[0m: Interrupted by user"
          ]
        }
      ]
    },
    {
      "cell_type": "code",
      "source": [
        "#non parameterized\n",
        "a = int\n",
        "def add_num(a,b):#parameters\n",
        "  c = a + b\n",
        "  print(c)"
      ],
      "metadata": {
        "id": "uN5WwIzQU2iA"
      },
      "execution_count": null,
      "outputs": []
    },
    {
      "cell_type": "code",
      "source": [
        "add_num(12,13)#arguments"
      ],
      "metadata": {
        "colab": {
          "base_uri": "https://localhost:8080/"
        },
        "id": "a_Z5drcNVkKX",
        "outputId": "be4b8b9e-69ce-4541-881b-1a43b46ee1e9"
      },
      "execution_count": null,
      "outputs": [
        {
          "output_type": "stream",
          "name": "stdout",
          "text": [
            "25\n"
          ]
        }
      ]
    },
    {
      "cell_type": "code",
      "source": [
        "add_num(20,30)"
      ],
      "metadata": {
        "colab": {
          "base_uri": "https://localhost:8080/"
        },
        "id": "WEb7iqc1Vnh2",
        "outputId": "d7b58340-8427-452c-f1c7-87bbaa00b459"
      },
      "execution_count": null,
      "outputs": [
        {
          "output_type": "stream",
          "name": "stdout",
          "text": [
            "50\n"
          ]
        }
      ]
    },
    {
      "cell_type": "code",
      "source": [
        "add_num()"
      ],
      "metadata": {
        "colab": {
          "base_uri": "https://localhost:8080/",
          "height": 141
        },
        "id": "WfjDXyLuVs3t",
        "outputId": "95ad764a-1fbd-4d0b-ade6-174b299c2eea"
      },
      "execution_count": null,
      "outputs": [
        {
          "output_type": "error",
          "ename": "TypeError",
          "evalue": "add_num() missing 2 required positional arguments: 'a' and 'b'",
          "traceback": [
            "\u001b[0;31m---------------------------------------------------------------------------\u001b[0m",
            "\u001b[0;31mTypeError\u001b[0m                                 Traceback (most recent call last)",
            "\u001b[0;32m<ipython-input-39-e9d93e46b902>\u001b[0m in \u001b[0;36m<cell line: 0>\u001b[0;34m()\u001b[0m\n\u001b[0;32m----> 1\u001b[0;31m \u001b[0madd_num\u001b[0m\u001b[0;34m(\u001b[0m\u001b[0;34m)\u001b[0m\u001b[0;34m\u001b[0m\u001b[0;34m\u001b[0m\u001b[0m\n\u001b[0m",
            "\u001b[0;31mTypeError\u001b[0m: add_num() missing 2 required positional arguments: 'a' and 'b'"
          ]
        }
      ]
    },
    {
      "cell_type": "code",
      "source": [
        "a = \"Kartik\"\n",
        "print(f\"{a} is here\")\n",
        "print(\"{a}is here\")"
      ],
      "metadata": {
        "colab": {
          "base_uri": "https://localhost:8080/"
        },
        "id": "uuhsdSdeYPBZ",
        "outputId": "ca6fd396-0d2e-4645-8fbc-d4e81db90feb"
      },
      "execution_count": null,
      "outputs": [
        {
          "output_type": "stream",
          "name": "stdout",
          "text": [
            "Kartik is here\n",
            "{a}is here\n"
          ]
        }
      ]
    },
    {
      "cell_type": "code",
      "source": [
        "a = \"    Kish  ore   \"\n",
        "print(len(a))\n",
        "print(len(a.strip()))"
      ],
      "metadata": {
        "colab": {
          "base_uri": "https://localhost:8080/"
        },
        "id": "gLt02B4nYiR6",
        "outputId": "3db673b8-efc1-422f-db58-204e504fb744"
      },
      "execution_count": null,
      "outputs": [
        {
          "output_type": "stream",
          "name": "stdout",
          "text": [
            "16\n",
            "9\n"
          ]
        }
      ]
    },
    {
      "cell_type": "code",
      "source": [],
      "metadata": {
        "id": "sS2vH9R7ZRaF"
      },
      "execution_count": null,
      "outputs": []
    }
  ]
}