{
  "nbformat": 4,
  "nbformat_minor": 0,
  "metadata": {
    "colab": {
      "provenance": []
    },
    "kernelspec": {
      "name": "python3",
      "display_name": "Python 3"
    },
    "language_info": {
      "name": "python"
    }
  },
  "cells": [
    {
      "cell_type": "code",
      "execution_count": null,
      "metadata": {
        "colab": {
          "base_uri": "https://localhost:8080/"
        },
        "id": "dB_dGtBoOiGu",
        "outputId": "bfeea0a9-7ccd-44aa-cc6c-0b57960bea4e"
      },
      "outputs": [
        {
          "output_type": "stream",
          "name": "stdout",
          "text": [
            "Hi my name is Kishore Kumar. I am 31 years old and \n",
            "I am  Data Analyst having annual package of 23 LPA \n"
          ]
        }
      ],
      "source": [
        "#doubt\n",
        "#f--- formatted strings\n",
        "a = \"Kishore\"\n",
        "b = \"Kumar\"\n",
        "c = 31\n",
        "d = \" Data Analyst\"\n",
        "e = \"23 LPA\"\n",
        "\n",
        "print(f\"\"\"Hi my name is {a} {b}. I am {c} years old and\n",
        "I am {d} having annual package of {e} \"\"\")"
      ]
    },
    {
      "cell_type": "code",
      "source": [
        "# OOP----- Object Oriented Programming\n",
        "#structure our entire program in classes and objects\n",
        "#it bundles the Data and behaviour into the objects.\n",
        "\n",
        "\n",
        "# Class: Blueprint to create the objects.\n",
        "\n",
        "\"\"\"\n",
        "eg:\n",
        " 1. Class --- mail ------------ templates (blueprint)--- class\n",
        " 2. Object --- actual mail ------ instance of a class---Object\n",
        " 3. attributes -------- Variables outside class.\n",
        " 4. methods ------------ Functions outside the class.\n",
        "\"\"\"\n",
        "\n",
        "# function:---\n",
        "\n",
        "#make a function to find whether the provided number from user is even or odd.\n"
      ],
      "metadata": {
        "id": "fqgogNGbP7XI"
      },
      "execution_count": null,
      "outputs": []
    },
    {
      "cell_type": "code",
      "source": [
        "def even_odd(num):\n",
        "    if num%2 ==0:\n",
        "        return \"even\"\n",
        "    else:\n",
        "        return \"odd\""
      ],
      "metadata": {
        "id": "_al4T6sNWQcM"
      },
      "execution_count": null,
      "outputs": []
    },
    {
      "cell_type": "code",
      "source": [
        "even_odd(2)"
      ],
      "metadata": {
        "colab": {
          "base_uri": "https://localhost:8080/",
          "height": 36
        },
        "id": "RH9DhwN3WSEu",
        "outputId": "b4803af3-4c93-45d3-8c90-4362fccab700"
      },
      "execution_count": null,
      "outputs": [
        {
          "output_type": "execute_result",
          "data": {
            "text/plain": [
              "'even'"
            ],
            "application/vnd.google.colaboratory.intrinsic+json": {
              "type": "string"
            }
          },
          "metadata": {},
          "execution_count": 6
        }
      ]
    },
    {
      "cell_type": "code",
      "source": [
        "def myfun():\n",
        "    a = int(input(\"Enter your number: \"))\n",
        "    if a % 2 == 0:\n",
        "        print(\"even\")\n",
        "    else:\n",
        "        print(\"odd\")\n",
        "myfun()"
      ],
      "metadata": {
        "colab": {
          "base_uri": "https://localhost:8080/"
        },
        "id": "vy1kKwU3WVnI",
        "outputId": "66cd23de-aa08-44d2-e345-871a808d684e"
      },
      "execution_count": null,
      "outputs": [
        {
          "output_type": "stream",
          "name": "stdout",
          "text": [
            "Enter your number: 10\n",
            "even\n"
          ]
        }
      ]
    },
    {
      "cell_type": "code",
      "source": [
        "class Car:\n",
        "  def __init__(self,brand,model):\n",
        "    self.brand = brand\n",
        "    self.model = model\n",
        "  def display_info(self):\n",
        "    print(f\"Car: {self.brand} {self.model}\")\n",
        "\n",
        "  def calculate_price(self,price):\n",
        "    print(f\"On road Price: {price + price*0.25}\")\n",
        "\n",
        "#object creation\n",
        "\n",
        "my_car = Car(\"Toyota\",\"Fortuner\")\n",
        "my_car.display_info()\n",
        "my_car.calculate_price(3000000)\n",
        "\n",
        "your_car  = Car(\"Tata\",\"Nexon\")\n",
        "your_car.display_info()\n"
      ],
      "metadata": {
        "colab": {
          "base_uri": "https://localhost:8080/"
        },
        "id": "jQYktgzvWedj",
        "outputId": "72b8a066-a957-403c-9233-e8b29f53433b"
      },
      "execution_count": null,
      "outputs": [
        {
          "output_type": "stream",
          "name": "stdout",
          "text": [
            "Car: Toyota Fortuner\n",
            "On road Price: 3750000.0\n",
            "Car: Tata Nexon\n"
          ]
        }
      ]
    },
    {
      "cell_type": "code",
      "source": [
        "class Car:\n",
        "\n",
        "  def __init__(self,brand,model):\n",
        "    self.brand = brand\n",
        "    self.model = model\n",
        "\n",
        "  def display_info(self):\n",
        "    print(f\"Car: {self.brand} {self.model}\")\n",
        "    print(f\"Memory address of self:{id(self)}\")\n",
        "\n",
        "car1 = Car(\"Toyota\",\"Fortuner\")\n",
        "car2 = Car(\"Honda\",\"City\")\n",
        "\n",
        "car1.display_info()\n",
        "car2.display_info()\n",
        "\n",
        "print(f\"Memory address of Car1:{id(car1)}\")\n",
        "print(f\"Memory address of Car2:{id(car2)}\")\n",
        "\n"
      ],
      "metadata": {
        "colab": {
          "base_uri": "https://localhost:8080/"
        },
        "id": "HZDyMbj6adF-",
        "outputId": "edbc70ed-a013-49a2-a6a3-87646e9af24a"
      },
      "execution_count": null,
      "outputs": [
        {
          "output_type": "stream",
          "name": "stdout",
          "text": [
            "Car: Toyota Fortuner\n",
            "Memory address of self:138446480679184\n",
            "Car: Honda City\n",
            "Memory address of self:138446490283472\n",
            "Memory address of Car1:138446480679184\n",
            "Memory address of Car2:138446490283472\n"
          ]
        }
      ]
    },
    {
      "cell_type": "code",
      "source": [
        "class Car:\n",
        "\n",
        "  def display_info(self):\n",
        "    print(f\"Car: {self.brand} {self.model}\")\n",
        "\n",
        "  def calculate_price():\n",
        "\n",
        "\n",
        "my_car = Car()\n",
        "\n",
        "#manually assign the attributes\n",
        "my_car.brand = \"Toyota\"\n",
        "my_car.model = \"Camry\"\n",
        "\n",
        "#calling the methods\n",
        "my_car.display_info()\n",
        "\n",
        "your_car = Car()\n",
        "your_car.brand = \"Tata\"\n",
        "\n",
        "your_car.display_info()\n",
        "\n",
        "\n",
        "#__init__ --- this constructor was automatically called when I made any object for the class.\n",
        "#now without this i need to manually assign the values to attributes\n",
        "\n",
        "__init__ and self\n"
      ],
      "metadata": {
        "colab": {
          "base_uri": "https://localhost:8080/",
          "height": 360
        },
        "id": "Plxxs8yceQFN",
        "outputId": "8490d405-cb63-4c96-fa9b-2e1adcb60f59"
      },
      "execution_count": null,
      "outputs": [
        {
          "output_type": "stream",
          "name": "stdout",
          "text": [
            "Car: Toyota Camry\n"
          ]
        },
        {
          "output_type": "error",
          "ename": "AttributeError",
          "evalue": "'Car' object has no attribute 'model'",
          "traceback": [
            "\u001b[0;31m---------------------------------------------------------------------------\u001b[0m",
            "\u001b[0;31mAttributeError\u001b[0m                            Traceback (most recent call last)",
            "\u001b[0;32m<ipython-input-29-3838ae61d5f4>\u001b[0m in \u001b[0;36m<cell line: 0>\u001b[0;34m()\u001b[0m\n\u001b[1;32m     16\u001b[0m \u001b[0myour_car\u001b[0m\u001b[0;34m.\u001b[0m\u001b[0mbrand\u001b[0m \u001b[0;34m=\u001b[0m \u001b[0;34m\"Tata\"\u001b[0m\u001b[0;34m\u001b[0m\u001b[0;34m\u001b[0m\u001b[0m\n\u001b[1;32m     17\u001b[0m \u001b[0;34m\u001b[0m\u001b[0m\n\u001b[0;32m---> 18\u001b[0;31m \u001b[0myour_car\u001b[0m\u001b[0;34m.\u001b[0m\u001b[0mdisplay_info\u001b[0m\u001b[0;34m(\u001b[0m\u001b[0;34m)\u001b[0m\u001b[0;34m\u001b[0m\u001b[0;34m\u001b[0m\u001b[0m\n\u001b[0m\u001b[1;32m     19\u001b[0m \u001b[0;34m\u001b[0m\u001b[0m\n\u001b[1;32m     20\u001b[0m \u001b[0;34m\u001b[0m\u001b[0m\n",
            "\u001b[0;32m<ipython-input-29-3838ae61d5f4>\u001b[0m in \u001b[0;36mdisplay_info\u001b[0;34m(self)\u001b[0m\n\u001b[1;32m      2\u001b[0m \u001b[0;34m\u001b[0m\u001b[0m\n\u001b[1;32m      3\u001b[0m   \u001b[0;32mdef\u001b[0m \u001b[0mdisplay_info\u001b[0m\u001b[0;34m(\u001b[0m\u001b[0mself\u001b[0m\u001b[0;34m)\u001b[0m\u001b[0;34m:\u001b[0m\u001b[0;34m\u001b[0m\u001b[0;34m\u001b[0m\u001b[0m\n\u001b[0;32m----> 4\u001b[0;31m     \u001b[0mprint\u001b[0m\u001b[0;34m(\u001b[0m\u001b[0;34mf\"Car: {self.brand} {self.model}\"\u001b[0m\u001b[0;34m)\u001b[0m\u001b[0;34m\u001b[0m\u001b[0;34m\u001b[0m\u001b[0m\n\u001b[0m\u001b[1;32m      5\u001b[0m \u001b[0;34m\u001b[0m\u001b[0m\n\u001b[1;32m      6\u001b[0m \u001b[0mmy_car\u001b[0m \u001b[0;34m=\u001b[0m \u001b[0mCar\u001b[0m\u001b[0;34m(\u001b[0m\u001b[0;34m)\u001b[0m\u001b[0;34m\u001b[0m\u001b[0;34m\u001b[0m\u001b[0m\n",
            "\u001b[0;31mAttributeError\u001b[0m: 'Car' object has no attribute 'model'"
          ]
        }
      ]
    },
    {
      "cell_type": "code",
      "source": [
        "#create a class employee display the details and calculte the final inhand salary after certain deductions"
      ],
      "metadata": {
        "id": "7WbF1KekjmsX"
      },
      "execution_count": null,
      "outputs": []
    },
    {
      "cell_type": "code",
      "source": [
        "can you give a breif about the syntax like where and why we should use paticular (),[ ],{ }"
      ],
      "metadata": {
        "id": "FRSSzc0xl2Ye"
      },
      "execution_count": null,
      "outputs": []
    },
    {
      "cell_type": "code",
      "source": [
        "class Employee:\n",
        "  def __init__(self,FName, LName, Age, CTC, Address):\n",
        "    self.FName = FName\n",
        "    self.LName = LName\n",
        "    self.Age = Age\n",
        "    self.CTC = CTC\n",
        "    self.Address = Address\n",
        "# Define a method display_details to get the employee details\n",
        "  def display_details(self):\n",
        "    print(f\"Employee: {self.FName} {self.LName} {self.Age} {int(self.CTC - self.CTC * 0.25)} {self.Address}\")\n",
        "# Create an object called emp by using the self method\n",
        "emp = Employee('Aniket', 'Chakraborty', 24, 2000000, 'Kolkata')\n",
        "# Display the employee details using the method\n",
        "emp.display_details()"
      ],
      "metadata": {
        "colab": {
          "base_uri": "https://localhost:8080/"
        },
        "id": "6mPWgUYNYkpa",
        "outputId": "17df53d3-e41a-429d-9dc4-8ec37a96ca6f"
      },
      "execution_count": null,
      "outputs": [
        {
          "output_type": "stream",
          "name": "stdout",
          "text": [
            "Employee: Aniket Chakraborty 24 1500000 Kolkata\n"
          ]
        }
      ]
    },
    {
      "cell_type": "code",
      "source": [
        "# Create Class - Employee\n",
        "class Employee:\n",
        "  def __init__(self, emp_name, emp_id, basic_salary, other_earnings, deductions):\n",
        "   self.emp_name = emp_name\n",
        "   self.emp_id = emp_id\n",
        "   self.basic_salary = basic_salary\n",
        "   self.other_earnings = other_earnings\n",
        "   self.deductions = deductions\n",
        "\n",
        "  def display_employee_details(self):\n",
        "    print(f\"Employee Name: {self.emp_name}\")\n",
        "    print(f\"Employee ID: {self.emp_id}\")\n",
        "    print(f\"Basic Salary: {self.basic_salary}\")\n",
        "    print(f\"Other Earnings: {self.other_earnings}\")\n",
        "    print(f\"Deductions: {self.deductions}\")\n",
        "\n",
        "  def calculate_final_salary(self):\n",
        "   # Calculate the gross salary\n",
        "    gross_salary = self.basic_salary + self.other_earnings\n",
        "   # Calculate the final salary after deductions\n",
        "    final_salary = gross_salary - self.deductions\n",
        "    print(f\"Final Salary: {final_salary}\")\n",
        "\n",
        "# Object Creation\n",
        "emp1 = Employee(\"Raymond\",\"E501\",125000,10000,5000)\n",
        "emp1.calculate_final_salary()\n",
        "emp1.display_employee_details()\n"
      ],
      "metadata": {
        "colab": {
          "base_uri": "https://localhost:8080/"
        },
        "id": "_93AQfeDY4Oy",
        "outputId": "94e58cad-4209-4efa-c2f1-aace3bb1375d"
      },
      "execution_count": null,
      "outputs": [
        {
          "output_type": "stream",
          "name": "stdout",
          "text": [
            "Final Salary: 130000\n",
            "Employee Name: Raymond\n",
            "Employee ID: E501\n",
            "Basic Salary: 125000\n",
            "Other Earnings: 10000\n",
            "Deductions: 5000\n"
          ]
        }
      ]
    },
    {
      "cell_type": "code",
      "source": [
        "\"\"\"\n",
        "\n",
        "1. Encapsulation: Bundling of data (variables) and methods(functions) into a single unit (class). it helps in restricting the\n",
        "direct access to the object from outside.\n",
        "\n",
        "Access modifiers:\n",
        "\n",
        "public : . # by default\n",
        "protected: ._ # Accessible in the inherited class and in the same class (is not possible in python)\n",
        "private: .__ # Accessible in the same class only\n",
        "\n",
        "\n",
        "2. Abstraction: # We will not cover it practically---\n",
        "hiding the complex details from the user and only showing the necessary things\n",
        "\n",
        "3. Inheritance: it allows us to acquire the properties and behaviour of another\n",
        "class(parent)--------->into child class. this promotes the code reusability\n",
        "4. Polymorphism:\n",
        "\"\"\""
      ],
      "metadata": {
        "colab": {
          "base_uri": "https://localhost:8080/",
          "height": 70
        },
        "id": "cq5K7pXoZf-2",
        "outputId": "68888687-0c9a-44ff-a20a-1222f8a28161"
      },
      "execution_count": null,
      "outputs": [
        {
          "output_type": "execute_result",
          "data": {
            "text/plain": [
              "'\\n\\n1. Encapsulation: Bundling of data (variables) and methods(functions) into a single unit (class). it helps in restricting the \\ndirect access to the object from outside. \\n\\nAccess modifiers:\\n\\npublic : . # by default \\nprotected: ._ # Accessible in the inherited class and in the same class (is not possible in python)\\nprivate: .__ # Accessible in the same class only\\n\\n\\n2. Abstraction:\\n3. Inheritance:\\n4. Polymorphism:\\n'"
            ],
            "application/vnd.google.colaboratory.intrinsic+json": {
              "type": "string"
            }
          },
          "metadata": {},
          "execution_count": 9
        }
      ]
    },
    {
      "cell_type": "code",
      "source": [
        "class Employee:\n",
        "\n",
        "  def __init__(self,name,salary):\n",
        "    self.name = name #Public Attribute\n",
        "    self.__salary= salary #Private Attribute\n",
        "\n",
        "  def get_salary(self): # controlled access\n",
        "    return self.__salary\n",
        "\n",
        "  def incrementation(self,increment):\n",
        "    if increment>0:\n",
        "      self.__salary=self.__salary + increment\n",
        "    else:\n",
        "      print(\"Invalid Attempt for Salary Modification\")\n",
        "\n",
        "\n",
        "emp = Employee('Richa',50000)\n",
        "\n",
        "print(emp.name)\n",
        "#print(emp.__salary) giving error bcz private is not accessble outside the class\n",
        "\n",
        "#How, I can Call the salary outside?\n",
        "\n",
        "print(emp.get_salary())\n",
        "emp.incrementation(25000)\n",
        "print(emp.get_salary())"
      ],
      "metadata": {
        "colab": {
          "base_uri": "https://localhost:8080/"
        },
        "id": "5Jq91xa2bVeQ",
        "outputId": "275ecc89-fb60-4f96-f0aa-a950229c9dbb"
      },
      "execution_count": null,
      "outputs": [
        {
          "output_type": "stream",
          "name": "stdout",
          "text": [
            "Richa\n",
            "50000\n",
            "75000\n"
          ]
        }
      ]
    },
    {
      "cell_type": "code",
      "source": [
        "#Inheritance:\n",
        "\n",
        "class Parent:\n",
        "  def greet(self):\n",
        "    return \"Hello from Parent\"\n",
        "\n",
        "class Child(Parent): # Inheritance\n",
        "  def child_greet(self):\n",
        "    return \"Hello from child\"\n",
        "obj = Child() #object defined for child\n",
        "print(obj.greet()) #inherited method can be accessed in child"
      ],
      "metadata": {
        "colab": {
          "base_uri": "https://localhost:8080/"
        },
        "id": "OTY9kI-MgVyi",
        "outputId": "1761a9f6-ddb8-4349-dbb7-6b6fad55ac1d"
      },
      "execution_count": null,
      "outputs": [
        {
          "output_type": "stream",
          "name": "stdout",
          "text": [
            "Hello from Parent\n"
          ]
        }
      ]
    },
    {
      "cell_type": "code",
      "source": [],
      "metadata": {
        "id": "q3TxzLUgqiIk"
      },
      "execution_count": null,
      "outputs": []
    },
    {
      "cell_type": "code",
      "source": [
        "#Inheritance:\n",
        "\n",
        "class Parent:\n",
        "  def greet(self):\n",
        "    return \"Hello from Parent\"\n",
        "\n",
        "class Child(Parent): # Inheritance\n",
        "  def greet(self):\n",
        "    return \"Hello from child\"\n",
        "\n",
        "obj = Child()\n",
        "print(obj.greet())\n",
        "print(obj.parent_greet)\n",
        "\n",
        "#polymorphism\n"
      ],
      "metadata": {
        "colab": {
          "base_uri": "https://localhost:8080/",
          "height": 332
        },
        "outputId": "38912416-77c3-4959-9208-435c3996c16c",
        "id": "MVBTkhEWrL-h"
      },
      "execution_count": null,
      "outputs": [
        {
          "output_type": "error",
          "ename": "RuntimeError",
          "evalue": "super(): no arguments",
          "traceback": [
            "\u001b[0;31m---------------------------------------------------------------------------\u001b[0m",
            "\u001b[0;31mRuntimeError\u001b[0m                              Traceback (most recent call last)",
            "\u001b[0;32m<ipython-input-27-90689d280cbf>\u001b[0m in \u001b[0;36m<cell line: 0>\u001b[0;34m()\u001b[0m\n\u001b[1;32m      5\u001b[0m     \u001b[0;32mreturn\u001b[0m \u001b[0;34m\"Hello from Parent\"\u001b[0m\u001b[0;34m\u001b[0m\u001b[0;34m\u001b[0m\u001b[0m\n\u001b[1;32m      6\u001b[0m \u001b[0;34m\u001b[0m\u001b[0m\n\u001b[0;32m----> 7\u001b[0;31m \u001b[0;32mclass\u001b[0m \u001b[0mChild\u001b[0m\u001b[0;34m(\u001b[0m\u001b[0mParent\u001b[0m\u001b[0;34m)\u001b[0m\u001b[0;34m:\u001b[0m \u001b[0;31m# Inheritance\u001b[0m\u001b[0;34m\u001b[0m\u001b[0;34m\u001b[0m\u001b[0m\n\u001b[0m\u001b[1;32m      8\u001b[0m   \u001b[0mparent_greet\u001b[0m \u001b[0;34m=\u001b[0m \u001b[0msuper\u001b[0m\u001b[0;34m(\u001b[0m\u001b[0;34m)\u001b[0m\u001b[0;34m.\u001b[0m\u001b[0mgreet\u001b[0m\u001b[0;34m(\u001b[0m\u001b[0;34m)\u001b[0m\u001b[0;34m\u001b[0m\u001b[0;34m\u001b[0m\u001b[0m\n\u001b[1;32m      9\u001b[0m   \u001b[0;32mdef\u001b[0m \u001b[0mgreet\u001b[0m\u001b[0;34m(\u001b[0m\u001b[0mself\u001b[0m\u001b[0;34m)\u001b[0m\u001b[0;34m:\u001b[0m\u001b[0;34m\u001b[0m\u001b[0;34m\u001b[0m\u001b[0m\n",
            "\u001b[0;32m<ipython-input-27-90689d280cbf>\u001b[0m in \u001b[0;36mChild\u001b[0;34m()\u001b[0m\n\u001b[1;32m      6\u001b[0m \u001b[0;34m\u001b[0m\u001b[0m\n\u001b[1;32m      7\u001b[0m \u001b[0;32mclass\u001b[0m \u001b[0mChild\u001b[0m\u001b[0;34m(\u001b[0m\u001b[0mParent\u001b[0m\u001b[0;34m)\u001b[0m\u001b[0;34m:\u001b[0m \u001b[0;31m# Inheritance\u001b[0m\u001b[0;34m\u001b[0m\u001b[0;34m\u001b[0m\u001b[0m\n\u001b[0;32m----> 8\u001b[0;31m   \u001b[0mparent_greet\u001b[0m \u001b[0;34m=\u001b[0m \u001b[0msuper\u001b[0m\u001b[0;34m(\u001b[0m\u001b[0;34m)\u001b[0m\u001b[0;34m.\u001b[0m\u001b[0mgreet\u001b[0m\u001b[0;34m(\u001b[0m\u001b[0;34m)\u001b[0m\u001b[0;34m\u001b[0m\u001b[0;34m\u001b[0m\u001b[0m\n\u001b[0m\u001b[1;32m      9\u001b[0m   \u001b[0;32mdef\u001b[0m \u001b[0mgreet\u001b[0m\u001b[0;34m(\u001b[0m\u001b[0mself\u001b[0m\u001b[0;34m)\u001b[0m\u001b[0;34m:\u001b[0m\u001b[0;34m\u001b[0m\u001b[0;34m\u001b[0m\u001b[0m\n\u001b[1;32m     10\u001b[0m     \u001b[0;32mreturn\u001b[0m \u001b[0;34m\"Hello from child\"\u001b[0m\u001b[0;34m\u001b[0m\u001b[0;34m\u001b[0m\u001b[0m\n",
            "\u001b[0;31mRuntimeError\u001b[0m: super(): no arguments"
          ]
        }
      ]
    },
    {
      "cell_type": "code",
      "source": [],
      "metadata": {
        "id": "CREdigwkrN_l"
      },
      "execution_count": null,
      "outputs": []
    }
  ]
}