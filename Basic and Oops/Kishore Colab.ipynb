{
  "nbformat": 4,
  "nbformat_minor": 0,
  "metadata": {
    "colab": {
      "provenance": []
    },
    "kernelspec": {
      "name": "python3",
      "display_name": "Python 3"
    },
    "language_info": {
      "name": "python"
    }
  },
  "cells": [
    {
      "cell_type": "code",
      "execution_count": null,
      "metadata": {
        "colab": {
          "base_uri": "https://localhost:8080/"
        },
        "id": "dB_dGtBoOiGu",
        "outputId": "bfeea0a9-7ccd-44aa-cc6c-0b57960bea4e"
      },
      "outputs": [
        {
          "output_type": "stream",
          "name": "stdout",
          "text": [
            "Hi my name is Kishore Kumar. I am 31 years old and \n",
            "I am  Data Analyst having annual package of 23 LPA \n"
          ]
        }
      ],
      "source": [
        "#doubt\n",
        "#f--- formatted strings\n",
        "a = \"Kishore\"\n",
        "b = \"Kumar\"\n",
        "c = 31\n",
        "d = \" Data Analyst\"\n",
        "e = \"23 LPA\"\n",
        "\n",
        "print(f\"\"\"Hi my name is {a} {b}. I am {c} years old and\n",
        "I am {d} having annual package of {e} \"\"\")"
      ]
    },
    {
      "cell_type": "code",
      "source": [
        "# OOP----- Object Oriented Programming\n",
        "#structure our entire program in classes and objects\n",
        "#it bundles the Data and behaviour into the objects.\n",
        "\n",
        "\n",
        "# Class: Blueprint to create the objects.\n",
        "\n",
        "\"\"\"\n",
        "eg:\n",
        " 1. Class --- mail ------------ templates (blueprint)--- class\n",
        " 2. Object --- actual mail ------ instance of a class---Object\n",
        " 3. attributes -------- Variables outside class.\n",
        " 4. methods ------------ Functions outside the class.\n",
        "\"\"\"\n",
        "\n",
        "# function:---\n",
        "\n",
        "#make a function to find whether the provided number from user is even or odd.\n"
      ],
      "metadata": {
        "id": "fqgogNGbP7XI"
      },
      "execution_count": null,
      "outputs": []
    },
    {
      "cell_type": "code",
      "source": [
        "def even_odd(num):\n",
        "    if num%2 ==0:\n",
        "        return \"even\"\n",
        "    else:\n",
        "        return \"odd\""
      ],
      "metadata": {
        "id": "_al4T6sNWQcM"
      },
      "execution_count": null,
      "outputs": []
    },
    {
      "cell_type": "code",
      "source": [
        "even_odd(2)"
      ],
      "metadata": {
        "colab": {
          "base_uri": "https://localhost:8080/",
          "height": 36
        },
        "id": "RH9DhwN3WSEu",
        "outputId": "b4803af3-4c93-45d3-8c90-4362fccab700"
      },
      "execution_count": null,
      "outputs": [
        {
          "output_type": "execute_result",
          "data": {
            "text/plain": [
              "'even'"
            ],
            "application/vnd.google.colaboratory.intrinsic+json": {
              "type": "string"
            }
          },
          "metadata": {},
          "execution_count": 6
        }
      ]
    },
    {
      "cell_type": "code",
      "source": [
        "def myfun():\n",
        "    a = int(input(\"Enter your number: \"))\n",
        "    if a % 2 == 0:\n",
        "        print(\"even\")\n",
        "    else:\n",
        "        print(\"odd\")\n",
        "myfun()"
      ],
      "metadata": {
        "colab": {
          "base_uri": "https://localhost:8080/"
        },
        "id": "vy1kKwU3WVnI",
        "outputId": "66cd23de-aa08-44d2-e345-871a808d684e"
      },
      "execution_count": null,
      "outputs": [
        {
          "output_type": "stream",
          "name": "stdout",
          "text": [
            "Enter your number: 10\n",
            "even\n"
          ]
        }
      ]
    },
    {
      "cell_type": "code",
      "source": [
        "class Car:\n",
        "  def __init__(self,brand,model):\n",
        "    self.brand = brand\n",
        "    self.model = model\n",
        "  def display_info(self):\n",
        "    print(f\"Car: {self.brand} {self.model}\")\n",
        "\n",
        "  def calculate_price(self,price):\n",
        "    print(f\"On road Price: {price + price*0.25}\")\n",
        "\n",
        "#object creation\n",
        "\n",
        "my_car = Car(\"Toyota\",\"Fortuner\")\n",
        "my_car.display_info()\n",
        "my_car.calculate_price(3000000)\n",
        "\n",
        "your_car  = Car(\"Tata\",\"Nexon\")\n",
        "your_car.display_info()\n"
      ],
      "metadata": {
        "colab": {
          "base_uri": "https://localhost:8080/"
        },
        "id": "jQYktgzvWedj",
        "outputId": "72b8a066-a957-403c-9233-e8b29f53433b"
      },
      "execution_count": null,
      "outputs": [
        {
          "output_type": "stream",
          "name": "stdout",
          "text": [
            "Car: Toyota Fortuner\n",
            "On road Price: 3750000.0\n",
            "Car: Tata Nexon\n"
          ]
        }
      ]
    },
    {
      "cell_type": "code",
      "source": [
        "class Car:\n",
        "\n",
        "  def __init__(self,brand,model):\n",
        "    self.brand = brand\n",
        "    self.model = model\n",
        "\n",
        "  def display_info(self):\n",
        "    print(f\"Car: {self.brand} {self.model}\")\n",
        "    print(f\"Memory address of self:{id(self)}\")\n",
        "\n",
        "car1 = Car(\"Toyota\",\"Fortuner\")\n",
        "car2 = Car(\"Honda\",\"City\")\n",
        "\n",
        "car1.display_info()\n",
        "car2.display_info()\n",
        "\n",
        "print(f\"Memory address of Car1:{id(car1)}\")\n",
        "print(f\"Memory address of Car2:{id(car2)}\")\n",
        "\n"
      ],
      "metadata": {
        "colab": {
          "base_uri": "https://localhost:8080/"
        },
        "id": "HZDyMbj6adF-",
        "outputId": "edbc70ed-a013-49a2-a6a3-87646e9af24a"
      },
      "execution_count": null,
      "outputs": [
        {
          "output_type": "stream",
          "name": "stdout",
          "text": [
            "Car: Toyota Fortuner\n",
            "Memory address of self:138446480679184\n",
            "Car: Honda City\n",
            "Memory address of self:138446490283472\n",
            "Memory address of Car1:138446480679184\n",
            "Memory address of Car2:138446490283472\n"
          ]
        }
      ]
    },
    {
      "cell_type": "code",
      "source": [
        "class Car:\n",
        "\n",
        "  def display_info(self):\n",
        "    print(f\"Car: {self.brand} {self.model}\")\n",
        "\n",
        "  def calculate_price():\n",
        "\n",
        "\n",
        "my_car = Car()\n",
        "\n",
        "#manually assign the attributes\n",
        "my_car.brand = \"Toyota\"\n",
        "my_car.model = \"Camry\"\n",
        "\n",
        "#calling the methods\n",
        "my_car.display_info()\n",
        "\n",
        "your_car = Car()\n",
        "your_car.brand = \"Tata\"\n",
        "\n",
        "your_car.display_info()\n",
        "\n",
        "\n",
        "#__init__ --- this constructor was automatically called when I made any object for the class.\n",
        "#now without this i need to manually assign the values to attributes\n",
        "\n",
        "__init__ and self\n"
      ],
      "metadata": {
        "colab": {
          "base_uri": "https://localhost:8080/",
          "height": 360
        },
        "id": "Plxxs8yceQFN",
        "outputId": "8490d405-cb63-4c96-fa9b-2e1adcb60f59"
      },
      "execution_count": null,
      "outputs": [
        {
          "output_type": "stream",
          "name": "stdout",
          "text": [
            "Car: Toyota Camry\n"
          ]
        },
        {
          "output_type": "error",
          "ename": "AttributeError",
          "evalue": "'Car' object has no attribute 'model'",
          "traceback": [
            "\u001b[0;31m---------------------------------------------------------------------------\u001b[0m",
            "\u001b[0;31mAttributeError\u001b[0m                            Traceback (most recent call last)",
            "\u001b[0;32m<ipython-input-29-3838ae61d5f4>\u001b[0m in \u001b[0;36m<cell line: 0>\u001b[0;34m()\u001b[0m\n\u001b[1;32m     16\u001b[0m \u001b[0myour_car\u001b[0m\u001b[0;34m.\u001b[0m\u001b[0mbrand\u001b[0m \u001b[0;34m=\u001b[0m \u001b[0;34m\"Tata\"\u001b[0m\u001b[0;34m\u001b[0m\u001b[0;34m\u001b[0m\u001b[0m\n\u001b[1;32m     17\u001b[0m \u001b[0;34m\u001b[0m\u001b[0m\n\u001b[0;32m---> 18\u001b[0;31m \u001b[0myour_car\u001b[0m\u001b[0;34m.\u001b[0m\u001b[0mdisplay_info\u001b[0m\u001b[0;34m(\u001b[0m\u001b[0;34m)\u001b[0m\u001b[0;34m\u001b[0m\u001b[0;34m\u001b[0m\u001b[0m\n\u001b[0m\u001b[1;32m     19\u001b[0m \u001b[0;34m\u001b[0m\u001b[0m\n\u001b[1;32m     20\u001b[0m \u001b[0;34m\u001b[0m\u001b[0m\n",
            "\u001b[0;32m<ipython-input-29-3838ae61d5f4>\u001b[0m in \u001b[0;36mdisplay_info\u001b[0;34m(self)\u001b[0m\n\u001b[1;32m      2\u001b[0m \u001b[0;34m\u001b[0m\u001b[0m\n\u001b[1;32m      3\u001b[0m   \u001b[0;32mdef\u001b[0m \u001b[0mdisplay_info\u001b[0m\u001b[0;34m(\u001b[0m\u001b[0mself\u001b[0m\u001b[0;34m)\u001b[0m\u001b[0;34m:\u001b[0m\u001b[0;34m\u001b[0m\u001b[0;34m\u001b[0m\u001b[0m\n\u001b[0;32m----> 4\u001b[0;31m     \u001b[0mprint\u001b[0m\u001b[0;34m(\u001b[0m\u001b[0;34mf\"Car: {self.brand} {self.model}\"\u001b[0m\u001b[0;34m)\u001b[0m\u001b[0;34m\u001b[0m\u001b[0;34m\u001b[0m\u001b[0m\n\u001b[0m\u001b[1;32m      5\u001b[0m \u001b[0;34m\u001b[0m\u001b[0m\n\u001b[1;32m      6\u001b[0m \u001b[0mmy_car\u001b[0m \u001b[0;34m=\u001b[0m \u001b[0mCar\u001b[0m\u001b[0;34m(\u001b[0m\u001b[0;34m)\u001b[0m\u001b[0;34m\u001b[0m\u001b[0;34m\u001b[0m\u001b[0m\n",
            "\u001b[0;31mAttributeError\u001b[0m: 'Car' object has no attribute 'model'"
          ]
        }
      ]
    },
    {
      "cell_type": "code",
      "source": [
        "#create a class employee display the details and calculte the final inhand salary after certain deductions"
      ],
      "metadata": {
        "id": "7WbF1KekjmsX"
      },
      "execution_count": null,
      "outputs": []
    },
    {
      "cell_type": "code",
      "source": [
        "can you give a breif about the syntax like where and why we should use paticular (),[ ],{ }"
      ],
      "metadata": {
        "id": "FRSSzc0xl2Ye"
      },
      "execution_count": null,
      "outputs": []
    },
    {
      "cell_type": "code",
      "source": [
        "class Employee:\n",
        "  def __init__(self,FName, LName, Age, CTC, Address):\n",
        "    self.FName = FName\n",
        "    self.LName = LName\n",
        "    self.Age = Age\n",
        "    self.CTC = CTC\n",
        "    self.Address = Address\n",
        "# Define a method display_details to get the employee details\n",
        "  def display_details(self):\n",
        "    print(f\"Employee: {self.FName} {self.LName} {self.Age} {int(self.CTC - self.CTC * 0.25)} {self.Address}\")\n",
        "# Create an object called emp by using the self method\n",
        "emp = Employee('Aniket', 'Chakraborty', 24, 2000000, 'Kolkata')\n",
        "# Display the employee details using the method\n",
        "emp.display_details()"
      ],
      "metadata": {
        "colab": {
          "base_uri": "https://localhost:8080/"
        },
        "id": "6mPWgUYNYkpa",
        "outputId": "17df53d3-e41a-429d-9dc4-8ec37a96ca6f"
      },
      "execution_count": null,
      "outputs": [
        {
          "output_type": "stream",
          "name": "stdout",
          "text": [
            "Employee: Aniket Chakraborty 24 1500000 Kolkata\n"
          ]
        }
      ]
    },
    {
      "cell_type": "code",
      "source": [
        "# Create Class - Employee\n",
        "class Employee:\n",
        "  def __init__(self, emp_name, emp_id, basic_salary, other_earnings, deductions):\n",
        "   self.emp_name = emp_name\n",
        "   self.emp_id = emp_id\n",
        "   self.basic_salary = basic_salary\n",
        "   self.other_earnings = other_earnings\n",
        "   self.deductions = deductions\n",
        "\n",
        "  def display_employee_details(self):\n",
        "    print(f\"Employee Name: {self.emp_name}\")\n",
        "    print(f\"Employee ID: {self.emp_id}\")\n",
        "    print(f\"Basic Salary: {self.basic_salary}\")\n",
        "    print(f\"Other Earnings: {self.other_earnings}\")\n",
        "    print(f\"Deductions: {self.deductions}\")\n",
        "\n",
        "  def calculate_final_salary(self):\n",
        "   # Calculate the gross salary\n",
        "    gross_salary = self.basic_salary + self.other_earnings\n",
        "   # Calculate the final salary after deductions\n",
        "    final_salary = gross_salary - self.deductions\n",
        "    print(f\"Final Salary: {final_salary}\")\n",
        "\n",
        "# Object Creation\n",
        "emp1 = Employee(\"Raymond\",\"E501\",125000,10000,5000)\n",
        "emp1.calculate_final_salary()\n",
        "emp1.display_employee_details()\n"
      ],
      "metadata": {
        "colab": {
          "base_uri": "https://localhost:8080/"
        },
        "id": "_93AQfeDY4Oy",
        "outputId": "94e58cad-4209-4efa-c2f1-aace3bb1375d"
      },
      "execution_count": null,
      "outputs": [
        {
          "output_type": "stream",
          "name": "stdout",
          "text": [
            "Final Salary: 130000\n",
            "Employee Name: Raymond\n",
            "Employee ID: E501\n",
            "Basic Salary: 125000\n",
            "Other Earnings: 10000\n",
            "Deductions: 5000\n"
          ]
        }
      ]
    },
    {
      "cell_type": "code",
      "source": [
        "\"\"\"\n",
        "\n",
        "1. Encapsulation: Bundling of data (variables) and methods(functions) into a single unit (class). it helps in restricting the\n",
        "direct access to the object from outside.\n",
        "\n",
        "Access modifiers:\n",
        "\n",
        "public : . # by default\n",
        "protected: ._ # Accessible in the inherited class and in the same class (is not possible in python)\n",
        "private: .__ # Accessible in the same class only\n",
        "\n",
        "\n",
        "2. Abstraction: # We will not cover it practically---\n",
        "hiding the complex details from the user and only showing the necessary things\n",
        "\n",
        "3. Inheritance: it allows us to acquire the properties and behaviour of another\n",
        "class(parent)--------->into child class. this promotes the code reusability\n",
        "4. Polymorphism:\n",
        "\"\"\""
      ],
      "metadata": {
        "colab": {
          "base_uri": "https://localhost:8080/",
          "height": 70
        },
        "id": "cq5K7pXoZf-2",
        "outputId": "68888687-0c9a-44ff-a20a-1222f8a28161"
      },
      "execution_count": null,
      "outputs": [
        {
          "output_type": "execute_result",
          "data": {
            "text/plain": [
              "'\\n\\n1. Encapsulation: Bundling of data (variables) and methods(functions) into a single unit (class). it helps in restricting the \\ndirect access to the object from outside. \\n\\nAccess modifiers:\\n\\npublic : . # by default \\nprotected: ._ # Accessible in the inherited class and in the same class (is not possible in python)\\nprivate: .__ # Accessible in the same class only\\n\\n\\n2. Abstraction:\\n3. Inheritance:\\n4. Polymorphism:\\n'"
            ],
            "application/vnd.google.colaboratory.intrinsic+json": {
              "type": "string"
            }
          },
          "metadata": {},
          "execution_count": 9
        }
      ]
    },
    {
      "cell_type": "code",
      "source": [
        "class Employee:\n",
        "\n",
        "  def __init__(self,name,salary):\n",
        "    self.name = name #Public Attribute\n",
        "    self.__salary= salary #Private Attribute\n",
        "\n",
        "  def get_salary(self): # controlled access\n",
        "    return self.__salary\n",
        "\n",
        "  def incrementation(self,increment):\n",
        "    if increment>0:\n",
        "      self.__salary=self.__salary + increment\n",
        "    else:\n",
        "      print(\"Invalid Attempt for Salary Modification\")\n",
        "\n",
        "\n",
        "emp = Employee('Richa',50000)\n",
        "\n",
        "print(emp.name)\n",
        "#print(emp.__salary) giving error bcz private is not accessble outside the class\n",
        "\n",
        "#How, I can Call the salary outside?\n",
        "\n",
        "print(emp.get_salary())\n",
        "emp.incrementation(25000)\n",
        "print(emp.get_salary())"
      ],
      "metadata": {
        "colab": {
          "base_uri": "https://localhost:8080/"
        },
        "id": "5Jq91xa2bVeQ",
        "outputId": "275ecc89-fb60-4f96-f0aa-a950229c9dbb"
      },
      "execution_count": null,
      "outputs": [
        {
          "output_type": "stream",
          "name": "stdout",
          "text": [
            "Richa\n",
            "50000\n",
            "75000\n"
          ]
        }
      ]
    },
    {
      "cell_type": "code",
      "source": [
        "#Inheritance:\n",
        "\n",
        "class Parent:\n",
        "  def greet(self):\n",
        "    return \"Hello from Parent\"\n",
        "\n",
        "class Child(Parent): # Inheritance\n",
        "  def child_greet(self):\n",
        "    return \"Hello from child\"\n",
        "obj = Child() #object defined for child\n",
        "print(obj.greet()) #inherited method can be accessed in child"
      ],
      "metadata": {
        "colab": {
          "base_uri": "https://localhost:8080/"
        },
        "id": "OTY9kI-MgVyi",
        "outputId": "1761a9f6-ddb8-4349-dbb7-6b6fad55ac1d"
      },
      "execution_count": null,
      "outputs": [
        {
          "output_type": "stream",
          "name": "stdout",
          "text": [
            "Hello from Parent\n"
          ]
        }
      ]
    },
    {
      "cell_type": "code",
      "source": [],
      "metadata": {
        "id": "q3TxzLUgqiIk"
      },
      "execution_count": null,
      "outputs": []
    },
    {
      "cell_type": "markdown",
      "source": [],
      "metadata": {
        "id": "UzM9H_MhApio"
      }
    },
    {
      "cell_type": "code",
      "source": [
        "#Inheritance:\n",
        "\n",
        "class Parent:\n",
        "\n",
        "  def greet(self):\n",
        "    return \"Hello from Parent\"\n",
        "\n",
        "class Child(Parent): # Inheritance\n",
        "\n",
        "  def greet(self):\n",
        "    print(super().greet())\n",
        "    return \"Hello from child\"\n",
        "\n",
        "obj = Child()\n",
        "print(obj.greet())\n",
        "#print(obj.parent_greet)\n",
        "\n",
        "#polymorphism\n"
      ],
      "metadata": {
        "colab": {
          "base_uri": "https://localhost:8080/"
        },
        "outputId": "658b2efe-47c4-4b5e-ad44-aff1bd9569fc",
        "id": "MVBTkhEWrL-h"
      },
      "execution_count": null,
      "outputs": [
        {
          "output_type": "stream",
          "name": "stdout",
          "text": [
            "Hello from Parent\n",
            "Hello from child\n"
          ]
        }
      ]
    },
    {
      "cell_type": "code",
      "source": [
        "#single Inheritance\n",
        "\n",
        "class A:\n",
        "  def methodA(self):\n",
        "    print(\"hello I am Method A from Class A\")\n",
        "\n",
        "class B(A):\n",
        "  def methodB(self):\n",
        "    print(\"hello I am Method B from Class B\")\n",
        "\n",
        "obj1 = B()\n",
        "obj1.methodA()\n",
        "obj1.methodB()\n",
        "\n",
        "obj2 = A()\n",
        "obj2.methodA()"
      ],
      "metadata": {
        "id": "CREdigwkrN_l",
        "colab": {
          "base_uri": "https://localhost:8080/"
        },
        "outputId": "77b86101-4a86-4883-f9cb-23ec1ae2d9d2"
      },
      "execution_count": null,
      "outputs": [
        {
          "output_type": "stream",
          "name": "stdout",
          "text": [
            "hello I am Method A from Class A\n",
            "hello I am Method B from Class B\n",
            "hello I am Method A from Class A\n"
          ]
        }
      ]
    },
    {
      "cell_type": "code",
      "source": [
        "#Multilevel Inheritance\n",
        "\n",
        "class A:\n",
        "  def methodA(self):\n",
        "    print(\"hello I am Method A from Class A\")\n",
        "\n",
        "class B(A):\n",
        "  def methodB(self):\n",
        "    print(\"hello I am Method B from Class B\")\n",
        "\n",
        "class C(B):\n",
        "  def methodC(self):\n",
        "    print(\"hello I am Method C from Class C\")\n",
        "\n",
        "objC = C()\n",
        "objC.methodA()\n",
        "objC.methodB()\n",
        "objC.methodC()"
      ],
      "metadata": {
        "colab": {
          "base_uri": "https://localhost:8080/"
        },
        "id": "SNAVn6PRCiuK",
        "outputId": "529bc3db-337c-4a0c-aa16-09b6d3620386"
      },
      "execution_count": null,
      "outputs": [
        {
          "output_type": "stream",
          "name": "stdout",
          "text": [
            "hello I am Method A from Class A\n",
            "hello I am Method B from Class B\n",
            "hello I am Method C from Class C\n"
          ]
        }
      ]
    },
    {
      "cell_type": "code",
      "source": [
        "#Multiple Inheritance\n",
        "class A:\n",
        "  def methodA(self):\n",
        "    print(\"hello I am Method A from Class A\")\n",
        "\n",
        "class B:\n",
        "  def methodB(self):\n",
        "    print(\"hello I am Method B from Class B\")\n",
        "\n",
        "class C(A,B):\n",
        "  def methodC(self):\n",
        "    print(\"hello I am Method C from Class C\")\n",
        "\n",
        "obj3 = C()\n",
        "obj3.methodA()\n",
        "obj3.methodB()\n",
        "obj3.methodC()\n",
        "\n",
        "obj4 =B()\n",
        "obj4.methodB()"
      ],
      "metadata": {
        "colab": {
          "base_uri": "https://localhost:8080/"
        },
        "id": "6YDoBavZEz7y",
        "outputId": "2f5426fa-a150-44e7-c8f8-659abb5d84de"
      },
      "execution_count": null,
      "outputs": [
        {
          "output_type": "stream",
          "name": "stdout",
          "text": [
            "hello I am Method A from Class A\n",
            "hello I am Method B from Class B\n",
            "hello I am Method C from Class C\n",
            "hello I am Method B from Class B\n"
          ]
        }
      ]
    },
    {
      "cell_type": "code",
      "source": [
        "#Multilevel Inheritance & polymorphism\n",
        "\n",
        "class A:\n",
        "  def show(self):\n",
        "    print(\"hello I am Method A from Class A\")\n",
        "\n",
        "class B(A):\n",
        "  def show(self):\n",
        "    #super().show()#Calls show from A\n",
        "    print(\"hello I am Method B from Class B\")\n",
        "\n",
        "class C(B):\n",
        "  def show(self):\n",
        "    A.show(self)#direct call\n",
        "    B.show(self)#Calls show from B\n",
        "    super().show()#Calls show from B\n",
        "    print(\"hello I am Method C from Class C\")\n",
        "\n",
        "obj_new_1 = C()\n",
        "obj_new_1.show()\n",
        "\n"
      ],
      "metadata": {
        "colab": {
          "base_uri": "https://localhost:8080/"
        },
        "id": "JflnE7daGZYC",
        "outputId": "c36139a7-c4e0-4fb4-8072-c0dead61705c"
      },
      "execution_count": null,
      "outputs": [
        {
          "output_type": "stream",
          "name": "stdout",
          "text": [
            "hello I am Method A from Class A\n",
            "hello I am Method B from Class B\n",
            "hello I am Method B from Class B\n",
            "hello I am Method C from Class C\n"
          ]
        }
      ]
    },
    {
      "cell_type": "code",
      "source": [
        "#super()\n",
        "\n",
        "\n",
        "class Parent:\n",
        "  def show(self):\n",
        "    print(\"this is parent class method\")\n",
        "\n",
        "class Child(Parent):\n",
        "  def show(self):\n",
        "    print(\"this is child method\")\n",
        "    super().show()\n",
        "    Parent.show(self)\n",
        "\n",
        "\n",
        "obj1 = Child()\n",
        "#obj1.show() # by default a child method is called\n",
        "Parent.show(obj1)\n",
        "\n"
      ],
      "metadata": {
        "colab": {
          "base_uri": "https://localhost:8080/"
        },
        "id": "7SAwoOUDKHi5",
        "outputId": "05f3b173-c990-4e93-e782-69b426c13339"
      },
      "execution_count": null,
      "outputs": [
        {
          "output_type": "stream",
          "name": "stdout",
          "text": [
            "this is parent class method\n"
          ]
        }
      ]
    },
    {
      "cell_type": "code",
      "source": [
        "# Multiple Inheritance -----\n",
        "# MRO(Method Resolution Order)------- Dijkstra Algorithm\n",
        "\n",
        "#Multiple Inheritance\n",
        "\n",
        "class A:\n",
        "  def show(self):\n",
        "    print(\"hello I am Method A from Class A\")\n",
        "\n",
        "\n",
        "class B:\n",
        "  def show(self):\n",
        "    print(\"hello I am Method B from Class B\")\n",
        "\n",
        "class C(B,A):\n",
        "  def show(self):\n",
        "    super().show()\n",
        "    print(\"hello I am Method C from Class C\")\n",
        "\n",
        "object1 = C()\n",
        "object1.show()\n",
        "\n"
      ],
      "metadata": {
        "colab": {
          "base_uri": "https://localhost:8080/"
        },
        "id": "mr4jRr8SLh5S",
        "outputId": "a7c12ed8-4d1b-44a0-ee67-b1e66eff2334"
      },
      "execution_count": null,
      "outputs": [
        {
          "output_type": "stream",
          "name": "stdout",
          "text": [
            "hello I am Method B from Class B\n",
            "hello I am Method C from Class C\n"
          ]
        }
      ]
    },
    {
      "cell_type": "code",
      "source": [
        "#polymorphism-- Many Forms\n",
        "\n",
        "\n",
        "#method over-riding\n",
        "\n",
        "\n",
        "\n",
        "class Bird:\n",
        "  def make_sound(self):\n",
        "    print(\"Birds are making the sound\")\n",
        "\n",
        "class Sparrows(Bird):\n",
        "  def make_sound(self):\n",
        "    print(\"sparrows are chirping\")\n",
        "\n",
        "class Duck(Bird):\n",
        "  def make_sound(self):\n",
        "    print(\"Ducks are quacking\")\n",
        "\n",
        "obj1 = Duck()\n",
        "obj2 = Sparrows()\n",
        "obj1.make_sound() #method overiding parent methods are overridden by child\n",
        "obj2.make_sound()\n",
        "\n",
        "Bird.make_sound(obj1)"
      ],
      "metadata": {
        "id": "cxfMwDGjTFS2",
        "colab": {
          "base_uri": "https://localhost:8080/"
        },
        "outputId": "0072bc5a-bc47-4e99-cc9f-ed84f695542c"
      },
      "execution_count": null,
      "outputs": [
        {
          "output_type": "stream",
          "name": "stdout",
          "text": [
            "Ducks are quacking\n",
            "sparrows are chirping\n",
            "Birds are making the sound\n"
          ]
        }
      ]
    },
    {
      "cell_type": "code",
      "source": [
        "#Method Overloading is not directly happening\n",
        "#java  --\n",
        "# name will be same for method but the parameter will be different"
      ],
      "metadata": {
        "id": "6aBPnWMNOuTn"
      },
      "execution_count": null,
      "outputs": []
    },
    {
      "cell_type": "code",
      "source": [
        "#operator overloading\n",
        "\n",
        "# + : already defined\n",
        "# 56+44 - 1 0 0 -- 1,0,0\n",
        "# output [ 100 ]\n",
        "\n",
        "#coordinate addition\n",
        "\n",
        "#2pts\n",
        "\n",
        "x = (10,20)\n",
        "y = (5,10)\n",
        "\n",
        "z = x+y\n",
        "print(z) #z = (15,30)\n"
      ],
      "metadata": {
        "colab": {
          "base_uri": "https://localhost:8080/"
        },
        "id": "KmgbqtMwRsqc",
        "outputId": "45b1ba01-8c2c-4066-dd9c-a6297472be93"
      },
      "execution_count": null,
      "outputs": [
        {
          "output_type": "stream",
          "name": "stdout",
          "text": [
            "(10, 20, 5, 10)\n"
          ]
        }
      ]
    },
    {
      "cell_type": "code",
      "source": [
        "class Point:\n",
        "  def __init__(self,x,y):\n",
        "   self.x = x\n",
        "   self.y = y\n",
        "\n",
        "  def __add__(self,other): #overloading of + operator\n",
        "   return Point(self.x + other.x, self.y+other.y)\n",
        "   #p1.x +p2.x\n",
        "\n",
        "\n",
        "  def __str__(self):#altering the string representation\n",
        "    return f\"({self.x},{self.y})\"\n",
        "\n",
        "p1 = Point(10,20)\n",
        "p2 = Point(5,10)\n",
        "\n",
        "result = p1+p2\n",
        "print(result)\n"
      ],
      "metadata": {
        "colab": {
          "base_uri": "https://localhost:8080/"
        },
        "id": "vm0SG-SISWRU",
        "outputId": "6572d4f6-8823-496a-ce25-221ba5bf23f3"
      },
      "execution_count": null,
      "outputs": [
        {
          "output_type": "stream",
          "name": "stdout",
          "text": [
            "(15,30)\n"
          ]
        }
      ]
    },
    {
      "cell_type": "code",
      "source": [],
      "metadata": {
        "colab": {
          "base_uri": "https://localhost:8080/",
          "height": 141
        },
        "id": "5VWcrOw3U4UY",
        "outputId": "15d7c67a-249c-4aa8-9d4e-4256b5739f37"
      },
      "execution_count": null,
      "outputs": [
        {
          "output_type": "error",
          "ename": "TypeError",
          "evalue": "unsupported operand type(s) for +: 'Point' and 'Point'",
          "traceback": [
            "\u001b[0;31m---------------------------------------------------------------------------\u001b[0m",
            "\u001b[0;31mTypeError\u001b[0m                                 Traceback (most recent call last)",
            "\u001b[0;32m<ipython-input-14-d03b54835950>\u001b[0m in \u001b[0;36m<cell line: 0>\u001b[0;34m()\u001b[0m\n\u001b[0;32m----> 1\u001b[0;31m \u001b[0mprint\u001b[0m\u001b[0;34m(\u001b[0m\u001b[0mp1\u001b[0m\u001b[0;34m+\u001b[0m\u001b[0mp2\u001b[0m\u001b[0;34m)\u001b[0m\u001b[0;34m\u001b[0m\u001b[0;34m\u001b[0m\u001b[0m\n\u001b[0m",
            "\u001b[0;31mTypeError\u001b[0m: unsupported operand type(s) for +: 'Point' and 'Point'"
          ]
        }
      ]
    },
    {
      "cell_type": "code",
      "source": [
        "#-------------------------Handson Questions ---------------------------------"
      ],
      "metadata": {
        "id": "rC8qwfBSU920"
      },
      "execution_count": null,
      "outputs": []
    },
    {
      "cell_type": "code",
      "source": [
        "mini proj -- Bank Account Management\n",
        "\n",
        "Task: create a class called as bank account that encapsulates a private attribute\n",
        "__balance.\n",
        "\n",
        "Requirements:\n",
        "\n",
        "Provide constructor to initialize the attributes Acc. No, Holder Name,__balance\n",
        "#methods:\n",
        "1. deposit\n",
        "2. withdraw\n",
        "3. check balance\n",
        "\n",
        "#handle errors as well if any invalid operation is made eg:\n",
        "withdraw > balance ie: balance is never negative."
      ],
      "metadata": {
        "id": "tYujotDPagxb"
      },
      "execution_count": null,
      "outputs": []
    },
    {
      "cell_type": "markdown",
      "source": [
        "#1. make a 3 cordinate addition (operator overloading works)\n",
        "#2. __lt__(<) overload this operator with certain use case."
      ],
      "metadata": {
        "id": "l124kUjwcEnW"
      }
    },
    {
      "cell_type": "markdown",
      "source": [
        "Shapes and area calculaion:\n",
        "\n",
        "create a base class shape with method area().\n",
        "2 or 3 subclasses\n",
        "\n",
        "eg: recatngle circle triangle overiding of base class area method with child class area method.\n",
        "\n",
        "__str__ for each class\n",
        "\n",
        "attribute circle -- radius\n",
        "rect -- len breadth"
      ],
      "metadata": {
        "id": "vHwgEJZ-cwJ-"
      }
    },
    {
      "cell_type": "markdown",
      "source": [],
      "metadata": {
        "id": "DrvCtuSncbLU"
      }
    },
    {
      "cell_type": "code",
      "source": [],
      "metadata": {
        "id": "m6mi-ntLdXo1"
      },
      "execution_count": null,
      "outputs": []
    }
  ]
}