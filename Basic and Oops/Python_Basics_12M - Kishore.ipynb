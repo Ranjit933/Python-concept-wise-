{
  "cells": [
    {
      "cell_type": "code",
      "execution_count": null,
      "metadata": {
        "id": "fgIeZhpH-p2G"
      },
      "outputs": [],
      "source": [
        "Agenda: Python Basics"
      ]
    },
    {
      "cell_type": "code",
      "execution_count": null,
      "metadata": {
        "id": "7rsZgj8zDX_T"
      },
      "outputs": [],
      "source": [
        "#Python: High Level Interpreted programming language\n",
        "#Program: piece of code that can be executed to perform a specific task.\n",
        "#High Level: close to humans, simple syntax"
      ]
    },
    {
      "cell_type": "code",
      "execution_count": null,
      "metadata": {
        "colab": {
          "base_uri": "https://localhost:8080/",
          "height": 71
        },
        "id": "tyYXr3l_F2Ie",
        "outputId": "d41198ff-dff3-41da-cbe7-95475f26bbe1"
      },
      "outputs": [
        {
          "data": {
            "application/vnd.google.colaboratory.intrinsic+json": {
              "type": "string"
            },
            "text/plain": [
              "'Complier: Entire program in one go. Faster because entire program runs in one go. \\nErrors will be shown after compilation. Java C++\\n\\nInterpreter: Line by Line manner. Slower process code line by line. \\nstops at the very first error encountered and reports immediately Python Javascript'"
            ]
          },
          "execution_count": 3,
          "metadata": {},
          "output_type": "execute_result"
        }
      ],
      "source": [
        "\"\"\"Complier: Entire program in one go. Faster because entire program runs in one go.\n",
        "Errors will be shown after compilation. Java C++\n",
        "\n",
        "Interpreter: Line by Line manner. Slower process code line by line.\n",
        "stops at the very first error encountered and reports immediately Python Javascript\"\"\""
      ]
    },
    {
      "cell_type": "code",
      "execution_count": null,
      "metadata": {
        "id": "36OXvi3cF7vF"
      },
      "outputs": [],
      "source": [
        "#why Python??\n",
        "#easy syntax\n",
        "#print(\"hello world\")\n",
        "#error debugging easy\n",
        "#Interpreted\n",
        "#huge set of libraries for everything\n",
        "#Dynamic Typing:\n",
        "a = 10"
      ]
    },
    {
      "cell_type": "code",
      "execution_count": null,
      "metadata": {
        "colab": {
          "base_uri": "https://localhost:8080/"
        },
        "id": "4ucxBe7JQyRH",
        "outputId": "33a5c5a7-bee8-4db1-cd82-dc52293a3457"
      },
      "outputs": [
        {
          "name": "stdout",
          "output_type": "stream",
          "text": [
            "Hello world\n"
          ]
        }
      ],
      "source": [
        "print(\"Hello world\")"
      ]
    },
    {
      "cell_type": "code",
      "execution_count": null,
      "metadata": {
        "colab": {
          "base_uri": "https://localhost:8080/"
        },
        "id": "riyu4TF1Q3xq",
        "outputId": "b38fe5fb-8d81-466c-dd0c-91b70bc0f161"
      },
      "outputs": [
        {
          "name": "stdout",
          "output_type": "stream",
          "text": [
            "hello! Kishore\n"
          ]
        }
      ],
      "source": [
        "#comments in python\n",
        "#this line prints the name\n",
        "print(\"hello! Kishore\")"
      ]
    },
    {
      "cell_type": "code",
      "execution_count": null,
      "metadata": {
        "colab": {
          "base_uri": "https://localhost:8080/"
        },
        "id": "HMo4Nf5QRVOD",
        "outputId": "2b98a728-d10b-48c4-b76d-f33a9b4e38cf"
      },
      "outputs": [
        {
          "name": "stdout",
          "output_type": "stream",
          "text": [
            "hello! Kishore\n"
          ]
        }
      ],
      "source": [
        "\"\"\"comments in python\n",
        "this line prints the name\"\"\"\n",
        "print(\"hello! Kishore\")"
      ]
    },
    {
      "cell_type": "code",
      "execution_count": null,
      "metadata": {
        "colab": {
          "base_uri": "https://localhost:8080/"
        },
        "id": "y_RDmskSRusd",
        "outputId": "399d67e4-e7b1-4a8a-c692-5b198dc2475b"
      },
      "outputs": [
        {
          "name": "stdout",
          "output_type": "stream",
          "text": [
            "Khushal\n",
            "cold\n",
            "ICE\n",
            "hello\n",
            "hello\n",
            "engine's\n",
            "mahatama gandhi wrote \"my experiments with truth\" \n"
          ]
        }
      ],
      "source": [
        "#Variable: store the data\n",
        "x = \"Khushal\"\n",
        "Y = \"Keshav\"\n",
        "print(x)\n",
        "#pyhton is case sensetive\n",
        "ice = \"cold\"\n",
        "ICE = \"snow\"\n",
        "print(ice)\n",
        "print(\"ICE\")\n",
        "#what is diff bw ' ' & \" \" & \"\"\" \"\"\"?\n",
        "print('hello')\n",
        "print(\"hello\")\n",
        "print(\"engine's\")\n",
        "#print('engine's')\n",
        "print(\"\"\"mahatama gandhi wrote \"my experiments with truth\" \"\"\")\n",
        "#print(\"mahatama gandhi wrote \"my experiments with truth\".\")\n"
      ]
    },
    {
      "cell_type": "code",
      "execution_count": null,
      "metadata": {
        "colab": {
          "base_uri": "https://localhost:8080/"
        },
        "id": "Ll8EbNotSyDh",
        "outputId": "6b600818-b08a-49b3-a0ca-25bc243fef45"
      },
      "outputs": [
        {
          "name": "stdout",
          "output_type": "stream",
          "text": [
            "<class 'str'>\n",
            "<class 'int'>\n",
            "<class 'float'>\n",
            "<class 'complex'>\n",
            "<class 'str'>\n"
          ]
        }
      ],
      "source": [
        "a = \"Keshav\"\n",
        "print(type(a))\n",
        "#str = string datatype\n",
        "b = 2\n",
        "print(type(b))\n",
        "#int = integer datatype\n",
        "c = 10.01\n",
        "print(type(c))\n",
        "#float = decimal datatype\n",
        "d = 3 + 5j\n",
        "print(type(d))\n",
        "print(type(\"Rahul\"))"
      ]
    },
    {
      "cell_type": "code",
      "execution_count": null,
      "metadata": {
        "colab": {
          "base_uri": "https://localhost:8080/"
        },
        "id": "qqlCzi9CV6Kr",
        "outputId": "381d33e6-4256-41fe-a5db-401b564af934"
      },
      "outputs": [
        {
          "name": "stdout",
          "output_type": "stream",
          "text": [
            "heelo1\n"
          ]
        }
      ],
      "source": [
        "#print(\"hello\")\n",
        "print('heelo1')"
      ]
    },
    {
      "cell_type": "code",
      "execution_count": null,
      "metadata": {
        "colab": {
          "base_uri": "https://localhost:8080/",
          "height": 109
        },
        "id": "X-VkKJ8tX9HA",
        "outputId": "fab4dd66-bb64-46f0-b9c8-e8bff4781050"
      },
      "outputs": [
        {
          "ename": "SyntaxError",
          "evalue": "invalid syntax (<ipython-input-42-7ffa1a894ffe>, line 15)",
          "output_type": "error",
          "traceback": [
            "\u001b[0;36m  File \u001b[0;32m\"<ipython-input-42-7ffa1a894ffe>\"\u001b[0;36m, line \u001b[0;32m15\u001b[0m\n\u001b[0;31m    break = \"new2\"\u001b[0m\n\u001b[0m          ^\u001b[0m\n\u001b[0;31mSyntaxError\u001b[0m\u001b[0;31m:\u001b[0m invalid syntax\n"
          ]
        }
      ],
      "source": [
        "#rules for naming a variable\n",
        "#1. starts with letter or an underscore\n",
        "a = 10\n",
        "#2a = 10\n",
        "_b = 10\n",
        "\n",
        "#2. A-Z a-z 0-9 and _ anything apart from it will hit an error\n",
        "#3. case sensetive ice and ICE will be treated diff\n",
        "ice = \"cold\"\n",
        "ICE = \"snow\"\n",
        "#print(ice)\n",
        "#print(ICE)\n",
        "#4. you can't use reserved keywords as your variable name\n",
        "#and = \"new\"\n",
        "print()"
      ]
    },
    {
      "cell_type": "code",
      "execution_count": null,
      "metadata": {
        "id": "H9ByoHKiYf-1"
      },
      "outputs": [],
      "source": [
        "name1 = \"lion\"\n"
      ]
    },
    {
      "cell_type": "code",
      "execution_count": null,
      "metadata": {
        "colab": {
          "base_uri": "https://localhost:8080/",
          "height": 109
        },
        "id": "mIe6BvIwatSf",
        "outputId": "3fad9a23-5977-47c7-a314-72fdd59a77c2"
      },
      "outputs": [
        {
          "ename": "SyntaxError",
          "evalue": "invalid syntax (<ipython-input-13-39493391a9ef>, line 39)",
          "output_type": "error",
          "traceback": [
            "\u001b[0;36m  File \u001b[0;32m\"<ipython-input-13-39493391a9ef>\"\u001b[0;36m, line \u001b[0;32m39\u001b[0m\n\u001b[0;31m    print(m-=4)\u001b[0m\n\u001b[0m           ^\u001b[0m\n\u001b[0;31mSyntaxError\u001b[0m\u001b[0;31m:\u001b[0m invalid syntax\n"
          ]
        }
      ],
      "source": [
        "#operators:\n",
        "\"\"\"\n",
        "1. Arithmetic Operator:\n",
        "\n",
        "+ addition\n",
        "- subtraction\n",
        "* Multiplication\n",
        "/ Division\n",
        "% Modulus : Remainder\n",
        "** Exponential\n",
        "// Floor Division\n",
        "\n",
        "\"\"\"\n",
        "a = 10\n",
        "b = 5\n",
        "c = 3\n",
        "x = 15\n",
        "y = 2\n",
        "print(a+b)\n",
        "print(a-b)\n",
        "print(a*b)\n",
        "print(a/b)\n",
        "print(a%c)\n",
        "print(a**b)\n",
        "print(x//y)\n",
        "\n",
        "\"\"\"\n",
        "2. Assignment Operator:\n",
        "Used to assign the values:\n",
        "=\n",
        "+=\n",
        "-=\n",
        "*\n",
        "\"\"\"\n",
        "m = 10\n",
        "print(m)\n",
        "m +=5\n",
        "print(m)\n",
        "\"\"\"\n",
        "3. Comparison Operator:\n",
        "compare the values\n",
        "1. ==\n",
        "2. !=\n",
        "3. >\n",
        "4. <\n",
        "5. <=\n",
        "6. >=\n",
        "\"\"\"\n",
        "\"\"\"\n",
        "4. Logical Operator:\n",
        "\"\"\"\n",
        "print(\"END\")"
      ]
    },
    {
      "cell_type": "code",
      "execution_count": null,
      "metadata": {
        "colab": {
          "base_uri": "https://localhost:8080/"
        },
        "id": "FOvCL0ZqL3fP",
        "outputId": "6b0fec86-3d35-48c1-be4d-5927244b41d5"
      },
      "outputs": [
        {
          "name": "stdout",
          "output_type": "stream",
          "text": [
            "100\n"
          ]
        }
      ],
      "source": [
        "#print(x=10)\n",
        "x= 10\n",
        "y= 2\n",
        "print(x**y)"
      ]
    },
    {
      "cell_type": "code",
      "execution_count": null,
      "metadata": {
        "colab": {
          "base_uri": "https://localhost:8080/"
        },
        "id": "NLhqg0bkPmF9",
        "outputId": "4f4dca14-adf3-4b22-d4bf-805308244648"
      },
      "outputs": [
        {
          "name": "stdout",
          "output_type": "stream",
          "text": [
            "100\n"
          ]
        }
      ],
      "source": [
        "m=20\n",
        "m*=5\n",
        "print(m)\n",
        "#hi sir it was giving 105"
      ]
    },
    {
      "cell_type": "code",
      "execution_count": null,
      "metadata": {
        "id": "vdvWB4WjRVPh"
      },
      "outputs": [],
      "source": [
        "x= 10\n",
        "y = 2"
      ]
    },
    {
      "cell_type": "code",
      "execution_count": null,
      "metadata": {
        "colab": {
          "base_uri": "https://localhost:8080/"
        },
        "id": "ABHgEsRPRebF",
        "outputId": "23951aac-d5fd-4ba8-8867-c9f995a3ec1b"
      },
      "outputs": [
        {
          "name": "stdout",
          "output_type": "stream",
          "text": [
            "100\n"
          ]
        }
      ],
      "source": [
        "x**=y\n",
        "print(x)"
      ]
    },
    {
      "cell_type": "code",
      "execution_count": null,
      "metadata": {
        "colab": {
          "base_uri": "https://localhost:8080/"
        },
        "id": "-1LlpfXxRgNR",
        "outputId": "3ec86704-e7ab-4597-f14e-dde2ef04f83b"
      },
      "outputs": [
        {
          "name": "stdout",
          "output_type": "stream",
          "text": [
            "False\n",
            "True\n",
            "False\n",
            "True\n",
            "True\n"
          ]
        }
      ],
      "source": [
        "# comparison operators\n",
        "\"\"\"\n",
        "3. Comparison Operator:\n",
        "compare the values\n",
        "1. ==\n",
        "2. != not equals to\n",
        "3. >\n",
        "4. <\n",
        "5. <=\n",
        "6. >=\n",
        "\"\"\"\n",
        "x = 5\n",
        "y = 3\n",
        "print(x==y)\n",
        "print(x!=y)\n",
        "print(x<y)\n",
        "print(x>y)\n",
        "print(x>=y)"
      ]
    },
    {
      "cell_type": "code",
      "execution_count": null,
      "metadata": {
        "colab": {
          "base_uri": "https://localhost:8080/"
        },
        "id": "uY6sfU4mSurU",
        "outputId": "67958338-dbc9-4958-89e2-bff66edaf848"
      },
      "outputs": [
        {
          "name": "stdout",
          "output_type": "stream",
          "text": [
            "hello\n"
          ]
        }
      ],
      "source": [
        "if x!=y:\n",
        "  print(\"hello\")\n"
      ]
    },
    {
      "cell_type": "code",
      "execution_count": null,
      "metadata": {
        "colab": {
          "base_uri": "https://localhost:8080/"
        },
        "id": "RvO_n7VVT1xc",
        "outputId": "442c7d1d-1fc3-474d-ce2e-61bde88b6fbb"
      },
      "outputs": [
        {
          "name": "stdout",
          "output_type": "stream",
          "text": [
            "False\n",
            "True\n",
            "True\n"
          ]
        }
      ],
      "source": [
        "#logical operators:\n",
        "# and:\n",
        "x = 10\n",
        "print(x>3 and x>10)# False\n",
        "# or:\n",
        "print(x>3 or x>10)\n",
        "# not:\n",
        "print(not(x>3 and x>10))#not has reversed the results to true"
      ]
    },
    {
      "cell_type": "code",
      "execution_count": null,
      "metadata": {
        "colab": {
          "base_uri": "https://localhost:8080/"
        },
        "id": "J7cTrnRKVN74",
        "outputId": "7afc3cd7-8bdf-4f39-8125-719f85203d89"
      },
      "outputs": [
        {
          "name": "stdout",
          "output_type": "stream",
          "text": [
            "hello\n"
          ]
        }
      ],
      "source": [
        "if x!=y:\n",
        " print(\"hello\")"
      ]
    },
    {
      "cell_type": "code",
      "execution_count": null,
      "metadata": {
        "colab": {
          "base_uri": "https://localhost:8080/"
        },
        "id": "bzUx2ix6aGtW",
        "outputId": "52a2e134-7782-49ee-fc4c-9b488a534233"
      },
      "outputs": [
        {
          "name": "stdout",
          "output_type": "stream",
          "text": [
            "hello\n",
            "Nice\n"
          ]
        }
      ],
      "source": [
        "print(\"hello\")\n",
        "a = \"Nice\"\n",
        "print(a)"
      ]
    },
    {
      "cell_type": "code",
      "execution_count": null,
      "metadata": {
        "colab": {
          "base_uri": "https://localhost:8080/"
        },
        "id": "96vteS1naY1B",
        "outputId": "d58d0df0-ad36-4de9-d719-967245ccaff2"
      },
      "outputs": [
        {
          "name": "stdout",
          "output_type": "stream",
          "text": [
            "M\n",
            "i\n",
            "c\n",
            "e\n",
            "4\n",
            "M\n",
            "i\n",
            "c\n",
            "e\n"
          ]
        }
      ],
      "source": [
        "#array: collection of same datatype.\n",
        "print(a[0])\n",
        "print(a[1])\n",
        "print(a[2])\n",
        "print(a[3])\n",
        "\n",
        "#index: starts from 0 and ends at len-1\n",
        "\n",
        "print(len(a))\n",
        "\n",
        "#[0] = 'L' ----------------------- Not possible-  ----- strings are immutable if item assignment is done\n",
        "a = 'Mice'\n",
        "\n",
        "print(a[0])\n",
        "print(a[1])\n",
        "print(a[2])\n",
        "print(a[3])"
      ]
    },
    {
      "cell_type": "code",
      "execution_count": null,
      "metadata": {
        "colab": {
          "base_uri": "https://localhost:8080/"
        },
        "id": "0MoXvPkdauul",
        "outputId": "4bf6f5ca-2aba-45a6-b4f3-035a89803655"
      },
      "outputs": [
        {
          "name": "stdout",
          "output_type": "stream",
          "text": [
            "Hello world\n",
            "Hello\n",
            "world\n"
          ]
        }
      ],
      "source": [
        "a = \"Hello world\"\n",
        "print(a)\n",
        "print(a[0:5])\n",
        "print(a[6:11])"
      ]
    },
    {
      "cell_type": "code",
      "execution_count": null,
      "metadata": {
        "colab": {
          "base_uri": "https://localhost:8080/"
        },
        "id": "P_vg7XyNc0PC",
        "outputId": "2ecfeb46-7100-4084-d71d-083e1a177b77"
      },
      "outputs": [
        {
          "name": "stdout",
          "output_type": "stream",
          "text": [
            "world\n",
            "Hello\n",
            "Hello world\n"
          ]
        }
      ],
      "source": [
        "x = a[6:11]\n",
        "y = a[0:5]\n",
        "\n",
        "print(x)\n",
        "print(y)\n",
        "\n",
        "print(y+' '+x)"
      ]
    },
    {
      "cell_type": "code",
      "execution_count": null,
      "metadata": {
        "colab": {
          "base_uri": "https://localhost:8080/"
        },
        "id": "-B1Z6iBPdx0x",
        "outputId": "22bd610c-9795-4e4f-b70e-a5631614cd36"
      },
      "outputs": [
        {
          "name": "stdout",
          "output_type": "stream",
          "text": [
            "Hello\n"
          ]
        }
      ],
      "source": [
        "print(a[:5])"
      ]
    },
    {
      "cell_type": "code",
      "execution_count": null,
      "metadata": {
        "colab": {
          "base_uri": "https://localhost:8080/"
        },
        "id": "N6G82NG8efZ9",
        "outputId": "9c778a75-b6b5-4e3b-d599-023f8ba151c6"
      },
      "outputs": [
        {
          "name": "stdout",
          "output_type": "stream",
          "text": [
            "world\n"
          ]
        }
      ],
      "source": [
        "print(a[6:])"
      ]
    },
    {
      "cell_type": "code",
      "execution_count": null,
      "metadata": {
        "colab": {
          "base_uri": "https://localhost:8080/"
        },
        "id": "uVBCj7DvelWT",
        "outputId": "b4cbfbed-41e6-4a06-9a44-ae45b9937b44"
      },
      "outputs": [
        {
          "name": "stdout",
          "output_type": "stream",
          "text": [
            "Kishore\n",
            "7\n",
            "K\n",
            "i\n",
            "s\n",
            "h\n",
            "o\n",
            "r\n",
            "e\n"
          ]
        }
      ],
      "source": [
        "name = \"Kishore\"\n",
        "print(name)\n",
        "print(len(name))\n",
        "print(name[-7])\n",
        "print(name[-6])\n",
        "print(name[-5])\n",
        "print(name[-4])\n",
        "print(name[-3])\n",
        "print(name[-2])\n",
        "print(name[-1])"
      ]
    },
    {
      "cell_type": "code",
      "execution_count": null,
      "metadata": {
        "colab": {
          "base_uri": "https://localhost:8080/"
        },
        "id": "JvHm49zWfKM-",
        "outputId": "d5671b1e-a2c0-4bdc-ab90-fa484b670136"
      },
      "outputs": [
        {
          "name": "stdout",
          "output_type": "stream",
          "text": [
            "13\n",
            "8\n",
            "Chauhan\n",
            "kishoreChauhan\n"
          ]
        }
      ],
      "source": [
        "#string methods built- in methods to perform specific tasks\n",
        "name = 'KISHORE'\n",
        "name = name.lower()\n",
        "last_name = '  Cha uhan   '\n",
        "print(len(last_name))\n",
        "last_name = last_name.strip()\n",
        "print(len(last_name))\n",
        "\n",
        "last_name = last_name.replace(' ','')\n",
        "print(last_name)\n",
        "\n",
        "full_name = name + last_name\n",
        "print(full_name)"
      ]
    },
    {
      "cell_type": "code",
      "execution_count": null,
      "metadata": {
        "id": "F3XelKkSg874"
      },
      "outputs": [],
      "source": [
        "#Lists:-- it stores multiple items under single variable name.\n",
        "\n",
        "# Lists are ordered\n",
        "# Lists are chageable\n",
        "# Allows duplicates"
      ]
    },
    {
      "cell_type": "code",
      "execution_count": null,
      "metadata": {
        "colab": {
          "base_uri": "https://localhost:8080/"
        },
        "id": "jaXCKqgXVEco",
        "outputId": "a6327a34-83c9-4e38-c353-5441f91a9557"
      },
      "outputs": [
        {
          "name": "stdout",
          "output_type": "stream",
          "text": [
            "['Shivani', 'Gunjan', 'Sathya', 'Venkat', 'Samika']\n",
            "5\n",
            "Shivani\n",
            "Gunjan\n",
            "Sathya\n",
            "Venkat\n",
            "Samika\n",
            "['Kishore', 'Gunjan', 'Sathya', 'Venkat', 'Samika']\n"
          ]
        }
      ],
      "source": [
        "l1 = [\"Shivani\",\"Gunjan\",\"Sathya\",\"Venkat\",\"Samika\" ]\n",
        "print(l1)\n",
        "#marks = [90.1,47,80.8,88,77]\n",
        "#print(marks)\n",
        "\n",
        "\n",
        "print(len(l1))\n",
        "\n",
        "print(l1[0])\n",
        "print(l1[1])\n",
        "print(l1[2])\n",
        "print(l1[3])\n",
        "print(l1[4])\n",
        "\n",
        "l1[0] = 'Kishore' #item assignment is possible in list\n",
        "print(l1)"
      ]
    },
    {
      "cell_type": "code",
      "execution_count": null,
      "metadata": {
        "colab": {
          "base_uri": "https://localhost:8080/"
        },
        "id": "hPQJgzE8VgJr",
        "outputId": "c2eedb62-baca-4639-c1a6-f599e2e8ab8c"
      },
      "outputs": [
        {
          "name": "stdout",
          "output_type": "stream",
          "text": [
            "<class 'list'>\n"
          ]
        }
      ],
      "source": [
        "print(type(l1))"
      ]
    },
    {
      "cell_type": "code",
      "execution_count": null,
      "metadata": {
        "colab": {
          "base_uri": "https://localhost:8080/"
        },
        "id": "ORXZgI5vXhhj",
        "outputId": "86ae0d10-57a9-47ab-c839-6dfe08ee187a"
      },
      "outputs": [
        {
          "name": "stdout",
          "output_type": "stream",
          "text": [
            "['Shivani', 'Gunjan', 'Sathya', 'Venkat', 'Samika', 'Samika', 90, 99.99]\n"
          ]
        }
      ],
      "source": [
        "l1 = [\"Shivani\",\"Gunjan\",\"Sathya\",\"Venkat\",\"Samika\",\"Samika\",90,99.99]\n",
        "print(l1)"
      ]
    },
    {
      "cell_type": "code",
      "execution_count": null,
      "metadata": {
        "colab": {
          "base_uri": "https://localhost:8080/"
        },
        "id": "YGIeWRI2Xxnp",
        "outputId": "eef4d710-fe93-44f2-e97f-5df69ef99078"
      },
      "outputs": [
        {
          "name": "stdout",
          "output_type": "stream",
          "text": [
            "<class 'str'>\n"
          ]
        }
      ],
      "source": [
        "#Dynamic Typing\n",
        "\n",
        "x = \"10.10\"\n",
        "print(type(x))\n",
        "#-------------------print(type(variable name))\n",
        "\n",
        "#pros: flexible, concise\n",
        "#cons: potential errors at runtime, Performance overhead"
      ]
    },
    {
      "cell_type": "code",
      "execution_count": null,
      "metadata": {
        "colab": {
          "base_uri": "https://localhost:8080/"
        },
        "id": "kRPha0T3Yhqr",
        "outputId": "1ca8cbc6-f13e-4d3b-8fa9-5f0d06c36aec"
      },
      "outputs": [
        {
          "name": "stdout",
          "output_type": "stream",
          "text": [
            "['Shivani', 'Gunjan', 'Sathya', 'Venkat', 'Samika']\n"
          ]
        }
      ],
      "source": [
        "#slicing\n",
        "print(l1[0:5])"
      ]
    },
    {
      "cell_type": "code",
      "execution_count": null,
      "metadata": {
        "colab": {
          "base_uri": "https://localhost:8080/"
        },
        "id": "8QUmbJ0YZ5f2",
        "outputId": "58811b4a-ed57-4508-dfc1-10a9c697569f"
      },
      "outputs": [
        {
          "name": "stdout",
          "output_type": "stream",
          "text": [
            "['Kishore', 'Gunjan', 'Sathya', 'Venkat', 'Samika', 'Aditya']\n",
            "['Kishore', 'Rahul', 'Gunjan', 'Sathya', 'Venkat', 'Samika', 'Aditya']\n"
          ]
        }
      ],
      "source": [
        "#list methods\n",
        "l1.append(\"Aditya\")\n",
        "print(l1)\n",
        "l1.insert(1,\"Rahul\")\n",
        "print(l1)"
      ]
    },
    {
      "cell_type": "code",
      "execution_count": null,
      "metadata": {
        "id": "65GjoHBwaQVM"
      },
      "outputs": [],
      "source": [
        "l1 = [\"Shivani\",\"Gunjan\",\"Sathya\",\"Venkat\",\"Samika\" ]"
      ]
    },
    {
      "cell_type": "code",
      "execution_count": null,
      "metadata": {
        "colab": {
          "base_uri": "https://localhost:8080/"
        },
        "id": "01Eap8Okbu6W",
        "outputId": "f37172d9-e3fa-4a2d-a6e1-db54ca908303"
      },
      "outputs": [
        {
          "name": "stdout",
          "output_type": "stream",
          "text": [
            "['Shivani', 'Gunjan', 'Sathya', 'Venkat', 'Samika']\n"
          ]
        }
      ],
      "source": [
        "print(l1)"
      ]
    },
    {
      "cell_type": "code",
      "execution_count": null,
      "metadata": {
        "colab": {
          "base_uri": "https://localhost:8080/"
        },
        "id": "nb6EPYpKbx5A",
        "outputId": "22950225-1fb0-4974-9d49-c06112b0e8fa"
      },
      "outputs": [
        {
          "name": "stdout",
          "output_type": "stream",
          "text": [
            "['Shivani', 'Aditya', 'Rahul', 'Gunjan', 'Sathya', 'Venkat', 'Samika', 'Aditya', 'Aditya']\n"
          ]
        }
      ],
      "source": [
        "l1.insert(1,\"Aditya\")\n",
        "#l1.insert(1,\"Rahul\")\n",
        "print(l1)"
      ]
    },
    {
      "cell_type": "code",
      "execution_count": null,
      "metadata": {
        "colab": {
          "base_uri": "https://localhost:8080/"
        },
        "id": "YAZwbYXqb55K",
        "outputId": "9a24fb34-1fa3-4675-ed51-099fce0b58c9"
      },
      "outputs": [
        {
          "name": "stdout",
          "output_type": "stream",
          "text": [
            "['Shivani', 'Rahul', 'Gunjan', 'Sathya', 'Venkat', 'Samika', 'Aditya', 'Aditya']\n"
          ]
        }
      ],
      "source": [
        "l1.remove(\"Aditya\")\n",
        "print(l1)"
      ]
    },
    {
      "cell_type": "code",
      "execution_count": null,
      "metadata": {
        "colab": {
          "base_uri": "https://localhost:8080/",
          "height": 36
        },
        "id": "wdy4nDTRcekz",
        "outputId": "9a10fb78-7783-4dde-eb84-37921f651654"
      },
      "outputs": [
        {
          "data": {
            "application/vnd.google.colaboratory.intrinsic+json": {
              "type": "string"
            },
            "text/plain": [
              "'Rahul'"
            ]
          },
          "execution_count": 29,
          "metadata": {},
          "output_type": "execute_result"
        }
      ],
      "source": [
        "l1.pop(1)"
      ]
    },
    {
      "cell_type": "code",
      "execution_count": null,
      "metadata": {
        "colab": {
          "base_uri": "https://localhost:8080/"
        },
        "id": "ij7w927ec7A3",
        "outputId": "575c555b-d646-4f19-af10-32e26aea6f21"
      },
      "outputs": [
        {
          "name": "stdout",
          "output_type": "stream",
          "text": [
            "['Shivani', 'Rahul', 'Gunjan', 'Sathya', 'Venkat', 'Samika', 'Aditya']\n"
          ]
        }
      ],
      "source": [
        "print(l1)"
      ]
    },
    {
      "cell_type": "code",
      "execution_count": null,
      "metadata": {
        "id": "gVt-dcLmc9Z3"
      },
      "outputs": [],
      "source": [
        "l1.clear()"
      ]
    },
    {
      "cell_type": "code",
      "execution_count": null,
      "metadata": {
        "colab": {
          "base_uri": "https://localhost:8080/"
        },
        "id": "KyFOe7ZVeaK1",
        "outputId": "70903c0f-b571-4ac5-d759-482dca529b08"
      },
      "outputs": [
        {
          "name": "stdout",
          "output_type": "stream",
          "text": [
            "[]\n"
          ]
        }
      ],
      "source": [
        "print(l1)"
      ]
    },
    {
      "cell_type": "code",
      "execution_count": null,
      "metadata": {
        "colab": {
          "base_uri": "https://localhost:8080/",
          "height": 144
        },
        "id": "n4sr3kbMebUu",
        "outputId": "b1c5e9a0-1c76-4a9f-e81f-252f466cc6d0"
      },
      "outputs": [
        {
          "ename": "IndexError",
          "evalue": "list index out of range",
          "output_type": "error",
          "traceback": [
            "\u001b[0;31m---------------------------------------------------------------------------\u001b[0m",
            "\u001b[0;31mIndexError\u001b[0m                                Traceback (most recent call last)",
            "\u001b[0;32m<ipython-input-32-614457fbb438>\u001b[0m in \u001b[0;36m<cell line: 0>\u001b[0;34m()\u001b[0m\n\u001b[0;32m----> 1\u001b[0;31m \u001b[0mprint\u001b[0m\u001b[0;34m(\u001b[0m\u001b[0ml1\u001b[0m\u001b[0;34m[\u001b[0m\u001b[0;36m0\u001b[0m\u001b[0;34m]\u001b[0m\u001b[0;34m)\u001b[0m\u001b[0;34m\u001b[0m\u001b[0;34m\u001b[0m\u001b[0m\n\u001b[0m",
            "\u001b[0;31mIndexError\u001b[0m: list index out of range"
          ]
        }
      ],
      "source": [
        "print(l1[0])"
      ]
    },
    {
      "cell_type": "code",
      "execution_count": null,
      "metadata": {
        "id": "ll1vQ7D_euwr"
      },
      "outputs": [],
      "source": [
        "del l1"
      ]
    },
    {
      "cell_type": "code",
      "execution_count": null,
      "metadata": {
        "colab": {
          "base_uri": "https://localhost:8080/",
          "height": 144
        },
        "id": "YsWx1nRofUco",
        "outputId": "7730289e-4a93-41e5-a05a-13b11f9ecbb5"
      },
      "outputs": [
        {
          "ename": "NameError",
          "evalue": "name 'l1' is not defined",
          "output_type": "error",
          "traceback": [
            "\u001b[0;31m---------------------------------------------------------------------------\u001b[0m",
            "\u001b[0;31mNameError\u001b[0m                                 Traceback (most recent call last)",
            "\u001b[0;32m<ipython-input-34-9957399d2fc4>\u001b[0m in \u001b[0;36m<cell line: 0>\u001b[0;34m()\u001b[0m\n\u001b[0;32m----> 1\u001b[0;31m \u001b[0mprint\u001b[0m\u001b[0;34m(\u001b[0m\u001b[0ml1\u001b[0m\u001b[0;34m)\u001b[0m\u001b[0;34m\u001b[0m\u001b[0;34m\u001b[0m\u001b[0m\n\u001b[0m",
            "\u001b[0;31mNameError\u001b[0m: name 'l1' is not defined"
          ]
        }
      ],
      "source": [
        "print(l1)"
      ]
    },
    {
      "cell_type": "code",
      "execution_count": null,
      "metadata": {
        "id": "rtlw6zN3fWXm"
      },
      "outputs": [],
      "source": [
        "#clear????"
      ]
    },
    {
      "cell_type": "code",
      "execution_count": null,
      "metadata": {
        "colab": {
          "base_uri": "https://localhost:8080/"
        },
        "id": "FyLwEmeKfxru",
        "outputId": "c49e3812-fb05-4d6e-b51c-f271d962c109"
      },
      "outputs": [
        {
          "name": "stdout",
          "output_type": "stream",
          "text": [
            "[90.1, 88, 80.8, 77, 47]\n"
          ]
        }
      ],
      "source": [
        "marks = [90.1,47,80.8,88,77]\n",
        "marks.sort(reverse = True)#ascending order\n",
        "print(marks)"
      ]
    },
    {
      "cell_type": "code",
      "execution_count": null,
      "metadata": {
        "colab": {
          "base_uri": "https://localhost:8080/"
        },
        "id": "BaWqXJt5f5o-",
        "outputId": "80e74b06-6615-41b7-a738-83e00e2a2a9f"
      },
      "outputs": [
        {
          "name": "stdout",
          "output_type": "stream",
          "text": [
            "[1, 2, 3, 4, 5, 6, 7, 8, 9, 10]\n",
            "[1, 2, 3, 4, 5, 6, 7, 8, 9, 10]\n"
          ]
        }
      ],
      "source": [
        "l1 = [1,2,3,4,5,6]\n",
        "l2 = [7,8,9,10]\n",
        "print(l1+l2)\n",
        "l3 = l1+l2\n",
        "print(l3)"
      ]
    },
    {
      "cell_type": "code",
      "execution_count": null,
      "metadata": {
        "id": "wMEvJuuvgzOj"
      },
      "outputs": [],
      "source": [
        "#Tuples: ordered unchangeable and allows duplicates\n",
        "t1 = (\"car\",\"bike\",\"bus\",\"scooter\",\"truck\")"
      ]
    },
    {
      "cell_type": "code",
      "execution_count": null,
      "metadata": {
        "colab": {
          "base_uri": "https://localhost:8080/"
        },
        "id": "9zv9tRhvkRnI",
        "outputId": "fae5a4be-f739-4841-de34-6c7598ba1073"
      },
      "outputs": [
        {
          "name": "stdout",
          "output_type": "stream",
          "text": [
            "('car', 'bike', 'bus', 'scooter', 'truck')\n"
          ]
        }
      ],
      "source": [
        "print(t1)"
      ]
    },
    {
      "cell_type": "code",
      "execution_count": null,
      "metadata": {
        "colab": {
          "base_uri": "https://localhost:8080/"
        },
        "id": "IhKLjTdSkT04",
        "outputId": "d6096d90-d02a-4be2-ff33-55f2830efcba"
      },
      "outputs": [
        {
          "name": "stdout",
          "output_type": "stream",
          "text": [
            "car\n",
            "bike\n",
            "bus\n",
            "scooter\n"
          ]
        }
      ],
      "source": [
        "print(t1[0])\n",
        "print(t1[1])\n",
        "print(t1[2])\n",
        "print(t1[3])"
      ]
    },
    {
      "cell_type": "code",
      "execution_count": null,
      "metadata": {
        "colab": {
          "base_uri": "https://localhost:8080/",
          "height": 144
        },
        "id": "B1IGv6ZCkba0",
        "outputId": "045678f2-8616-4938-e574-00db6a50b529"
      },
      "outputs": [
        {
          "ename": "TypeError",
          "evalue": "'tuple' object does not support item assignment",
          "output_type": "error",
          "traceback": [
            "\u001b[0;31m---------------------------------------------------------------------------\u001b[0m",
            "\u001b[0;31mTypeError\u001b[0m                                 Traceback (most recent call last)",
            "\u001b[0;32m<ipython-input-49-d6e356cab66f>\u001b[0m in \u001b[0;36m<cell line: 0>\u001b[0;34m()\u001b[0m\n\u001b[0;32m----> 1\u001b[0;31m \u001b[0mt1\u001b[0m\u001b[0;34m[\u001b[0m\u001b[0;36m0\u001b[0m\u001b[0;34m]\u001b[0m \u001b[0;34m=\u001b[0m \u001b[0;34m\"Helicopter\"\u001b[0m\u001b[0;34m\u001b[0m\u001b[0;34m\u001b[0m\u001b[0m\n\u001b[0m",
            "\u001b[0;31mTypeError\u001b[0m: 'tuple' object does not support item assignment"
          ]
        }
      ],
      "source": [
        "t1[0] = \"Helicopter\""
      ]
    },
    {
      "cell_type": "code",
      "execution_count": null,
      "metadata": {
        "colab": {
          "base_uri": "https://localhost:8080/"
        },
        "id": "NAy183ezkhpp",
        "outputId": "a24b42aa-9fc5-4983-b60b-7c97f4f5680a"
      },
      "outputs": [
        {
          "name": "stdout",
          "output_type": "stream",
          "text": [
            "('bus', 'scooter', 'truck')\n"
          ]
        }
      ],
      "source": [
        "print(t1[2:5])"
      ]
    },
    {
      "cell_type": "code",
      "execution_count": null,
      "metadata": {
        "colab": {
          "base_uri": "https://localhost:8080/"
        },
        "id": "0poWI7B-lXN7",
        "outputId": "39aa29b6-53cb-447f-8bdb-797fb8c6996e"
      },
      "outputs": [
        {
          "name": "stdout",
          "output_type": "stream",
          "text": [
            "['python', 'java', 'c++']\n",
            "['python', 8, 'c++']\n",
            "('python', 8, 'c++')\n"
          ]
        }
      ],
      "source": [
        "#list are mutable\n",
        "#tuples immutable\n",
        "\n",
        "t1 = (\"python\",\"java\",\"c++\")\n",
        "l1 = list(t1)\n",
        "print(l1)\n",
        "l1[1] = 8\n",
        "print(l1)\n",
        "t1 = tuple(l1)\n",
        "print(t1)"
      ]
    },
    {
      "cell_type": "code",
      "execution_count": null,
      "metadata": {
        "colab": {
          "base_uri": "https://localhost:8080/"
        },
        "id": "6xGjOMEjmjiy",
        "outputId": "0ec9b7c1-00ca-42bb-ced4-37962119496b"
      },
      "outputs": [
        {
          "name": "stdout",
          "output_type": "stream",
          "text": [
            "{1, 2, 3, 4, 5, 6, 7, 8}\n",
            "{'mani', 'smaika', 'kishore', 'rahul', 'Richa'}\n",
            "{'mani', 'smaika', 'kishore', 'rahul', 'satrajit', 'Richa'}\n"
          ]
        }
      ],
      "source": [
        "#sets: unchangeable(we can remove and add items)\n",
        "#uordered unchangeable duplicates not allowed\n",
        "\n",
        "s1 = {1,2,3,4,5,6,7,8,8,8}\n",
        "print(s1)\n",
        "s2 = {\"kishoreF\",\"smaika\",\"Richa\",\"mani\",\"rahul\"}\n",
        "print(s2)\n",
        "\n",
        "#print(s2[0])\n",
        "#print(s2[1])------- ?????\n",
        "\n",
        "s2.add(\"satrajit\")\n",
        "print(s2)"
      ]
    },
    {
      "cell_type": "code",
      "execution_count": null,
      "metadata": {
        "id": "-C0hacRYqUb_"
      },
      "outputs": [],
      "source": [
        "s2.remove(\"satrajit\")"
      ]
    },
    {
      "cell_type": "code",
      "execution_count": null,
      "metadata": {
        "id": "Cb8zmbogrVb6"
      },
      "outputs": [],
      "source": [
        "#how to remove all duplicates from the list in one go???\n",
        "\n",
        "#can i convert list into a set???\n",
        "\n",
        "list tuple set ---- dictionary"
      ]
    },
    {
      "cell_type": "code",
      "execution_count": null,
      "metadata": {
        "colab": {
          "base_uri": "https://localhost:8080/"
        },
        "id": "iGUHvhWVr5-v",
        "outputId": "a7f8a761-5a34-45be-b724-8a63efede205"
      },
      "outputs": [
        {
          "name": "stdout",
          "output_type": "stream",
          "text": [
            "{'Name': 'Kishore', 'Age': 27, 'Designation': 'Senior Data Analyst', 'Salary': '12LPA'}\n"
          ]
        }
      ],
      "source": [
        "\"\"\"list[]\n",
        "tuple()\n",
        "set{}\n",
        "dictionary{key:value}\"\"\"\n",
        "\n",
        "#ordered chngeable but don't allows duplicates\n",
        "\n",
        "d1 = {\"Name\":\"Kishore\", \"Age\":27, \"Designation\":\"Senior Data Analyst\",\"Salary\":\"12LPA\"}\n",
        "print(d1)"
      ]
    },
    {
      "cell_type": "code",
      "execution_count": null,
      "metadata": {
        "colab": {
          "base_uri": "https://localhost:8080/"
        },
        "id": "r47MGJwRs6nl",
        "outputId": "905f7669-d1f4-47e9-9f26-bc0902c77461"
      },
      "outputs": [
        {
          "name": "stdout",
          "output_type": "stream",
          "text": [
            "4\n"
          ]
        }
      ],
      "source": [
        "print(len(d1))"
      ]
    },
    {
      "cell_type": "code",
      "execution_count": null,
      "metadata": {
        "colab": {
          "base_uri": "https://localhost:8080/"
        },
        "id": "cjHGkM9ntG63",
        "outputId": "04aef52e-870a-4c56-ca65-b08b1020d170"
      },
      "outputs": [
        {
          "name": "stdout",
          "output_type": "stream",
          "text": [
            "Kishore\n",
            "Kishore\n"
          ]
        }
      ],
      "source": [
        "#Accessing the Values\n",
        "print(d1.get(\"Name\"))\n",
        "print(d1[\"Name\"])"
      ]
    },
    {
      "cell_type": "code",
      "execution_count": null,
      "metadata": {
        "colab": {
          "base_uri": "https://localhost:8080/"
        },
        "id": "Cp2pEyEktPpU",
        "outputId": "66995182-0044-499f-806d-d19e729f1390"
      },
      "outputs": [
        {
          "name": "stdout",
          "output_type": "stream",
          "text": [
            "dict_keys(['Name', 'Age', 'Designation', 'Salary'])\n"
          ]
        }
      ],
      "source": [
        "#Access the keys\n",
        "print(d1.keys())"
      ]
    },
    {
      "cell_type": "code",
      "execution_count": null,
      "metadata": {
        "id": "9L5-VEEgtkJh"
      },
      "outputs": [],
      "source": [
        "x = d1.keys()"
      ]
    },
    {
      "cell_type": "code",
      "execution_count": null,
      "metadata": {
        "colab": {
          "base_uri": "https://localhost:8080/"
        },
        "id": "on-yL2IdtpuG",
        "outputId": "587ac8e8-d563-497d-85fc-d89f80446acd"
      },
      "outputs": [
        {
          "name": "stdout",
          "output_type": "stream",
          "text": [
            "<class 'dict_keys'>\n"
          ]
        }
      ],
      "source": [
        "print(type(x))"
      ]
    },
    {
      "cell_type": "code",
      "execution_count": null,
      "metadata": {
        "colab": {
          "base_uri": "https://localhost:8080/"
        },
        "id": "zxytLeG9trIY",
        "outputId": "d1bb1406-f647-4b98-cd79-0575cde74cb8"
      },
      "outputs": [
        {
          "name": "stdout",
          "output_type": "stream",
          "text": [
            "dict_values(['Kishore', 27, 'Senior Data Analyst', '12LPA'])\n"
          ]
        }
      ],
      "source": [
        "print(d1.values())"
      ]
    },
    {
      "cell_type": "code",
      "execution_count": null,
      "metadata": {
        "id": "iGqKZWZut6RR"
      },
      "outputs": [],
      "source": [
        "d1.update({\"Designation\":\"Senior Data Scientist\"})"
      ]
    },
    {
      "cell_type": "code",
      "execution_count": null,
      "metadata": {
        "colab": {
          "base_uri": "https://localhost:8080/"
        },
        "id": "UNi3xEiYuSJR",
        "outputId": "e24cbf0f-7112-446d-ffa2-e70399bd4dd0"
      },
      "outputs": [
        {
          "name": "stdout",
          "output_type": "stream",
          "text": [
            "{'Name': 'Kishore', 'Age': 27, 'Designation': 'Senior Data Scientist', 'Salary': '12LPA'}\n"
          ]
        }
      ],
      "source": [
        "print(d1)"
      ]
    },
    {
      "cell_type": "code",
      "execution_count": null,
      "metadata": {
        "colab": {
          "base_uri": "https://localhost:8080/",
          "height": 36
        },
        "id": "zKe2c9iSuUcH",
        "outputId": "51ad97f2-ccdc-4757-9a38-5794a0b39991"
      },
      "outputs": [
        {
          "data": {
            "application/vnd.google.colaboratory.intrinsic+json": {
              "type": "string"
            },
            "text/plain": [
              "'12LPA'"
            ]
          },
          "execution_count": 78,
          "metadata": {},
          "output_type": "execute_result"
        }
      ],
      "source": [
        "d1.pop(\"Salary\")"
      ]
    },
    {
      "cell_type": "code",
      "execution_count": null,
      "metadata": {
        "colab": {
          "base_uri": "https://localhost:8080/"
        },
        "id": "QTHeKE0DudLj",
        "outputId": "b0f55fd2-bc8d-412e-85a8-65c412eef384"
      },
      "outputs": [
        {
          "name": "stdout",
          "output_type": "stream",
          "text": [
            "{'Name': 'Kishore', 'Age': 27, 'Designation': 'Senior Data Scientist'}\n"
          ]
        }
      ],
      "source": [
        "print(d1)"
      ]
    },
    {
      "cell_type": "code",
      "execution_count": null,
      "metadata": {
        "id": "Ck5fyfgFueoQ"
      },
      "outputs": [],
      "source": [
        "d1.clear()"
      ]
    },
    {
      "cell_type": "code",
      "execution_count": null,
      "metadata": {
        "colab": {
          "base_uri": "https://localhost:8080/"
        },
        "id": "UyuSKLnxuk72",
        "outputId": "23f3fe80-d7f0-41ac-fb60-282e5fd7a4b5"
      },
      "outputs": [
        {
          "name": "stdout",
          "output_type": "stream",
          "text": [
            "{}\n"
          ]
        }
      ],
      "source": [
        "print(d1)"
      ]
    },
    {
      "cell_type": "code",
      "execution_count": null,
      "metadata": {
        "id": "4vsvWihVumAZ"
      },
      "outputs": [],
      "source": [
        "del d1"
      ]
    },
    {
      "cell_type": "code",
      "execution_count": null,
      "metadata": {
        "colab": {
          "base_uri": "https://localhost:8080/",
          "height": 144
        },
        "id": "tufRJWgOunVo",
        "outputId": "04e66a95-0849-489e-fb98-d0b8ba9df294"
      },
      "outputs": [
        {
          "ename": "NameError",
          "evalue": "name 'd1' is not defined",
          "output_type": "error",
          "traceback": [
            "\u001b[0;31m---------------------------------------------------------------------------\u001b[0m",
            "\u001b[0;31mNameError\u001b[0m                                 Traceback (most recent call last)",
            "\u001b[0;32m<ipython-input-83-16790ca8b87d>\u001b[0m in \u001b[0;36m<cell line: 0>\u001b[0;34m()\u001b[0m\n\u001b[0;32m----> 1\u001b[0;31m \u001b[0mprint\u001b[0m\u001b[0;34m(\u001b[0m\u001b[0md1\u001b[0m\u001b[0;34m)\u001b[0m\u001b[0;34m\u001b[0m\u001b[0;34m\u001b[0m\u001b[0m\n\u001b[0m",
            "\u001b[0;31mNameError\u001b[0m: name 'd1' is not defined"
          ]
        }
      ],
      "source": [
        "print(d1)"
      ]
    },
    {
      "cell_type": "code",
      "execution_count": null,
      "metadata": {
        "id": "3q0Pj19nuoXg"
      },
      "outputs": [],
      "source": [
        "#try to add salary back to d1---- >>>>\n",
        "add the key?\n"
      ]
    },
    {
      "cell_type": "code",
      "execution_count": null,
      "metadata": {
        "colab": {
          "base_uri": "https://localhost:8080/"
        },
        "id": "rjOifuKZ98nY",
        "outputId": "a8c5ad5b-1d5b-4078-fb17-5438b499f3f1"
      },
      "outputs": [
        {
          "name": "stdout",
          "output_type": "stream",
          "text": [
            "False\n",
            "True\n",
            "False\n"
          ]
        }
      ],
      "source": [
        "#If else Statements ( Expressions --- -operations done with operators)>>>>> ---------------------- Conditionals\n",
        "\n",
        "#Outcome----- Default\n",
        "\n",
        "#Boolean:\n",
        "\n",
        "#True False\n",
        "\n",
        "print(10>11)\n",
        "#Boolean\n",
        "print(10==10)\n",
        "print(10<9)\n"
      ]
    },
    {
      "cell_type": "code",
      "execution_count": null,
      "metadata": {
        "colab": {
          "base_uri": "https://localhost:8080/"
        },
        "id": "LQfLyKjm_Eg8",
        "outputId": "36b1bf61-6672-43ed-a194-879983dbc88d"
      },
      "outputs": [
        {
          "name": "stdout",
          "output_type": "stream",
          "text": [
            "<class 'bool'>\n",
            "<class 'bool'>\n",
            "<class 'int'>\n",
            "True\n",
            "False\n"
          ]
        }
      ],
      "source": [
        "#assigning the boolean values\n",
        "\n",
        "x = True\n",
        "print(type(x))\n",
        "y = False\n",
        "print(type(y))\n",
        "\n",
        "a = 10\n",
        "print(type(a))\n",
        "print(bool(a))\n",
        "\"\"\"\n",
        "\n",
        "#----------------------------------------------\n",
        "1. almost all values of any variable are true.\n",
        "2. any string is true if it is not empty\n",
        "3. empty strings are always False\n",
        "4. all empty values are false.\n",
        "\"\"\"\n",
        "#false\n",
        "#False\n",
        "#(tuple){set}[list]\"null\" 0\n",
        "\n",
        "l1 = []\n",
        "print(bool(l1))\n",
        "\n",
        "#because the list is empty"
      ]
    },
    {
      "cell_type": "code",
      "execution_count": null,
      "metadata": {
        "colab": {
          "base_uri": "https://localhost:8080/"
        },
        "id": "uxQFKe-S_-Ll",
        "outputId": "cdb7b74f-0e00-41fd-fe27-052e6c244065"
      },
      "outputs": [
        {
          "name": "stdout",
          "output_type": "stream",
          "text": [
            "True\n",
            "True\n",
            "True\n",
            "False\n"
          ]
        }
      ],
      "source": [
        "# Boolean -------------------> True or False\n",
        "#\n",
        "m = True\n",
        "n = False\n",
        "\n",
        "#finding the boolean values of any expression---- > combination of values and operators(comparison)\n",
        "print(10>9)\n",
        "print(10==10)\n",
        "\n",
        "a = [1,2,3,4] #list-- non empty\n",
        "b = [] #empty\n",
        "print(bool(a))\n",
        "print(bool(b))"
      ]
    },
    {
      "cell_type": "code",
      "execution_count": null,
      "metadata": {
        "colab": {
          "base_uri": "https://localhost:8080/"
        },
        "id": "h9Dc3f1lBwde",
        "outputId": "02f48382-4130-4e60-d29b-41be0439f86a"
      },
      "outputs": [
        {
          "name": "stdout",
          "output_type": "stream",
          "text": [
            "y is greater than x\n"
          ]
        }
      ],
      "source": [
        "#pyhton conditionals\n",
        "\n",
        "#comparison operators\n",
        "'''\n",
        "==\n",
        "!=\n",
        ">\n",
        "<\n",
        ">=\n",
        "<=\n",
        "'''\n",
        "\n",
        "x = 10\n",
        "y= 20\n",
        "\n",
        "if x > y:\n",
        "  print(\"x is greater than y\")\n",
        "elif x ==y:\n",
        "  print(\"x is equal to y\")\n",
        "elif y > x:\n",
        "  print(\"y is greater than x\")\n",
        "else:\n",
        "  print(\"Invalid input\")"
      ]
    },
    {
      "cell_type": "code",
      "execution_count": null,
      "metadata": {
        "colab": {
          "base_uri": "https://localhost:8080/"
        },
        "id": "5hTlBkJlDVRY",
        "outputId": "2833b9f3-74e4-4193-dfd2-3c5d738ff2cb"
      },
      "outputs": [
        {
          "name": "stdout",
          "output_type": "stream",
          "text": [
            "Give value for x8\n",
            "Give  yhe value of y9\n",
            "<class 'int'>\n",
            "y is greater than x\n"
          ]
        }
      ],
      "source": [
        "#how to take input python\n",
        "#user input\n",
        "x = int(input(\"Give value for x\")) #Takes input in str\n",
        "y = int(input(\"Give  yhe value of y\")) # need to covert ie: we have converted string to in\n",
        "\n",
        "print(type(x)) #printing type of x\n",
        "\n",
        "if x > y:\n",
        "  print(\"x is greater than y\")\n",
        "elif x ==y:\n",
        "  print(\"x is equal to y\")\n",
        "elif y > x:\n",
        "  print(\"y is greater than x\")\n",
        "else:\n",
        "  print(\"Invalid input\")"
      ]
    },
    {
      "cell_type": "code",
      "execution_count": null,
      "metadata": {
        "colab": {
          "base_uri": "https://localhost:8080/"
        },
        "id": "jzQinSIUGF00",
        "outputId": "4f1c5c10-b03e-4246-c5ae-af68c89207a6"
      },
      "outputs": [
        {
          "name": "stdout",
          "output_type": "stream",
          "text": [
            "Enter your age19\n",
            "you are eligible to vote\n"
          ]
        }
      ],
      "source": [
        "#voting management system\n",
        "\n",
        "\n",
        "# age > 18\n",
        "# Citizenship == \"INDIAN\"\n",
        "\n",
        "age = int(input(\"Enter your age\"))\n",
        "\n",
        "if age > 18:\n",
        "  print(\"you are eligible to vote\")\n",
        "else:\n",
        "  print(\"Sorry you are not eligible to vote\")"
      ]
    },
    {
      "cell_type": "code",
      "execution_count": null,
      "metadata": {
        "colab": {
          "base_uri": "https://localhost:8080/"
        },
        "id": "jRZcORsxJ0Oc",
        "outputId": "7dc56068-0261-4985-8a81-f012a8950772"
      },
      "outputs": [
        {
          "name": "stdout",
          "output_type": "stream",
          "text": [
            "Enter your age50\n",
            "Enter your Citizenship eg: if INDIA then INDIAN indian\n",
            "you are eligible to vote\n"
          ]
        }
      ],
      "source": [
        "age = int(input(\"Enter your age\"))\n",
        "ct = input(\"Enter your Citizenship eg: if INDIA then INDIAN \")\n",
        "\n",
        "if age > 18 and ct.upper() == \"INDIAN\":\n",
        "  print(\"you are eligible to vote\")\n",
        "else:\n",
        "  print(\"Sorry you are not eligible to vote\")"
      ]
    },
    {
      "cell_type": "code",
      "execution_count": null,
      "metadata": {
        "id": "4pePqecWKFwn"
      },
      "outputs": [],
      "source": [
        "#Pyhton Loops\n",
        "#I need to iterate over a sequence-- yes\n",
        "# 50 students in class \"Ankit is found I need to stop my search\"\n",
        "# if I want to write a table -- Yes\n",
        "#loops are incremnted(user) after each case\n",
        "#if you want to print all the names in sequence"
      ]
    },
    {
      "cell_type": "code",
      "execution_count": null,
      "metadata": {
        "colab": {
          "base_uri": "https://localhost:8080/"
        },
        "id": "CDyZCXQRMdd7",
        "outputId": "b895d3f6-6201-492c-f9eb-3822e0766056"
      },
      "outputs": [
        {
          "name": "stdout",
          "output_type": "stream",
          "text": [
            "1\n",
            "4\n",
            "7\n",
            "10\n",
            "13\n",
            "16\n",
            "19\n",
            "22\n",
            "25\n",
            "28\n",
            "31\n",
            "34\n",
            "37\n",
            "40\n",
            "43\n",
            "46\n",
            "49\n",
            "52\n",
            "55\n",
            "58\n",
            "61\n",
            "64\n",
            "67\n",
            "70\n",
            "73\n",
            "76\n",
            "79\n",
            "82\n",
            "85\n",
            "88\n",
            "91\n",
            "94\n",
            "97\n",
            "100\n",
            "103\n",
            "106\n",
            "109\n",
            "112\n",
            "115\n"
          ]
        }
      ],
      "source": [
        "# for\n",
        "# while\n",
        "\n",
        "i = 1\n",
        "while i<= 115:\n",
        "  print(i)\n",
        "  i = i+3"
      ]
    },
    {
      "cell_type": "code",
      "execution_count": null,
      "metadata": {
        "colab": {
          "base_uri": "https://localhost:8080/"
        },
        "id": "YsOHqb_oM8a1",
        "outputId": "70f886c2-3639-4721-c10c-cb481511294f"
      },
      "outputs": [
        {
          "name": "stdout",
          "output_type": "stream",
          "text": [
            "1\n",
            "now value will incerment by 1\n",
            "2\n",
            "now value will incerment by 1\n",
            "3\n",
            "now value will incerment by 1\n",
            "4\n",
            "now value will incerment by 1\n",
            "5\n",
            "now value will incerment by 1\n",
            "6\n",
            "now value will incerment by 1\n",
            "7\n",
            "now value will incerment by 1\n",
            "8\n",
            "now value will incerment by 1\n",
            "9\n",
            "now value will incerment by 1\n",
            "10\n",
            "now value will incerment by 1\n"
          ]
        }
      ],
      "source": [
        "i = 1\n",
        "while i <= 10:# true is fasle\n",
        "  print(i)\n",
        "\n",
        "  print(\"now value will incerment by 1\")\n",
        "  i = i+1"
      ]
    },
    {
      "cell_type": "code",
      "execution_count": null,
      "metadata": {
        "colab": {
          "base_uri": "https://localhost:8080/"
        },
        "id": "lmYJwvn7NsF8",
        "outputId": "12f48b1b-3e38-4e45-a330-5011b03b9e2a"
      },
      "outputs": [
        {
          "name": "stdout",
          "output_type": "stream",
          "text": [
            "Enter the number6\n",
            "6 X 1 = 6\n",
            "6 X 2 = 12\n",
            "6 X 3 = 18\n",
            "6 X 4 = 24\n",
            "6 X 5 = 30\n",
            "6 X 6 = 36\n",
            "6 X 7 = 42\n",
            "6 X 8 = 48\n",
            "6 X 9 = 54\n",
            "6 X 10 = 60\n"
          ]
        }
      ],
      "source": [
        "num = int(input(\"Enter the number\"))\n",
        "i = 1\n",
        "while i <= 10:\n",
        "  print(f\"{num} X {i} = {num*i}\")\n",
        "  i =i+1\n"
      ]
    },
    {
      "cell_type": "code",
      "execution_count": null,
      "metadata": {
        "id": "c4MrEms0PwfI"
      },
      "outputs": [],
      "source": [
        "#For loops:\n",
        "\n",
        "for variable in sequence:\n",
        "  #code block to execute\n"
      ]
    },
    {
      "cell_type": "code",
      "execution_count": null,
      "metadata": {
        "id": "Q7q3jKBxS2xw",
        "colab": {
          "base_uri": "https://localhost:8080/"
        },
        "outputId": "e5c88f80-bd24-4f04-ce74-d2fa384ba1b0"
      },
      "outputs": [
        {
          "output_type": "stream",
          "name": "stdout",
          "text": [
            "apple\n",
            "Mango\n",
            "Orange\n",
            "Water- melon\n"
          ]
        }
      ],
      "source": [
        "#list\n",
        "fruits = [\"apple\", \"Mango\", \"Orange\", \"Water- melon\"]\n",
        "for fruit in fruits:\n",
        "  print(fruit)"
      ]
    },
    {
      "cell_type": "code",
      "source": [
        "for letter in \"Python\":\n",
        "    print(letter)\n",
        "    print(\"Hello\")\n",
        "    print(\"hi\")\n",
        "\n"
      ],
      "metadata": {
        "colab": {
          "base_uri": "https://localhost:8080/"
        },
        "id": "vgjnEMnRGOQQ",
        "outputId": "8a0960ab-730d-450e-cc83-a3c7dbef40e1"
      },
      "execution_count": null,
      "outputs": [
        {
          "output_type": "stream",
          "name": "stdout",
          "text": [
            "P\n",
            "Hello\n",
            "hi\n",
            "y\n",
            "Hello\n",
            "hi\n",
            "t\n",
            "Hello\n",
            "hi\n",
            "h\n",
            "Hello\n",
            "hi\n",
            "o\n",
            "Hello\n",
            "hi\n",
            "n\n",
            "Hello\n",
            "hi\n"
          ]
        }
      ]
    },
    {
      "cell_type": "code",
      "source": [
        "i = 1\n",
        "while i<=10:\n",
        "  print(i)\n",
        "  if i ==8:\n",
        "    break\n",
        "  i= i+1\n"
      ],
      "metadata": {
        "colab": {
          "base_uri": "https://localhost:8080/"
        },
        "id": "PC-hyvoOHuO3",
        "outputId": "3821ec71-ffea-4a2c-e805-eab1a60dfc20"
      },
      "execution_count": null,
      "outputs": [
        {
          "output_type": "stream",
          "name": "stdout",
          "text": [
            "1\n",
            "2\n",
            "3\n",
            "4\n",
            "5\n",
            "6\n",
            "7\n",
            "8\n"
          ]
        }
      ]
    },
    {
      "cell_type": "code",
      "source": [
        "#use continue to skip 5 iteration out of count (1-10).\n",
        "#i = 1\n",
        "i = 0\n",
        "while i<10:\n",
        " i=i+1\n",
        " if i == 5:\n",
        "  continue\n",
        " print(i)"
      ],
      "metadata": {
        "colab": {
          "base_uri": "https://localhost:8080/"
        },
        "id": "eEwKodh1KTBU",
        "outputId": "75af2ae5-6229-4b2a-b4ed-371b54be264f"
      },
      "execution_count": null,
      "outputs": [
        {
          "output_type": "stream",
          "name": "stdout",
          "text": [
            "1\n",
            "2\n",
            "3\n",
            "4\n",
            "6\n",
            "7\n",
            "8\n",
            "9\n",
            "10\n"
          ]
        }
      ]
    },
    {
      "cell_type": "code",
      "source": [
        "i=1\n",
        "while i<=10:\n",
        " print (i)\n",
        " i = i+1\n",
        " if i==5:\n",
        "  break"
      ],
      "metadata": {
        "colab": {
          "base_uri": "https://localhost:8080/"
        },
        "id": "G3vM8mZqKtfb",
        "outputId": "019cac1b-a8a3-44fb-ee89-7c478a98a37c"
      },
      "execution_count": null,
      "outputs": [
        {
          "output_type": "stream",
          "name": "stdout",
          "text": [
            "1\n",
            "2\n",
            "3\n",
            "4\n"
          ]
        }
      ]
    },
    {
      "cell_type": "code",
      "source": [
        "Hands- On / Homework\n",
        "\n",
        "#1. conditionals make one weather reporting application.(sunny rainy cold cloudy)\n",
        "#2. print all even numbers 1- 50\n",
        "#3. write a program to find out sum of first n natural numbers. (you will provide input)\n",
        "#4. with while loop revers the given number (eg: 123 ---- 321 )"
      ],
      "metadata": {
        "id": "FDNCwfiZMI63"
      },
      "execution_count": null,
      "outputs": []
    },
    {
      "cell_type": "code",
      "source": [
        "# Functions: its a callable piece of code that too with the name\n",
        "\n",
        "#syntax:\n",
        "\n",
        "def fun1():\n",
        "  print(\"hello from this function call\")"
      ],
      "metadata": {
        "id": "nTntKjgFUcrF"
      },
      "execution_count": null,
      "outputs": []
    },
    {
      "cell_type": "code",
      "source": [
        "fun1()"
      ],
      "metadata": {
        "colab": {
          "base_uri": "https://localhost:8080/"
        },
        "id": "Z5A_iWPlVHVS",
        "outputId": "07447887-9749-4ddb-b208-356115168202"
      },
      "execution_count": null,
      "outputs": [
        {
          "output_type": "stream",
          "name": "stdout",
          "text": [
            "hello from this function call\n"
          ]
        }
      ]
    },
    {
      "cell_type": "code",
      "source": [
        "def sum_fun(a,b):#parmeterized function\n",
        "  print(a+\" \"+b)\n",
        "\n",
        "sum_fun(\"Kishore\",\"Kumar\") #arguments(values)\n",
        "sum_fun(\"Aditya\",\"Pawar\")\n",
        "sum_fun(\"100\",\"200\")"
      ],
      "metadata": {
        "colab": {
          "base_uri": "https://localhost:8080/"
        },
        "id": "qOiRLzfsVKf1",
        "outputId": "738c6a0a-9892-482c-b3bc-5df3ede95fda"
      },
      "execution_count": null,
      "outputs": [
        {
          "output_type": "stream",
          "name": "stdout",
          "text": [
            "Kishore Kumar\n",
            "Aditya Pawar\n",
            "100 200\n"
          ]
        }
      ]
    },
    {
      "cell_type": "code",
      "source": [
        "def cardrive(car_name):\n",
        "  pass"
      ],
      "metadata": {
        "id": "zNWVjPY-VoYZ"
      },
      "execution_count": null,
      "outputs": []
    },
    {
      "cell_type": "code",
      "source": [
        "# functions-- conditionals make one weather reporting application.(sunny rainy cold cloudy)"
      ],
      "metadata": {
        "id": "MOq_EQRuXmEZ"
      },
      "execution_count": null,
      "outputs": []
    },
    {
      "cell_type": "code",
      "source": [
        "def weather_report(temp):\n",
        "  if temp < 0:\n",
        "    return \"Freezing cold outside!!! Stay indoors please and keep yourself warm\"\n",
        "  elif 0<= temp <= 10:\n",
        "    return \"Its cold outside please wear heavy woolen clothes\"\n",
        "  elif 11<= temp <= 20:\n",
        "    return \"Its cold outside please take a fleece jacket\"\n",
        "  elif 21<= temp <= 30:\n",
        "    return \"Its very pleasing weather outside you can enjoy\"\n",
        "  elif 31<= temp <= 40:\n",
        "    return \"its very sunny day please stay hydrated\"\n",
        "  elif 40<= temp <= 50:\n",
        "    return \"Its very hot outside please stay indoors if possible\"\n",
        "\n",
        "  else:\n",
        "    return \"Invalid Input\""
      ],
      "metadata": {
        "id": "cDJQD-FbZ8vS"
      },
      "execution_count": null,
      "outputs": []
    },
    {
      "cell_type": "code",
      "source": [
        "#return instead of print\n",
        "# how they output the data and where that output can be used\n",
        "# print()-- only displays output on the screen------ but does not return anythin to be used in further calculations\n",
        "# print is useful for debugging the prog\n",
        "#return will return the values which can be further used in calculations"
      ],
      "metadata": {
        "id": "hFLJEli8bkmn"
      },
      "execution_count": null,
      "outputs": []
    },
    {
      "cell_type": "code",
      "source": [
        "def greet(name):\n",
        "  print(\"Hello \" +name)\n",
        "\n",
        "message = greet(\"Kishore\")\n",
        "print(message)\n",
        "\n",
        "print(print())\n",
        "\n",
        "#issue here with print is that I can't store and\n",
        "#re- use the value printed"
      ],
      "metadata": {
        "colab": {
          "base_uri": "https://localhost:8080/"
        },
        "id": "akmIe3cNcqS3",
        "outputId": "d4b66307-bbce-4158-ca7c-4838f6ed632b"
      },
      "execution_count": null,
      "outputs": [
        {
          "output_type": "stream",
          "name": "stdout",
          "text": [
            "Hello Kishore\n",
            "None\n",
            "\n",
            "None\n"
          ]
        }
      ]
    },
    {
      "cell_type": "code",
      "source": [
        "#return will send the value back to the caller\n",
        "#returned value can be stored as well as re- used\n",
        "\n",
        "def greet(name):\n",
        "  return \"Hello \" +name\n",
        "message1 = greet(\"Kishore\")\n",
        "message2 = greet(\"Ram\")\n",
        "print(message1)\n",
        "\n"
      ],
      "metadata": {
        "colab": {
          "base_uri": "https://localhost:8080/"
        },
        "id": "7f9GZjFrc02O",
        "outputId": "2fc9d000-5fa8-4d68-e0a7-afa64f70a379"
      },
      "execution_count": null,
      "outputs": [
        {
          "output_type": "stream",
          "name": "stdout",
          "text": [
            "Hello Kishore\n"
          ]
        }
      ]
    },
    {
      "cell_type": "code",
      "source": [
        "def fun2(\"Weather_R\"):\n",
        "     if weather_R= \"sunny\":\n",
        "         return(\"its Sunny\")\n",
        "     elif weather_R= \"Rainy\":\n",
        "         return(\"its Rainy\")\n",
        "     elif weather_R= \"Cold\":\n",
        "         return(\"its cold\")\n",
        "     elif weather_R= \"Cloudy\":\n",
        "         return(\"its cloudy\")\n",
        "     else print(\"clear\")"
      ],
      "metadata": {
        "id": "Ww_5QWChdfMl"
      },
      "execution_count": null,
      "outputs": []
    },
    {
      "cell_type": "code",
      "source": [
        "def fun2(weather_R):\n",
        "     if weather_R== \"sunny\":\n",
        "      print(\"its Sunny\")\n",
        "     elif weather_R== \"Rainy\":\n",
        "      print(\"its Rainy\")\n",
        "     elif weather_R== \"Cold\":\n",
        "      print(\"its cold\")\n",
        "     elif weather_R== \"Cloudy\":\n",
        "      print(\"its cloudy\")\n",
        "     else:\n",
        "      print(\"clear\")\n",
        "\n",
        "fun2(\"sunny\")"
      ],
      "metadata": {
        "colab": {
          "base_uri": "https://localhost:8080/"
        },
        "id": "C_uLZUAgdtPf",
        "outputId": "afea7c45-c3ea-436a-aa1f-be3e97ef4c07"
      },
      "execution_count": null,
      "outputs": [
        {
          "output_type": "stream",
          "name": "stdout",
          "text": [
            "its Sunny\n"
          ]
        }
      ]
    },
    {
      "cell_type": "code",
      "source": [],
      "metadata": {
        "id": "DrdXqdoUgDbG"
      },
      "execution_count": null,
      "outputs": []
    }
  ],
  "metadata": {
    "colab": {
      "provenance": []
    },
    "kernelspec": {
      "display_name": "Python 3",
      "name": "python3"
    },
    "language_info": {
      "name": "python"
    }
  },
  "nbformat": 4,
  "nbformat_minor": 0
}