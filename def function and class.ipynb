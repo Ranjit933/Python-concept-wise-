{
 "cells": [
  {
   "cell_type": "markdown",
   "id": "799d409c-b7fe-4c69-9eab-8bd308b314bb",
   "metadata": {},
   "source": [
    "# \n",
    "Create a function named ‘factor’ that can only accept 1 argument. The function should return the factorial of that number"
   ]
  },
  {
   "cell_type": "code",
   "execution_count": 2,
   "id": "d4198f57-5119-45e9-a76d-56a21a7d9b60",
   "metadata": {},
   "outputs": [
    {
     "name": "stdin",
     "output_type": "stream",
     "text": [
      "Enter your number: 5\n"
     ]
    },
    {
     "name": "stdout",
     "output_type": "stream",
     "text": [
      "This is a Factorial number: 120\n"
     ]
    }
   ],
   "source": [
    "num=int(input(\"Enter your number:\"))\n",
    "\n",
    "def factor(n):\n",
    "  if n==0 or n==1:\n",
    "    return 1\n",
    "  else:\n",
    "    return n*factor(n-1)\n",
    "print(\"This is a Factorial number:\", factor(num))"
   ]
  },
  {
   "cell_type": "markdown",
   "id": "031979e1-48b9-4497-963c-fe022f5f49d6",
   "metadata": {},
   "source": [
    "Create a function named ‘check_string’, the function should accept a string data from the user and the function should check if the user input contains the letter ‘s’ in it. If it contains the letter ‘s’ then print- ‘The string is containing the letter ‘s’’, if not then print- ‘The string doesn’t contain the letter ‘s’’."
   ]
  },
  {
   "cell_type": "code",
   "execution_count": 5,
   "id": "797c53f3-2da2-4fb0-a61a-f1e451bddf10",
   "metadata": {},
   "outputs": [
    {
     "name": "stdin",
     "output_type": "stream",
     "text": [
      "Enter a string:  ship\n"
     ]
    },
    {
     "name": "stdout",
     "output_type": "stream",
     "text": [
      "The string is containing the letter ‘s’.\n"
     ]
    }
   ],
   "source": [
    "def check_string(text):\n",
    "    if 's' in text or 'S' in text:\n",
    "        print(\"The string is containing the letter ‘s’.\")\n",
    "    else:\n",
    "        print(\"The string doesn’t contain the letter ‘s’.\")\n",
    "\n",
    "check = input(\"Enter a string: \")\n",
    "check_string(check)\n"
   ]
  },
  {
   "cell_type": "markdown",
   "id": "21d32cee-0ee4-44a9-88cf-333467a616ab",
   "metadata": {},
   "source": [
    "Create a class named ‘student’ and inside the class, create a function named ‘fun1’- this method should accept the user defined input and return that value.\n",
    "a. Create another method named- message() and that method should print the user\n",
    "defined input that we have defined in ‘fun1’"
   ]
  },
  {
   "cell_type": "code",
   "execution_count": 8,
   "id": "90ea9457-55ac-44c4-a913-e2ed53eaff96",
   "metadata": {},
   "outputs": [
    {
     "name": "stdin",
     "output_type": "stream",
     "text": [
      "Enter a value:  hello\n"
     ]
    },
    {
     "name": "stdout",
     "output_type": "stream",
     "text": [
      "User-defined input: hello\n"
     ]
    }
   ],
   "source": [
    "class Student:\n",
    "    def fun1(self):\n",
    "        self.user_input = input(\"Enter a value: \")  \n",
    "        return self.user_input\n",
    "\n",
    "    def message(self):\n",
    "        print(\"User-defined input:\", self.user_input) \n",
    "\n",
    "s = Student()\n",
    "s.fun1()  \n",
    "s.message() \n"
   ]
  },
  {
   "cell_type": "markdown",
   "id": "2b364470-7b7e-4e9c-aa30-d7e509644c58",
   "metadata": {},
   "source": [
    "Create a class named ‘Super’ and inside that class define a user-defined function named fun1.\n",
    "a. Inside the ‘fun1’ function, pass the message “This is function 1 in the Super class.” in the print statement.\n",
    "Create another class named ‘Modified_Super’ and inherit this class from the Super class.\n",
    "a. Inside the Modified_Super class, create a function named ‘fun1’ and pass the following message inside the print statement: ‘This is function 1 in the Modified Super class.’\n",
    "b. Create another user-defined function named ‘fun2’ and pass the message: ‘This is the 2nd function from the Modified Super class’ in the print statement."
   ]
  },
  {
   "cell_type": "code",
   "execution_count": 11,
   "id": "ab1398e1-0015-4d73-8eea-ebf59ea8b8c7",
   "metadata": {},
   "outputs": [
    {
     "name": "stdout",
     "output_type": "stream",
     "text": [
      "This is function 1 in the Modified Super class.\n",
      "This is the 2nd function from the Modified Super class.\n",
      "This is function 1 in the Super class.\n"
     ]
    }
   ],
   "source": [
    "class Super:\n",
    "    def fun1(self):\n",
    "        print(\"This is function 1 in the Super class.\")\n",
    "\n",
    "class Modified_Super(Super):\n",
    "    def fun1(self):\n",
    "        print(\"This is function 1 in the Modified Super class.\")\n",
    "\n",
    "    def fun2(self):\n",
    "        print(\"This is the 2nd function from the Modified Super class.\")\n",
    "\n",
    "\n",
    "obj = Modified_Super()\n",
    "obj.fun1()  \n",
    "obj.fun2()  \n",
    "\n",
    "super_obj = Super()\n",
    "super_obj.fun1()\n"
   ]
  },
  {
   "cell_type": "markdown",
   "id": "77efc1ab-8ad3-4039-99fd-938ce5180320",
   "metadata": {},
   "source": [
    "write a code to demonstrate hybrid Inheritance"
   ]
  },
  {
   "cell_type": "code",
   "execution_count": 14,
   "id": "1370bfed-d8f9-42e7-9b5d-2f0410494dab",
   "metadata": {},
   "outputs": [
    {
     "name": "stdout",
     "output_type": "stream",
     "text": [
      "This is function A from class A.\n",
      "This is function B from class B.\n",
      "This is function C from class C.\n",
      "This is function D from class D.\n"
     ]
    }
   ],
   "source": [
    "class A:\n",
    "    def funA(self):\n",
    "        print(\"This is function A from class A.\")\n",
    "\n",
    "class B(A):\n",
    "    def funB(self):\n",
    "        print(\"This is function B from class B.\")\n",
    "\n",
    "class C(A):\n",
    "    def funC(self):\n",
    "        print(\"This is function C from class C.\")\n",
    "\n",
    "class D(B, C):\n",
    "    def funD(self):\n",
    "        print(\"This is function D from class D.\")\n",
    "\n",
    "\n",
    "obj = D()\n",
    "obj.funA()  \n",
    "obj.funB()  \n",
    "obj.funC()  \n",
    "obj.funD()  \n"
   ]
  },
  {
   "cell_type": "markdown",
   "id": "88d3e223-4d29-463a-9f71-01ddce1dfa0e",
   "metadata": {},
   "source": [
    "write a code to demonstarte encapsulation . can we have private constructor or all constructor are private?"
   ]
  },
  {
   "cell_type": "code",
   "execution_count": 17,
   "id": "0ea1174f-177e-41ec-b538-f36bc796531c",
   "metadata": {},
   "outputs": [
    {
     "name": "stdout",
     "output_type": "stream",
     "text": [
      "₹5000 deposited successfully.\n",
      "₹3000 withdrawn successfully.\n",
      "Current Balance: 12000\n"
     ]
    }
   ],
   "source": [
    "class BankAccount:\n",
    "    def __init__(self, account_holder, balance):\n",
    "        self.account_holder = account_holder  \n",
    "        self.__balance = balance  \n",
    "\n",
    "    def deposit(self, amount):\n",
    "        if amount > 0:\n",
    "            self.__balance += amount\n",
    "            print(f\"₹{amount} deposited successfully.\")\n",
    "        else:\n",
    "            print(\"Deposit amount must be positive.\")\n",
    "\n",
    "    def withdraw(self, amount):\n",
    "        if 0 < amount <= self.__balance:\n",
    "            self.__balance -= amount\n",
    "            print(f\"₹{amount} withdrawn successfully.\")\n",
    "        else:\n",
    "            print(\"Insufficient balance or invalid amount.\")\n",
    "\n",
    "    def get_balance(self):  \n",
    "        return self.__balance\n",
    "\n",
    "\n",
    "account = BankAccount(\"Ranjit Singh\", 10000)\n",
    "account.deposit(5000)  \n",
    "account.withdraw(3000)  \n",
    "print(\"Current Balance:\", account.get_balance())\n",
    "\n",
    "# Trying to access private variable (Will cause error)\n",
    "#print(account.__balance) # AttributeError: 'BankAccount' object has no attribute '__balance' \n"
   ]
  },
  {
   "cell_type": "code",
   "execution_count": null,
   "id": "f71c3436-e2c5-43d5-a876-ff9bed22d336",
   "metadata": {},
   "outputs": [],
   "source": []
  }
 ],
 "metadata": {
  "kernelspec": {
   "display_name": "Python 3 (ipykernel)",
   "language": "python",
   "name": "python3"
  },
  "language_info": {
   "codemirror_mode": {
    "name": "ipython",
    "version": 3
   },
   "file_extension": ".py",
   "mimetype": "text/x-python",
   "name": "python",
   "nbconvert_exporter": "python",
   "pygments_lexer": "ipython3",
   "version": "3.12.4"
  }
 },
 "nbformat": 4,
 "nbformat_minor": 5
}
